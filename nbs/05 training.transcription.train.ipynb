{
 "cells": [
  {
   "cell_type": "code",
   "execution_count": 6,
   "metadata": {},
   "outputs": [],
   "source": [
    "#| default_exp training.transcription.train"
   ]
  },
  {
   "cell_type": "code",
   "execution_count": 7,
   "metadata": {},
   "outputs": [],
   "source": [
    "#| hide\n",
    "from nbdev.showdoc import *"
   ]
  },
  {
   "cell_type": "code",
   "execution_count": 8,
   "metadata": {},
   "outputs": [],
   "source": [
    "#| export\n",
    "import os\n",
    "from pathlib import Path\n",
    "from torch import Tensor\n",
    "import torch\n",
    "import torch.nn as nn\n",
    "from torch.nn import Transformer\n",
    "from torch.nn.utils.rnn import pad_sequence\n",
    "from torch.utils.data import DataLoader, Dataset\n",
    "from torchtext.vocab import vocab, Vocab\n",
    "from sklearn.model_selection import train_test_split\n",
    "import math\n",
    "from timeit import default_timer as timer\n",
    "from tqdm import tqdm\n",
    "import numpy as np\n",
    "import pandas as pd\n",
    "from collections import OrderedDict, Counter\n",
    "from multiprocessing import Pool\n",
    "\n",
    "from llm_mito_scanner.data.download import load_config, \\\n",
    "    get_latest_assembly_path\n",
    "from llm_mito_scanner.training.transcription.generation import \\\n",
    "    BOS_TOK, EOS_TOK, UNK_TOK, PAD_TOK\n",
    "\n",
    "\n",
    "DEVICE = torch.device('cuda' if torch.cuda.is_available() else 'cpu')"
   ]
  },
  {
   "cell_type": "code",
   "execution_count": 9,
   "metadata": {},
   "outputs": [],
   "source": [
    "#| hide\n",
    "config = load_config()"
   ]
  },
  {
   "cell_type": "code",
   "execution_count": 10,
   "metadata": {},
   "outputs": [],
   "source": [
    "#| hide\n",
    "data_path = Path(config.get(\"data_path\"))\n",
    "data_raw_path = data_path / \"raw\"\n",
    "assemblies_path = data_raw_path / \"assemblies\"\n",
    "latest_assembly_path = get_latest_assembly_path(assemblies_path)\n",
    "chromosomes_path = latest_assembly_path / \"chromosomes\"\n",
    "training_data_path = latest_assembly_path / \"training\"\n",
    "transcription_data_path = training_data_path / \"transcription\"\n",
    "sequences_data_path = transcription_data_path / \"sequences\"\n",
    "\n",
    "random_state = 42\n",
    "epochs = 10"
   ]
  },
  {
   "cell_type": "code",
   "execution_count": 11,
   "metadata": {},
   "outputs": [
    {
     "data": {
      "text/html": [
       "<div>\n",
       "<style scoped>\n",
       "    .dataframe tbody tr th:only-of-type {\n",
       "        vertical-align: middle;\n",
       "    }\n",
       "\n",
       "    .dataframe tbody tr th {\n",
       "        vertical-align: top;\n",
       "    }\n",
       "\n",
       "    .dataframe thead th {\n",
       "        text-align: right;\n",
       "    }\n",
       "</style>\n",
       "<table border=\"1\" class=\"dataframe\">\n",
       "  <thead>\n",
       "    <tr style=\"text-align: right;\">\n",
       "      <th></th>\n",
       "      <th>chromosome</th>\n",
       "      <th>geneid</th>\n",
       "      <th>transcriptid</th>\n",
       "      <th>start</th>\n",
       "      <th>end</th>\n",
       "      <th>type</th>\n",
       "      <th>epoch</th>\n",
       "    </tr>\n",
       "  </thead>\n",
       "  <tbody>\n",
       "    <tr>\n",
       "      <th>0</th>\n",
       "      <td>NC_000019.10</td>\n",
       "      <td>GeneID:946</td>\n",
       "      <td>XM_011527538.4</td>\n",
       "      <td>57</td>\n",
       "      <td>121</td>\n",
       "      <td>intron-small</td>\n",
       "      <td>0.0</td>\n",
       "    </tr>\n",
       "    <tr>\n",
       "      <th>1</th>\n",
       "      <td>NC_000006.12</td>\n",
       "      <td>GeneID:124901227</td>\n",
       "      <td>XM_047419609.1</td>\n",
       "      <td>0</td>\n",
       "      <td>64</td>\n",
       "      <td>intron-small</td>\n",
       "      <td>0.0</td>\n",
       "    </tr>\n",
       "    <tr>\n",
       "      <th>2</th>\n",
       "      <td>NC_000015.10</td>\n",
       "      <td>GeneID:124903566</td>\n",
       "      <td>XM_047433427.1</td>\n",
       "      <td>7772</td>\n",
       "      <td>7836</td>\n",
       "      <td>intron-small</td>\n",
       "      <td>0.0</td>\n",
       "    </tr>\n",
       "    <tr>\n",
       "      <th>3</th>\n",
       "      <td>NC_000002.12</td>\n",
       "      <td>GeneID:375318</td>\n",
       "      <td>NM_198998.3</td>\n",
       "      <td>139</td>\n",
       "      <td>203</td>\n",
       "      <td>intron-small</td>\n",
       "      <td>0.0</td>\n",
       "    </tr>\n",
       "    <tr>\n",
       "      <th>4</th>\n",
       "      <td>NC_000006.12</td>\n",
       "      <td>GeneID:55173</td>\n",
       "      <td>XM_017010996.2</td>\n",
       "      <td>3550</td>\n",
       "      <td>3614</td>\n",
       "      <td>intron-small</td>\n",
       "      <td>0.0</td>\n",
       "    </tr>\n",
       "  </tbody>\n",
       "</table>\n",
       "</div>"
      ],
      "text/plain": [
       "     chromosome            geneid    transcriptid  start   end          type   \n",
       "0  NC_000019.10        GeneID:946  XM_011527538.4     57   121  intron-small  \\\n",
       "1  NC_000006.12  GeneID:124901227  XM_047419609.1      0    64  intron-small   \n",
       "2  NC_000015.10  GeneID:124903566  XM_047433427.1   7772  7836  intron-small   \n",
       "3  NC_000002.12     GeneID:375318     NM_198998.3    139   203  intron-small   \n",
       "4  NC_000006.12      GeneID:55173  XM_017010996.2   3550  3614  intron-small   \n",
       "\n",
       "   epoch  \n",
       "0    0.0  \n",
       "1    0.0  \n",
       "2    0.0  \n",
       "3    0.0  \n",
       "4    0.0  "
      ]
     },
     "execution_count": 11,
     "metadata": {},
     "output_type": "execute_result"
    }
   ],
   "source": [
    "#| hide\n",
    "training_index = pd.read_csv(transcription_data_path / \"training_sequence_idx.csv\")\n",
    "batch_idx = []\n",
    "for i, f in enumerate(np.array_split(training_index, epochs)):\n",
    "    training_index.loc[f.index.values.tolist(), 'epoch'] = int(i)\n",
    "training_index.head()"
   ]
  },
  {
   "cell_type": "code",
   "execution_count": 12,
   "metadata": {},
   "outputs": [
    {
     "data": {
      "text/plain": [
       "Path('/mnt/e/Data/llm-mito-scanner-data/data/raw/assemblies/GCF_000001405.40_GRCh38.p14/training/transcription/sequences/epoch-1/batch-1')"
      ]
     },
     "execution_count": 12,
     "metadata": {},
     "output_type": "execute_result"
    }
   ],
   "source": [
    "#| hide\n",
    "# Get vocab\n",
    "training_sequences = list(sequences_data_path.glob(\"epoch-*/batch-*\"))\n",
    "training_sequences[0]"
   ]
  },
  {
   "cell_type": "code",
   "execution_count": 13,
   "metadata": {},
   "outputs": [
    {
     "data": {
      "text/html": [
       "<div>\n",
       "<style scoped>\n",
       "    .dataframe tbody tr th:only-of-type {\n",
       "        vertical-align: middle;\n",
       "    }\n",
       "\n",
       "    .dataframe tbody tr th {\n",
       "        vertical-align: top;\n",
       "    }\n",
       "\n",
       "    .dataframe thead th {\n",
       "        text-align: right;\n",
       "    }\n",
       "</style>\n",
       "<table border=\"1\" class=\"dataframe\">\n",
       "  <thead>\n",
       "    <tr style=\"text-align: right;\">\n",
       "      <th></th>\n",
       "      <th>input</th>\n",
       "      <th>target</th>\n",
       "      <th>epoch</th>\n",
       "      <th>batch</th>\n",
       "    </tr>\n",
       "  </thead>\n",
       "  <tbody>\n",
       "    <tr>\n",
       "      <th>0</th>\n",
       "      <td>T,T,T,T,T,G,T,T,T,G,T,T,T,G,T,T,T,G,T,T,T,T,G,...</td>\n",
       "      <td>&lt;intron&gt;,&lt;intron&gt;,&lt;intron&gt;,&lt;intron&gt;,&lt;intron&gt;,&lt;...</td>\n",
       "      <td>1</td>\n",
       "      <td>1</td>\n",
       "    </tr>\n",
       "    <tr>\n",
       "      <th>1</th>\n",
       "      <td>A,T,A,A,A,T,A,A,C,A,T,T,T,G,G,C,T,T,T,A,A,A,A,...</td>\n",
       "      <td>&lt;intron&gt;,&lt;intron&gt;,&lt;intron&gt;,&lt;intron&gt;,&lt;intron&gt;,&lt;...</td>\n",
       "      <td>1</td>\n",
       "      <td>1</td>\n",
       "    </tr>\n",
       "    <tr>\n",
       "      <th>2</th>\n",
       "      <td>A,A,A,A,T,A,A,A,T,G,A,A,T,T,T,T,C,T,T,A,T,C,A,...</td>\n",
       "      <td>&lt;intron&gt;,&lt;intron&gt;,&lt;intron&gt;,&lt;intron&gt;,&lt;intron&gt;,&lt;...</td>\n",
       "      <td>1</td>\n",
       "      <td>1</td>\n",
       "    </tr>\n",
       "    <tr>\n",
       "      <th>3</th>\n",
       "      <td>T,A,G,G,T,G,A,A,T,T,A,T,T,T,T,C,T,T,C,T,C,A,C,...</td>\n",
       "      <td>&lt;intron&gt;,&lt;intron&gt;,&lt;intron&gt;,&lt;intron&gt;,&lt;intron&gt;,&lt;...</td>\n",
       "      <td>1</td>\n",
       "      <td>1</td>\n",
       "    </tr>\n",
       "    <tr>\n",
       "      <th>4</th>\n",
       "      <td>T,A,C,C,T,T,T,C,T,A,C,C,C,A,A,G,A,T,G,C,C,A,C,...</td>\n",
       "      <td>&lt;intron&gt;,&lt;intron&gt;,&lt;intron&gt;,&lt;intron&gt;,&lt;intron&gt;,&lt;...</td>\n",
       "      <td>1</td>\n",
       "      <td>1</td>\n",
       "    </tr>\n",
       "  </tbody>\n",
       "</table>\n",
       "</div>"
      ],
      "text/plain": [
       "                                               input   \n",
       "0  T,T,T,T,T,G,T,T,T,G,T,T,T,G,T,T,T,G,T,T,T,T,G,...  \\\n",
       "1  A,T,A,A,A,T,A,A,C,A,T,T,T,G,G,C,T,T,T,A,A,A,A,...   \n",
       "2  A,A,A,A,T,A,A,A,T,G,A,A,T,T,T,T,C,T,T,A,T,C,A,...   \n",
       "3  T,A,G,G,T,G,A,A,T,T,A,T,T,T,T,C,T,T,C,T,C,A,C,...   \n",
       "4  T,A,C,C,T,T,T,C,T,A,C,C,C,A,A,G,A,T,G,C,C,A,C,...   \n",
       "\n",
       "                                              target  epoch  batch  \n",
       "0  <intron>,<intron>,<intron>,<intron>,<intron>,<...      1      1  \n",
       "1  <intron>,<intron>,<intron>,<intron>,<intron>,<...      1      1  \n",
       "2  <intron>,<intron>,<intron>,<intron>,<intron>,<...      1      1  \n",
       "3  <intron>,<intron>,<intron>,<intron>,<intron>,<...      1      1  \n",
       "4  <intron>,<intron>,<intron>,<intron>,<intron>,<...      1      1  "
      ]
     },
     "execution_count": 13,
     "metadata": {},
     "output_type": "execute_result"
    }
   ],
   "source": [
    "#| hide\n",
    "example_training_sequences = pd.read_parquet(training_sequences[0])\n",
    "example_training_sequences.loc[:, 'epoch'] = int(str(training_sequences[0]).rsplit(\"/\", 2)[-2].replace(\"epoch-\",\"\"))\n",
    "example_training_sequences.loc[:, 'batch'] = int(str(training_sequences[0]).rsplit(\"/\", 2)[-1].replace(\"batch-\",\"\"))\n",
    "example_training_sequences.head()"
   ]
  },
  {
   "cell_type": "code",
   "execution_count": 14,
   "metadata": {},
   "outputs": [],
   "source": [
    "#| export\n",
    "def count_tokens_in_sequence_file(path: Path) -> Counter:\n",
    "    token_counter = Counter()\n",
    "    for col in ['input', 'target']:\n",
    "        sequences = pd.read_parquet(path, columns=[col])[col].str.split(\",\").tolist()\n",
    "        sequences_counters = list(map(Counter, sequences))\n",
    "        token_counter = token_counter + sum(sequences_counters, Counter())\n",
    "    return token_counter\n",
    "\n",
    "\n",
    "def build_vocab(transcription_data_path: Path, special_tokens: list[str] = [UNK_TOK, BOS_TOK, EOS_TOK, PAD_TOK]) -> Vocab:\n",
    "    sequences_path = transcription_data_path / \"sequences\"\n",
    "    parquet_files = list(sequences_path.glob(\"epoch-*/batch-*\"))\n",
    "    pbar = tqdm(total=len(parquet_files), ncols=80, leave=False, desc=\"Building Vocab\")\n",
    "    pool = Pool(os.cpu_count() - 1)\n",
    "    token_counter = Counter()\n",
    "    try:\n",
    "        for c in pool.imap_unordered(count_tokens_in_sequence_file, parquet_files):\n",
    "            token_counter = token_counter + c\n",
    "            pbar.update(1)\n",
    "    except Exception as e:\n",
    "        raise e\n",
    "    finally:\n",
    "        pool.close()\n",
    "        pbar.close()\n",
    "    token_vocab = vocab(OrderedDict(token_counter.most_common()), specials=special_tokens)\n",
    "    token_vocab.set_default_index(token_vocab[UNK_TOK])\n",
    "    return token_vocab\n",
    "\n",
    "\n",
    "def get_vocab(transcription_data_path: Path, special_tokens: list[str] = [UNK_TOK, BOS_TOK, EOS_TOK, PAD_TOK]) -> Vocab:\n",
    "    vocab_path = transcription_data_path / \"vocab.pt\"\n",
    "    if vocab_path.exists():\n",
    "        token_vocab = torch.load(vocab_path)\n",
    "        return token_vocab\n",
    "    else:\n",
    "        token_vocab = build_vocab(transcription_data_path, special_tokens)\n",
    "        torch.save(token_vocab, vocab_path)\n",
    "        return token_vocab"
   ]
  },
  {
   "cell_type": "code",
   "execution_count": 15,
   "metadata": {},
   "outputs": [],
   "source": [
    "#| hide\n",
    "training_vocab = get_vocab(transcription_data_path)"
   ]
  },
  {
   "cell_type": "code",
   "execution_count": 16,
   "metadata": {},
   "outputs": [
    {
     "data": {
      "text/plain": [
       "13"
      ]
     },
     "execution_count": 16,
     "metadata": {},
     "output_type": "execute_result"
    }
   ],
   "source": [
    "#| hide\n",
    "len(training_vocab)"
   ]
  },
  {
   "cell_type": "code",
   "execution_count": 17,
   "metadata": {},
   "outputs": [
    {
     "data": {
      "text/plain": [
       "4"
      ]
     },
     "execution_count": 17,
     "metadata": {},
     "output_type": "execute_result"
    }
   ],
   "source": [
    "#| hide\n",
    "training_vocab[\"<intron>\"]"
   ]
  },
  {
   "cell_type": "code",
   "execution_count": 18,
   "metadata": {},
   "outputs": [],
   "source": [
    "#| export\n",
    "UNK_IDX = None\n",
    "PAD_IDX = None\n",
    "BOS_IDX = None\n",
    "EOS_IDX = None\n",
    "\n",
    "def set_vocab_idx(vocab: Vocab):\n",
    "    global UNK_IDX, PAD_IDX, BOS_IDX, EOS_IDX\n",
    "    UNK_IDX = vocab[UNK_TOK]\n",
    "    PAD_IDX = vocab[PAD_TOK]\n",
    "    BOS_IDX = vocab[BOS_TOK]\n",
    "    EOS_IDX = vocab[EOS_TOK]"
   ]
  },
  {
   "cell_type": "code",
   "execution_count": 19,
   "metadata": {},
   "outputs": [
    {
     "data": {
      "text/plain": [
       "0"
      ]
     },
     "execution_count": 19,
     "metadata": {},
     "output_type": "execute_result"
    }
   ],
   "source": [
    "#| hide\n",
    "training_vocab[UNK_TOK]"
   ]
  },
  {
   "cell_type": "code",
   "execution_count": 20,
   "metadata": {},
   "outputs": [],
   "source": [
    "#| hide\n",
    "set_vocab_idx(training_vocab)"
   ]
  },
  {
   "cell_type": "code",
   "execution_count": 21,
   "metadata": {},
   "outputs": [],
   "source": [
    "#| export\n",
    "class TranscriptionDataset(Dataset):\n",
    "    def __init__(self, paths: list[Path], train: bool, **train_test_split_kwargs) -> None:\n",
    "        self.paths = paths\n",
    "        self.train = train\n",
    "        data_train, data_test = train_test_split(pd.read_parquet(paths), **train_test_split_kwargs)\n",
    "        self.data = data_train if train else data_test\n",
    "    \n",
    "    def __len__(self) -> int:\n",
    "        return self.data.shape[0]\n",
    "\n",
    "    def __getitem__(self, idx) -> tuple[str, str, int]:\n",
    "        row = self.data.iloc[idx]\n",
    "        input_str = row.input.split(\",\")\n",
    "        target_str = row.target.split(\",\")\n",
    "        return input_str, target_str"
   ]
  },
  {
   "cell_type": "code",
   "execution_count": 22,
   "metadata": {},
   "outputs": [],
   "source": [
    "#| hide\n",
    "example_epoch = 1\n",
    "example_epoch_paths = list((sequences_data_path / f\"epoch-{example_epoch}\").glob(\"*batch-*\"))"
   ]
  },
  {
   "cell_type": "code",
   "execution_count": 23,
   "metadata": {},
   "outputs": [],
   "source": [
    "#| hide\n",
    "# Get train, test datasets\n",
    "transcription_dataset_train = TranscriptionDataset(example_epoch_paths, True)\n",
    "transcription_dataset_test = TranscriptionDataset(example_epoch_paths, False)"
   ]
  },
  {
   "cell_type": "code",
   "execution_count": 24,
   "metadata": {},
   "outputs": [
    {
     "data": {
      "text/plain": [
       "[64, 64]"
      ]
     },
     "execution_count": 24,
     "metadata": {},
     "output_type": "execute_result"
    }
   ],
   "source": [
    "#| hide\n",
    "example_input, example_target = transcription_dataset_train[0]\n",
    "[len(x) if type(x) == list else x for x in transcription_dataset_train[0]]"
   ]
  },
  {
   "cell_type": "markdown",
   "metadata": {},
   "source": [
    "## Define model"
   ]
  },
  {
   "cell_type": "code",
   "execution_count": 25,
   "metadata": {},
   "outputs": [],
   "source": [
    "#| export\n",
    "# helper Module that adds positional encoding to the token embedding to introduce a notion of word order.\n",
    "class PositionalEncoding(nn.Module):\n",
    "    def __init__(self,\n",
    "                 emb_size: int,\n",
    "                 dropout: float,\n",
    "                 maxlen: int = 5000):\n",
    "        super(PositionalEncoding, self).__init__()\n",
    "        den = torch.exp(- torch.arange(0, emb_size, 2)* math.log(10000) / emb_size)\n",
    "        pos = torch.arange(0, maxlen).reshape(maxlen, 1)\n",
    "        pos_embedding = torch.zeros((maxlen, emb_size))\n",
    "        pos_embedding[:, 0::2] = torch.sin(pos * den)\n",
    "        pos_embedding[:, 1::2] = torch.cos(pos * den)\n",
    "        pos_embedding = pos_embedding.unsqueeze(-2)\n",
    "\n",
    "        self.dropout = nn.Dropout(dropout)\n",
    "        self.register_buffer('pos_embedding', pos_embedding)\n",
    "\n",
    "    def forward(self, token_embedding: Tensor):\n",
    "        return self.dropout(token_embedding + self.pos_embedding[:token_embedding.size(0), :])\n",
    "\n",
    "# helper Module to convert tensor of input indices into corresponding tensor of token embeddings\n",
    "class TokenEmbedding(nn.Module):\n",
    "    def __init__(self, vocab_size: int, emb_size):\n",
    "        super(TokenEmbedding, self).__init__()\n",
    "        self.embedding = nn.Embedding(vocab_size, emb_size)\n",
    "        self.emb_size = emb_size\n",
    "\n",
    "    def forward(self, tokens: Tensor):\n",
    "        return self.embedding(tokens.long()) * math.sqrt(self.emb_size)\n",
    "\n",
    "# Seq2Seq Network\n",
    "class Seq2SeqTransformer(nn.Module):\n",
    "    def __init__(self,\n",
    "                 num_encoder_layers: int,\n",
    "                 num_decoder_layers: int,\n",
    "                 emb_size: int,\n",
    "                 nhead: int,\n",
    "                 src_vocab_size: int,\n",
    "                 tgt_vocab_size: int,\n",
    "                 dim_feedforward: int = 512,\n",
    "                 dropout: float = 0.1):\n",
    "        super(Seq2SeqTransformer, self).__init__()\n",
    "        self.transformer = Transformer(d_model=emb_size,\n",
    "                                       nhead=nhead,\n",
    "                                       num_encoder_layers=num_encoder_layers,\n",
    "                                       num_decoder_layers=num_decoder_layers,\n",
    "                                       dim_feedforward=dim_feedforward,\n",
    "                                       dropout=dropout)\n",
    "        self.generator = nn.Linear(emb_size, tgt_vocab_size)\n",
    "        self.src_tok_emb = TokenEmbedding(src_vocab_size, emb_size)\n",
    "        self.tgt_tok_emb = TokenEmbedding(tgt_vocab_size, emb_size)\n",
    "        self.positional_encoding = PositionalEncoding(\n",
    "            emb_size, dropout=dropout)\n",
    "\n",
    "    def forward(self,\n",
    "                src: Tensor,\n",
    "                trg: Tensor,\n",
    "                src_mask: Tensor,\n",
    "                tgt_mask: Tensor,\n",
    "                src_padding_mask: Tensor,\n",
    "                tgt_padding_mask: Tensor,\n",
    "                memory_key_padding_mask: Tensor):\n",
    "        src_emb = self.positional_encoding(self.src_tok_emb(src))\n",
    "        tgt_emb = self.positional_encoding(self.tgt_tok_emb(trg))\n",
    "        outs = self.transformer(src_emb, tgt_emb, src_mask, tgt_mask, None,\n",
    "                                src_padding_mask, tgt_padding_mask, memory_key_padding_mask)\n",
    "        return self.generator(outs)\n",
    "\n",
    "    def encode(self, src: Tensor, src_mask: Tensor):\n",
    "        return self.transformer.encoder(self.positional_encoding(\n",
    "            self.src_tok_emb(src)), src_mask)\n",
    "\n",
    "    def decode(self, tgt: Tensor, memory: Tensor, tgt_mask: Tensor):\n",
    "        return self.transformer.decoder(self.positional_encoding(\n",
    "                          self.tgt_tok_emb(tgt)), memory,\n",
    "                          tgt_mask)"
   ]
  },
  {
   "cell_type": "code",
   "execution_count": 26,
   "metadata": {},
   "outputs": [],
   "source": [
    "#| hide\n",
    "torch.manual_seed(random_state)\n",
    "\n",
    "SRC_VOCAB_SIZE = TGT_VOCAB_SIZE = len(training_vocab)\n",
    "EMB_SIZE = 128\n",
    "NHEAD = 4\n",
    "FFN_HID_DIM = 128\n",
    "BATCH_SIZE = 64\n",
    "NUM_ENCODER_LAYERS = 3\n",
    "NUM_DECODER_LAYERS = 3\n",
    "\n",
    "transformer = Seq2SeqTransformer(NUM_ENCODER_LAYERS, NUM_DECODER_LAYERS, EMB_SIZE,\n",
    "                                 NHEAD, SRC_VOCAB_SIZE, TGT_VOCAB_SIZE, FFN_HID_DIM)\n",
    "\n",
    "for p in transformer.parameters():\n",
    "    if p.dim() > 1:\n",
    "        nn.init.xavier_uniform_(p)\n",
    "\n",
    "transformer = transformer.to(DEVICE)\n",
    "\n",
    "loss_fn = torch.nn.CrossEntropyLoss(ignore_index=PAD_IDX)\n",
    "\n",
    "optimizer = torch.optim.Adam(transformer.parameters(), lr=0.0001, betas=(0.9, 0.98), eps=1e-9)"
   ]
  },
  {
   "cell_type": "code",
   "execution_count": 27,
   "metadata": {},
   "outputs": [],
   "source": [
    "#| export\n",
    "# helper function to club together sequential operations\n",
    "def sequential_transforms(*transforms):\n",
    "    def func(txt_input):\n",
    "        for transform in transforms:\n",
    "            txt_input = transform(txt_input)\n",
    "        return txt_input\n",
    "    return func\n",
    "\n",
    "# function to add BOS/EOS and create tensor for input sequence indices\n",
    "def tensor_transform(token_ids: list[int]):\n",
    "    return torch.cat((torch.tensor([BOS_IDX]),\n",
    "                      torch.tensor(token_ids),\n",
    "                      torch.tensor([EOS_IDX])))"
   ]
  },
  {
   "cell_type": "code",
   "execution_count": 28,
   "metadata": {},
   "outputs": [],
   "source": [
    "#| export\n",
    "text_transform = None\n",
    "def get_text_transform(\n",
    "        text_vocab: Vocab = None):\n",
    "    global text_transform\n",
    "    if text_transform is None:\n",
    "        if text_vocab is None:\n",
    "            raise ValueError(\"Vocab must be passed in text transform not set\")\n",
    "        text_transform = sequential_transforms(\n",
    "        text_vocab, # Numericalization\n",
    "        tensor_transform)\n",
    "    return text_transform"
   ]
  },
  {
   "cell_type": "code",
   "execution_count": 29,
   "metadata": {},
   "outputs": [
    {
     "data": {
      "text/plain": [
       "<function __main__.sequential_transforms.<locals>.func(txt_input)>"
      ]
     },
     "execution_count": 29,
     "metadata": {},
     "output_type": "execute_result"
    }
   ],
   "source": [
    "#| hide\n",
    "get_text_transform(training_vocab)"
   ]
  },
  {
   "cell_type": "code",
   "execution_count": 30,
   "metadata": {},
   "outputs": [
    {
     "data": {
      "text/plain": [
       "tensor([1, 7, 5, 7, 8, 8, 7, 8, 5, 6, 8, 5, 6, 7, 5, 6, 8, 6, 8, 7, 8, 8, 8, 7,\n",
       "        8, 5, 7, 8, 8, 6, 6, 5, 8, 7, 6, 8, 6, 8, 8, 5, 8, 8, 8, 8, 5, 8, 6, 6,\n",
       "        7, 7, 5, 5, 5, 7, 5, 5, 6, 5, 8, 7, 5, 5, 5, 7, 5, 2])"
      ]
     },
     "metadata": {},
     "output_type": "display_data"
    },
    {
     "data": {
      "text/plain": [
       "'T'"
      ]
     },
     "execution_count": 30,
     "metadata": {},
     "output_type": "execute_result"
    }
   ],
   "source": [
    "#| hide\n",
    "example_input_transformed = get_text_transform()(example_input)\n",
    "example_target_transformed = get_text_transform()(example_target)\n",
    "display(example_input_transformed)\n",
    "training_vocab.lookup_token(8)"
   ]
  },
  {
   "cell_type": "code",
   "execution_count": 31,
   "metadata": {},
   "outputs": [],
   "source": [
    "#| export\n",
    "# function to collate data samples into batch tensors\n",
    "def collate_fn(batch: list[tuple[str, str, int]]):\n",
    "    global PAD_IDX\n",
    "    src_batch, tgt_batch = [], []\n",
    "    for src_sample, tgt_sample in batch:\n",
    "        src_batch.append(get_text_transform()(src_sample))\n",
    "        tgt_batch.append(get_text_transform()(tgt_sample))\n",
    "\n",
    "    src_batch = pad_sequence(src_batch, padding_value=PAD_IDX)\n",
    "    tgt_batch = pad_sequence(tgt_batch, padding_value=PAD_IDX)\n",
    "    return src_batch, tgt_batch"
   ]
  },
  {
   "cell_type": "code",
   "execution_count": 32,
   "metadata": {},
   "outputs": [],
   "source": [
    "#| hide\n",
    "example_loader = DataLoader(transcription_dataset_train, batch_size=32, collate_fn=collate_fn)\n",
    "example_batch = next(iter(example_loader))"
   ]
  },
  {
   "cell_type": "code",
   "execution_count": 33,
   "metadata": {},
   "outputs": [
    {
     "data": {
      "text/plain": [
       "2"
      ]
     },
     "execution_count": 33,
     "metadata": {},
     "output_type": "execute_result"
    }
   ],
   "source": [
    "#| hide\n",
    "len(example_batch)"
   ]
  },
  {
   "cell_type": "code",
   "execution_count": 34,
   "metadata": {},
   "outputs": [
    {
     "data": {
      "text/plain": [
       "torch.Size([66, 32])"
      ]
     },
     "execution_count": 34,
     "metadata": {},
     "output_type": "execute_result"
    }
   ],
   "source": [
    "#| hide\n",
    "example_batch[0].shape"
   ]
  },
  {
   "cell_type": "code",
   "execution_count": 35,
   "metadata": {},
   "outputs": [
    {
     "data": {
      "text/plain": [
       "'<unk>'"
      ]
     },
     "execution_count": 35,
     "metadata": {},
     "output_type": "execute_result"
    }
   ],
   "source": [
    "#| hide\n",
    "training_vocab.lookup_token(0)"
   ]
  },
  {
   "cell_type": "code",
   "execution_count": 36,
   "metadata": {},
   "outputs": [],
   "source": [
    "#| hide\n",
    "try:\n",
    "    del model\n",
    "except:\n",
    "    pass\n",
    "torch.cuda.empty_cache()\n",
    "model = transformer\n",
    "model.train()\n",
    "losses = 0"
   ]
  },
  {
   "cell_type": "code",
   "execution_count": 37,
   "metadata": {},
   "outputs": [],
   "source": [
    "#| hide\n",
    "batch_loss = None"
   ]
  },
  {
   "cell_type": "code",
   "execution_count": 38,
   "metadata": {},
   "outputs": [],
   "source": [
    "#| hide\n",
    "chunks_attached = False"
   ]
  },
  {
   "cell_type": "code",
   "execution_count": 39,
   "metadata": {},
   "outputs": [],
   "source": [
    "#| hide\n",
    "if not chunks_attached:\n",
    "    example_input = example_batch[0].to(DEVICE)\n",
    "    example_target = example_batch[1].to(DEVICE)\n",
    "    chunks_attached = True"
   ]
  },
  {
   "cell_type": "code",
   "execution_count": 40,
   "metadata": {},
   "outputs": [],
   "source": [
    "#| hide\n",
    "example_target_input = example_target[:-1, :]"
   ]
  },
  {
   "cell_type": "code",
   "execution_count": 41,
   "metadata": {},
   "outputs": [],
   "source": [
    "#| hide\n",
    "example_target_out = example_target[1:, :]"
   ]
  },
  {
   "cell_type": "code",
   "execution_count": 42,
   "metadata": {},
   "outputs": [
    {
     "data": {
      "text/plain": [
       "(torch.Size([66, 32]),\n",
       " torch.Size([66, 32]),\n",
       " torch.Size([65, 32]),\n",
       " torch.Size([65, 32]))"
      ]
     },
     "execution_count": 42,
     "metadata": {},
     "output_type": "execute_result"
    }
   ],
   "source": [
    "#| hide\n",
    "example_input.shape, example_target.shape, example_target_input.shape, example_target_out.shape"
   ]
  },
  {
   "cell_type": "code",
   "execution_count": 43,
   "metadata": {},
   "outputs": [],
   "source": [
    "#| export\n",
    "def generate_square_subsequent_mask(sz):\n",
    "    mask = (torch.triu(torch.ones((sz, sz), device=DEVICE)) == 1).transpose(0, 1)\n",
    "    mask = mask.float().masked_fill(mask == 0, float('-inf')).masked_fill(mask == 1, float(0.0))\n",
    "    return mask\n",
    "\n",
    "\n",
    "def create_mask(src, tgt):\n",
    "    src_seq_len = src.shape[0]\n",
    "    tgt_seq_len = tgt.shape[0]\n",
    "\n",
    "    tgt_mask = generate_square_subsequent_mask(tgt_seq_len)\n",
    "    src_mask = torch.zeros((src_seq_len, src_seq_len), device=DEVICE).type(torch.bool)\n",
    "\n",
    "    src_padding_mask = (src == PAD_IDX).transpose(0, 1)\n",
    "    tgt_padding_mask = (tgt == PAD_IDX).transpose(0, 1)\n",
    "    return src_mask, tgt_mask, src_padding_mask, tgt_padding_mask"
   ]
  },
  {
   "cell_type": "code",
   "execution_count": 44,
   "metadata": {},
   "outputs": [],
   "source": [
    "#| hide\n",
    "masks_made = False"
   ]
  },
  {
   "cell_type": "code",
   "execution_count": 45,
   "metadata": {},
   "outputs": [],
   "source": [
    "#| hide\n",
    "# del example_src_mask, example_tgt_mask, example_src_padding_mask, example_tgt_padding_mask"
   ]
  },
  {
   "cell_type": "code",
   "execution_count": 46,
   "metadata": {},
   "outputs": [
    {
     "name": "stdout",
     "output_type": "stream",
     "text": [
      "torch.Size([66, 66])\n",
      "torch.Size([65, 65])\n",
      "torch.Size([32, 66])\n",
      "torch.Size([32, 65])\n"
     ]
    }
   ],
   "source": [
    "#| hide\n",
    "if not masks_made:\n",
    "    example_src_mask, example_tgt_mask, example_src_padding_mask, example_tgt_padding_mask = create_mask(\n",
    "        example_input, \n",
    "        example_target_input\n",
    "        )\n",
    "    masks_made = True\n",
    "\n",
    "for t in [example_src_mask, example_tgt_mask, example_src_padding_mask, example_tgt_padding_mask]:\n",
    "    print(t.shape)"
   ]
  },
  {
   "cell_type": "code",
   "execution_count": 47,
   "metadata": {},
   "outputs": [],
   "source": [
    "#| hide\n",
    "logits = model(\n",
    "    example_input, \n",
    "    example_target_input, \n",
    "    example_src_mask, \n",
    "    example_tgt_mask,\n",
    "    example_src_padding_mask, \n",
    "    example_tgt_padding_mask, \n",
    "    example_src_padding_mask\n",
    "    )"
   ]
  },
  {
   "cell_type": "code",
   "execution_count": 48,
   "metadata": {},
   "outputs": [],
   "source": [
    "#| hide\n",
    "optimizer.zero_grad()\n",
    "\n",
    "loss = loss_fn(logits.reshape(-1, logits.shape[-1]), example_target_out.reshape(-1))\n",
    "# loss.backward()\n",
    "# optimizer.step()\n",
    "# losses += loss.item()"
   ]
  },
  {
   "cell_type": "code",
   "execution_count": 49,
   "metadata": {},
   "outputs": [
    {
     "data": {
      "text/plain": [
       "tensor(3.2941, device='cuda:0', grad_fn=<NllLossBackward0>)"
      ]
     },
     "execution_count": 49,
     "metadata": {},
     "output_type": "execute_result"
    }
   ],
   "source": [
    "#| hide\n",
    "loss"
   ]
  },
  {
   "cell_type": "code",
   "execution_count": 50,
   "metadata": {},
   "outputs": [],
   "source": [
    "#| hide\n",
    "torch.cuda.empty_cache()\n",
    "try:\n",
    "    for var in [\n",
    "        model,\n",
    "        optimizer,\n",
    "        loss,\n",
    "        batch_loss,\n",
    "        example_input,\n",
    "        example_target,\n",
    "        example_target_input,\n",
    "        example_target_out,\n",
    "        example_src_mask, \n",
    "        example_tgt_mask,\n",
    "        example_src_padding_mask, \n",
    "        example_tgt_padding_mask,\n",
    "    ]:\n",
    "        try:\n",
    "            del var\n",
    "        except Exception:\n",
    "            pass\n",
    "except NameError as e:\n",
    "    raise e"
   ]
  },
  {
   "cell_type": "code",
   "execution_count": 51,
   "metadata": {},
   "outputs": [
    {
     "data": {
      "text/plain": [
       "(6059, 6058)"
      ]
     },
     "execution_count": 51,
     "metadata": {},
     "output_type": "execute_result"
    }
   ],
   "source": [
    "#| hide\n",
    "len(example_loader), len(transcription_dataset_train) // 32"
   ]
  },
  {
   "cell_type": "code",
   "execution_count": 52,
   "metadata": {},
   "outputs": [],
   "source": [
    "#| export\n",
    "def train_epoch(\n",
    "        model, optimizer, loss_fn, \n",
    "        dataset: TranscriptionDataset,\n",
    "        batch_size: int = 32,\n",
    "        pbar_position: int = 1,\n",
    "        limit: int = None):\n",
    "    global DEVICE\n",
    "    model.train()\n",
    "    losses = 0\n",
    "    train_dataloader = DataLoader(dataset, batch_size=batch_size, collate_fn=collate_fn)\n",
    "    batches = len(train_dataloader)\n",
    "    batch_pbar = tqdm(total=batches, position=pbar_position, leave=False, ncols=80, desc=\"Training\")\n",
    "    for i, (src, tgt) in enumerate(train_dataloader):\n",
    "        src = src.to(DEVICE)\n",
    "        tgt = tgt.to(DEVICE)\n",
    "\n",
    "        tgt_input = tgt[:-1, :]\n",
    "\n",
    "        src_mask, tgt_mask, src_padding_mask, tgt_padding_mask = create_mask(src, tgt_input)\n",
    "\n",
    "        logits = model(src, tgt_input, src_mask, tgt_mask, src_padding_mask, tgt_padding_mask, src_padding_mask)\n",
    "\n",
    "        optimizer.zero_grad()\n",
    "\n",
    "        tgt_out = tgt[1:, :]\n",
    "        loss = loss_fn(logits.reshape(-1, logits.shape[-1]), tgt_out.reshape(-1))\n",
    "        loss.backward()\n",
    "\n",
    "        optimizer.step()\n",
    "        losses += loss.item()\n",
    "        batch_pbar.update(1)\n",
    "        if isinstance(limit, int):\n",
    "            if i >= limit:\n",
    "                batches = limit\n",
    "                break\n",
    "\n",
    "    batch_pbar.close()\n",
    "\n",
    "    return losses / batches\n",
    "\n",
    "\n",
    "def evaluate(\n",
    "        model, loss_fn, \n",
    "        dataset: TranscriptionDataset,\n",
    "        batch_size: int = 32,\n",
    "        pbar_position: int = 1,\n",
    "        limit: int = None):\n",
    "    model.eval()\n",
    "    losses = 0\n",
    "\n",
    "    val_dataloader = DataLoader(dataset, batch_size=batch_size, collate_fn=collate_fn)\n",
    "    batches = len(val_dataloader)\n",
    "    eval_pbar = tqdm(total=batches, position=pbar_position, leave=False, ncols=80, desc=\"Evaluating\")\n",
    "    for i, (src, tgt) in enumerate(val_dataloader):\n",
    "        # Break these up into reasonable sizes for the GPU\n",
    "        src = src.to(DEVICE)\n",
    "        tgt = tgt.to(DEVICE)\n",
    "\n",
    "        tgt_input = tgt[:-1, :]\n",
    "\n",
    "        src_mask, tgt_mask, src_padding_mask, tgt_padding_mask = create_mask(src, tgt_input)\n",
    "\n",
    "        logits = model(src, tgt_input, src_mask, tgt_mask,src_padding_mask, tgt_padding_mask, src_padding_mask)\n",
    "\n",
    "        tgt_out = tgt[1:, :]\n",
    "        loss = loss_fn(logits.reshape(-1, logits.shape[-1]), tgt_out.reshape(-1))\n",
    "        losses += loss.item()\n",
    "        \n",
    "        eval_pbar.update(1)\n",
    "        if isinstance(limit, int):\n",
    "            if i >= limit:\n",
    "                batches = limit\n",
    "                break\n",
    "        \n",
    "    eval_pbar.close()\n",
    "    return losses / batches"
   ]
  },
  {
   "cell_type": "code",
   "execution_count": 53,
   "metadata": {},
   "outputs": [
    {
     "name": "stderr",
     "output_type": "stream",
     "text": [
      "                                                                                \r"
     ]
    },
    {
     "data": {
      "text/plain": [
       "(3.1575343012809753, 1.6769118010997772)"
      ]
     },
     "execution_count": 53,
     "metadata": {},
     "output_type": "execute_result"
    }
   ],
   "source": [
    "#| hide\n",
    "transformer = Seq2SeqTransformer(NUM_ENCODER_LAYERS, NUM_DECODER_LAYERS, EMB_SIZE,\n",
    "                                 NHEAD, SRC_VOCAB_SIZE, TGT_VOCAB_SIZE, FFN_HID_DIM)\n",
    "\n",
    "for p in transformer.parameters():\n",
    "    if p.dim() > 1:\n",
    "        nn.init.xavier_uniform_(p)\n",
    "\n",
    "transformer = transformer.to(DEVICE)\n",
    "\n",
    "loss_fn = torch.nn.CrossEntropyLoss(ignore_index=PAD_IDX)\n",
    "\n",
    "optimizer = torch.optim.Adam(transformer.parameters(), lr=0.0001, betas=(0.9, 0.98), eps=1e-9)\n",
    "\n",
    "example_train_loss = train_epoch(\n",
    "    transformer, optimizer, loss_fn,\n",
    "    transcription_dataset_train,\n",
    "    batch_size = 32,\n",
    "    pbar_position = 0,\n",
    "    limit=4)\n",
    "\n",
    "example_eval_loss = evaluate(\n",
    "    transformer, loss_fn, \n",
    "    transcription_dataset_test,\n",
    "    batch_size = 32,\n",
    "    pbar_position = 0,\n",
    "    limit=4)\n",
    "\n",
    "example_train_loss, example_eval_loss"
   ]
  },
  {
   "cell_type": "code",
   "execution_count": 55,
   "metadata": {},
   "outputs": [],
   "source": [
    "#| export\n",
    "# function to generate output sequence using greedy algorithm\n",
    "def greedy_decode(model, src, src_mask, max_len, start_symbol):\n",
    "    src = src.to(DEVICE)\n",
    "    src_mask = src_mask.to(DEVICE)\n",
    "\n",
    "    memory = model.encode(src, src_mask)\n",
    "    ys = torch.ones(1, 1).fill_(start_symbol).type(torch.long).to(DEVICE)\n",
    "    for i in range(max_len-1):\n",
    "        memory = memory.to(DEVICE)\n",
    "        tgt_mask = (generate_square_subsequent_mask(ys.size(0))\n",
    "                    .type(torch.bool)).to(DEVICE)\n",
    "        out = model.decode(ys, memory, tgt_mask)\n",
    "        out = out.transpose(0, 1)\n",
    "        prob = model.generator(out[:, -1])\n",
    "        _, next_word = torch.max(prob, dim=1)\n",
    "        next_word = next_word.item()\n",
    "\n",
    "        ys = torch.cat([ys,\n",
    "                        torch.ones(1, 1).type_as(src.data).fill_(next_word)], dim=0)\n",
    "        if next_word == EOS_IDX:\n",
    "            break\n",
    "    return ys\n",
    "\n",
    "\n",
    "# actual function to translate input sentence into target language\n",
    "def translate(model: torch.nn.Module, vocab: Vocab, src_sentence: str, BOS_TOKEN: str = BOS_TOK, sep: str = \",\"):\n",
    "    model.eval()\n",
    "    src = get_text_transform(vocab)(src_sentence).view(-1, 1)\n",
    "    num_tokens = src.shape[0]\n",
    "    src_mask = (torch.zeros(num_tokens, num_tokens)).type(torch.bool)\n",
    "    bos_idx = vocab[BOS_TOKEN]\n",
    "    tgt_tokens = greedy_decode(\n",
    "        model,  src, src_mask, max_len=num_tokens + 5, start_symbol=bos_idx).flatten()\n",
    "    return sep.join(\n",
    "        vocab.lookup_tokens(list(tgt_tokens.cpu().numpy()))\n",
    "    ).replace(\"<bos>\", \"\").replace(\"<eos>\", \"\")"
   ]
  },
  {
   "cell_type": "code",
   "execution_count": 56,
   "metadata": {},
   "outputs": [
    {
     "data": {
      "text/plain": [
       "' <intron> <intron> <intron> <intron> <intron> <intron> <intron> <intron> <intron> <intron> <intron> <intron> <intron> <intron> <intron> <intron>'"
      ]
     },
     "execution_count": 56,
     "metadata": {},
     "output_type": "execute_result"
    }
   ],
   "source": [
    "#| hide\n",
    "example_sequence = list(\"AGTGCCGTAA\")\n",
    "example_translation = translate(transformer, training_vocab, example_sequence)\n",
    "example_translation"
   ]
  },
  {
   "cell_type": "code",
   "execution_count": 2,
   "metadata": {},
   "outputs": [],
   "source": [
    "#| hide\n",
    "import nbdev; nbdev.nbdev_export()"
   ]
  },
  {
   "cell_type": "code",
   "execution_count": null,
   "metadata": {},
   "outputs": [],
   "source": []
  }
 ],
 "metadata": {
  "kernelspec": {
   "display_name": "venv",
   "language": "python",
   "name": "python3"
  },
  "language_info": {
   "codemirror_mode": {
    "name": "ipython",
    "version": 3
   },
   "file_extension": ".py",
   "mimetype": "text/x-python",
   "name": "python",
   "nbconvert_exporter": "python",
   "pygments_lexer": "ipython3",
   "version": "3.10.6"
  },
  "orig_nbformat": 4
 },
 "nbformat": 4,
 "nbformat_minor": 2
}
