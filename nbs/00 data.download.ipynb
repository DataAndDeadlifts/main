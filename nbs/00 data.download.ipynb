{
 "cells": [
  {
   "attachments": {},
   "cell_type": "markdown",
   "metadata": {},
   "source": [
    "# Getting data from NCBI\n",
    "\n",
    "> 1. Reference Genome Sequence (fasta)\n",
    "> 2. RefSeq Reference Genome Annotation (gff3)\n",
    "> 3. RefSeq Transcripts (fasta)\n",
    "> 4. RefSeq Proteins (fasta)"
   ]
  },
  {
   "cell_type": "code",
   "execution_count": 1,
   "metadata": {},
   "outputs": [],
   "source": [
    "#| default_exp data.download"
   ]
  },
  {
   "cell_type": "code",
   "execution_count": 2,
   "metadata": {},
   "outputs": [],
   "source": [
    "#| hide\n",
    "from nbdev.showdoc import *"
   ]
  },
  {
   "cell_type": "code",
   "execution_count": 2,
   "metadata": {},
   "outputs": [],
   "source": [
    "#| export\n",
    "from yaml import safe_load\n",
    "from pathlib import Path\n",
    "import typing\n",
    "import subprocess\n",
    "from tqdm import tqdm\n",
    "import gzip\n",
    "import pandas as pd\n",
    "import warnings\n",
    "\n",
    "warnings.simplefilter(\"ignore\")\n",
    "\n",
    "from Bio import SeqIO, SeqRecord\n"
   ]
  },
  {
   "attachments": {},
   "cell_type": "markdown",
   "metadata": {},
   "source": [
    "## Get our config file in"
   ]
  },
  {
   "cell_type": "code",
   "execution_count": 4,
   "metadata": {},
   "outputs": [],
   "source": [
    "#| export\n",
    "def load_config(path: Path = Path(\"../config.yml\")) -> dict[typing.Any, typing.Any]:\n",
    "    with open(path) as f:\n",
    "        return safe_load(f)"
   ]
  },
  {
   "cell_type": "code",
   "execution_count": 5,
   "metadata": {},
   "outputs": [],
   "source": [
    "#| hide\n",
    "config = load_config()\n",
    "\n",
    "data_path = Path(config.get(\"data_path\"))\n",
    "data_raw_path = data_path / \"raw\"\n",
    "assemblies_path = data_raw_path / \"assemblies\""
   ]
  },
  {
   "attachments": {},
   "cell_type": "markdown",
   "metadata": {},
   "source": [
    "## Get our data from NCBI"
   ]
  },
  {
   "cell_type": "code",
   "execution_count": 6,
   "metadata": {},
   "outputs": [],
   "source": [
    "#| export\n",
    "def download_data(data_path: Path):\n",
    "    data_raw_path = data_path / \"raw\"\n",
    "    assemblies_path = data_raw_path / \"assemblies\"\n",
    "    if not assemblies_path.exists():\n",
    "        assemblies_path.mkdir(parents=True)\n",
    "    # Get latest reference genome data\n",
    "    subprocess.call([\n",
    "        \"rsync\", \"--copy-links\", \"--recursive\", \"--times\", \"--verbose\",\n",
    "        \"--exclude=Annotation_comparison\",\n",
    "        \"--exclude=*_assembly_structure\",\n",
    "        \"--exclude=*_major_release_seqs_for_alignment_pipelines\",\n",
    "        \"--exclude=RefSeq_historical_alignments\",\n",
    "        \"--exclude=RefSeq_transcripts_alignments\",\n",
    "        \"rsync://ftp.ncbi.nlm.nih.gov/genomes/refseq/vertebrate_mammalian/Homo_sapiens/reference/\",\n",
    "        str(assemblies_path.resolve())\n",
    "    ])    "
   ]
  },
  {
   "cell_type": "code",
   "execution_count": 7,
   "metadata": {},
   "outputs": [
    {
     "name": "stdout",
     "output_type": "stream",
     "text": [
      "\n",
      "Warning Notice!\n",
      "\n",
      "You are accessing a U.S. Government information system which includes this\n",
      "computer, network, and all attached devices. This system is for\n",
      "Government-authorized use only. Unauthorized use of this system may result in\n",
      "disciplinary action and civil and criminal penalties. System users have no\n",
      "expectation of privacy regarding any communications or data processed by this\n",
      "system. At any time, the government may monitor, record, or seize any\n",
      "communication or data transiting or stored on this information system.\n",
      "\n",
      "-------------------------------------------------------------------------------\n",
      "\n",
      "Welcome to the NCBI rsync server.\n",
      "\n",
      "\n",
      "receiving incremental file list\n",
      "./\n",
      "GCF_000001405.40_GRCh38.p14/\n",
      "GCF_000001405.40_GRCh38.p14/assembly_status.txt\n",
      "GCF_000001405.40_GRCh38.p14/md5checksums.txt\n",
      "\n",
      "sent 1,943 bytes  received 2,213 bytes  8,312.00 bytes/sec\n",
      "total size is 3,601,107,022  speedup is 866,483.88\n"
     ]
    },
    {
     "name": "stderr",
     "output_type": "stream",
     "text": [
      "rsync: [receiver] rename \"/mnt/e/Data/llm-mito-scanner-data/data/raw/assemblies/GCF_000001405.40_GRCh38.p14/.md5checksums.txt.ws1moi\" -> \"GCF_000001405.40_GRCh38.p14/md5checksums.txt\": Permission denied (13)\n",
      "rsync error: some files/attrs were not transferred (see previous errors) (code 23) at main.c(1865) [generator=3.2.7]\n"
     ]
    }
   ],
   "source": [
    "#| hide\n",
    "download_data(data_path)"
   ]
  },
  {
   "attachments": {},
   "cell_type": "markdown",
   "metadata": {},
   "source": [
    "## Utils"
   ]
  },
  {
   "cell_type": "code",
   "execution_count": 8,
   "metadata": {},
   "outputs": [],
   "source": [
    "#| export\n",
    "def get_latest_assembly_path(\n",
    "        assemblies_path: Path # Path for downloaded assemblies\n",
    "        ) -> Path: # Path of the latest assembly\n",
    "    \"Get the latest annotation path.\"\n",
    "    annotations = [d for d in assemblies_path.iterdir() if d.is_dir()]\n",
    "    annotations_df = pd.DataFrame(annotations, columns=['path'])\n",
    "    annotations_df.loc[:, 'accession'] = annotations_df.path.apply(lambda p: p.name)\n",
    "    annotations_df.loc[:, 'accession_prefix'] = annotations_df.accession.apply(\n",
    "        lambda acc: acc.split(\".\", 1)[0]\n",
    "    )\n",
    "    annotations_df.sort_values(\"accession_prefix\", inplace=True, ascending=False)\n",
    "    return annotations_df.iloc[0, 0]"
   ]
  },
  {
   "cell_type": "code",
   "execution_count": 32,
   "metadata": {},
   "outputs": [
    {
     "data": {
      "text/plain": [
       "Path('/mnt/e/Data/llm-mito-scanner-data/data/raw/assemblies/GCF_000001405.40_GRCh38.p14')"
      ]
     },
     "execution_count": 32,
     "metadata": {},
     "output_type": "execute_result"
    }
   ],
   "source": [
    "#| hide\n",
    "latest_assembly_path = get_latest_assembly_path(assemblies_path)\n",
    "latest_assembly_path"
   ]
  },
  {
   "cell_type": "code",
   "execution_count": 33,
   "metadata": {},
   "outputs": [],
   "source": [
    "#| export\n",
    "def get_genomic_genbank_path(\n",
    "        assembly_path: Path # Annotation path,\n",
    "        ) -> Path: # Genomic genbank path\n",
    "    \"Get the genomic genbank file.\"\n",
    "    return next(assembly_path.glob(\"*[!from]_genomic.gbff.gz\"), None)"
   ]
  },
  {
   "cell_type": "code",
   "execution_count": 34,
   "metadata": {},
   "outputs": [
    {
     "data": {
      "text/plain": [
       "Path('/mnt/e/Data/llm-mito-scanner-data/data/raw/assemblies/GCF_000001405.40_GRCh38.p14/GCF_000001405.40_GRCh38.p14_genomic.gbff.gz')"
      ]
     },
     "execution_count": 34,
     "metadata": {},
     "output_type": "execute_result"
    }
   ],
   "source": [
    "#| hide\n",
    "genomic_genbank_path = get_genomic_genbank_path(latest_assembly_path)\n",
    "genomic_genbank_path"
   ]
  },
  {
   "cell_type": "code",
   "execution_count": 37,
   "metadata": {},
   "outputs": [
    {
     "name": "stdout",
     "output_type": "stream",
     "text": [
      "NC\n"
     ]
    },
    {
     "data": {
      "text/plain": [
       "SeqRecord(seq=Seq('NNNNNNNNNNNNNNNNNNNNNNNNNNNNNNNNNNNNNNNNNNNNNNNNNNNNNN...NNN'), id='NC_000001.11', name='NC_000001', description='Homo sapiens chromosome 1, GRCh38.p14 Primary Assembly', dbxrefs=['BioProject:PRJNA168', 'Assembly:GCF_000001405.40'])"
      ]
     },
     "execution_count": 37,
     "metadata": {},
     "output_type": "execute_result"
    }
   ],
   "source": [
    "#| hide\n",
    "ignore_prefixes = set([\n",
    "    \"NG_\",\n",
    "    \"NT_\",\n",
    "    \"NW_\",\n",
    "    \"NZ_\",\n",
    "    \"XM_\",\n",
    "    \"XR_\",\n",
    "    \"AP_\",\n",
    "    \"NP_\",\n",
    "    \"YP_\",\n",
    "    \"XP_\",\n",
    "    \"WP_\"\n",
    "])\n",
    "with gzip.open(str(genomic_genbank_path.resolve()), mode='rt') as f:\n",
    "    for sample_record in SeqIO.parse(f, \"genbank\"):\n",
    "        pref = sample_record.id[:3]\n",
    "        if pref not in ignore_prefixes and \"chromosome\" not in sample_record.description.lower():\n",
    "            break\n",
    "\n",
    "sample_record"
   ]
  },
  {
   "cell_type": "code",
   "execution_count": 39,
   "metadata": {},
   "outputs": [
    {
     "data": {
      "text/plain": [
       "51489"
      ]
     },
     "execution_count": 39,
     "metadata": {},
     "output_type": "execute_result"
    }
   ],
   "source": [
    "#| hide\n",
    "len(sample_record.features)"
   ]
  },
  {
   "cell_type": "code",
   "execution_count": 13,
   "metadata": {},
   "outputs": [
    {
     "data": {
      "text/plain": [
       "SeqRecord(seq=Seq('NNNNNNNNNNNNNNNNNNNNNNNNNNNNNNNNNNNNNNNNNNNNNNNNNNNNNN...NNN'), id='NC_000001.11', name='NC_000001', description='Homo sapiens chromosome 1, GRCh38.p14 Primary Assembly', dbxrefs=['BioProject:PRJNA168', 'Assembly:GCF_000001405.40'])"
      ]
     },
     "execution_count": 13,
     "metadata": {},
     "output_type": "execute_result"
    }
   ],
   "source": [
    "#| hide\n",
    "sample_record"
   ]
  },
  {
   "attachments": {},
   "cell_type": "markdown",
   "metadata": {},
   "source": [
    "## Break out the chromosome sequence records"
   ]
  },
  {
   "cell_type": "code",
   "execution_count": 14,
   "metadata": {},
   "outputs": [],
   "source": [
    "#| export\n",
    "def extract_accession_sequence_records(\n",
    "        genomic_genbank_path: Path, # Path to the genomic genbank file for an assembly\n",
    "        assembly_path: Path, # Path to write the files to\n",
    "        expected_accessions: int = 24\n",
    "):\n",
    "    write_path = assembly_path / \"chromosomes\"\n",
    "    if not write_path.exists():\n",
    "        write_path.mkdir()\n",
    "    pbar = None\n",
    "    if isinstance(expected_accessions, int):\n",
    "        pbar = tqdm(total=expected_accessions, ncols=80, leave=True)\n",
    "    try:\n",
    "        with gzip.open(str(genomic_genbank_path.resolve()), mode='rt') as f:\n",
    "            for record in SeqIO.parse(f, \"genbank\"):\n",
    "                # Only write complete genomic molecules\n",
    "                if record.id.startswith(\"NC_\"):\n",
    "                    record_write_path = write_path / f\"{record.id}.gb\"\n",
    "                    if not record_write_path.exists():\n",
    "                        SeqIO.write(record, record_write_path, \"genbank\")\n",
    "                    if pbar is not None:\n",
    "                        pbar.update(1)\n",
    "    except Exception as e:\n",
    "        raise e\n",
    "    finally:\n",
    "        if pbar is not None:\n",
    "            pbar.close()"
   ]
  },
  {
   "cell_type": "code",
   "execution_count": 15,
   "metadata": {},
   "outputs": [
    {
     "name": "stderr",
     "output_type": "stream",
     "text": [
      "  0%|                                                    | 0/24 [00:00<?, ?it/s]"
     ]
    },
    {
     "name": "stderr",
     "output_type": "stream",
     "text": [
      "25it [03:14,  7.77s/it]                                                         \n"
     ]
    }
   ],
   "source": [
    "#| hide\n",
    "extract_accession_sequence_records(\n",
    "    genomic_genbank_path,\n",
    "    latest_assembly_path,\n",
    "    24\n",
    ")"
   ]
  },
  {
   "attachments": {},
   "cell_type": "markdown",
   "metadata": {},
   "source": [
    "## Utils"
   ]
  },
  {
   "cell_type": "code",
   "execution_count": 16,
   "metadata": {},
   "outputs": [],
   "source": [
    "#| hide\n",
    "chromosomes_path = latest_assembly_path / \"chromosomes\""
   ]
  },
  {
   "cell_type": "code",
   "execution_count": 19,
   "metadata": {},
   "outputs": [],
   "source": [
    "#| export\n",
    "def get_chromosome_sequence_record(\n",
    "        chromosomes_path: str,\n",
    "        refseq: str\n",
    ") -> SeqRecord:\n",
    "    refseq_path = chromosomes_path / f\"{refseq}.gb\"\n",
    "    with refseq_path.open(\"r\") as f:\n",
    "        return next(SeqIO.parse(f, \"genbank\"), None)"
   ]
  },
  {
   "cell_type": "code",
   "execution_count": 20,
   "metadata": {},
   "outputs": [],
   "source": [
    "#| hide\n",
    "example_accession = get_chromosome_sequence_record(\n",
    "    chromosomes_path,\n",
    "    \"NC_000001.11\"\n",
    ")"
   ]
  },
  {
   "cell_type": "code",
   "execution_count": 21,
   "metadata": {},
   "outputs": [
    {
     "data": {
      "text/plain": [
       "SeqRecord(seq=Seq('NNNNNNNNNNNNNNNNNNNNNNNNNNNNNNNNNNNNNNNNNNNNNNNNNNNNNN...NNN'), id='NC_000001.11', name='NC_000001', description='Homo sapiens chromosome 1, GRCh38.p14 Primary Assembly', dbxrefs=['BioProject:PRJNA168', 'Assembly:GCF_000001405.40'])"
      ]
     },
     "execution_count": 21,
     "metadata": {},
     "output_type": "execute_result"
    }
   ],
   "source": [
    "#| hide\n",
    "example_accession"
   ]
  },
  {
   "cell_type": "code",
   "execution_count": 3,
   "metadata": {},
   "outputs": [
    {
     "ename": "IndentationError",
     "evalue": "expected an indented block after function definition on line 18 (<unknown>, line 19)",
     "output_type": "error",
     "traceback": [
      "Traceback \u001b[0;36m(most recent call last)\u001b[0m:\n",
      "\u001b[0m  File \u001b[1;32m~/projects/llm-mito-scanner/venv/lib/python3.10/site-packages/IPython/core/interactiveshell.py:3508\u001b[0m in \u001b[1;35mrun_code\u001b[0m\n    exec(code_obj, self.user_global_ns, self.user_ns)\u001b[0m\n",
      "\u001b[0m  Cell \u001b[1;32mIn[3], line 2\u001b[0m\n    import nbdev; nbdev.nbdev_export()\u001b[0m\n",
      "\u001b[0m  File \u001b[1;32m~/projects/llm-mito-scanner/venv/lib/python3.10/site-packages/fastcore/script.py:110\u001b[0m in \u001b[1;35m_f\u001b[0m\n    if not mod: return func(*args, **kwargs)\u001b[0m\n",
      "\u001b[0m  File \u001b[1;32m~/projects/llm-mito-scanner/venv/lib/python3.10/site-packages/nbdev/doclinks.py:140\u001b[0m in \u001b[1;35mnbdev_export\u001b[0m\n    _build_modidx()\u001b[0m\n",
      "\u001b[0m  File \u001b[1;32m~/projects/llm-mito-scanner/venv/lib/python3.10/site-packages/nbdev/doclinks.py:102\u001b[0m in \u001b[1;35m_build_modidx\u001b[0m\n    res['syms'].update(_get_modidx((dest.parent/file).resolve(), code_root, nbs_path=nbs_path))\u001b[0m\n",
      "\u001b[0m  File \u001b[1;32m~/projects/llm-mito-scanner/venv/lib/python3.10/site-packages/nbdev/doclinks.py:79\u001b[0m in \u001b[1;35m_get_modidx\u001b[0m\n    for tree in ast.parse(cell.code).body:\u001b[0m\n",
      "\u001b[0;36m  File \u001b[0;32m/usr/lib/python3.10/ast.py:50\u001b[0;36m in \u001b[0;35mparse\u001b[0;36m\n\u001b[0;31m    return compile(source, filename, mode, flags,\u001b[0;36m\n",
      "\u001b[0;36m  File \u001b[0;32m<unknown>:19\u001b[0;36m\u001b[0m\n\u001b[0;31m    \u001b[0m\n\u001b[0m    ^\u001b[0m\n\u001b[0;31mIndentationError\u001b[0m\u001b[0;31m:\u001b[0m expected an indented block after function definition on line 18\n"
     ]
    }
   ],
   "source": [
    "#| hide\n",
    "import nbdev; nbdev.nbdev_export()"
   ]
  },
  {
   "cell_type": "code",
   "execution_count": null,
   "metadata": {},
   "outputs": [],
   "source": []
  }
 ],
 "metadata": {
  "kernelspec": {
   "display_name": "venv",
   "language": "python",
   "name": "python3"
  },
  "language_info": {
   "codemirror_mode": {
    "name": "ipython",
    "version": 3
   },
   "file_extension": ".py",
   "mimetype": "text/x-python",
   "name": "python",
   "nbconvert_exporter": "python",
   "pygments_lexer": "ipython3",
   "version": "3.10.6"
  },
  "orig_nbformat": 4
 },
 "nbformat": 4,
 "nbformat_minor": 2
}
