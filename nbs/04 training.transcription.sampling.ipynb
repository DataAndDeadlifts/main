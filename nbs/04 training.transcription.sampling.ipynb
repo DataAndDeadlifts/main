{
 "cells": [
  {
   "cell_type": "markdown",
   "metadata": {},
   "source": [
    "# Generating training instances from genomic dna, intron and mRNA positions.\n",
    "\n",
    "> Preparing training instances."
   ]
  },
  {
   "cell_type": "markdown",
   "metadata": {},
   "source": [
    "## Goals\n",
    "1. Construct the mRNA sequence\n",
    "3. Generate training instances that;\n",
    "    1. Include the \"edge\" of the intron with various shifting strategies\n",
    "    2. Exclude the \"edge\" of the intron and get transcribed mRNA"
   ]
  },
  {
   "cell_type": "code",
   "execution_count": 1,
   "metadata": {},
   "outputs": [],
   "source": [
    "#| default_exp training.transcription.sampling"
   ]
  },
  {
   "cell_type": "code",
   "execution_count": null,
   "metadata": {},
   "outputs": [],
   "source": [
    "#| hide\n",
    "from nbdev.showdoc import *"
   ]
  },
  {
   "cell_type": "markdown",
   "metadata": {},
   "source": [
    "## 0. Setup"
   ]
  },
  {
   "cell_type": "code",
   "execution_count": 2,
   "metadata": {},
   "outputs": [],
   "source": [
    "#| export\n",
    "from pathlib import Path\n",
    "import numpy as np\n",
    "import pandas as pd\n",
    "from pandas.errors import SettingWithCopyWarning\n",
    "import random\n",
    "import warnings\n",
    "import time\n",
    "from datetime import timedelta\n",
    "from tqdm import tqdm\n",
    "\n",
    "warnings.filterwarnings(\"ignore\", category=SettingWithCopyWarning)\n",
    "\n",
    "from llm_mito_scanner.data.download import load_config, \\\n",
    "    get_latest_assembly_path, get_genomic_genbank_path\n",
    "from llm_mito_scanner.data.transcription import get_chromosome_genes\n",
    "from llm_mito_scanner.training.transcription.index import get_intron_locations\n",
    "from llm_mito_scanner.training.transcription.generation import get_mrna_locations, get_gene"
   ]
  },
  {
   "cell_type": "code",
   "execution_count": 3,
   "metadata": {},
   "outputs": [],
   "source": [
    "#| hide\n",
    "config = load_config()"
   ]
  },
  {
   "cell_type": "code",
   "execution_count": 4,
   "metadata": {},
   "outputs": [],
   "source": [
    "#| hide\n",
    "data_path = Path(config.get(\"data_path\"))\n",
    "data_raw_path = data_path / \"raw\"\n",
    "assemblies_path = data_raw_path / \"assemblies\"\n",
    "latest_assembly_path = get_latest_assembly_path(assemblies_path)\n",
    "genomic_genbank_path = get_genomic_genbank_path(latest_assembly_path)\n",
    "genes_path = latest_assembly_path / \"genes\"\n",
    "training_data_path = latest_assembly_path / \"training\"\n",
    "transcription_data_path = training_data_path / \"transcription\"\n",
    "intron_locations_path = transcription_data_path / \"intron_positions\"\n",
    "for p in [genes_path, intron_locations_path]:\n",
    "    if not p.exists():\n",
    "        raise FileNotFoundError(f\"This notebook requires the path {p.resolve()} to exist\")"
   ]
  },
  {
   "cell_type": "markdown",
   "metadata": {},
   "source": [
    "## Sampling"
   ]
  },
  {
   "cell_type": "code",
   "execution_count": 5,
   "metadata": {},
   "outputs": [],
   "source": [
    "#| hide\n",
    "example_chromosome = \"NC_000001.11\""
   ]
  },
  {
   "cell_type": "code",
   "execution_count": 6,
   "metadata": {},
   "outputs": [],
   "source": [
    "#| hide\n",
    "intron_locations = get_intron_locations(\n",
    "    intron_locations_path,\n",
    "    chromosome=example_chromosome\n",
    ")"
   ]
  },
  {
   "cell_type": "code",
   "execution_count": 7,
   "metadata": {},
   "outputs": [
    {
     "data": {
      "text/plain": [
       "12720"
      ]
     },
     "execution_count": 7,
     "metadata": {},
     "output_type": "execute_result"
    }
   ],
   "source": [
    "#| hide\n",
    "intron_locations.transcriptid.unique().size"
   ]
  },
  {
   "cell_type": "code",
   "execution_count": 8,
   "metadata": {},
   "outputs": [
    {
     "data": {
      "text/plain": [
       "('24,893,090,448', '388,954,538')"
      ]
     },
     "execution_count": 8,
     "metadata": {},
     "output_type": "execute_result"
    }
   ],
   "source": [
    "#| hide\n",
    "mrna_length_df = intron_locations.drop_duplicates(subset=['chromosome', 'geneid', 'transcriptid'])[['mrna_start', 'mrna_end']]\n",
    "total_dataset_length = (mrna_length_df.mrna_end - mrna_length_df.mrna_start).sum() * 24\n",
    "training_sequence_length = 64\n",
    "num_training_instances = total_dataset_length // training_sequence_length\n",
    "'{:,}'.format(total_dataset_length), '{:,}'.format(num_training_instances)"
   ]
  },
  {
   "cell_type": "code",
   "execution_count": 9,
   "metadata": {},
   "outputs": [
    {
     "data": {
      "text/plain": [
       "1728000.0"
      ]
     },
     "execution_count": 9,
     "metadata": {},
     "output_type": "execute_result"
    }
   ],
   "source": [
    "#| hide\n",
    "training_hours = 6\n",
    "training_minutes = training_hours * 60\n",
    "training_seconds = training_minutes * 60\n",
    "sequences_per_second = 2.5 * 32\n",
    "training_instance_target = training_seconds * sequences_per_second\n",
    "training_instance_target"
   ]
  },
  {
   "cell_type": "code",
   "execution_count": 10,
   "metadata": {},
   "outputs": [
    {
     "data": {
      "text/plain": [
       "1.0"
      ]
     },
     "execution_count": 10,
     "metadata": {},
     "output_type": "execute_result"
    }
   ],
   "source": [
    "#| hide\n",
    "proportion_intron_edge = 0.25\n",
    "proportion_intron = 0.25\n",
    "proportion_mrna = 0.25\n",
    "proportion_mrna_edge = 0.25\n",
    "\n",
    "random_state = 42\n",
    "\n",
    "sum([proportion_intron_edge, proportion_intron, proportion_mrna, proportion_mrna_edge])"
   ]
  },
  {
   "cell_type": "code",
   "execution_count": 11,
   "metadata": {},
   "outputs": [
    {
     "name": "stdout",
     "output_type": "stream",
     "text": [
      "432000\n"
     ]
    },
    {
     "data": {
      "text/plain": [
       "337270"
      ]
     },
     "execution_count": 11,
     "metadata": {},
     "output_type": "execute_result"
    }
   ],
   "source": [
    "#| hide\n",
    "# each intron has a start edge and an end edge - lets make sure we sample both types\n",
    "allowed_intron_edges = int(training_instance_target * proportion_intron_edge)\n",
    "print(allowed_intron_edges)\n",
    "unique_introns_edges = intron_locations.shape[0] * 2 # start and end edge\n",
    "unique_introns_edges"
   ]
  },
  {
   "cell_type": "code",
   "execution_count": 12,
   "metadata": {},
   "outputs": [],
   "source": [
    "#| export\n",
    "def sample_intron_edges(\n",
    "        locations: pd.DataFrame, n: int, \n",
    "        random_state: int = 42, offset: int = -32, length: int = 64) -> pd.DataFrame:\n",
    "    \"Get training instances where either the start of end of an intron is in the center of the sequence.\"\n",
    "    start_n = int(n / 2)\n",
    "    end_n = n - start_n\n",
    "    replace = True if (start_n > locations.shape[0]) | (end_n > locations.shape[0]) else False\n",
    "    starts = locations.sample(start_n, replace=replace, random_state=random_state)\n",
    "    ends = locations.sample(end_n, replace=replace, random_state=random_state)\n",
    "    frames = []\n",
    "    for f, slice_origin in zip([starts, ends], ['intron_start', 'intron_end']):\n",
    "        f_slice_start = (f[slice_origin] - f.mrna_start + offset).apply(lambda val: max(0, val))\n",
    "        f.loc[:, 'mrna_len'] = f.mrna_end - f.mrna_start\n",
    "        f.loc[:, 'start'] = f_slice_start\n",
    "        f.loc[:, 'end'] = (f_slice_start + length)\n",
    "        f.loc[:, 'end'] = f[['end', 'mrna_len']].min(axis=1)\n",
    "        # Detect short sequences\n",
    "        short_mask = (f.end - f.start) != length\n",
    "        short_end_mask = short_mask & (f.end == f.mrna_len)\n",
    "        short_start_mask = short_mask & (f.start == 0)\n",
    "        if short_end_mask.sum() > 0:\n",
    "            # Fix the samples with short ends\n",
    "            f_short_ends = f.loc[short_end_mask, :]\n",
    "            f_short_lengths = f_short_ends.end - f_short_ends.start\n",
    "            f_short_adjustments = f_short_lengths - length\n",
    "            f_short_ends.loc[:, 'start'] = f_short_ends.start + f_short_adjustments\n",
    "            f.loc[short_end_mask, :] = f_short_ends\n",
    "        if short_start_mask.sum() > 0:\n",
    "            # Fix the samples with short starts\n",
    "            f_short_starts = f.loc[short_start_mask, :]\n",
    "            f_short_lengths = f_short_starts.end - f_short_starts.start\n",
    "            f_short_adjustments = (f_short_lengths - length).mul(-1)\n",
    "            f_short_starts.loc[:, 'end'] = f_short_starts.end + f_short_adjustments\n",
    "            f.loc[short_start_mask, :] = f_short_starts\n",
    "        f = f[['chromosome', 'geneid', 'transcriptid', 'start', 'end']]\n",
    "        frames.append(f)\n",
    "    intron_edges = pd.concat(frames, axis=0)\n",
    "    intron_edges.loc[:, 'type'] = 'intron-edge'\n",
    "    return intron_edges"
   ]
  },
  {
   "cell_type": "code",
   "execution_count": 13,
   "metadata": {},
   "outputs": [
    {
     "data": {
      "text/html": [
       "<div>\n",
       "<style scoped>\n",
       "    .dataframe tbody tr th:only-of-type {\n",
       "        vertical-align: middle;\n",
       "    }\n",
       "\n",
       "    .dataframe tbody tr th {\n",
       "        vertical-align: top;\n",
       "    }\n",
       "\n",
       "    .dataframe thead th {\n",
       "        text-align: right;\n",
       "    }\n",
       "</style>\n",
       "<table border=\"1\" class=\"dataframe\">\n",
       "  <thead>\n",
       "    <tr style=\"text-align: right;\">\n",
       "      <th></th>\n",
       "      <th>chromosome</th>\n",
       "      <th>geneid</th>\n",
       "      <th>transcriptid</th>\n",
       "      <th>start</th>\n",
       "      <th>end</th>\n",
       "      <th>type</th>\n",
       "    </tr>\n",
       "  </thead>\n",
       "  <tbody>\n",
       "    <tr>\n",
       "      <th>121958</th>\n",
       "      <td>NC_000001.11</td>\n",
       "      <td>GeneID:5202</td>\n",
       "      <td>XM_011509624.4</td>\n",
       "      <td>7442</td>\n",
       "      <td>7506</td>\n",
       "      <td>intron-edge</td>\n",
       "    </tr>\n",
       "    <tr>\n",
       "      <th>146867</th>\n",
       "      <td>NC_000001.11</td>\n",
       "      <td>GeneID:93273</td>\n",
       "      <td>XM_011510162.3</td>\n",
       "      <td>0</td>\n",
       "      <td>64</td>\n",
       "      <td>intron-edge</td>\n",
       "    </tr>\n",
       "    <tr>\n",
       "      <th>131932</th>\n",
       "      <td>NC_000001.11</td>\n",
       "      <td>GeneID:7827</td>\n",
       "      <td>XM_017002298.2</td>\n",
       "      <td>16238</td>\n",
       "      <td>16302</td>\n",
       "      <td>intron-edge</td>\n",
       "    </tr>\n",
       "    <tr>\n",
       "      <th>103694</th>\n",
       "      <td>NC_000001.11</td>\n",
       "      <td>GeneID:84072</td>\n",
       "      <td>XM_047431826.1</td>\n",
       "      <td>9319</td>\n",
       "      <td>9383</td>\n",
       "      <td>intron-edge</td>\n",
       "    </tr>\n",
       "    <tr>\n",
       "      <th>119879</th>\n",
       "      <td>NC_000001.11</td>\n",
       "      <td>GeneID:115350</td>\n",
       "      <td>NM_052938.5</td>\n",
       "      <td>22221</td>\n",
       "      <td>22285</td>\n",
       "      <td>intron-edge</td>\n",
       "    </tr>\n",
       "  </tbody>\n",
       "</table>\n",
       "</div>"
      ],
      "text/plain": [
       "          chromosome         geneid    transcriptid  start    end         type\n",
       "121958  NC_000001.11    GeneID:5202  XM_011509624.4   7442   7506  intron-edge\n",
       "146867  NC_000001.11   GeneID:93273  XM_011510162.3      0     64  intron-edge\n",
       "131932  NC_000001.11    GeneID:7827  XM_017002298.2  16238  16302  intron-edge\n",
       "103694  NC_000001.11   GeneID:84072  XM_047431826.1   9319   9383  intron-edge\n",
       "119879  NC_000001.11  GeneID:115350     NM_052938.5  22221  22285  intron-edge"
      ]
     },
     "execution_count": 13,
     "metadata": {},
     "output_type": "execute_result"
    }
   ],
   "source": [
    "#| hide\n",
    "example_sample_intron_edges = sample_intron_edges(intron_locations, allowed_intron_edges, random_state=random_state)\n",
    "example_sample_intron_edges.head()"
   ]
  },
  {
   "cell_type": "code",
   "execution_count": 14,
   "metadata": {},
   "outputs": [
    {
     "data": {
      "text/plain": [
       "64    432000\n",
       "Name: count, dtype: int64"
      ]
     },
     "metadata": {},
     "output_type": "display_data"
    },
    {
     "data": {
      "text/plain": [
       "False    432000\n",
       "Name: count, dtype: int64"
      ]
     },
     "execution_count": 14,
     "metadata": {},
     "output_type": "execute_result"
    }
   ],
   "source": [
    "#| hide\n",
    "example_sample_intron_edges_lengths = example_sample_intron_edges.end - example_sample_intron_edges.start\n",
    "display(example_sample_intron_edges_lengths.value_counts())\n",
    "bad_length_mask = example_sample_intron_edges_lengths != 64\n",
    "bad_length_mask.value_counts()"
   ]
  },
  {
   "cell_type": "code",
   "execution_count": 15,
   "metadata": {},
   "outputs": [
    {
     "data": {
      "text/html": [
       "<div>\n",
       "<style scoped>\n",
       "    .dataframe tbody tr th:only-of-type {\n",
       "        vertical-align: middle;\n",
       "    }\n",
       "\n",
       "    .dataframe tbody tr th {\n",
       "        vertical-align: top;\n",
       "    }\n",
       "\n",
       "    .dataframe thead th {\n",
       "        text-align: right;\n",
       "    }\n",
       "</style>\n",
       "<table border=\"1\" class=\"dataframe\">\n",
       "  <thead>\n",
       "    <tr style=\"text-align: right;\">\n",
       "      <th></th>\n",
       "      <th>chromosome</th>\n",
       "      <th>geneid</th>\n",
       "      <th>transcriptid</th>\n",
       "      <th>start</th>\n",
       "      <th>end</th>\n",
       "      <th>type</th>\n",
       "    </tr>\n",
       "  </thead>\n",
       "  <tbody>\n",
       "  </tbody>\n",
       "</table>\n",
       "</div>"
      ],
      "text/plain": [
       "Empty DataFrame\n",
       "Columns: [chromosome, geneid, transcriptid, start, end, type]\n",
       "Index: []"
      ]
     },
     "execution_count": 15,
     "metadata": {},
     "output_type": "execute_result"
    }
   ],
   "source": [
    "#| hide\n",
    "example_sample_intron_edges[bad_length_mask]"
   ]
  },
  {
   "cell_type": "code",
   "execution_count": 16,
   "metadata": {},
   "outputs": [
    {
     "data": {
      "text/plain": [
       "count    168635.000000\n",
       "mean       5827.990850\n",
       "std       17118.083674\n",
       "min          33.000000\n",
       "25%         543.000000\n",
       "50%        1534.000000\n",
       "75%        4281.000000\n",
       "max      451448.000000\n",
       "dtype: float64"
      ]
     },
     "execution_count": 16,
     "metadata": {},
     "output_type": "execute_result"
    }
   ],
   "source": [
    "#| hide\n",
    "intron_lengths = intron_locations.intron_end - intron_locations.intron_start\n",
    "intron_lengths.describe()"
   ]
  },
  {
   "cell_type": "code",
   "execution_count": 17,
   "metadata": {},
   "outputs": [
    {
     "data": {
      "text/plain": [
       "(33, 451448)"
      ]
     },
     "execution_count": 17,
     "metadata": {},
     "output_type": "execute_result"
    }
   ],
   "source": [
    "#| hide\n",
    "intron_lengths.min(), intron_lengths.max()"
   ]
  },
  {
   "cell_type": "code",
   "execution_count": 18,
   "metadata": {},
   "outputs": [],
   "source": [
    "#| export\n",
    "def sample_introns(\n",
    "        locations: pd.DataFrame, n: int,\n",
    "        random_state: int = 42, length: int = 64) -> pd.DataFrame:\n",
    "    random.seed(random_state)\n",
    "    \"Get training instances where most of the tokens are <intron>.\"\n",
    "    replace = False if n < locations.shape[0] else True\n",
    "    intron_sample = locations.sample(n, replace=replace, random_state=random_state)\n",
    "    # Handle sequences of varying sizes\n",
    "    intron_sample.loc[:, 'intron_length'] = intron_sample.intron_end - intron_sample.intron_start\n",
    "    intron_len_mask = intron_sample.intron_length <= length\n",
    "    small_introns = intron_sample[intron_len_mask]\n",
    "    large_introns = intron_sample[~intron_len_mask]\n",
    "    sample_frames = []\n",
    "    if small_introns.shape[0] > 0:\n",
    "        # For those introns less than length, center, return the whole thing\n",
    "        # Start at intron start\n",
    "        small_intron_slice_center = small_introns.intron_start\n",
    "        # Shift slice center half the distance of the target sequence\n",
    "        small_intron_slice_center = small_intron_slice_center.subtract(int(length / 2)).apply(lambda val: max(0, val))\n",
    "        small_introns.loc[:, 'start'] = small_intron_slice_center\n",
    "        small_introns.loc[:, 'end'] = small_introns.start + length\n",
    "        small_introns.loc[:, 'end'] = small_introns[['end', 'mrna_end']].min(axis=1)\n",
    "        small_introns = small_introns[['chromosome', 'geneid', 'transcriptid', 'start', 'end']]\n",
    "        small_introns.loc[:, 'type'] = 'intron-small'\n",
    "        sample_frames.append(small_introns)\n",
    "    if large_introns.shape[0] > 0:\n",
    "        # For larger introns, identify the range we can slice to avoid edges\n",
    "        large_introns.loc[:, 'slice_max'] = large_introns.intron_end - length\n",
    "        large_introns.loc[:, 'slice_range'] = large_introns.apply(lambda row: range(row.intron_start, row.slice_max + 1, 1), axis=1)\n",
    "        large_introns.loc[:, 'start'] = large_introns.slice_range.apply(lambda r: random.choice(r))\n",
    "        large_introns.loc[:, 'end'] = large_introns.start + length\n",
    "        large_introns = large_introns[['chromosome', 'geneid', 'transcriptid', 'start', 'end']]\n",
    "        large_introns.loc[:, 'type'] = 'intron'\n",
    "        sample_frames.append(large_introns)\n",
    "    # Randomly select a slice point within the identified range\n",
    "    introns = pd.concat(sample_frames, axis=0)\n",
    "    return introns"
   ]
  },
  {
   "cell_type": "code",
   "execution_count": 19,
   "metadata": {},
   "outputs": [
    {
     "data": {
      "text/html": [
       "<div>\n",
       "<style scoped>\n",
       "    .dataframe tbody tr th:only-of-type {\n",
       "        vertical-align: middle;\n",
       "    }\n",
       "\n",
       "    .dataframe tbody tr th {\n",
       "        vertical-align: top;\n",
       "    }\n",
       "\n",
       "    .dataframe thead th {\n",
       "        text-align: right;\n",
       "    }\n",
       "</style>\n",
       "<table border=\"1\" class=\"dataframe\">\n",
       "  <thead>\n",
       "    <tr style=\"text-align: right;\">\n",
       "      <th></th>\n",
       "      <th>chromosome</th>\n",
       "      <th>geneid</th>\n",
       "      <th>transcriptid</th>\n",
       "      <th>start</th>\n",
       "      <th>end</th>\n",
       "      <th>type</th>\n",
       "    </tr>\n",
       "  </thead>\n",
       "  <tbody>\n",
       "    <tr>\n",
       "      <th>112692</th>\n",
       "      <td>NC_000001.11</td>\n",
       "      <td>GeneID:55974</td>\n",
       "      <td>XM_047425465.1</td>\n",
       "      <td>2215</td>\n",
       "      <td>2279</td>\n",
       "      <td>intron-small</td>\n",
       "    </tr>\n",
       "    <tr>\n",
       "      <th>4987</th>\n",
       "      <td>NC_000001.11</td>\n",
       "      <td>GeneID:124903828</td>\n",
       "      <td>XM_047436627.1</td>\n",
       "      <td>27191</td>\n",
       "      <td>27255</td>\n",
       "      <td>intron-small</td>\n",
       "    </tr>\n",
       "    <tr>\n",
       "      <th>112683</th>\n",
       "      <td>NC_000001.11</td>\n",
       "      <td>GeneID:55974</td>\n",
       "      <td>XM_006711453.3</td>\n",
       "      <td>2215</td>\n",
       "      <td>2279</td>\n",
       "      <td>intron-small</td>\n",
       "    </tr>\n",
       "    <tr>\n",
       "      <th>9316</th>\n",
       "      <td>NC_000001.11</td>\n",
       "      <td>GeneID:8863</td>\n",
       "      <td>NM_001289863.3</td>\n",
       "      <td>45629</td>\n",
       "      <td>45693</td>\n",
       "      <td>intron-small</td>\n",
       "    </tr>\n",
       "    <tr>\n",
       "      <th>9316</th>\n",
       "      <td>NC_000001.11</td>\n",
       "      <td>GeneID:8863</td>\n",
       "      <td>NM_001289863.3</td>\n",
       "      <td>45629</td>\n",
       "      <td>45693</td>\n",
       "      <td>intron-small</td>\n",
       "    </tr>\n",
       "  </tbody>\n",
       "</table>\n",
       "</div>"
      ],
      "text/plain": [
       "          chromosome            geneid    transcriptid  start    end   \n",
       "112692  NC_000001.11      GeneID:55974  XM_047425465.1   2215   2279  \\\n",
       "4987    NC_000001.11  GeneID:124903828  XM_047436627.1  27191  27255   \n",
       "112683  NC_000001.11      GeneID:55974  XM_006711453.3   2215   2279   \n",
       "9316    NC_000001.11       GeneID:8863  NM_001289863.3  45629  45693   \n",
       "9316    NC_000001.11       GeneID:8863  NM_001289863.3  45629  45693   \n",
       "\n",
       "                type  \n",
       "112692  intron-small  \n",
       "4987    intron-small  \n",
       "112683  intron-small  \n",
       "9316    intron-small  \n",
       "9316    intron-small  "
      ]
     },
     "execution_count": 19,
     "metadata": {},
     "output_type": "execute_result"
    }
   ],
   "source": [
    "#| hide\n",
    "example_sample_introns = sample_introns(intron_locations, int(training_instance_target * proportion_intron), random_state=random_state)\n",
    "example_sample_introns.head()"
   ]
  },
  {
   "cell_type": "code",
   "execution_count": 20,
   "metadata": {},
   "outputs": [
    {
     "data": {
      "text/plain": [
       "array([64])"
      ]
     },
     "execution_count": 20,
     "metadata": {},
     "output_type": "execute_result"
    }
   ],
   "source": [
    "#| hide\n",
    "(example_sample_introns.end - example_sample_introns.start).unique()"
   ]
  },
  {
   "cell_type": "code",
   "execution_count": 21,
   "metadata": {},
   "outputs": [
    {
     "data": {
      "text/html": [
       "<div>\n",
       "<style scoped>\n",
       "    .dataframe tbody tr th:only-of-type {\n",
       "        vertical-align: middle;\n",
       "    }\n",
       "\n",
       "    .dataframe tbody tr th {\n",
       "        vertical-align: top;\n",
       "    }\n",
       "\n",
       "    .dataframe thead th {\n",
       "        text-align: right;\n",
       "    }\n",
       "</style>\n",
       "<table border=\"1\" class=\"dataframe\">\n",
       "  <thead>\n",
       "    <tr style=\"text-align: right;\">\n",
       "      <th></th>\n",
       "      <th>geneid</th>\n",
       "      <th>transcriptid</th>\n",
       "      <th>intron_start</th>\n",
       "      <th>intron_end</th>\n",
       "      <th>mrna_start</th>\n",
       "      <th>mrna_end</th>\n",
       "      <th>chromosome</th>\n",
       "    </tr>\n",
       "  </thead>\n",
       "  <tbody>\n",
       "    <tr>\n",
       "      <th>0</th>\n",
       "      <td>GeneID:79501</td>\n",
       "      <td>NM_001005484.2</td>\n",
       "      <td>15</td>\n",
       "      <td>101</td>\n",
       "      <td>0</td>\n",
       "      <td>6167</td>\n",
       "      <td>NC_000001.11</td>\n",
       "    </tr>\n",
       "    <tr>\n",
       "      <th>1</th>\n",
       "      <td>GeneID:79501</td>\n",
       "      <td>NM_001005484.2</td>\n",
       "      <td>155</td>\n",
       "      <td>3618</td>\n",
       "      <td>0</td>\n",
       "      <td>6167</td>\n",
       "      <td>NC_000001.11</td>\n",
       "    </tr>\n",
       "    <tr>\n",
       "      <th>2</th>\n",
       "      <td>GeneID:112268260</td>\n",
       "      <td>XM_047436352.1</td>\n",
       "      <td>186</td>\n",
       "      <td>547</td>\n",
       "      <td>0</td>\n",
       "      <td>17102</td>\n",
       "      <td>NC_000001.11</td>\n",
       "    </tr>\n",
       "    <tr>\n",
       "      <th>3</th>\n",
       "      <td>GeneID:112268260</td>\n",
       "      <td>XM_047436352.1</td>\n",
       "      <td>1339</td>\n",
       "      <td>2365</td>\n",
       "      <td>0</td>\n",
       "      <td>17102</td>\n",
       "      <td>NC_000001.11</td>\n",
       "    </tr>\n",
       "    <tr>\n",
       "      <th>4</th>\n",
       "      <td>GeneID:112268260</td>\n",
       "      <td>XM_047436352.1</td>\n",
       "      <td>2467</td>\n",
       "      <td>8912</td>\n",
       "      <td>0</td>\n",
       "      <td>17102</td>\n",
       "      <td>NC_000001.11</td>\n",
       "    </tr>\n",
       "  </tbody>\n",
       "</table>\n",
       "</div>"
      ],
      "text/plain": [
       "             geneid    transcriptid  intron_start  intron_end  mrna_start   \n",
       "0      GeneID:79501  NM_001005484.2            15         101           0  \\\n",
       "1      GeneID:79501  NM_001005484.2           155        3618           0   \n",
       "2  GeneID:112268260  XM_047436352.1           186         547           0   \n",
       "3  GeneID:112268260  XM_047436352.1          1339        2365           0   \n",
       "4  GeneID:112268260  XM_047436352.1          2467        8912           0   \n",
       "\n",
       "   mrna_end    chromosome  \n",
       "0      6167  NC_000001.11  \n",
       "1      6167  NC_000001.11  \n",
       "2     17102  NC_000001.11  \n",
       "3     17102  NC_000001.11  \n",
       "4     17102  NC_000001.11  "
      ]
     },
     "execution_count": 21,
     "metadata": {},
     "output_type": "execute_result"
    }
   ],
   "source": [
    "#| hide\n",
    "intron_locations.head(5)"
   ]
  },
  {
   "cell_type": "code",
   "execution_count": 22,
   "metadata": {},
   "outputs": [
    {
     "data": {
      "text/html": [
       "<div>\n",
       "<style scoped>\n",
       "    .dataframe tbody tr th:only-of-type {\n",
       "        vertical-align: middle;\n",
       "    }\n",
       "\n",
       "    .dataframe tbody tr th {\n",
       "        vertical-align: top;\n",
       "    }\n",
       "\n",
       "    .dataframe thead th {\n",
       "        text-align: right;\n",
       "    }\n",
       "</style>\n",
       "<table border=\"1\" class=\"dataframe\">\n",
       "  <thead>\n",
       "    <tr style=\"text-align: right;\">\n",
       "      <th></th>\n",
       "      <th>geneid</th>\n",
       "      <th>transcriptid</th>\n",
       "      <th>intron_start</th>\n",
       "      <th>intron_end</th>\n",
       "      <th>mrna_start</th>\n",
       "      <th>mrna_end</th>\n",
       "      <th>chromosome</th>\n",
       "      <th>mrna_seq_start</th>\n",
       "      <th>mrna_seq_end</th>\n",
       "    </tr>\n",
       "  </thead>\n",
       "  <tbody>\n",
       "    <tr>\n",
       "      <th>166694</th>\n",
       "      <td>GeneID:10000</td>\n",
       "      <td>NM_001206729.2</td>\n",
       "      <td>41</td>\n",
       "      <td>302</td>\n",
       "      <td>7495</td>\n",
       "      <td>351356</td>\n",
       "      <td>NC_000001.11</td>\n",
       "      <td>7495</td>\n",
       "      <td>7536</td>\n",
       "    </tr>\n",
       "    <tr>\n",
       "      <th>166695</th>\n",
       "      <td>GeneID:10000</td>\n",
       "      <td>NM_001206729.2</td>\n",
       "      <td>460</td>\n",
       "      <td>147868</td>\n",
       "      <td>7495</td>\n",
       "      <td>351356</td>\n",
       "      <td>NC_000001.11</td>\n",
       "      <td>7797</td>\n",
       "      <td>7955</td>\n",
       "    </tr>\n",
       "    <tr>\n",
       "      <th>166696</th>\n",
       "      <td>GeneID:10000</td>\n",
       "      <td>NM_001206729.2</td>\n",
       "      <td>147994</td>\n",
       "      <td>178701</td>\n",
       "      <td>7495</td>\n",
       "      <td>351356</td>\n",
       "      <td>NC_000001.11</td>\n",
       "      <td>155363</td>\n",
       "      <td>155489</td>\n",
       "    </tr>\n",
       "  </tbody>\n",
       "</table>\n",
       "</div>"
      ],
      "text/plain": [
       "              geneid    transcriptid  intron_start  intron_end  mrna_start   \n",
       "166694  GeneID:10000  NM_001206729.2            41         302        7495  \\\n",
       "166695  GeneID:10000  NM_001206729.2           460      147868        7495   \n",
       "166696  GeneID:10000  NM_001206729.2        147994      178701        7495   \n",
       "\n",
       "        mrna_end    chromosome  mrna_seq_start  mrna_seq_end  \n",
       "166694    351356  NC_000001.11            7495          7536  \n",
       "166695    351356  NC_000001.11            7797          7955  \n",
       "166696    351356  NC_000001.11          155363        155489  "
      ]
     },
     "metadata": {},
     "output_type": "display_data"
    },
    {
     "data": {
      "text/html": [
       "<div>\n",
       "<style scoped>\n",
       "    .dataframe tbody tr th:only-of-type {\n",
       "        vertical-align: middle;\n",
       "    }\n",
       "\n",
       "    .dataframe tbody tr th {\n",
       "        vertical-align: top;\n",
       "    }\n",
       "\n",
       "    .dataframe thead th {\n",
       "        text-align: right;\n",
       "    }\n",
       "</style>\n",
       "<table border=\"1\" class=\"dataframe\">\n",
       "  <thead>\n",
       "    <tr style=\"text-align: right;\">\n",
       "      <th></th>\n",
       "      <th>geneid</th>\n",
       "      <th>transcriptid</th>\n",
       "      <th>intron_start</th>\n",
       "      <th>intron_end</th>\n",
       "      <th>mrna_start</th>\n",
       "      <th>mrna_end</th>\n",
       "      <th>chromosome</th>\n",
       "      <th>mrna_seq_start</th>\n",
       "      <th>mrna_seq_end</th>\n",
       "    </tr>\n",
       "  </thead>\n",
       "  <tbody>\n",
       "    <tr>\n",
       "      <th>166706</th>\n",
       "      <td>GeneID:10000</td>\n",
       "      <td>NM_001206729.2</td>\n",
       "      <td>331261</td>\n",
       "      <td>343798</td>\n",
       "      <td>7495</td>\n",
       "      <td>351356</td>\n",
       "      <td>NC_000001.11</td>\n",
       "      <td>343798</td>\n",
       "      <td>351356</td>\n",
       "    </tr>\n",
       "    <tr>\n",
       "      <th>166602</th>\n",
       "      <td>GeneID:10000</td>\n",
       "      <td>NM_001370074.1</td>\n",
       "      <td>338756</td>\n",
       "      <td>345745</td>\n",
       "      <td>0</td>\n",
       "      <td>351356</td>\n",
       "      <td>NC_000001.11</td>\n",
       "      <td>345745</td>\n",
       "      <td>351356</td>\n",
       "    </tr>\n",
       "    <tr>\n",
       "      <th>166693</th>\n",
       "      <td>GeneID:10000</td>\n",
       "      <td>NM_005465.7</td>\n",
       "      <td>337920</td>\n",
       "      <td>344909</td>\n",
       "      <td>836</td>\n",
       "      <td>351356</td>\n",
       "      <td>NC_000001.11</td>\n",
       "      <td>344909</td>\n",
       "      <td>351356</td>\n",
       "    </tr>\n",
       "  </tbody>\n",
       "</table>\n",
       "</div>"
      ],
      "text/plain": [
       "              geneid    transcriptid  intron_start  intron_end  mrna_start   \n",
       "166706  GeneID:10000  NM_001206729.2        331261      343798        7495  \\\n",
       "166602  GeneID:10000  NM_001370074.1        338756      345745           0   \n",
       "166693  GeneID:10000     NM_005465.7        337920      344909         836   \n",
       "\n",
       "        mrna_end    chromosome  mrna_seq_start  mrna_seq_end  \n",
       "166706    351356  NC_000001.11          343798        351356  \n",
       "166602    351356  NC_000001.11          345745        351356  \n",
       "166693    351356  NC_000001.11          344909        351356  "
      ]
     },
     "metadata": {},
     "output_type": "display_data"
    },
    {
     "data": {
      "text/html": [
       "<div>\n",
       "<style scoped>\n",
       "    .dataframe tbody tr th:only-of-type {\n",
       "        vertical-align: middle;\n",
       "    }\n",
       "\n",
       "    .dataframe tbody tr th {\n",
       "        vertical-align: top;\n",
       "    }\n",
       "\n",
       "    .dataframe thead th {\n",
       "        text-align: right;\n",
       "    }\n",
       "</style>\n",
       "<table border=\"1\" class=\"dataframe\">\n",
       "  <thead>\n",
       "    <tr style=\"text-align: right;\">\n",
       "      <th></th>\n",
       "      <th>geneid</th>\n",
       "      <th>transcriptid</th>\n",
       "      <th>intron_start</th>\n",
       "      <th>intron_end</th>\n",
       "      <th>mrna_start</th>\n",
       "      <th>mrna_end</th>\n",
       "      <th>chromosome</th>\n",
       "      <th>mrna_seq_start</th>\n",
       "      <th>mrna_seq_end</th>\n",
       "    </tr>\n",
       "  </thead>\n",
       "  <tbody>\n",
       "    <tr>\n",
       "      <th>0</th>\n",
       "      <td>GeneID:10000</td>\n",
       "      <td>NM_001206729.2</td>\n",
       "      <td>41</td>\n",
       "      <td>302</td>\n",
       "      <td>7495</td>\n",
       "      <td>351356</td>\n",
       "      <td>NC_000001.11</td>\n",
       "      <td>7495</td>\n",
       "      <td>7536</td>\n",
       "    </tr>\n",
       "    <tr>\n",
       "      <th>1</th>\n",
       "      <td>GeneID:10000</td>\n",
       "      <td>NM_001206729.2</td>\n",
       "      <td>460</td>\n",
       "      <td>147868</td>\n",
       "      <td>7495</td>\n",
       "      <td>351356</td>\n",
       "      <td>NC_000001.11</td>\n",
       "      <td>7797</td>\n",
       "      <td>7955</td>\n",
       "    </tr>\n",
       "    <tr>\n",
       "      <th>2</th>\n",
       "      <td>GeneID:10000</td>\n",
       "      <td>NM_001206729.2</td>\n",
       "      <td>147994</td>\n",
       "      <td>178701</td>\n",
       "      <td>7495</td>\n",
       "      <td>351356</td>\n",
       "      <td>NC_000001.11</td>\n",
       "      <td>155363</td>\n",
       "      <td>155489</td>\n",
       "    </tr>\n",
       "  </tbody>\n",
       "</table>\n",
       "</div>"
      ],
      "text/plain": [
       "         geneid    transcriptid  intron_start  intron_end  mrna_start   \n",
       "0  GeneID:10000  NM_001206729.2            41         302        7495  \\\n",
       "1  GeneID:10000  NM_001206729.2           460      147868        7495   \n",
       "2  GeneID:10000  NM_001206729.2        147994      178701        7495   \n",
       "\n",
       "   mrna_end    chromosome  mrna_seq_start  mrna_seq_end  \n",
       "0    351356  NC_000001.11            7495          7536  \n",
       "1    351356  NC_000001.11            7797          7955  \n",
       "2    351356  NC_000001.11          155363        155489  "
      ]
     },
     "execution_count": 22,
     "metadata": {},
     "output_type": "execute_result"
    }
   ],
   "source": [
    "#| hide\n",
    "intron_locations_sample = intron_locations.sort_values(['chromosome', 'geneid', 'transcriptid']).head(50)\n",
    "intron_locations_sample_grouped = intron_locations_sample.groupby(\n",
    "        ['chromosome', 'geneid', 'transcriptid']\n",
    ")\n",
    "intron_locations_sample.loc[:, 'mrna_seq_start'] = (\n",
    "    intron_locations_sample_grouped.intron_end.shift(1).fillna(0) + \\\n",
    "        intron_locations_sample.mrna_start\n",
    ").astype(int)\n",
    "intron_locations_sample.loc[:, 'mrna_seq_end'] = intron_locations_sample.intron_start + \\\n",
    "        intron_locations_sample.mrna_start\n",
    "display(intron_locations_sample.head(3))\n",
    "# Add last sequence of mRNA from last intron\n",
    "intron_locations_sample_last_intron = intron_locations_sample_grouped.tail(1)\n",
    "intron_locations_sample_last_intron.loc[:, 'mrna_seq_start'] = intron_locations_sample_last_intron.intron_end\n",
    "intron_locations_sample_last_intron.loc[:, 'mrna_seq_end'] = intron_locations_sample_last_intron.mrna_end\n",
    "display(intron_locations_sample_last_intron.head(3))\n",
    "intron_locations_sample_mrna_locations = pd.concat(\n",
    "    [\n",
    "        intron_locations_sample,\n",
    "        intron_locations_sample_last_intron\n",
    "    ], axis=0, ignore_index=True\n",
    "    ).sort_values(\n",
    "        ['chromosome', 'geneid', 'transcriptid']).reset_index(drop=True)\n",
    "intron_locations_sample_mrna_locations.head(3)"
   ]
  },
  {
   "cell_type": "code",
   "execution_count": 23,
   "metadata": {},
   "outputs": [],
   "source": [
    "#| export\n",
    "def sample_mrna(\n",
    "        mrna_locations: pd.DataFrame, n: int, \n",
    "        random_state: int = 42, length: int = 64) -> pd.DataFrame:\n",
    "    \"Get a sample or mrna sequence locations\"\n",
    "    replace = False if n < mrna_locations.shape[0] else True\n",
    "    mrna_locations = mrna_locations.sample(n, replace=replace, random_state=random_state)\n",
    "    # For small mrna sections, do the same thing we did with the introns\n",
    "    # Handle sequences of varying sizes\n",
    "    mrna_locations.loc[:, 'length'] = mrna_locations.end - mrna_locations.start\n",
    "    mrna_len_mask = mrna_locations.length <= length\n",
    "    small_sequences = mrna_locations[mrna_len_mask]\n",
    "    large_sequences = mrna_locations[~mrna_len_mask]\n",
    "    sample_frames = []\n",
    "    if small_sequences.shape[0] > 0:\n",
    "        # For those introns less than length, center, return the whole thing\n",
    "        # Start at intron start\n",
    "        small_sequences_slice_center = small_sequences.start\n",
    "        # Shift slice center half the distance of the target sequence\n",
    "        small_sequences_slice_center = small_sequences_slice_center.subtract(int(length / 2)).apply(lambda val: max(0, val))\n",
    "        small_sequences.loc[:, 'start'] = small_sequences_slice_center\n",
    "        small_sequences.loc[:, 'end'] = small_sequences.start + length\n",
    "        small_sequences.loc[:, 'end'] = small_sequences[['end', 'mrna_end']].min(axis=1)\n",
    "        small_sequences = small_sequences[['chromosome', 'geneid', 'transcriptid', 'start', 'end']]\n",
    "        small_sequences.loc[:, 'type'] = 'mrna-small'\n",
    "        sample_frames.append(small_sequences)\n",
    "    if large_sequences.shape[0] > 0:\n",
    "        # For larger introns, identify the range we can slice to avoid edges\n",
    "        large_sequences.loc[:, 'slice_max'] = large_sequences.end - length\n",
    "        large_sequences.loc[:, 'slice_range'] = large_sequences.apply(lambda row: range(row.start, row.slice_max + 1, 1), axis=1)\n",
    "        large_sequences.loc[:, 'start'] = large_sequences.slice_range.apply(lambda r: random.choice(r))\n",
    "        large_sequences.loc[:, 'end'] = large_sequences.start + length\n",
    "        large_sequences = large_sequences[['chromosome', 'geneid', 'transcriptid', 'start', 'end']]\n",
    "        large_sequences.loc[:, 'type'] = 'mrna'\n",
    "        sample_frames.append(large_sequences)\n",
    "    # Randomly select a slice point within the identified range\n",
    "    return pd.concat(sample_frames, axis=0, ignore_index=True)"
   ]
  },
  {
   "cell_type": "code",
   "execution_count": 24,
   "metadata": {},
   "outputs": [],
   "source": [
    "#| hide\n",
    "mrna_locations = get_mrna_locations(intron_locations)"
   ]
  },
  {
   "cell_type": "code",
   "execution_count": 25,
   "metadata": {},
   "outputs": [
    {
     "data": {
      "text/html": [
       "<div>\n",
       "<style scoped>\n",
       "    .dataframe tbody tr th:only-of-type {\n",
       "        vertical-align: middle;\n",
       "    }\n",
       "\n",
       "    .dataframe tbody tr th {\n",
       "        vertical-align: top;\n",
       "    }\n",
       "\n",
       "    .dataframe thead th {\n",
       "        text-align: right;\n",
       "    }\n",
       "</style>\n",
       "<table border=\"1\" class=\"dataframe\">\n",
       "  <thead>\n",
       "    <tr style=\"text-align: right;\">\n",
       "      <th></th>\n",
       "      <th>chromosome</th>\n",
       "      <th>geneid</th>\n",
       "      <th>transcriptid</th>\n",
       "      <th>start</th>\n",
       "      <th>end</th>\n",
       "      <th>type</th>\n",
       "    </tr>\n",
       "  </thead>\n",
       "  <tbody>\n",
       "    <tr>\n",
       "      <th>0</th>\n",
       "      <td>NC_000001.11</td>\n",
       "      <td>GeneID:55740</td>\n",
       "      <td>XM_024448311.2</td>\n",
       "      <td>154687</td>\n",
       "      <td>154751</td>\n",
       "      <td>mrna-small</td>\n",
       "    </tr>\n",
       "    <tr>\n",
       "      <th>1</th>\n",
       "      <td>NC_000001.11</td>\n",
       "      <td>GeneID:405</td>\n",
       "      <td>XM_005245153.2</td>\n",
       "      <td>30260</td>\n",
       "      <td>30324</td>\n",
       "      <td>mrna-small</td>\n",
       "    </tr>\n",
       "    <tr>\n",
       "      <th>2</th>\n",
       "      <td>NC_000001.11</td>\n",
       "      <td>GeneID:5909</td>\n",
       "      <td>NM_001388231.1</td>\n",
       "      <td>51353</td>\n",
       "      <td>51417</td>\n",
       "      <td>mrna-small</td>\n",
       "    </tr>\n",
       "    <tr>\n",
       "      <th>3</th>\n",
       "      <td>NC_000001.11</td>\n",
       "      <td>GeneID:5909</td>\n",
       "      <td>NM_001388295.1</td>\n",
       "      <td>38637</td>\n",
       "      <td>38701</td>\n",
       "      <td>mrna-small</td>\n",
       "    </tr>\n",
       "    <tr>\n",
       "      <th>4</th>\n",
       "      <td>NC_000001.11</td>\n",
       "      <td>GeneID:353134</td>\n",
       "      <td>NM_178352.3</td>\n",
       "      <td>0</td>\n",
       "      <td>64</td>\n",
       "      <td>mrna-small</td>\n",
       "    </tr>\n",
       "  </tbody>\n",
       "</table>\n",
       "</div>"
      ],
      "text/plain": [
       "     chromosome         geneid    transcriptid   start     end        type\n",
       "0  NC_000001.11   GeneID:55740  XM_024448311.2  154687  154751  mrna-small\n",
       "1  NC_000001.11     GeneID:405  XM_005245153.2   30260   30324  mrna-small\n",
       "2  NC_000001.11    GeneID:5909  NM_001388231.1   51353   51417  mrna-small\n",
       "3  NC_000001.11    GeneID:5909  NM_001388295.1   38637   38701  mrna-small\n",
       "4  NC_000001.11  GeneID:353134     NM_178352.3       0      64  mrna-small"
      ]
     },
     "execution_count": 25,
     "metadata": {},
     "output_type": "execute_result"
    }
   ],
   "source": [
    "#| hide\n",
    "example_sample_mrna = sample_mrna(mrna_locations, int(proportion_mrna * training_instance_target))\n",
    "example_sample_mrna.head()"
   ]
  },
  {
   "cell_type": "code",
   "execution_count": 26,
   "metadata": {},
   "outputs": [],
   "source": [
    "#| export\n",
    "def sample_mrna_edges(locations: pd.DataFrame, n: int, random_state: int = 42, length: int = 64) -> pd.DataFrame:\n",
    "    \"Get the beginning and end of mrna\"\n",
    "    locations = locations.drop_duplicates(\n",
    "        ['chromosome', 'geneid', 'transcriptid', 'mrna_start', 'mrna_end']\n",
    "    ).drop(['intron_start', 'intron_end'], axis=1).reset_index(drop=True)\n",
    "    n_start = int(n / 2)\n",
    "    n_end = n - n_start\n",
    "    replace = False if (n_start < locations.shape[0]) or (n_end < locations.shape[0]) else True\n",
    "    mrna_starts = locations.sample(\n",
    "        n_start, replace=replace, random_state=random_state\n",
    "        ).rename({'mrna_start': 'start'}, axis=1)\n",
    "    mrna_starts.loc[:, 'end'] = mrna_starts.start + length\n",
    "    mrna_starts.loc[:, 'end'] = mrna_starts[['mrna_end', 'end']].min(axis=1)\n",
    "    mrna_starts.drop(['mrna_end'], axis=1, inplace=True)\n",
    "    mrna_ends = locations.sample(\n",
    "        n_end, replace=replace, random_state=random_state).rename({'mrna_end': 'end'}, axis=1)\n",
    "    mrna_ends.loc[:, 'start'] = mrna_ends.end - length\n",
    "    mrna_ends.loc[:, 'start'] = mrna_ends[['mrna_start', 'start']].max(axis=1)\n",
    "    mrna_ends.drop(['mrna_start'], axis=1, inplace=True)\n",
    "    sample_edges = pd.concat([mrna_starts, mrna_ends], axis=0, ignore_index=True)\n",
    "    sample_edges = sample_edges[['chromosome', 'geneid', 'transcriptid', 'start', 'end']]\n",
    "    sample_edges.loc[:, 'type'] = 'mrna-edge'\n",
    "    return sample_edges"
   ]
  },
  {
   "cell_type": "code",
   "execution_count": 27,
   "metadata": {},
   "outputs": [
    {
     "data": {
      "text/html": [
       "<div>\n",
       "<style scoped>\n",
       "    .dataframe tbody tr th:only-of-type {\n",
       "        vertical-align: middle;\n",
       "    }\n",
       "\n",
       "    .dataframe tbody tr th {\n",
       "        vertical-align: top;\n",
       "    }\n",
       "\n",
       "    .dataframe thead th {\n",
       "        text-align: right;\n",
       "    }\n",
       "</style>\n",
       "<table border=\"1\" class=\"dataframe\">\n",
       "  <thead>\n",
       "    <tr style=\"text-align: right;\">\n",
       "      <th></th>\n",
       "      <th>chromosome</th>\n",
       "      <th>geneid</th>\n",
       "      <th>transcriptid</th>\n",
       "      <th>start</th>\n",
       "      <th>end</th>\n",
       "      <th>type</th>\n",
       "    </tr>\n",
       "  </thead>\n",
       "  <tbody>\n",
       "    <tr>\n",
       "      <th>0</th>\n",
       "      <td>NC_000001.11</td>\n",
       "      <td>GeneID:9659</td>\n",
       "      <td>NM_001395320.1</td>\n",
       "      <td>36075</td>\n",
       "      <td>36139</td>\n",
       "      <td>mrna-edge</td>\n",
       "    </tr>\n",
       "    <tr>\n",
       "      <th>1</th>\n",
       "      <td>NC_000001.11</td>\n",
       "      <td>GeneID:5293</td>\n",
       "      <td>XM_047422571.1</td>\n",
       "      <td>24473</td>\n",
       "      <td>24537</td>\n",
       "      <td>mrna-edge</td>\n",
       "    </tr>\n",
       "    <tr>\n",
       "      <th>2</th>\n",
       "      <td>NC_000001.11</td>\n",
       "      <td>GeneID:11080</td>\n",
       "      <td>NM_007034.5</td>\n",
       "      <td>25764</td>\n",
       "      <td>25828</td>\n",
       "      <td>mrna-edge</td>\n",
       "    </tr>\n",
       "    <tr>\n",
       "      <th>3</th>\n",
       "      <td>NC_000001.11</td>\n",
       "      <td>GeneID:81573</td>\n",
       "      <td>NM_030816.5</td>\n",
       "      <td>0</td>\n",
       "      <td>64</td>\n",
       "      <td>mrna-edge</td>\n",
       "    </tr>\n",
       "    <tr>\n",
       "      <th>4</th>\n",
       "      <td>NC_000001.11</td>\n",
       "      <td>GeneID:116841</td>\n",
       "      <td>XM_017000232.2</td>\n",
       "      <td>463</td>\n",
       "      <td>527</td>\n",
       "      <td>mrna-edge</td>\n",
       "    </tr>\n",
       "  </tbody>\n",
       "</table>\n",
       "</div>"
      ],
      "text/plain": [
       "     chromosome         geneid    transcriptid  start    end       type\n",
       "0  NC_000001.11    GeneID:9659  NM_001395320.1  36075  36139  mrna-edge\n",
       "1  NC_000001.11    GeneID:5293  XM_047422571.1  24473  24537  mrna-edge\n",
       "2  NC_000001.11   GeneID:11080     NM_007034.5  25764  25828  mrna-edge\n",
       "3  NC_000001.11   GeneID:81573     NM_030816.5      0     64  mrna-edge\n",
       "4  NC_000001.11  GeneID:116841  XM_017000232.2    463    527  mrna-edge"
      ]
     },
     "execution_count": 27,
     "metadata": {},
     "output_type": "execute_result"
    }
   ],
   "source": [
    "#| hide\n",
    "example_sample_mrna_edges = sample_mrna_edges(intron_locations, int(proportion_mrna_edge * training_instance_target))\n",
    "example_sample_mrna_edges.head()"
   ]
  },
  {
   "cell_type": "code",
   "execution_count": 28,
   "metadata": {},
   "outputs": [],
   "source": [
    "#| export\n",
    "def sample_sequences_idx(\n",
    "        n: int, \n",
    "        intron_locations: pd.DataFrame,\n",
    "        mrna_locations: pd.DataFrame,\n",
    "        intron_prop: float, intron_edge_prop: float, \n",
    "        mrna_prop: float, mrna_edge_prop: float,\n",
    "        random_state: int = 42,\n",
    "        length: int = 64) -> pd.DataFrame:\n",
    "    \"Build training dataset from intron locations.\"\n",
    "    intron_sample = sample_introns(\n",
    "        intron_locations, int(n * intron_prop), \n",
    "        random_state=random_state, length=length)\n",
    "    intron_edge_sample = sample_intron_edges(\n",
    "        intron_locations, int(n * intron_edge_prop), \n",
    "        random_state=random_state, length=length)\n",
    "    mrna_sample = sample_mrna(mrna_locations, int(n * mrna_prop), \n",
    "        random_state=random_state, length=length)\n",
    "    mrna_edge_sample = sample_mrna_edges(intron_locations, int(n * mrna_edge_prop),\n",
    "        random_state=random_state, length=length)\n",
    "    sample = pd.concat([\n",
    "        intron_sample,\n",
    "        intron_edge_sample,\n",
    "        mrna_sample,\n",
    "        mrna_edge_sample\n",
    "    ], axis=0, ignore_index=True)\n",
    "    return sample"
   ]
  },
  {
   "cell_type": "code",
   "execution_count": 29,
   "metadata": {},
   "outputs": [
    {
     "data": {
      "text/plain": [
       "type\n",
       "intron         125\n",
       "intron-edge    125\n",
       "mrna-edge      125\n",
       "mrna           114\n",
       "mrna-small      11\n",
       "Name: count, dtype: int64"
      ]
     },
     "execution_count": 29,
     "metadata": {},
     "output_type": "execute_result"
    }
   ],
   "source": [
    "#| hide\n",
    "example_sample_sequence_idx = sample_sequences_idx(\n",
    "    500,\n",
    "    intron_locations,\n",
    "    mrna_locations,\n",
    "    intron_prop=proportion_intron,\n",
    "    intron_edge_prop=proportion_intron_edge,\n",
    "    mrna_prop=proportion_mrna,\n",
    "    mrna_edge_prop=proportion_mrna_edge,\n",
    "    random_state=random_state,\n",
    ")\n",
    "example_sample_sequence_idx['type'].value_counts()"
   ]
  },
  {
   "cell_type": "code",
   "execution_count": 30,
   "metadata": {},
   "outputs": [
    {
     "data": {
      "text/html": [
       "<div>\n",
       "<style scoped>\n",
       "    .dataframe tbody tr th:only-of-type {\n",
       "        vertical-align: middle;\n",
       "    }\n",
       "\n",
       "    .dataframe tbody tr th {\n",
       "        vertical-align: top;\n",
       "    }\n",
       "\n",
       "    .dataframe thead th {\n",
       "        text-align: right;\n",
       "    }\n",
       "</style>\n",
       "<table border=\"1\" class=\"dataframe\">\n",
       "  <thead>\n",
       "    <tr style=\"text-align: right;\">\n",
       "      <th></th>\n",
       "      <th>chromosome</th>\n",
       "      <th>geneid</th>\n",
       "      <th>transcriptid</th>\n",
       "      <th>start</th>\n",
       "      <th>end</th>\n",
       "      <th>type</th>\n",
       "    </tr>\n",
       "  </thead>\n",
       "  <tbody>\n",
       "    <tr>\n",
       "      <th>0</th>\n",
       "      <td>NC_000001.11</td>\n",
       "      <td>GeneID:83872</td>\n",
       "      <td>XM_011510038.4</td>\n",
       "      <td>402874</td>\n",
       "      <td>402938</td>\n",
       "      <td>intron</td>\n",
       "    </tr>\n",
       "    <tr>\n",
       "      <th>1</th>\n",
       "      <td>NC_000001.11</td>\n",
       "      <td>GeneID:84288</td>\n",
       "      <td>NM_001143943.1</td>\n",
       "      <td>7411</td>\n",
       "      <td>7475</td>\n",
       "      <td>intron</td>\n",
       "    </tr>\n",
       "    <tr>\n",
       "      <th>2</th>\n",
       "      <td>NC_000001.11</td>\n",
       "      <td>GeneID:64754</td>\n",
       "      <td>XM_047428021.1</td>\n",
       "      <td>52326</td>\n",
       "      <td>52390</td>\n",
       "      <td>intron</td>\n",
       "    </tr>\n",
       "    <tr>\n",
       "      <th>3</th>\n",
       "      <td>NC_000001.11</td>\n",
       "      <td>GeneID:149483</td>\n",
       "      <td>XM_011540820.2</td>\n",
       "      <td>1312</td>\n",
       "      <td>1376</td>\n",
       "      <td>intron</td>\n",
       "    </tr>\n",
       "    <tr>\n",
       "      <th>4</th>\n",
       "      <td>NC_000001.11</td>\n",
       "      <td>GeneID:57540</td>\n",
       "      <td>XM_011541832.2</td>\n",
       "      <td>40411</td>\n",
       "      <td>40475</td>\n",
       "      <td>intron</td>\n",
       "    </tr>\n",
       "  </tbody>\n",
       "</table>\n",
       "</div>"
      ],
      "text/plain": [
       "     chromosome         geneid    transcriptid   start     end    type\n",
       "0  NC_000001.11   GeneID:83872  XM_011510038.4  402874  402938  intron\n",
       "1  NC_000001.11   GeneID:84288  NM_001143943.1    7411    7475  intron\n",
       "2  NC_000001.11   GeneID:64754  XM_047428021.1   52326   52390  intron\n",
       "3  NC_000001.11  GeneID:149483  XM_011540820.2    1312    1376  intron\n",
       "4  NC_000001.11   GeneID:57540  XM_011541832.2   40411   40475  intron"
      ]
     },
     "execution_count": 30,
     "metadata": {},
     "output_type": "execute_result"
    }
   ],
   "source": [
    "#| hide\n",
    "example_sample_sequence_idx.head()"
   ]
  },
  {
   "cell_type": "code",
   "execution_count": 31,
   "metadata": {},
   "outputs": [],
   "source": [
    "#| export\n",
    "def make_mrna_file_index(mrna_path: Path) -> pd.DataFrame:\n",
    "    \"\"\n",
    "    parquet_files = list(mrna_path.glob(\"*/*.parquet\"))\n",
    "    index_frames = []\n",
    "    for p in parquet_files:\n",
    "        p_chromosome = p.parent.name\n",
    "        p_frame = pd.read_parquet(p, columns=['geneid', 'transcriptid'])\n",
    "        p_frame.loc[:, 'chromosome'] = p_chromosome\n",
    "        p_frame.loc[:, 'path'] = p\n",
    "        index_frames.append(p_frame)\n",
    "    return pd.concat(index_frames, axis=0, ignore_index=True)\n",
    "\n",
    "\n",
    "def get_mrna_file_index(transcription_path: Path) -> dict[tuple[str, str, str], Path]:\n",
    "    \"Get the file a particular mRNA resides in.\"\n",
    "    mrna_index_path = transcription_path / \"mrna_index.csv\"\n",
    "    if not mrna_index_path.exists():\n",
    "        mrna_index = make_mrna_file_index(transcription_path / \"mrna\")\n",
    "        mrna_index.to_csv(mrna_index_path)\n",
    "    else:\n",
    "        mrna_index = pd.read_csv(mrna_index_path)\n",
    "    mrna_index.loc[:, 'path'] = mrna_index.path.apply(Path)\n",
    "    return mrna_index.set_index(['chromosome', 'geneid', 'transcriptid']).path.to_dict()"
   ]
  },
  {
   "cell_type": "code",
   "execution_count": 32,
   "metadata": {},
   "outputs": [
    {
     "data": {
      "text/plain": [
       "129111"
      ]
     },
     "execution_count": 32,
     "metadata": {},
     "output_type": "execute_result"
    }
   ],
   "source": [
    "#| hide\n",
    "mrna_file_index = get_mrna_file_index(transcription_data_path)\n",
    "len(mrna_file_index)"
   ]
  },
  {
   "cell_type": "code",
   "execution_count": 33,
   "metadata": {},
   "outputs": [
    {
     "data": {
      "text/plain": [
       "PosixPath('/mnt/e/Data/llm-mito-scanner-data/data/raw/assemblies/GCF_000001405.40_GRCh38.p14/training/transcription/mrna/NC_000001.11/partition-001.parquet')"
      ]
     },
     "execution_count": 33,
     "metadata": {},
     "output_type": "execute_result"
    }
   ],
   "source": [
    "#| hide\n",
    "mrna_file_index.get((example_chromosome, \"GeneID:79501\", \"NM_001005484.2\"))"
   ]
  },
  {
   "cell_type": "code",
   "execution_count": 34,
   "metadata": {},
   "outputs": [
    {
     "data": {
      "text/plain": [
       "[('NC_000001.11', 'GeneID:79501', 'NM_001005484.2'),\n",
       " ('NC_000001.11', 'GeneID:112268260', 'XM_047436352.1')]"
      ]
     },
     "execution_count": 34,
     "metadata": {},
     "output_type": "execute_result"
    }
   ],
   "source": [
    "list(mrna_file_index.keys())[:2]"
   ]
  },
  {
   "cell_type": "code",
   "execution_count": 35,
   "metadata": {},
   "outputs": [
    {
     "data": {
      "text/html": [
       "<div>\n",
       "<style scoped>\n",
       "    .dataframe tbody tr th:only-of-type {\n",
       "        vertical-align: middle;\n",
       "    }\n",
       "\n",
       "    .dataframe tbody tr th {\n",
       "        vertical-align: top;\n",
       "    }\n",
       "\n",
       "    .dataframe thead th {\n",
       "        text-align: right;\n",
       "    }\n",
       "</style>\n",
       "<table border=\"1\" class=\"dataframe\">\n",
       "  <thead>\n",
       "    <tr style=\"text-align: right;\">\n",
       "      <th></th>\n",
       "      <th>chromosome</th>\n",
       "      <th>geneid</th>\n",
       "      <th>transcriptid</th>\n",
       "      <th>start</th>\n",
       "      <th>end</th>\n",
       "      <th>type</th>\n",
       "      <th>mrna_partition</th>\n",
       "    </tr>\n",
       "  </thead>\n",
       "  <tbody>\n",
       "    <tr>\n",
       "      <th>0</th>\n",
       "      <td>NC_000001.11</td>\n",
       "      <td>GeneID:83872</td>\n",
       "      <td>XM_011510038.4</td>\n",
       "      <td>402874</td>\n",
       "      <td>402938</td>\n",
       "      <td>intron</td>\n",
       "      <td>/mnt/e/Data/llm-mito-scanner-data/data/raw/ass...</td>\n",
       "    </tr>\n",
       "    <tr>\n",
       "      <th>1</th>\n",
       "      <td>NC_000001.11</td>\n",
       "      <td>GeneID:84288</td>\n",
       "      <td>NM_001143943.1</td>\n",
       "      <td>7411</td>\n",
       "      <td>7475</td>\n",
       "      <td>intron</td>\n",
       "      <td>/mnt/e/Data/llm-mito-scanner-data/data/raw/ass...</td>\n",
       "    </tr>\n",
       "    <tr>\n",
       "      <th>2</th>\n",
       "      <td>NC_000001.11</td>\n",
       "      <td>GeneID:64754</td>\n",
       "      <td>XM_047428021.1</td>\n",
       "      <td>52326</td>\n",
       "      <td>52390</td>\n",
       "      <td>intron</td>\n",
       "      <td>/mnt/e/Data/llm-mito-scanner-data/data/raw/ass...</td>\n",
       "    </tr>\n",
       "    <tr>\n",
       "      <th>3</th>\n",
       "      <td>NC_000001.11</td>\n",
       "      <td>GeneID:149483</td>\n",
       "      <td>XM_011540820.2</td>\n",
       "      <td>1312</td>\n",
       "      <td>1376</td>\n",
       "      <td>intron</td>\n",
       "      <td>/mnt/e/Data/llm-mito-scanner-data/data/raw/ass...</td>\n",
       "    </tr>\n",
       "    <tr>\n",
       "      <th>4</th>\n",
       "      <td>NC_000001.11</td>\n",
       "      <td>GeneID:57540</td>\n",
       "      <td>XM_011541832.2</td>\n",
       "      <td>40411</td>\n",
       "      <td>40475</td>\n",
       "      <td>intron</td>\n",
       "      <td>/mnt/e/Data/llm-mito-scanner-data/data/raw/ass...</td>\n",
       "    </tr>\n",
       "  </tbody>\n",
       "</table>\n",
       "</div>"
      ],
      "text/plain": [
       "     chromosome         geneid    transcriptid   start     end    type   \n",
       "0  NC_000001.11   GeneID:83872  XM_011510038.4  402874  402938  intron  \\\n",
       "1  NC_000001.11   GeneID:84288  NM_001143943.1    7411    7475  intron   \n",
       "2  NC_000001.11   GeneID:64754  XM_047428021.1   52326   52390  intron   \n",
       "3  NC_000001.11  GeneID:149483  XM_011540820.2    1312    1376  intron   \n",
       "4  NC_000001.11   GeneID:57540  XM_011541832.2   40411   40475  intron   \n",
       "\n",
       "                                      mrna_partition  \n",
       "0  /mnt/e/Data/llm-mito-scanner-data/data/raw/ass...  \n",
       "1  /mnt/e/Data/llm-mito-scanner-data/data/raw/ass...  \n",
       "2  /mnt/e/Data/llm-mito-scanner-data/data/raw/ass...  \n",
       "3  /mnt/e/Data/llm-mito-scanner-data/data/raw/ass...  \n",
       "4  /mnt/e/Data/llm-mito-scanner-data/data/raw/ass...  "
      ]
     },
     "execution_count": 35,
     "metadata": {},
     "output_type": "execute_result"
    }
   ],
   "source": [
    "#| hide\n",
    "example_sample_sequence_idx.loc[:, 'mrna_partition'] = example_sample_sequence_idx.apply(\n",
    "    lambda row: mrna_file_index.get((row.chromosome, row.geneid, row.transcriptid)),\n",
    "    axis=1)\n",
    "example_sample_sequence_idx.head()"
   ]
  },
  {
   "cell_type": "code",
   "execution_count": 36,
   "metadata": {},
   "outputs": [],
   "source": [
    "#| export\n",
    "def make_gene_sequence_lookup(\n",
    "        genes: pd.DataFrame) -> dict[tuple[str, str], str]:\n",
    "    return genes.set_index(['chromosome', 'geneid']).sequence.to_dict()\n",
    "\n",
    "\n",
    "def make_mrna_sequence_lookup(\n",
    "        mrna: pd.DataFrame) -> dict[tuple[str, str, str], str]:\n",
    "    return mrna.set_index(['chromosome', 'geneid', 'transcriptid']).mrna.to_dict()"
   ]
  },
  {
   "cell_type": "code",
   "execution_count": 37,
   "metadata": {},
   "outputs": [
    {
     "data": {
      "text/plain": [
       "229"
      ]
     },
     "execution_count": 37,
     "metadata": {},
     "output_type": "execute_result"
    }
   ],
   "source": [
    "#| hide\n",
    "example_chromosome_genes = get_chromosome_genes(latest_assembly_path, example_chromosome)\n",
    "example_chromosome_genes.loc[:, 'chromosome'] = example_chromosome\n",
    "example_chromosome_genes = example_chromosome_genes[\n",
    "    example_chromosome_genes.geneid.isin(\n",
    "        example_sample_sequence_idx.geneid.unique())]\n",
    "example_gene_lookup = make_gene_sequence_lookup(example_chromosome_genes)\n",
    "len(example_gene_lookup)"
   ]
  },
  {
   "cell_type": "code",
   "execution_count": 38,
   "metadata": {},
   "outputs": [
    {
     "data": {
      "text/html": [
       "<div>\n",
       "<style scoped>\n",
       "    .dataframe tbody tr th:only-of-type {\n",
       "        vertical-align: middle;\n",
       "    }\n",
       "\n",
       "    .dataframe tbody tr th {\n",
       "        vertical-align: top;\n",
       "    }\n",
       "\n",
       "    .dataframe thead th {\n",
       "        text-align: right;\n",
       "    }\n",
       "</style>\n",
       "<table border=\"1\" class=\"dataframe\">\n",
       "  <thead>\n",
       "    <tr style=\"text-align: right;\">\n",
       "      <th></th>\n",
       "      <th>chromosome</th>\n",
       "      <th>geneid</th>\n",
       "      <th>transcriptid</th>\n",
       "      <th>start</th>\n",
       "      <th>end</th>\n",
       "      <th>type</th>\n",
       "      <th>mrna_partition</th>\n",
       "    </tr>\n",
       "  </thead>\n",
       "  <tbody>\n",
       "    <tr>\n",
       "      <th>0</th>\n",
       "      <td>NC_000001.11</td>\n",
       "      <td>GeneID:83872</td>\n",
       "      <td>XM_011510038.4</td>\n",
       "      <td>402874</td>\n",
       "      <td>402938</td>\n",
       "      <td>intron</td>\n",
       "      <td>/mnt/e/Data/llm-mito-scanner-data/data/raw/ass...</td>\n",
       "    </tr>\n",
       "    <tr>\n",
       "      <th>1</th>\n",
       "      <td>NC_000001.11</td>\n",
       "      <td>GeneID:84288</td>\n",
       "      <td>NM_001143943.1</td>\n",
       "      <td>7411</td>\n",
       "      <td>7475</td>\n",
       "      <td>intron</td>\n",
       "      <td>/mnt/e/Data/llm-mito-scanner-data/data/raw/ass...</td>\n",
       "    </tr>\n",
       "    <tr>\n",
       "      <th>2</th>\n",
       "      <td>NC_000001.11</td>\n",
       "      <td>GeneID:64754</td>\n",
       "      <td>XM_047428021.1</td>\n",
       "      <td>52326</td>\n",
       "      <td>52390</td>\n",
       "      <td>intron</td>\n",
       "      <td>/mnt/e/Data/llm-mito-scanner-data/data/raw/ass...</td>\n",
       "    </tr>\n",
       "    <tr>\n",
       "      <th>3</th>\n",
       "      <td>NC_000001.11</td>\n",
       "      <td>GeneID:149483</td>\n",
       "      <td>XM_011540820.2</td>\n",
       "      <td>1312</td>\n",
       "      <td>1376</td>\n",
       "      <td>intron</td>\n",
       "      <td>/mnt/e/Data/llm-mito-scanner-data/data/raw/ass...</td>\n",
       "    </tr>\n",
       "    <tr>\n",
       "      <th>4</th>\n",
       "      <td>NC_000001.11</td>\n",
       "      <td>GeneID:57540</td>\n",
       "      <td>XM_011541832.2</td>\n",
       "      <td>40411</td>\n",
       "      <td>40475</td>\n",
       "      <td>intron</td>\n",
       "      <td>/mnt/e/Data/llm-mito-scanner-data/data/raw/ass...</td>\n",
       "    </tr>\n",
       "  </tbody>\n",
       "</table>\n",
       "</div>"
      ],
      "text/plain": [
       "     chromosome         geneid    transcriptid   start     end    type   \n",
       "0  NC_000001.11   GeneID:83872  XM_011510038.4  402874  402938  intron  \\\n",
       "1  NC_000001.11   GeneID:84288  NM_001143943.1    7411    7475  intron   \n",
       "2  NC_000001.11   GeneID:64754  XM_047428021.1   52326   52390  intron   \n",
       "3  NC_000001.11  GeneID:149483  XM_011540820.2    1312    1376  intron   \n",
       "4  NC_000001.11   GeneID:57540  XM_011541832.2   40411   40475  intron   \n",
       "\n",
       "                                      mrna_partition  \n",
       "0  /mnt/e/Data/llm-mito-scanner-data/data/raw/ass...  \n",
       "1  /mnt/e/Data/llm-mito-scanner-data/data/raw/ass...  \n",
       "2  /mnt/e/Data/llm-mito-scanner-data/data/raw/ass...  \n",
       "3  /mnt/e/Data/llm-mito-scanner-data/data/raw/ass...  \n",
       "4  /mnt/e/Data/llm-mito-scanner-data/data/raw/ass...  "
      ]
     },
     "execution_count": 38,
     "metadata": {},
     "output_type": "execute_result"
    }
   ],
   "source": [
    "#| hide\n",
    "example_sample_sequence_idx.head()"
   ]
  },
  {
   "cell_type": "code",
   "execution_count": 39,
   "metadata": {},
   "outputs": [
    {
     "data": {
      "text/plain": [
       "26"
      ]
     },
     "execution_count": 39,
     "metadata": {},
     "output_type": "execute_result"
    }
   ],
   "source": [
    "#| hide\n",
    "example_sample_sequence_idx.mrna_partition.unique().size"
   ]
  },
  {
   "cell_type": "code",
   "execution_count": 40,
   "metadata": {},
   "outputs": [],
   "source": [
    "#| export\n",
    "def get_mrna_partitions(paths: list[Path], transcript_ids: list[str] = None) -> pd.DataFrame:\n",
    "    frames = []\n",
    "    for p in paths:\n",
    "        p_frame = pd.read_parquet(p)\n",
    "        if isinstance(transcript_ids, list):\n",
    "            p_frame = p_frame[p_frame.transcriptid.isin(transcript_ids)]\n",
    "        p_chromosome = p.parent.name\n",
    "        p_frame.loc[:, 'chromosome'] = p_chromosome\n",
    "        frames.append(p_frame)\n",
    "    return pd.concat(frames, axis=0, ignore_index=True)"
   ]
  },
  {
   "cell_type": "code",
   "execution_count": 41,
   "metadata": {},
   "outputs": [
    {
     "data": {
      "text/plain": [
       "308"
      ]
     },
     "execution_count": 41,
     "metadata": {},
     "output_type": "execute_result"
    }
   ],
   "source": [
    "#| hide\n",
    "example_sample_mrna_sequences = get_mrna_partitions(\n",
    "    example_sample_sequence_idx.mrna_partition.unique().tolist(),\n",
    "    example_sample_sequence_idx.transcriptid.unique().tolist()\n",
    ")\n",
    "example_sample_mrna_sequences.shape[0]"
   ]
  },
  {
   "cell_type": "code",
   "execution_count": 42,
   "metadata": {},
   "outputs": [
    {
     "data": {
      "text/html": [
       "<div>\n",
       "<style scoped>\n",
       "    .dataframe tbody tr th:only-of-type {\n",
       "        vertical-align: middle;\n",
       "    }\n",
       "\n",
       "    .dataframe tbody tr th {\n",
       "        vertical-align: top;\n",
       "    }\n",
       "\n",
       "    .dataframe thead th {\n",
       "        text-align: right;\n",
       "    }\n",
       "</style>\n",
       "<table border=\"1\" class=\"dataframe\">\n",
       "  <thead>\n",
       "    <tr style=\"text-align: right;\">\n",
       "      <th></th>\n",
       "      <th>geneid</th>\n",
       "      <th>transcriptid</th>\n",
       "      <th>mrna_start</th>\n",
       "      <th>mrna_end</th>\n",
       "      <th>mrna</th>\n",
       "      <th>chromosome</th>\n",
       "    </tr>\n",
       "  </thead>\n",
       "  <tbody>\n",
       "    <tr>\n",
       "      <th>0</th>\n",
       "      <td>GeneID:7827</td>\n",
       "      <td>XM_017002299.2</td>\n",
       "      <td>0</td>\n",
       "      <td>23346</td>\n",
       "      <td>G,A,C,C,C,G,C,A,G,C,G,A,C,U,C,C,A,C,A,G,G,G,A,...</td>\n",
       "      <td>NC_000001.11</td>\n",
       "    </tr>\n",
       "    <tr>\n",
       "      <th>1</th>\n",
       "      <td>GeneID:163589</td>\n",
       "      <td>XM_047447753.1</td>\n",
       "      <td>219</td>\n",
       "      <td>99660</td>\n",
       "      <td>&lt;null&gt;,&lt;null&gt;,&lt;null&gt;,&lt;null&gt;,&lt;null&gt;,&lt;null&gt;,&lt;nul...</td>\n",
       "      <td>NC_000001.11</td>\n",
       "    </tr>\n",
       "    <tr>\n",
       "      <th>2</th>\n",
       "      <td>GeneID:3140</td>\n",
       "      <td>NM_001385162.1</td>\n",
       "      <td>596</td>\n",
       "      <td>28552</td>\n",
       "      <td>&lt;null&gt;,&lt;null&gt;,&lt;null&gt;,&lt;null&gt;,&lt;null&gt;,&lt;null&gt;,&lt;nul...</td>\n",
       "      <td>NC_000001.11</td>\n",
       "    </tr>\n",
       "    <tr>\n",
       "      <th>3</th>\n",
       "      <td>GeneID:777</td>\n",
       "      <td>XM_017002249.2</td>\n",
       "      <td>0</td>\n",
       "      <td>490386</td>\n",
       "      <td>G,C,C,U,C,G,C,G,C,G,U,G,C,C,G,C,C,C,G,U,G,U,C,...</td>\n",
       "      <td>NC_000001.11</td>\n",
       "    </tr>\n",
       "    <tr>\n",
       "      <th>4</th>\n",
       "      <td>GeneID:777</td>\n",
       "      <td>XM_017002250.2</td>\n",
       "      <td>0</td>\n",
       "      <td>490386</td>\n",
       "      <td>G,C,C,U,C,G,C,G,C,G,U,G,C,C,G,C,C,C,G,U,G,U,C,...</td>\n",
       "      <td>NC_000001.11</td>\n",
       "    </tr>\n",
       "  </tbody>\n",
       "</table>\n",
       "</div>"
      ],
      "text/plain": [
       "          geneid    transcriptid  mrna_start  mrna_end   \n",
       "0    GeneID:7827  XM_017002299.2           0     23346  \\\n",
       "1  GeneID:163589  XM_047447753.1         219     99660   \n",
       "2    GeneID:3140  NM_001385162.1         596     28552   \n",
       "3     GeneID:777  XM_017002249.2           0    490386   \n",
       "4     GeneID:777  XM_017002250.2           0    490386   \n",
       "\n",
       "                                                mrna    chromosome  \n",
       "0  G,A,C,C,C,G,C,A,G,C,G,A,C,U,C,C,A,C,A,G,G,G,A,...  NC_000001.11  \n",
       "1  <null>,<null>,<null>,<null>,<null>,<null>,<nul...  NC_000001.11  \n",
       "2  <null>,<null>,<null>,<null>,<null>,<null>,<nul...  NC_000001.11  \n",
       "3  G,C,C,U,C,G,C,G,C,G,U,G,C,C,G,C,C,C,G,U,G,U,C,...  NC_000001.11  \n",
       "4  G,C,C,U,C,G,C,G,C,G,U,G,C,C,G,C,C,C,G,U,G,U,C,...  NC_000001.11  "
      ]
     },
     "execution_count": 42,
     "metadata": {},
     "output_type": "execute_result"
    }
   ],
   "source": [
    "#| hide\n",
    "example_sample_mrna_sequences.head()"
   ]
  },
  {
   "cell_type": "code",
   "execution_count": 43,
   "metadata": {},
   "outputs": [
    {
     "data": {
      "text/plain": [
       "308"
      ]
     },
     "execution_count": 43,
     "metadata": {},
     "output_type": "execute_result"
    }
   ],
   "source": [
    "#| hide\n",
    "example_mrna_lookup = make_mrna_sequence_lookup(example_sample_mrna_sequences)\n",
    "len(example_mrna_lookup)"
   ]
  },
  {
   "cell_type": "code",
   "execution_count": 53,
   "metadata": {},
   "outputs": [],
   "source": [
    "#| export\n",
    "def get_training_sequences_with_idx(\n",
    "        gene: str, mrna: str,\n",
    "        start: int, end: int,\n",
    "        ) -> tuple[str, str]:\n",
    "    \"\"\n",
    "    return list(gene[start: end]), mrna[start: end]"
   ]
  },
  {
   "cell_type": "code",
   "execution_count": 54,
   "metadata": {},
   "outputs": [
    {
     "data": {
      "text/plain": [
       "chromosome                                             NC_000001.11\n",
       "geneid                                                 GeneID:83872\n",
       "transcriptid                                         XM_011510038.4\n",
       "start                                                        402874\n",
       "end                                                          402938\n",
       "type                                                         intron\n",
       "mrna_partition    /mnt/e/Data/llm-mito-scanner-data/data/raw/ass...\n",
       "Name: 0, dtype: object"
      ]
     },
     "execution_count": 54,
     "metadata": {},
     "output_type": "execute_result"
    }
   ],
   "source": [
    "#| hide\n",
    "example_idx_row = example_sample_sequence_idx.iloc[0, :]\n",
    "example_idx_row"
   ]
  },
  {
   "cell_type": "code",
   "execution_count": 57,
   "metadata": {},
   "outputs": [
    {
     "data": {
      "text/plain": [
       "(64, 64)"
      ]
     },
     "execution_count": 57,
     "metadata": {},
     "output_type": "execute_result"
    }
   ],
   "source": [
    "#| hide\n",
    "example_training_sequence_gene, example_training_sequence_mrna = get_training_sequences_with_idx(\n",
    "    example_gene_lookup.get((example_idx_row.chromosome, example_idx_row.geneid)),\n",
    "    example_mrna_lookup.get((example_idx_row.chromosome, example_idx_row.geneid, example_idx_row.transcriptid)),\n",
    "    example_idx_row.start, example_idx_row.end,\n",
    ")\n",
    "len(example_training_sequence_gene), len(example_training_sequence_mrna)"
   ]
  },
  {
   "cell_type": "code",
   "execution_count": 58,
   "metadata": {},
   "outputs": [
    {
     "data": {
      "text/html": [
       "<div>\n",
       "<style scoped>\n",
       "    .dataframe tbody tr th:only-of-type {\n",
       "        vertical-align: middle;\n",
       "    }\n",
       "\n",
       "    .dataframe tbody tr th {\n",
       "        vertical-align: top;\n",
       "    }\n",
       "\n",
       "    .dataframe thead th {\n",
       "        text-align: right;\n",
       "    }\n",
       "</style>\n",
       "<table border=\"1\" class=\"dataframe\">\n",
       "  <thead>\n",
       "    <tr style=\"text-align: right;\">\n",
       "      <th></th>\n",
       "      <th>chromosome</th>\n",
       "      <th>geneid</th>\n",
       "      <th>transcriptid</th>\n",
       "      <th>start</th>\n",
       "      <th>end</th>\n",
       "      <th>type</th>\n",
       "      <th>mrna_partition</th>\n",
       "    </tr>\n",
       "  </thead>\n",
       "  <tbody>\n",
       "    <tr>\n",
       "      <th>0</th>\n",
       "      <td>NC_000001.11</td>\n",
       "      <td>GeneID:83872</td>\n",
       "      <td>XM_011510038.4</td>\n",
       "      <td>402874</td>\n",
       "      <td>402938</td>\n",
       "      <td>intron</td>\n",
       "      <td>/mnt/e/Data/llm-mito-scanner-data/data/raw/ass...</td>\n",
       "    </tr>\n",
       "    <tr>\n",
       "      <th>1</th>\n",
       "      <td>NC_000001.11</td>\n",
       "      <td>GeneID:84288</td>\n",
       "      <td>NM_001143943.1</td>\n",
       "      <td>7411</td>\n",
       "      <td>7475</td>\n",
       "      <td>intron</td>\n",
       "      <td>/mnt/e/Data/llm-mito-scanner-data/data/raw/ass...</td>\n",
       "    </tr>\n",
       "    <tr>\n",
       "      <th>2</th>\n",
       "      <td>NC_000001.11</td>\n",
       "      <td>GeneID:64754</td>\n",
       "      <td>XM_047428021.1</td>\n",
       "      <td>52326</td>\n",
       "      <td>52390</td>\n",
       "      <td>intron</td>\n",
       "      <td>/mnt/e/Data/llm-mito-scanner-data/data/raw/ass...</td>\n",
       "    </tr>\n",
       "    <tr>\n",
       "      <th>3</th>\n",
       "      <td>NC_000001.11</td>\n",
       "      <td>GeneID:149483</td>\n",
       "      <td>XM_011540820.2</td>\n",
       "      <td>1312</td>\n",
       "      <td>1376</td>\n",
       "      <td>intron</td>\n",
       "      <td>/mnt/e/Data/llm-mito-scanner-data/data/raw/ass...</td>\n",
       "    </tr>\n",
       "    <tr>\n",
       "      <th>4</th>\n",
       "      <td>NC_000001.11</td>\n",
       "      <td>GeneID:57540</td>\n",
       "      <td>XM_011541832.2</td>\n",
       "      <td>40411</td>\n",
       "      <td>40475</td>\n",
       "      <td>intron</td>\n",
       "      <td>/mnt/e/Data/llm-mito-scanner-data/data/raw/ass...</td>\n",
       "    </tr>\n",
       "  </tbody>\n",
       "</table>\n",
       "</div>"
      ],
      "text/plain": [
       "     chromosome         geneid    transcriptid   start     end    type   \n",
       "0  NC_000001.11   GeneID:83872  XM_011510038.4  402874  402938  intron  \\\n",
       "1  NC_000001.11   GeneID:84288  NM_001143943.1    7411    7475  intron   \n",
       "2  NC_000001.11   GeneID:64754  XM_047428021.1   52326   52390  intron   \n",
       "3  NC_000001.11  GeneID:149483  XM_011540820.2    1312    1376  intron   \n",
       "4  NC_000001.11   GeneID:57540  XM_011541832.2   40411   40475  intron   \n",
       "\n",
       "                                      mrna_partition  \n",
       "0  /mnt/e/Data/llm-mito-scanner-data/data/raw/ass...  \n",
       "1  /mnt/e/Data/llm-mito-scanner-data/data/raw/ass...  \n",
       "2  /mnt/e/Data/llm-mito-scanner-data/data/raw/ass...  \n",
       "3  /mnt/e/Data/llm-mito-scanner-data/data/raw/ass...  \n",
       "4  /mnt/e/Data/llm-mito-scanner-data/data/raw/ass...  "
      ]
     },
     "execution_count": 58,
     "metadata": {},
     "output_type": "execute_result"
    }
   ],
   "source": [
    "#| hide\n",
    "example_sample_sequence_idx.head()"
   ]
  },
  {
   "cell_type": "code",
   "execution_count": 59,
   "metadata": {},
   "outputs": [
    {
     "data": {
      "text/plain": [
       "(500, 7)"
      ]
     },
     "execution_count": 59,
     "metadata": {},
     "output_type": "execute_result"
    }
   ],
   "source": [
    "#| hide\n",
    "example_sample_sequence_idx.shape"
   ]
  },
  {
   "cell_type": "code",
   "execution_count": 68,
   "metadata": {},
   "outputs": [],
   "source": [
    "#| export\n",
    "def get_training_sequences_with_idx_batches(\n",
    "    index: pd.DataFrame,\n",
    "    gene_lookup: dict[tuple[str,str], str],\n",
    "    mrna_lookup: dict[tuple[str,str,str], str]) -> pd.DataFrame:\n",
    "    sequences = index.apply(\n",
    "        lambda row: get_training_sequences_with_idx(\n",
    "            gene_lookup.get((row.chromosome, row.geneid)),\n",
    "            mrna_lookup.get((row.chromosome, row.geneid, row.transcriptid)),\n",
    "            row.start, row.end\n",
    "        ), axis=1).values.tolist()\n",
    "    sequences = pd.DataFrame(sequences, columns=['input', 'target'])\n",
    "    return pd.concat(\n",
    "        [\n",
    "            index,\n",
    "            sequences\n",
    "        ], axis=1, ignore_index=False)\n",
    "\n",
    "\n",
    "def get_index_sequences(\n",
    "        index: pd.DataFrame,\n",
    "        assembly_path: Path,\n",
    "        chromosome: str = None) -> pd.DataFrame:\n",
    "    # Make gene lookup\n",
    "    gene_lookup = get_chromosome_genes(\n",
    "        assembly_path, \n",
    "        chromosome=chromosome, \n",
    "        gene_ids=index.geneid.unique().tolist())\n",
    "    gene_lookup = make_gene_sequence_lookup(gene_lookup)\n",
    "    # Make mRNA lookup\n",
    "    mrna_lookup = get_mrna_partitions(\n",
    "        index.mrna_partition.unique().tolist(),\n",
    "        index.transcriptid.unique().tolist())\n",
    "    mrna_lookup = make_mrna_sequence_lookup(mrna_lookup)\n",
    "    return get_training_sequences_with_idx_batches(\n",
    "        index,\n",
    "        gene_lookup,\n",
    "        mrna_lookup)"
   ]
  },
  {
   "cell_type": "code",
   "execution_count": 64,
   "metadata": {},
   "outputs": [
    {
     "data": {
      "text/plain": [
       "array(['GeneID:83872', 'GeneID:84288', 'GeneID:64754', 'GeneID:149483',\n",
       "       'GeneID:57540'], dtype=object)"
      ]
     },
     "execution_count": 64,
     "metadata": {},
     "output_type": "execute_result"
    }
   ],
   "source": [
    "#| hide\n",
    "example_sample_sequence_idx.geneid.unique()[:5]"
   ]
  },
  {
   "cell_type": "code",
   "execution_count": 66,
   "metadata": {},
   "outputs": [
    {
     "data": {
      "text/html": [
       "<div>\n",
       "<style scoped>\n",
       "    .dataframe tbody tr th:only-of-type {\n",
       "        vertical-align: middle;\n",
       "    }\n",
       "\n",
       "    .dataframe tbody tr th {\n",
       "        vertical-align: top;\n",
       "    }\n",
       "\n",
       "    .dataframe thead th {\n",
       "        text-align: right;\n",
       "    }\n",
       "</style>\n",
       "<table border=\"1\" class=\"dataframe\">\n",
       "  <thead>\n",
       "    <tr style=\"text-align: right;\">\n",
       "      <th></th>\n",
       "      <th>chromosome</th>\n",
       "      <th>geneid</th>\n",
       "      <th>transcriptid</th>\n",
       "      <th>start</th>\n",
       "      <th>end</th>\n",
       "      <th>type</th>\n",
       "      <th>mrna_partition</th>\n",
       "      <th>input</th>\n",
       "      <th>target</th>\n",
       "    </tr>\n",
       "  </thead>\n",
       "  <tbody>\n",
       "    <tr>\n",
       "      <th>0</th>\n",
       "      <td>NC_000001.11</td>\n",
       "      <td>GeneID:83872</td>\n",
       "      <td>XM_011510038.4</td>\n",
       "      <td>402874</td>\n",
       "      <td>402938</td>\n",
       "      <td>intron</td>\n",
       "      <td>/mnt/e/Data/llm-mito-scanner-data/data/raw/ass...</td>\n",
       "      <td>[C, T, C, T, T, C, C, A, G, C, A, G, C, C, A, ...</td>\n",
       "      <td>&gt;,&lt;intron&gt;,&lt;intron&gt;,&lt;intron&gt;,&lt;intron&gt;,&lt;intron&gt;...</td>\n",
       "    </tr>\n",
       "    <tr>\n",
       "      <th>1</th>\n",
       "      <td>NC_000001.11</td>\n",
       "      <td>GeneID:84288</td>\n",
       "      <td>NM_001143943.1</td>\n",
       "      <td>7411</td>\n",
       "      <td>7475</td>\n",
       "      <td>intron</td>\n",
       "      <td>/mnt/e/Data/llm-mito-scanner-data/data/raw/ass...</td>\n",
       "      <td>[A, T, G, G, A, G, A, C, A, G, A, A, A, G, T, ...</td>\n",
       "      <td>n&gt;,&lt;intron&gt;,&lt;intron&gt;,&lt;intron&gt;,&lt;intron&gt;,&lt;intron...</td>\n",
       "    </tr>\n",
       "    <tr>\n",
       "      <th>2</th>\n",
       "      <td>NC_000001.11</td>\n",
       "      <td>GeneID:64754</td>\n",
       "      <td>XM_047428021.1</td>\n",
       "      <td>52326</td>\n",
       "      <td>52390</td>\n",
       "      <td>intron</td>\n",
       "      <td>/mnt/e/Data/llm-mito-scanner-data/data/raw/ass...</td>\n",
       "      <td>[G, G, A, G, G, A, C, A, T, T, G, A, T, T, T, ...</td>\n",
       "      <td>null&gt;,&lt;null&gt;,&lt;null&gt;,&lt;null&gt;,&lt;null&gt;,&lt;null&gt;,&lt;null...</td>\n",
       "    </tr>\n",
       "    <tr>\n",
       "      <th>3</th>\n",
       "      <td>NC_000001.11</td>\n",
       "      <td>GeneID:149483</td>\n",
       "      <td>XM_011540820.2</td>\n",
       "      <td>1312</td>\n",
       "      <td>1376</td>\n",
       "      <td>intron</td>\n",
       "      <td>/mnt/e/Data/llm-mito-scanner-data/data/raw/ass...</td>\n",
       "      <td>[C, G, G, G, G, C, C, G, G, A, G, A, T, G, G, ...</td>\n",
       "      <td>,&lt;intron&gt;,&lt;intron&gt;,&lt;intron&gt;,&lt;intron&gt;,&lt;intron&gt;,...</td>\n",
       "    </tr>\n",
       "    <tr>\n",
       "      <th>4</th>\n",
       "      <td>NC_000001.11</td>\n",
       "      <td>GeneID:57540</td>\n",
       "      <td>XM_011541832.2</td>\n",
       "      <td>40411</td>\n",
       "      <td>40475</td>\n",
       "      <td>intron</td>\n",
       "      <td>/mnt/e/Data/llm-mito-scanner-data/data/raw/ass...</td>\n",
       "      <td>[G, G, A, G, T, A, A, C, A, C, T, T, G, A, C, ...</td>\n",
       "      <td>n&gt;,&lt;intron&gt;,&lt;intron&gt;,&lt;intron&gt;,&lt;intron&gt;,&lt;intron...</td>\n",
       "    </tr>\n",
       "  </tbody>\n",
       "</table>\n",
       "</div>"
      ],
      "text/plain": [
       "     chromosome         geneid    transcriptid   start     end    type   \n",
       "0  NC_000001.11   GeneID:83872  XM_011510038.4  402874  402938  intron  \\\n",
       "1  NC_000001.11   GeneID:84288  NM_001143943.1    7411    7475  intron   \n",
       "2  NC_000001.11   GeneID:64754  XM_047428021.1   52326   52390  intron   \n",
       "3  NC_000001.11  GeneID:149483  XM_011540820.2    1312    1376  intron   \n",
       "4  NC_000001.11   GeneID:57540  XM_011541832.2   40411   40475  intron   \n",
       "\n",
       "                                      mrna_partition   \n",
       "0  /mnt/e/Data/llm-mito-scanner-data/data/raw/ass...  \\\n",
       "1  /mnt/e/Data/llm-mito-scanner-data/data/raw/ass...   \n",
       "2  /mnt/e/Data/llm-mito-scanner-data/data/raw/ass...   \n",
       "3  /mnt/e/Data/llm-mito-scanner-data/data/raw/ass...   \n",
       "4  /mnt/e/Data/llm-mito-scanner-data/data/raw/ass...   \n",
       "\n",
       "                                               input   \n",
       "0  [C, T, C, T, T, C, C, A, G, C, A, G, C, C, A, ...  \\\n",
       "1  [A, T, G, G, A, G, A, C, A, G, A, A, A, G, T, ...   \n",
       "2  [G, G, A, G, G, A, C, A, T, T, G, A, T, T, T, ...   \n",
       "3  [C, G, G, G, G, C, C, G, G, A, G, A, T, G, G, ...   \n",
       "4  [G, G, A, G, T, A, A, C, A, C, T, T, G, A, C, ...   \n",
       "\n",
       "                                              target  \n",
       "0  >,<intron>,<intron>,<intron>,<intron>,<intron>...  \n",
       "1  n>,<intron>,<intron>,<intron>,<intron>,<intron...  \n",
       "2  null>,<null>,<null>,<null>,<null>,<null>,<null...  \n",
       "3  ,<intron>,<intron>,<intron>,<intron>,<intron>,...  \n",
       "4  n>,<intron>,<intron>,<intron>,<intron>,<intron...  "
      ]
     },
     "execution_count": 66,
     "metadata": {},
     "output_type": "execute_result"
    }
   ],
   "source": [
    "#| hide\n",
    "example_sample_sequence_idx_sequences = get_index_sequences(\n",
    "    example_sample_sequence_idx,\n",
    "    latest_assembly_path,\n",
    "    chromosome=example_chromosome\n",
    ")\n",
    "example_sample_sequence_idx_sequences.head()"
   ]
  },
  {
   "cell_type": "code",
   "execution_count": 67,
   "metadata": {},
   "outputs": [
    {
     "data": {
      "text/plain": [
       "45.45454545454545"
      ]
     },
     "execution_count": 67,
     "metadata": {},
     "output_type": "execute_result"
    }
   ],
   "source": [
    "#| hide\n",
    "example_sample_sequence_idx_sequences.shape[0] / 11"
   ]
  },
  {
   "cell_type": "code",
   "execution_count": 78,
   "metadata": {},
   "outputs": [],
   "source": [
    "#| export\n",
    "def get_chromosome_idx_sequences(args: dict):\n",
    "    chromosome = args.get(\"chromosome\")\n",
    "    index = args.get('index')\n",
    "    assembly_path = args.get(\"assembly\")\n",
    "    pbar_position = args.get(\"position\", 1)\n",
    "    chunk_size = args.get(\"chunk_size\", 500)\n",
    "    write_size = args.get(\"write_size\", 1000)\n",
    "    save = args.get(\"save\", False)\n",
    "    write_path = assembly_path / \"training/transcription/sequences\" / chromosome\n",
    "    if not write_path.exists():\n",
    "        write_path.mkdir()\n",
    "    num_chunks = max(1, index.shape[0] / chunk_size)\n",
    "    index_chunks = []\n",
    "    curr_chunk = None\n",
    "    for p in index.mrna_partition.unique():\n",
    "        p_index = index[index.mrna_partition == p]\n",
    "        if p_index.shape[0] > chunk_size:\n",
    "            num_chunks = max(1, p_index.shape[0] / chunk_size)\n",
    "            p_index_chunks = np.array_split(p_index, num_chunks)\n",
    "            for p_chunk in p_index_chunks:\n",
    "                if curr_chunk is None:\n",
    "                    curr_chunk = p_chunk\n",
    "                else:\n",
    "                    curr_chunk = pd.concat([curr_chunk, p_chunk], axis=0, ignore_index=True)\n",
    "                    if curr_chunk.shape[0] >= chunk_size:\n",
    "                        index_chunks.append(curr_chunk)\n",
    "                        curr_chunk = None\n",
    "            index_chunks.extend(p_index_chunks)\n",
    "        else:\n",
    "            if curr_chunk is None:\n",
    "                curr_chunk = p_index\n",
    "            else:\n",
    "                curr_chunk = pd.concat([curr_chunk, p_index], axis=0, ignore_index=True)\n",
    "                if curr_chunk.shape[0] >= chunk_size:\n",
    "                    index_chunks.append(curr_chunk)\n",
    "                    curr_chunk = None\n",
    "    if curr_chunk is not None:\n",
    "        index_chunks.append(curr_chunk)\n",
    "    pbar = tqdm(\n",
    "        total=len(index_chunks), \n",
    "        position=pbar_position, leave=False, ncols=80, desc=f\"{chromosome}\")\n",
    "    batch_counter = 1\n",
    "    sequences = []\n",
    "    for index_chunk in index_chunks:\n",
    "        chromosome_index_chunk_sequences = get_index_sequences(\n",
    "            index_chunk,\n",
    "            assembly_path,\n",
    "            chromosome=chromosome\n",
    "        )\n",
    "        chromosome_index_chunk_sequences = chromosome_index_chunk_sequences[[\n",
    "            \"chromosome\", \"geneid\", \"transcriptid\",\n",
    "            \"start\", \"end\",\n",
    "            \"type\",\n",
    "            \"input\", \"target\"\n",
    "        ]]\n",
    "        sequences.append(chromosome_index_chunk_sequences)\n",
    "        if save and sum([f.shape[0] for f in sequences]) >= write_size:\n",
    "            write_path_chunk = write_path / f\"partition-{str(batch_counter).zfill(3)}.parquet\"\n",
    "            pd.concat(sequences, axis=0, ignore_index=True).to_parquet(write_path_chunk, index=False)\n",
    "            sequences = []\n",
    "        batch_counter += 1\n",
    "        pbar.update(1)\n",
    "    if save and len(sequences) > 0:\n",
    "        write_path_chunk = write_path / f\"partition-{str(batch_counter).zfill(3)}.parquet\"\n",
    "        pd.concat(sequences, axis=0, ignore_index=True).to_parquet(write_path_chunk, index=False)\n",
    "    pbar.close()"
   ]
  },
  {
   "cell_type": "code",
   "execution_count": 76,
   "metadata": {},
   "outputs": [
    {
     "name": "stderr",
     "output_type": "stream",
     "text": [
      "NC_000001.11:   0%|                                       | 0/2 [00:00<?, ?it/s]"
     ]
    },
    {
     "name": "stderr",
     "output_type": "stream",
     "text": [
      "                                                                                \r"
     ]
    }
   ],
   "source": [
    "#| hide\n",
    "get_chromosome_idx_sequences(\n",
    "    {\n",
    "        \"chromosome\": example_chromosome,\n",
    "        \"index\": example_sample_sequence_idx,\n",
    "        \"assembly\": latest_assembly_path,\n",
    "        \"mrna_file_index\": mrna_file_index,\n",
    "        \"position\": 0,\n",
    "        \"chunk_size\": 250,\n",
    "        \"save\": False\n",
    "    }\n",
    ")"
   ]
  },
  {
   "cell_type": "code",
   "execution_count": 1,
   "metadata": {},
   "outputs": [],
   "source": [
    "#| hide\n",
    "import nbdev; nbdev.nbdev_export()"
   ]
  },
  {
   "cell_type": "code",
   "execution_count": null,
   "metadata": {},
   "outputs": [],
   "source": []
  }
 ],
 "metadata": {
  "kernelspec": {
   "display_name": "venv",
   "language": "python",
   "name": "python3"
  },
  "language_info": {
   "codemirror_mode": {
    "name": "ipython",
    "version": 3
   },
   "file_extension": ".py",
   "mimetype": "text/x-python",
   "name": "python",
   "nbconvert_exporter": "python",
   "pygments_lexer": "ipython3",
   "version": "3.10.6"
  },
  "orig_nbformat": 4
 },
 "nbformat": 4,
 "nbformat_minor": 2
}
