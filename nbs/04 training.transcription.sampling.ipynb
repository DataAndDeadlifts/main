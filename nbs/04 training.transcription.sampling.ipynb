{
 "cells": [
  {
   "cell_type": "markdown",
   "metadata": {},
   "source": [
    "# Generating training instances from genomic dna, intron and mRNA positions.\n",
    "\n",
    "> Preparing training instances."
   ]
  },
  {
   "cell_type": "markdown",
   "metadata": {},
   "source": [
    "## Goals\n",
    "1. Construct the mRNA sequence\n",
    "3. Generate training instances that;\n",
    "    1. Include the \"edge\" of the intron with various shifting strategies\n",
    "    2. Exclude the \"edge\" of the intron and get transcribed mRNA"
   ]
  },
  {
   "cell_type": "code",
   "execution_count": 59,
   "metadata": {},
   "outputs": [],
   "source": [
    "#| default_exp training.transcription.sampling"
   ]
  },
  {
   "cell_type": "code",
   "execution_count": 60,
   "metadata": {},
   "outputs": [],
   "source": [
    "#| hide\n",
    "from nbdev.showdoc import *"
   ]
  },
  {
   "cell_type": "markdown",
   "metadata": {},
   "source": [
    "## 0. Setup"
   ]
  },
  {
   "cell_type": "code",
   "execution_count": 61,
   "metadata": {},
   "outputs": [],
   "source": [
    "#| export\n",
    "from pathlib import Path\n",
    "import numpy as np\n",
    "import pandas as pd\n",
    "from pandas.errors import SettingWithCopyWarning\n",
    "import random\n",
    "import warnings\n",
    "from tqdm import tqdm\n",
    "from multiprocessing import current_process\n",
    "import sqlite3\n",
    "\n",
    "warnings.filterwarnings(\"ignore\", category=SettingWithCopyWarning)\n",
    "\n",
    "from llm_mito_scanner.data.download import load_config, \\\n",
    "    get_latest_assembly_path, get_genomic_genbank_path\n",
    "from llm_mito_scanner.data.transcription import get_genes\n",
    "from llm_mito_scanner.training.transcription.index import get_intron_locations\n",
    "from llm_mito_scanner.training.transcription.generation import get_mrna_locations, get_mrna"
   ]
  },
  {
   "cell_type": "code",
   "execution_count": 62,
   "metadata": {},
   "outputs": [],
   "source": [
    "#| hide\n",
    "config = load_config()"
   ]
  },
  {
   "cell_type": "code",
   "execution_count": 63,
   "metadata": {},
   "outputs": [],
   "source": [
    "#| hide\n",
    "data_path = Path(config.get(\"data_path\"))\n",
    "data_raw_path = data_path / \"raw\"\n",
    "assemblies_path = data_raw_path / \"assemblies\"\n",
    "latest_assembly_path = get_latest_assembly_path(assemblies_path)\n",
    "genomic_genbank_path = get_genomic_genbank_path(latest_assembly_path)\n",
    "gene_database_path = latest_assembly_path / \"genes.db\"\n",
    "mrna_database_path = latest_assembly_path / \"mrna.db\"\n",
    "training_data_path = latest_assembly_path / \"training\"\n",
    "transcription_data_path = training_data_path / \"transcription\"\n",
    "intron_locations_path = transcription_data_path / \"intron_positions\"\n",
    "for p in [gene_database_path, mrna_database_path, intron_locations_path]:\n",
    "    if not p.exists():\n",
    "        raise FileNotFoundError(f\"This notebook requires the path {p.resolve()} to exist\")"
   ]
  },
  {
   "cell_type": "markdown",
   "metadata": {},
   "source": [
    "## Sampling"
   ]
  },
  {
   "cell_type": "code",
   "execution_count": 64,
   "metadata": {},
   "outputs": [],
   "source": [
    "#| hide\n",
    "example_chromosome = \"NC_000001.11\""
   ]
  },
  {
   "cell_type": "code",
   "execution_count": 65,
   "metadata": {},
   "outputs": [],
   "source": [
    "#| hide\n",
    "intron_locations = get_intron_locations(\n",
    "    intron_locations_path,\n",
    "    chromosome=example_chromosome\n",
    ")"
   ]
  },
  {
   "cell_type": "code",
   "execution_count": 66,
   "metadata": {},
   "outputs": [
    {
     "data": {
      "text/plain": [
       "12720"
      ]
     },
     "execution_count": 66,
     "metadata": {},
     "output_type": "execute_result"
    }
   ],
   "source": [
    "#| hide\n",
    "intron_locations.transcriptid.unique().size"
   ]
  },
  {
   "cell_type": "code",
   "execution_count": 67,
   "metadata": {},
   "outputs": [
    {
     "data": {
      "text/plain": [
       "('24,893,090,448', '388,954,538')"
      ]
     },
     "execution_count": 67,
     "metadata": {},
     "output_type": "execute_result"
    }
   ],
   "source": [
    "#| hide\n",
    "mrna_length_df = intron_locations.drop_duplicates(subset=['chromosome', 'geneid', 'transcriptid'])[['mrna_start', 'mrna_end']]\n",
    "total_dataset_length = (mrna_length_df.mrna_end - mrna_length_df.mrna_start).sum() * 24\n",
    "training_sequence_length = 64\n",
    "num_training_instances = total_dataset_length // training_sequence_length\n",
    "'{:,}'.format(total_dataset_length), '{:,}'.format(num_training_instances)"
   ]
  },
  {
   "cell_type": "code",
   "execution_count": 68,
   "metadata": {},
   "outputs": [
    {
     "data": {
      "text/plain": [
       "1728000.0"
      ]
     },
     "execution_count": 68,
     "metadata": {},
     "output_type": "execute_result"
    }
   ],
   "source": [
    "#| hide\n",
    "training_hours = 6\n",
    "training_minutes = training_hours * 60\n",
    "training_seconds = training_minutes * 60\n",
    "sequences_per_second = 2.5 * 32\n",
    "training_instance_target = training_seconds * sequences_per_second\n",
    "training_instance_target"
   ]
  },
  {
   "cell_type": "code",
   "execution_count": 69,
   "metadata": {},
   "outputs": [
    {
     "data": {
      "text/plain": [
       "1.0"
      ]
     },
     "execution_count": 69,
     "metadata": {},
     "output_type": "execute_result"
    }
   ],
   "source": [
    "#| hide\n",
    "proportion_intron_edge = 0.25\n",
    "proportion_intron = 0.25\n",
    "proportion_mrna = 0.25\n",
    "proportion_mrna_edge = 0.25\n",
    "\n",
    "random_state = 42\n",
    "\n",
    "sum([proportion_intron_edge, proportion_intron, proportion_mrna, proportion_mrna_edge])"
   ]
  },
  {
   "cell_type": "code",
   "execution_count": 70,
   "metadata": {},
   "outputs": [
    {
     "name": "stdout",
     "output_type": "stream",
     "text": [
      "432000\n"
     ]
    },
    {
     "data": {
      "text/plain": [
       "337270"
      ]
     },
     "execution_count": 70,
     "metadata": {},
     "output_type": "execute_result"
    }
   ],
   "source": [
    "#| hide\n",
    "# each intron has a start edge and an end edge - lets make sure we sample both types\n",
    "allowed_intron_edges = int(training_instance_target * proportion_intron_edge)\n",
    "print(allowed_intron_edges)\n",
    "unique_introns_edges = intron_locations.shape[0] * 2 # start and end edge\n",
    "unique_introns_edges"
   ]
  },
  {
   "cell_type": "code",
   "execution_count": 71,
   "metadata": {},
   "outputs": [],
   "source": [
    "#| export\n",
    "def sample_intron_edges(\n",
    "        locations: pd.DataFrame, n: int, \n",
    "        random_state: int = 42, offset: int = -32, length: int = 64) -> pd.DataFrame:\n",
    "    \"Get training instances where either the start of end of an intron is in the center of the sequence.\"\n",
    "    start_n = int(n / 2)\n",
    "    end_n = n - start_n\n",
    "    replace = True if (start_n > locations.shape[0]) | (end_n > locations.shape[0]) else False\n",
    "    starts = locations.sample(start_n, replace=replace, random_state=random_state)\n",
    "    ends = locations.sample(end_n, replace=replace, random_state=random_state)\n",
    "    frames = []\n",
    "    for f, slice_origin in zip([starts, ends], ['intron_start', 'intron_end']):\n",
    "        f_slice_start = (f[slice_origin] - f.mrna_start + offset).apply(lambda val: max(0, val))\n",
    "        f.loc[:, 'mrna_len'] = f.mrna_end - f.mrna_start\n",
    "        f.loc[:, 'start'] = f_slice_start\n",
    "        f.loc[:, 'end'] = (f_slice_start + length)\n",
    "        f.loc[:, 'end'] = f[['end', 'mrna_len']].min(axis=1)\n",
    "        # Detect short sequences\n",
    "        short_mask = (f.end - f.start) != length\n",
    "        short_end_mask = short_mask & (f.end == f.mrna_len)\n",
    "        short_start_mask = short_mask & (f.start == 0)\n",
    "        if short_end_mask.sum() > 0:\n",
    "            # Fix the samples with short ends\n",
    "            f_short_ends = f.loc[short_end_mask, :]\n",
    "            f_short_lengths = f_short_ends.end - f_short_ends.start\n",
    "            f_short_adjustments = f_short_lengths - length\n",
    "            f_short_ends.loc[:, 'start'] = f_short_ends.start + f_short_adjustments\n",
    "            f.loc[short_end_mask, :] = f_short_ends\n",
    "        if short_start_mask.sum() > 0:\n",
    "            # Fix the samples with short starts\n",
    "            f_short_starts = f.loc[short_start_mask, :]\n",
    "            f_short_lengths = f_short_starts.end - f_short_starts.start\n",
    "            f_short_adjustments = (f_short_lengths - length).mul(-1)\n",
    "            f_short_starts.loc[:, 'end'] = f_short_starts.end + f_short_adjustments\n",
    "            f.loc[short_start_mask, :] = f_short_starts\n",
    "        f = f[['chromosome', 'geneid', 'transcriptid', 'start', 'end']]\n",
    "        frames.append(f)\n",
    "    intron_edges = pd.concat(frames, axis=0)\n",
    "    intron_edges.loc[:, 'type'] = 'intron-edge'\n",
    "    return intron_edges"
   ]
  },
  {
   "cell_type": "code",
   "execution_count": 72,
   "metadata": {},
   "outputs": [
    {
     "data": {
      "text/html": [
       "<div>\n",
       "<style scoped>\n",
       "    .dataframe tbody tr th:only-of-type {\n",
       "        vertical-align: middle;\n",
       "    }\n",
       "\n",
       "    .dataframe tbody tr th {\n",
       "        vertical-align: top;\n",
       "    }\n",
       "\n",
       "    .dataframe thead th {\n",
       "        text-align: right;\n",
       "    }\n",
       "</style>\n",
       "<table border=\"1\" class=\"dataframe\">\n",
       "  <thead>\n",
       "    <tr style=\"text-align: right;\">\n",
       "      <th></th>\n",
       "      <th>chromosome</th>\n",
       "      <th>geneid</th>\n",
       "      <th>transcriptid</th>\n",
       "      <th>start</th>\n",
       "      <th>end</th>\n",
       "      <th>type</th>\n",
       "    </tr>\n",
       "  </thead>\n",
       "  <tbody>\n",
       "    <tr>\n",
       "      <th>121958</th>\n",
       "      <td>NC_000001.11</td>\n",
       "      <td>GeneID:5202</td>\n",
       "      <td>XM_011509624.4</td>\n",
       "      <td>7442</td>\n",
       "      <td>7506</td>\n",
       "      <td>intron-edge</td>\n",
       "    </tr>\n",
       "    <tr>\n",
       "      <th>146867</th>\n",
       "      <td>NC_000001.11</td>\n",
       "      <td>GeneID:93273</td>\n",
       "      <td>XM_011510162.3</td>\n",
       "      <td>0</td>\n",
       "      <td>64</td>\n",
       "      <td>intron-edge</td>\n",
       "    </tr>\n",
       "    <tr>\n",
       "      <th>131932</th>\n",
       "      <td>NC_000001.11</td>\n",
       "      <td>GeneID:7827</td>\n",
       "      <td>XM_017002298.2</td>\n",
       "      <td>16238</td>\n",
       "      <td>16302</td>\n",
       "      <td>intron-edge</td>\n",
       "    </tr>\n",
       "    <tr>\n",
       "      <th>103694</th>\n",
       "      <td>NC_000001.11</td>\n",
       "      <td>GeneID:84072</td>\n",
       "      <td>XM_047431826.1</td>\n",
       "      <td>9319</td>\n",
       "      <td>9383</td>\n",
       "      <td>intron-edge</td>\n",
       "    </tr>\n",
       "    <tr>\n",
       "      <th>119879</th>\n",
       "      <td>NC_000001.11</td>\n",
       "      <td>GeneID:115350</td>\n",
       "      <td>NM_052938.5</td>\n",
       "      <td>22221</td>\n",
       "      <td>22285</td>\n",
       "      <td>intron-edge</td>\n",
       "    </tr>\n",
       "  </tbody>\n",
       "</table>\n",
       "</div>"
      ],
      "text/plain": [
       "          chromosome         geneid    transcriptid  start    end         type\n",
       "121958  NC_000001.11    GeneID:5202  XM_011509624.4   7442   7506  intron-edge\n",
       "146867  NC_000001.11   GeneID:93273  XM_011510162.3      0     64  intron-edge\n",
       "131932  NC_000001.11    GeneID:7827  XM_017002298.2  16238  16302  intron-edge\n",
       "103694  NC_000001.11   GeneID:84072  XM_047431826.1   9319   9383  intron-edge\n",
       "119879  NC_000001.11  GeneID:115350     NM_052938.5  22221  22285  intron-edge"
      ]
     },
     "execution_count": 72,
     "metadata": {},
     "output_type": "execute_result"
    }
   ],
   "source": [
    "#| hide\n",
    "example_sample_intron_edges = sample_intron_edges(intron_locations, allowed_intron_edges, random_state=random_state)\n",
    "example_sample_intron_edges.head()"
   ]
  },
  {
   "cell_type": "code",
   "execution_count": 73,
   "metadata": {},
   "outputs": [
    {
     "data": {
      "text/plain": [
       "64    432000\n",
       "Name: count, dtype: int64"
      ]
     },
     "metadata": {},
     "output_type": "display_data"
    },
    {
     "data": {
      "text/plain": [
       "False    432000\n",
       "Name: count, dtype: int64"
      ]
     },
     "execution_count": 73,
     "metadata": {},
     "output_type": "execute_result"
    }
   ],
   "source": [
    "#| hide\n",
    "example_sample_intron_edges_lengths = example_sample_intron_edges.end - example_sample_intron_edges.start\n",
    "display(example_sample_intron_edges_lengths.value_counts())\n",
    "bad_length_mask = example_sample_intron_edges_lengths != 64\n",
    "bad_length_mask.value_counts()"
   ]
  },
  {
   "cell_type": "code",
   "execution_count": 74,
   "metadata": {},
   "outputs": [
    {
     "data": {
      "text/html": [
       "<div>\n",
       "<style scoped>\n",
       "    .dataframe tbody tr th:only-of-type {\n",
       "        vertical-align: middle;\n",
       "    }\n",
       "\n",
       "    .dataframe tbody tr th {\n",
       "        vertical-align: top;\n",
       "    }\n",
       "\n",
       "    .dataframe thead th {\n",
       "        text-align: right;\n",
       "    }\n",
       "</style>\n",
       "<table border=\"1\" class=\"dataframe\">\n",
       "  <thead>\n",
       "    <tr style=\"text-align: right;\">\n",
       "      <th></th>\n",
       "      <th>chromosome</th>\n",
       "      <th>geneid</th>\n",
       "      <th>transcriptid</th>\n",
       "      <th>start</th>\n",
       "      <th>end</th>\n",
       "      <th>type</th>\n",
       "    </tr>\n",
       "  </thead>\n",
       "  <tbody>\n",
       "  </tbody>\n",
       "</table>\n",
       "</div>"
      ],
      "text/plain": [
       "Empty DataFrame\n",
       "Columns: [chromosome, geneid, transcriptid, start, end, type]\n",
       "Index: []"
      ]
     },
     "execution_count": 74,
     "metadata": {},
     "output_type": "execute_result"
    }
   ],
   "source": [
    "#| hide\n",
    "example_sample_intron_edges[bad_length_mask]"
   ]
  },
  {
   "cell_type": "code",
   "execution_count": 75,
   "metadata": {},
   "outputs": [
    {
     "data": {
      "text/plain": [
       "count    168635.000000\n",
       "mean       5827.990850\n",
       "std       17118.083674\n",
       "min          33.000000\n",
       "25%         543.000000\n",
       "50%        1534.000000\n",
       "75%        4281.000000\n",
       "max      451448.000000\n",
       "dtype: float64"
      ]
     },
     "execution_count": 75,
     "metadata": {},
     "output_type": "execute_result"
    }
   ],
   "source": [
    "#| hide\n",
    "intron_lengths = intron_locations.intron_end - intron_locations.intron_start\n",
    "intron_lengths.describe()"
   ]
  },
  {
   "cell_type": "code",
   "execution_count": 76,
   "metadata": {},
   "outputs": [
    {
     "data": {
      "text/plain": [
       "(33, 451448)"
      ]
     },
     "execution_count": 76,
     "metadata": {},
     "output_type": "execute_result"
    }
   ],
   "source": [
    "#| hide\n",
    "intron_lengths.min(), intron_lengths.max()"
   ]
  },
  {
   "cell_type": "code",
   "execution_count": 77,
   "metadata": {},
   "outputs": [],
   "source": [
    "#| export\n",
    "def sample_introns(\n",
    "        locations: pd.DataFrame, n: int,\n",
    "        random_state: int = 42, length: int = 64) -> pd.DataFrame:\n",
    "    random.seed(random_state)\n",
    "    \"Get training instances where most of the tokens are <intron>.\"\n",
    "    replace = False if n < locations.shape[0] else True\n",
    "    intron_sample = locations.sample(n, replace=replace, random_state=random_state)\n",
    "    # Handle sequences of varying sizes\n",
    "    intron_sample.loc[:, 'intron_length'] = intron_sample.intron_end - intron_sample.intron_start\n",
    "    intron_len_mask = intron_sample.intron_length <= length\n",
    "    small_introns = intron_sample[intron_len_mask]\n",
    "    large_introns = intron_sample[~intron_len_mask]\n",
    "    sample_frames = []\n",
    "    if small_introns.shape[0] > 0:\n",
    "        # For those introns less than length, center, return the whole thing\n",
    "        # Start at intron start\n",
    "        small_intron_slice_center = small_introns.intron_start\n",
    "        # Shift slice center half the distance of the target sequence\n",
    "        small_intron_slice_center = small_intron_slice_center.subtract(int(length / 2)).apply(lambda val: max(0, val))\n",
    "        small_introns.loc[:, 'start'] = small_intron_slice_center\n",
    "        small_introns.loc[:, 'end'] = small_introns.start + length\n",
    "        small_introns.loc[:, 'end'] = small_introns[['end', 'mrna_end']].min(axis=1)\n",
    "        small_introns = small_introns[['chromosome', 'geneid', 'transcriptid', 'start', 'end']]\n",
    "        small_introns.loc[:, 'type'] = 'intron-small'\n",
    "        sample_frames.append(small_introns)\n",
    "    if large_introns.shape[0] > 0:\n",
    "        # For larger introns, identify the range we can slice to avoid edges\n",
    "        large_introns.loc[:, 'slice_max'] = large_introns.intron_end - length\n",
    "        large_introns.loc[:, 'slice_range'] = large_introns.apply(lambda row: range(row.intron_start, row.slice_max + 1, 1), axis=1)\n",
    "        large_introns.loc[:, 'start'] = large_introns.slice_range.apply(lambda r: random.choice(r))\n",
    "        large_introns.loc[:, 'end'] = large_introns.start + length\n",
    "        large_introns = large_introns[['chromosome', 'geneid', 'transcriptid', 'start', 'end']]\n",
    "        large_introns.loc[:, 'type'] = 'intron'\n",
    "        sample_frames.append(large_introns)\n",
    "    # Randomly select a slice point within the identified range\n",
    "    introns = pd.concat(sample_frames, axis=0)\n",
    "    return introns"
   ]
  },
  {
   "cell_type": "code",
   "execution_count": 78,
   "metadata": {},
   "outputs": [
    {
     "data": {
      "text/html": [
       "<div>\n",
       "<style scoped>\n",
       "    .dataframe tbody tr th:only-of-type {\n",
       "        vertical-align: middle;\n",
       "    }\n",
       "\n",
       "    .dataframe tbody tr th {\n",
       "        vertical-align: top;\n",
       "    }\n",
       "\n",
       "    .dataframe thead th {\n",
       "        text-align: right;\n",
       "    }\n",
       "</style>\n",
       "<table border=\"1\" class=\"dataframe\">\n",
       "  <thead>\n",
       "    <tr style=\"text-align: right;\">\n",
       "      <th></th>\n",
       "      <th>chromosome</th>\n",
       "      <th>geneid</th>\n",
       "      <th>transcriptid</th>\n",
       "      <th>start</th>\n",
       "      <th>end</th>\n",
       "      <th>type</th>\n",
       "    </tr>\n",
       "  </thead>\n",
       "  <tbody>\n",
       "    <tr>\n",
       "      <th>112692</th>\n",
       "      <td>NC_000001.11</td>\n",
       "      <td>GeneID:55974</td>\n",
       "      <td>XM_047425465.1</td>\n",
       "      <td>2215</td>\n",
       "      <td>2279</td>\n",
       "      <td>intron-small</td>\n",
       "    </tr>\n",
       "    <tr>\n",
       "      <th>4987</th>\n",
       "      <td>NC_000001.11</td>\n",
       "      <td>GeneID:124903828</td>\n",
       "      <td>XM_047436627.1</td>\n",
       "      <td>27191</td>\n",
       "      <td>27255</td>\n",
       "      <td>intron-small</td>\n",
       "    </tr>\n",
       "    <tr>\n",
       "      <th>112683</th>\n",
       "      <td>NC_000001.11</td>\n",
       "      <td>GeneID:55974</td>\n",
       "      <td>XM_006711453.3</td>\n",
       "      <td>2215</td>\n",
       "      <td>2279</td>\n",
       "      <td>intron-small</td>\n",
       "    </tr>\n",
       "    <tr>\n",
       "      <th>9316</th>\n",
       "      <td>NC_000001.11</td>\n",
       "      <td>GeneID:8863</td>\n",
       "      <td>NM_001289863.3</td>\n",
       "      <td>45629</td>\n",
       "      <td>45693</td>\n",
       "      <td>intron-small</td>\n",
       "    </tr>\n",
       "    <tr>\n",
       "      <th>9316</th>\n",
       "      <td>NC_000001.11</td>\n",
       "      <td>GeneID:8863</td>\n",
       "      <td>NM_001289863.3</td>\n",
       "      <td>45629</td>\n",
       "      <td>45693</td>\n",
       "      <td>intron-small</td>\n",
       "    </tr>\n",
       "  </tbody>\n",
       "</table>\n",
       "</div>"
      ],
      "text/plain": [
       "          chromosome            geneid    transcriptid  start    end   \n",
       "112692  NC_000001.11      GeneID:55974  XM_047425465.1   2215   2279  \\\n",
       "4987    NC_000001.11  GeneID:124903828  XM_047436627.1  27191  27255   \n",
       "112683  NC_000001.11      GeneID:55974  XM_006711453.3   2215   2279   \n",
       "9316    NC_000001.11       GeneID:8863  NM_001289863.3  45629  45693   \n",
       "9316    NC_000001.11       GeneID:8863  NM_001289863.3  45629  45693   \n",
       "\n",
       "                type  \n",
       "112692  intron-small  \n",
       "4987    intron-small  \n",
       "112683  intron-small  \n",
       "9316    intron-small  \n",
       "9316    intron-small  "
      ]
     },
     "execution_count": 78,
     "metadata": {},
     "output_type": "execute_result"
    }
   ],
   "source": [
    "#| hide\n",
    "example_sample_introns = sample_introns(intron_locations, int(training_instance_target * proportion_intron), random_state=random_state)\n",
    "example_sample_introns.head()"
   ]
  },
  {
   "cell_type": "code",
   "execution_count": 79,
   "metadata": {},
   "outputs": [
    {
     "data": {
      "text/plain": [
       "array([64])"
      ]
     },
     "execution_count": 79,
     "metadata": {},
     "output_type": "execute_result"
    }
   ],
   "source": [
    "#| hide\n",
    "(example_sample_introns.end - example_sample_introns.start).unique()"
   ]
  },
  {
   "cell_type": "code",
   "execution_count": 80,
   "metadata": {},
   "outputs": [
    {
     "data": {
      "text/html": [
       "<div>\n",
       "<style scoped>\n",
       "    .dataframe tbody tr th:only-of-type {\n",
       "        vertical-align: middle;\n",
       "    }\n",
       "\n",
       "    .dataframe tbody tr th {\n",
       "        vertical-align: top;\n",
       "    }\n",
       "\n",
       "    .dataframe thead th {\n",
       "        text-align: right;\n",
       "    }\n",
       "</style>\n",
       "<table border=\"1\" class=\"dataframe\">\n",
       "  <thead>\n",
       "    <tr style=\"text-align: right;\">\n",
       "      <th></th>\n",
       "      <th>geneid</th>\n",
       "      <th>transcriptid</th>\n",
       "      <th>intron_start</th>\n",
       "      <th>intron_end</th>\n",
       "      <th>mrna_start</th>\n",
       "      <th>mrna_end</th>\n",
       "      <th>chromosome</th>\n",
       "    </tr>\n",
       "  </thead>\n",
       "  <tbody>\n",
       "    <tr>\n",
       "      <th>0</th>\n",
       "      <td>GeneID:79501</td>\n",
       "      <td>NM_001005484.2</td>\n",
       "      <td>15</td>\n",
       "      <td>101</td>\n",
       "      <td>0</td>\n",
       "      <td>6167</td>\n",
       "      <td>NC_000001.11</td>\n",
       "    </tr>\n",
       "    <tr>\n",
       "      <th>1</th>\n",
       "      <td>GeneID:79501</td>\n",
       "      <td>NM_001005484.2</td>\n",
       "      <td>155</td>\n",
       "      <td>3618</td>\n",
       "      <td>0</td>\n",
       "      <td>6167</td>\n",
       "      <td>NC_000001.11</td>\n",
       "    </tr>\n",
       "    <tr>\n",
       "      <th>2</th>\n",
       "      <td>GeneID:112268260</td>\n",
       "      <td>XM_047436352.1</td>\n",
       "      <td>186</td>\n",
       "      <td>547</td>\n",
       "      <td>0</td>\n",
       "      <td>17102</td>\n",
       "      <td>NC_000001.11</td>\n",
       "    </tr>\n",
       "    <tr>\n",
       "      <th>3</th>\n",
       "      <td>GeneID:112268260</td>\n",
       "      <td>XM_047436352.1</td>\n",
       "      <td>1339</td>\n",
       "      <td>2365</td>\n",
       "      <td>0</td>\n",
       "      <td>17102</td>\n",
       "      <td>NC_000001.11</td>\n",
       "    </tr>\n",
       "    <tr>\n",
       "      <th>4</th>\n",
       "      <td>GeneID:112268260</td>\n",
       "      <td>XM_047436352.1</td>\n",
       "      <td>2467</td>\n",
       "      <td>8912</td>\n",
       "      <td>0</td>\n",
       "      <td>17102</td>\n",
       "      <td>NC_000001.11</td>\n",
       "    </tr>\n",
       "  </tbody>\n",
       "</table>\n",
       "</div>"
      ],
      "text/plain": [
       "             geneid    transcriptid  intron_start  intron_end  mrna_start   \n",
       "0      GeneID:79501  NM_001005484.2            15         101           0  \\\n",
       "1      GeneID:79501  NM_001005484.2           155        3618           0   \n",
       "2  GeneID:112268260  XM_047436352.1           186         547           0   \n",
       "3  GeneID:112268260  XM_047436352.1          1339        2365           0   \n",
       "4  GeneID:112268260  XM_047436352.1          2467        8912           0   \n",
       "\n",
       "   mrna_end    chromosome  \n",
       "0      6167  NC_000001.11  \n",
       "1      6167  NC_000001.11  \n",
       "2     17102  NC_000001.11  \n",
       "3     17102  NC_000001.11  \n",
       "4     17102  NC_000001.11  "
      ]
     },
     "execution_count": 80,
     "metadata": {},
     "output_type": "execute_result"
    }
   ],
   "source": [
    "#| hide\n",
    "intron_locations.head(5)"
   ]
  },
  {
   "cell_type": "code",
   "execution_count": 81,
   "metadata": {},
   "outputs": [
    {
     "data": {
      "text/html": [
       "<div>\n",
       "<style scoped>\n",
       "    .dataframe tbody tr th:only-of-type {\n",
       "        vertical-align: middle;\n",
       "    }\n",
       "\n",
       "    .dataframe tbody tr th {\n",
       "        vertical-align: top;\n",
       "    }\n",
       "\n",
       "    .dataframe thead th {\n",
       "        text-align: right;\n",
       "    }\n",
       "</style>\n",
       "<table border=\"1\" class=\"dataframe\">\n",
       "  <thead>\n",
       "    <tr style=\"text-align: right;\">\n",
       "      <th></th>\n",
       "      <th>geneid</th>\n",
       "      <th>transcriptid</th>\n",
       "      <th>intron_start</th>\n",
       "      <th>intron_end</th>\n",
       "      <th>mrna_start</th>\n",
       "      <th>mrna_end</th>\n",
       "      <th>chromosome</th>\n",
       "      <th>mrna_seq_start</th>\n",
       "      <th>mrna_seq_end</th>\n",
       "    </tr>\n",
       "  </thead>\n",
       "  <tbody>\n",
       "    <tr>\n",
       "      <th>166694</th>\n",
       "      <td>GeneID:10000</td>\n",
       "      <td>NM_001206729.2</td>\n",
       "      <td>41</td>\n",
       "      <td>302</td>\n",
       "      <td>7495</td>\n",
       "      <td>351356</td>\n",
       "      <td>NC_000001.11</td>\n",
       "      <td>7495</td>\n",
       "      <td>7536</td>\n",
       "    </tr>\n",
       "    <tr>\n",
       "      <th>166695</th>\n",
       "      <td>GeneID:10000</td>\n",
       "      <td>NM_001206729.2</td>\n",
       "      <td>460</td>\n",
       "      <td>147868</td>\n",
       "      <td>7495</td>\n",
       "      <td>351356</td>\n",
       "      <td>NC_000001.11</td>\n",
       "      <td>7797</td>\n",
       "      <td>7955</td>\n",
       "    </tr>\n",
       "    <tr>\n",
       "      <th>166696</th>\n",
       "      <td>GeneID:10000</td>\n",
       "      <td>NM_001206729.2</td>\n",
       "      <td>147994</td>\n",
       "      <td>178701</td>\n",
       "      <td>7495</td>\n",
       "      <td>351356</td>\n",
       "      <td>NC_000001.11</td>\n",
       "      <td>155363</td>\n",
       "      <td>155489</td>\n",
       "    </tr>\n",
       "  </tbody>\n",
       "</table>\n",
       "</div>"
      ],
      "text/plain": [
       "              geneid    transcriptid  intron_start  intron_end  mrna_start   \n",
       "166694  GeneID:10000  NM_001206729.2            41         302        7495  \\\n",
       "166695  GeneID:10000  NM_001206729.2           460      147868        7495   \n",
       "166696  GeneID:10000  NM_001206729.2        147994      178701        7495   \n",
       "\n",
       "        mrna_end    chromosome  mrna_seq_start  mrna_seq_end  \n",
       "166694    351356  NC_000001.11            7495          7536  \n",
       "166695    351356  NC_000001.11            7797          7955  \n",
       "166696    351356  NC_000001.11          155363        155489  "
      ]
     },
     "metadata": {},
     "output_type": "display_data"
    },
    {
     "data": {
      "text/html": [
       "<div>\n",
       "<style scoped>\n",
       "    .dataframe tbody tr th:only-of-type {\n",
       "        vertical-align: middle;\n",
       "    }\n",
       "\n",
       "    .dataframe tbody tr th {\n",
       "        vertical-align: top;\n",
       "    }\n",
       "\n",
       "    .dataframe thead th {\n",
       "        text-align: right;\n",
       "    }\n",
       "</style>\n",
       "<table border=\"1\" class=\"dataframe\">\n",
       "  <thead>\n",
       "    <tr style=\"text-align: right;\">\n",
       "      <th></th>\n",
       "      <th>geneid</th>\n",
       "      <th>transcriptid</th>\n",
       "      <th>intron_start</th>\n",
       "      <th>intron_end</th>\n",
       "      <th>mrna_start</th>\n",
       "      <th>mrna_end</th>\n",
       "      <th>chromosome</th>\n",
       "      <th>mrna_seq_start</th>\n",
       "      <th>mrna_seq_end</th>\n",
       "    </tr>\n",
       "  </thead>\n",
       "  <tbody>\n",
       "    <tr>\n",
       "      <th>166706</th>\n",
       "      <td>GeneID:10000</td>\n",
       "      <td>NM_001206729.2</td>\n",
       "      <td>331261</td>\n",
       "      <td>343798</td>\n",
       "      <td>7495</td>\n",
       "      <td>351356</td>\n",
       "      <td>NC_000001.11</td>\n",
       "      <td>343798</td>\n",
       "      <td>351356</td>\n",
       "    </tr>\n",
       "    <tr>\n",
       "      <th>166602</th>\n",
       "      <td>GeneID:10000</td>\n",
       "      <td>NM_001370074.1</td>\n",
       "      <td>338756</td>\n",
       "      <td>345745</td>\n",
       "      <td>0</td>\n",
       "      <td>351356</td>\n",
       "      <td>NC_000001.11</td>\n",
       "      <td>345745</td>\n",
       "      <td>351356</td>\n",
       "    </tr>\n",
       "    <tr>\n",
       "      <th>166693</th>\n",
       "      <td>GeneID:10000</td>\n",
       "      <td>NM_005465.7</td>\n",
       "      <td>337920</td>\n",
       "      <td>344909</td>\n",
       "      <td>836</td>\n",
       "      <td>351356</td>\n",
       "      <td>NC_000001.11</td>\n",
       "      <td>344909</td>\n",
       "      <td>351356</td>\n",
       "    </tr>\n",
       "  </tbody>\n",
       "</table>\n",
       "</div>"
      ],
      "text/plain": [
       "              geneid    transcriptid  intron_start  intron_end  mrna_start   \n",
       "166706  GeneID:10000  NM_001206729.2        331261      343798        7495  \\\n",
       "166602  GeneID:10000  NM_001370074.1        338756      345745           0   \n",
       "166693  GeneID:10000     NM_005465.7        337920      344909         836   \n",
       "\n",
       "        mrna_end    chromosome  mrna_seq_start  mrna_seq_end  \n",
       "166706    351356  NC_000001.11          343798        351356  \n",
       "166602    351356  NC_000001.11          345745        351356  \n",
       "166693    351356  NC_000001.11          344909        351356  "
      ]
     },
     "metadata": {},
     "output_type": "display_data"
    },
    {
     "data": {
      "text/html": [
       "<div>\n",
       "<style scoped>\n",
       "    .dataframe tbody tr th:only-of-type {\n",
       "        vertical-align: middle;\n",
       "    }\n",
       "\n",
       "    .dataframe tbody tr th {\n",
       "        vertical-align: top;\n",
       "    }\n",
       "\n",
       "    .dataframe thead th {\n",
       "        text-align: right;\n",
       "    }\n",
       "</style>\n",
       "<table border=\"1\" class=\"dataframe\">\n",
       "  <thead>\n",
       "    <tr style=\"text-align: right;\">\n",
       "      <th></th>\n",
       "      <th>geneid</th>\n",
       "      <th>transcriptid</th>\n",
       "      <th>intron_start</th>\n",
       "      <th>intron_end</th>\n",
       "      <th>mrna_start</th>\n",
       "      <th>mrna_end</th>\n",
       "      <th>chromosome</th>\n",
       "      <th>mrna_seq_start</th>\n",
       "      <th>mrna_seq_end</th>\n",
       "    </tr>\n",
       "  </thead>\n",
       "  <tbody>\n",
       "    <tr>\n",
       "      <th>0</th>\n",
       "      <td>GeneID:10000</td>\n",
       "      <td>NM_001206729.2</td>\n",
       "      <td>41</td>\n",
       "      <td>302</td>\n",
       "      <td>7495</td>\n",
       "      <td>351356</td>\n",
       "      <td>NC_000001.11</td>\n",
       "      <td>7495</td>\n",
       "      <td>7536</td>\n",
       "    </tr>\n",
       "    <tr>\n",
       "      <th>1</th>\n",
       "      <td>GeneID:10000</td>\n",
       "      <td>NM_001206729.2</td>\n",
       "      <td>460</td>\n",
       "      <td>147868</td>\n",
       "      <td>7495</td>\n",
       "      <td>351356</td>\n",
       "      <td>NC_000001.11</td>\n",
       "      <td>7797</td>\n",
       "      <td>7955</td>\n",
       "    </tr>\n",
       "    <tr>\n",
       "      <th>2</th>\n",
       "      <td>GeneID:10000</td>\n",
       "      <td>NM_001206729.2</td>\n",
       "      <td>147994</td>\n",
       "      <td>178701</td>\n",
       "      <td>7495</td>\n",
       "      <td>351356</td>\n",
       "      <td>NC_000001.11</td>\n",
       "      <td>155363</td>\n",
       "      <td>155489</td>\n",
       "    </tr>\n",
       "  </tbody>\n",
       "</table>\n",
       "</div>"
      ],
      "text/plain": [
       "         geneid    transcriptid  intron_start  intron_end  mrna_start   \n",
       "0  GeneID:10000  NM_001206729.2            41         302        7495  \\\n",
       "1  GeneID:10000  NM_001206729.2           460      147868        7495   \n",
       "2  GeneID:10000  NM_001206729.2        147994      178701        7495   \n",
       "\n",
       "   mrna_end    chromosome  mrna_seq_start  mrna_seq_end  \n",
       "0    351356  NC_000001.11            7495          7536  \n",
       "1    351356  NC_000001.11            7797          7955  \n",
       "2    351356  NC_000001.11          155363        155489  "
      ]
     },
     "execution_count": 81,
     "metadata": {},
     "output_type": "execute_result"
    }
   ],
   "source": [
    "#| hide\n",
    "intron_locations_sample = intron_locations.sort_values(['chromosome', 'geneid', 'transcriptid']).head(50)\n",
    "intron_locations_sample_grouped = intron_locations_sample.groupby(\n",
    "        ['chromosome', 'geneid', 'transcriptid']\n",
    ")\n",
    "intron_locations_sample.loc[:, 'mrna_seq_start'] = (\n",
    "    intron_locations_sample_grouped.intron_end.shift(1).fillna(0) + \\\n",
    "        intron_locations_sample.mrna_start\n",
    ").astype(int)\n",
    "intron_locations_sample.loc[:, 'mrna_seq_end'] = intron_locations_sample.intron_start + \\\n",
    "        intron_locations_sample.mrna_start\n",
    "display(intron_locations_sample.head(3))\n",
    "# Add last sequence of mRNA from last intron\n",
    "intron_locations_sample_last_intron = intron_locations_sample_grouped.tail(1)\n",
    "intron_locations_sample_last_intron.loc[:, 'mrna_seq_start'] = intron_locations_sample_last_intron.intron_end\n",
    "intron_locations_sample_last_intron.loc[:, 'mrna_seq_end'] = intron_locations_sample_last_intron.mrna_end\n",
    "display(intron_locations_sample_last_intron.head(3))\n",
    "intron_locations_sample_mrna_locations = pd.concat(\n",
    "    [\n",
    "        intron_locations_sample,\n",
    "        intron_locations_sample_last_intron\n",
    "    ], axis=0, ignore_index=True\n",
    "    ).sort_values(\n",
    "        ['chromosome', 'geneid', 'transcriptid']).reset_index(drop=True)\n",
    "intron_locations_sample_mrna_locations.head(3)"
   ]
  },
  {
   "cell_type": "code",
   "execution_count": 82,
   "metadata": {},
   "outputs": [],
   "source": [
    "#| export\n",
    "def sample_mrna(\n",
    "        mrna_locations: pd.DataFrame, n: int, \n",
    "        random_state: int = 42, length: int = 64) -> pd.DataFrame:\n",
    "    \"Get a sample or mrna sequence locations\"\n",
    "    replace = False if n < mrna_locations.shape[0] else True\n",
    "    mrna_locations = mrna_locations.sample(n, replace=replace, random_state=random_state)\n",
    "    # For small mrna sections, do the same thing we did with the introns\n",
    "    # Handle sequences of varying sizes\n",
    "    mrna_locations.loc[:, 'length'] = mrna_locations.end - mrna_locations.start\n",
    "    mrna_len_mask = mrna_locations.length <= length\n",
    "    small_sequences = mrna_locations[mrna_len_mask]\n",
    "    large_sequences = mrna_locations[~mrna_len_mask]\n",
    "    sample_frames = []\n",
    "    if small_sequences.shape[0] > 0:\n",
    "        # For those introns less than length, center, return the whole thing\n",
    "        # Start at intron start\n",
    "        small_sequences_slice_center = small_sequences.start\n",
    "        # Shift slice center half the distance of the target sequence\n",
    "        small_sequences_slice_center = small_sequences_slice_center.subtract(int(length / 2)).apply(lambda val: max(0, val))\n",
    "        small_sequences.loc[:, 'start'] = small_sequences_slice_center\n",
    "        small_sequences.loc[:, 'end'] = small_sequences.start + length\n",
    "        small_sequences.loc[:, 'end'] = small_sequences[['end', 'mrna_end']].min(axis=1)\n",
    "        small_sequences = small_sequences[['chromosome', 'geneid', 'transcriptid', 'start', 'end']]\n",
    "        small_sequences.loc[:, 'type'] = 'mrna-small'\n",
    "        sample_frames.append(small_sequences)\n",
    "    if large_sequences.shape[0] > 0:\n",
    "        # For larger introns, identify the range we can slice to avoid edges\n",
    "        large_sequences.loc[:, 'slice_max'] = large_sequences.end - length\n",
    "        large_sequences.loc[:, 'slice_range'] = large_sequences.apply(lambda row: range(row.start, row.slice_max + 1, 1), axis=1)\n",
    "        large_sequences.loc[:, 'start'] = large_sequences.slice_range.apply(lambda r: random.choice(r))\n",
    "        large_sequences.loc[:, 'end'] = large_sequences.start + length\n",
    "        large_sequences = large_sequences[['chromosome', 'geneid', 'transcriptid', 'start', 'end']]\n",
    "        large_sequences.loc[:, 'type'] = 'mrna'\n",
    "        sample_frames.append(large_sequences)\n",
    "    # Randomly select a slice point within the identified range\n",
    "    return pd.concat(sample_frames, axis=0, ignore_index=True)"
   ]
  },
  {
   "cell_type": "code",
   "execution_count": 83,
   "metadata": {},
   "outputs": [],
   "source": [
    "#| hide\n",
    "mrna_locations = get_mrna_locations(intron_locations)"
   ]
  },
  {
   "cell_type": "code",
   "execution_count": 84,
   "metadata": {},
   "outputs": [
    {
     "data": {
      "text/html": [
       "<div>\n",
       "<style scoped>\n",
       "    .dataframe tbody tr th:only-of-type {\n",
       "        vertical-align: middle;\n",
       "    }\n",
       "\n",
       "    .dataframe tbody tr th {\n",
       "        vertical-align: top;\n",
       "    }\n",
       "\n",
       "    .dataframe thead th {\n",
       "        text-align: right;\n",
       "    }\n",
       "</style>\n",
       "<table border=\"1\" class=\"dataframe\">\n",
       "  <thead>\n",
       "    <tr style=\"text-align: right;\">\n",
       "      <th></th>\n",
       "      <th>chromosome</th>\n",
       "      <th>geneid</th>\n",
       "      <th>transcriptid</th>\n",
       "      <th>start</th>\n",
       "      <th>end</th>\n",
       "      <th>type</th>\n",
       "    </tr>\n",
       "  </thead>\n",
       "  <tbody>\n",
       "    <tr>\n",
       "      <th>0</th>\n",
       "      <td>NC_000001.11</td>\n",
       "      <td>GeneID:55740</td>\n",
       "      <td>XM_024448311.2</td>\n",
       "      <td>154687</td>\n",
       "      <td>154751</td>\n",
       "      <td>mrna-small</td>\n",
       "    </tr>\n",
       "    <tr>\n",
       "      <th>1</th>\n",
       "      <td>NC_000001.11</td>\n",
       "      <td>GeneID:405</td>\n",
       "      <td>XM_005245153.2</td>\n",
       "      <td>30260</td>\n",
       "      <td>30324</td>\n",
       "      <td>mrna-small</td>\n",
       "    </tr>\n",
       "    <tr>\n",
       "      <th>2</th>\n",
       "      <td>NC_000001.11</td>\n",
       "      <td>GeneID:5909</td>\n",
       "      <td>NM_001388231.1</td>\n",
       "      <td>51353</td>\n",
       "      <td>51417</td>\n",
       "      <td>mrna-small</td>\n",
       "    </tr>\n",
       "    <tr>\n",
       "      <th>3</th>\n",
       "      <td>NC_000001.11</td>\n",
       "      <td>GeneID:5909</td>\n",
       "      <td>NM_001388295.1</td>\n",
       "      <td>38637</td>\n",
       "      <td>38701</td>\n",
       "      <td>mrna-small</td>\n",
       "    </tr>\n",
       "    <tr>\n",
       "      <th>4</th>\n",
       "      <td>NC_000001.11</td>\n",
       "      <td>GeneID:353134</td>\n",
       "      <td>NM_178352.3</td>\n",
       "      <td>0</td>\n",
       "      <td>64</td>\n",
       "      <td>mrna-small</td>\n",
       "    </tr>\n",
       "  </tbody>\n",
       "</table>\n",
       "</div>"
      ],
      "text/plain": [
       "     chromosome         geneid    transcriptid   start     end        type\n",
       "0  NC_000001.11   GeneID:55740  XM_024448311.2  154687  154751  mrna-small\n",
       "1  NC_000001.11     GeneID:405  XM_005245153.2   30260   30324  mrna-small\n",
       "2  NC_000001.11    GeneID:5909  NM_001388231.1   51353   51417  mrna-small\n",
       "3  NC_000001.11    GeneID:5909  NM_001388295.1   38637   38701  mrna-small\n",
       "4  NC_000001.11  GeneID:353134     NM_178352.3       0      64  mrna-small"
      ]
     },
     "execution_count": 84,
     "metadata": {},
     "output_type": "execute_result"
    }
   ],
   "source": [
    "#| hide\n",
    "example_sample_mrna = sample_mrna(mrna_locations, int(proportion_mrna * training_instance_target))\n",
    "example_sample_mrna.head()"
   ]
  },
  {
   "cell_type": "code",
   "execution_count": 85,
   "metadata": {},
   "outputs": [],
   "source": [
    "#| export\n",
    "def sample_mrna_edges(locations: pd.DataFrame, n: int, random_state: int = 42, length: int = 64) -> pd.DataFrame:\n",
    "    \"Get the beginning and end of mrna\"\n",
    "    locations = locations.drop_duplicates(\n",
    "        ['chromosome', 'geneid', 'transcriptid', 'mrna_start', 'mrna_end']\n",
    "    ).drop(['intron_start', 'intron_end'], axis=1).reset_index(drop=True)\n",
    "    n_start = int(n / 2)\n",
    "    n_end = n - n_start\n",
    "    replace = False if (n_start < locations.shape[0]) or (n_end < locations.shape[0]) else True\n",
    "    mrna_starts = locations.sample(\n",
    "        n_start, replace=replace, random_state=random_state\n",
    "        ).rename({'mrna_start': 'start'}, axis=1)\n",
    "    mrna_starts.loc[:, 'end'] = mrna_starts.start + length\n",
    "    mrna_starts.loc[:, 'end'] = mrna_starts[['mrna_end', 'end']].min(axis=1)\n",
    "    mrna_starts.drop(['mrna_end'], axis=1, inplace=True)\n",
    "    mrna_ends = locations.sample(\n",
    "        n_end, replace=replace, random_state=random_state).rename({'mrna_end': 'end'}, axis=1)\n",
    "    mrna_ends.loc[:, 'start'] = mrna_ends.end - length\n",
    "    mrna_ends.loc[:, 'start'] = mrna_ends[['mrna_start', 'start']].max(axis=1)\n",
    "    mrna_ends.drop(['mrna_start'], axis=1, inplace=True)\n",
    "    sample_edges = pd.concat([mrna_starts, mrna_ends], axis=0, ignore_index=True)\n",
    "    sample_edges = sample_edges[['chromosome', 'geneid', 'transcriptid', 'start', 'end']]\n",
    "    sample_edges.loc[:, 'type'] = 'mrna-edge'\n",
    "    return sample_edges"
   ]
  },
  {
   "cell_type": "code",
   "execution_count": 86,
   "metadata": {},
   "outputs": [
    {
     "data": {
      "text/html": [
       "<div>\n",
       "<style scoped>\n",
       "    .dataframe tbody tr th:only-of-type {\n",
       "        vertical-align: middle;\n",
       "    }\n",
       "\n",
       "    .dataframe tbody tr th {\n",
       "        vertical-align: top;\n",
       "    }\n",
       "\n",
       "    .dataframe thead th {\n",
       "        text-align: right;\n",
       "    }\n",
       "</style>\n",
       "<table border=\"1\" class=\"dataframe\">\n",
       "  <thead>\n",
       "    <tr style=\"text-align: right;\">\n",
       "      <th></th>\n",
       "      <th>chromosome</th>\n",
       "      <th>geneid</th>\n",
       "      <th>transcriptid</th>\n",
       "      <th>start</th>\n",
       "      <th>end</th>\n",
       "      <th>type</th>\n",
       "    </tr>\n",
       "  </thead>\n",
       "  <tbody>\n",
       "    <tr>\n",
       "      <th>0</th>\n",
       "      <td>NC_000001.11</td>\n",
       "      <td>GeneID:9659</td>\n",
       "      <td>NM_001395320.1</td>\n",
       "      <td>36075</td>\n",
       "      <td>36139</td>\n",
       "      <td>mrna-edge</td>\n",
       "    </tr>\n",
       "    <tr>\n",
       "      <th>1</th>\n",
       "      <td>NC_000001.11</td>\n",
       "      <td>GeneID:5293</td>\n",
       "      <td>XM_047422571.1</td>\n",
       "      <td>24473</td>\n",
       "      <td>24537</td>\n",
       "      <td>mrna-edge</td>\n",
       "    </tr>\n",
       "    <tr>\n",
       "      <th>2</th>\n",
       "      <td>NC_000001.11</td>\n",
       "      <td>GeneID:11080</td>\n",
       "      <td>NM_007034.5</td>\n",
       "      <td>25764</td>\n",
       "      <td>25828</td>\n",
       "      <td>mrna-edge</td>\n",
       "    </tr>\n",
       "    <tr>\n",
       "      <th>3</th>\n",
       "      <td>NC_000001.11</td>\n",
       "      <td>GeneID:81573</td>\n",
       "      <td>NM_030816.5</td>\n",
       "      <td>0</td>\n",
       "      <td>64</td>\n",
       "      <td>mrna-edge</td>\n",
       "    </tr>\n",
       "    <tr>\n",
       "      <th>4</th>\n",
       "      <td>NC_000001.11</td>\n",
       "      <td>GeneID:116841</td>\n",
       "      <td>XM_017000232.2</td>\n",
       "      <td>463</td>\n",
       "      <td>527</td>\n",
       "      <td>mrna-edge</td>\n",
       "    </tr>\n",
       "  </tbody>\n",
       "</table>\n",
       "</div>"
      ],
      "text/plain": [
       "     chromosome         geneid    transcriptid  start    end       type\n",
       "0  NC_000001.11    GeneID:9659  NM_001395320.1  36075  36139  mrna-edge\n",
       "1  NC_000001.11    GeneID:5293  XM_047422571.1  24473  24537  mrna-edge\n",
       "2  NC_000001.11   GeneID:11080     NM_007034.5  25764  25828  mrna-edge\n",
       "3  NC_000001.11   GeneID:81573     NM_030816.5      0     64  mrna-edge\n",
       "4  NC_000001.11  GeneID:116841  XM_017000232.2    463    527  mrna-edge"
      ]
     },
     "execution_count": 86,
     "metadata": {},
     "output_type": "execute_result"
    }
   ],
   "source": [
    "#| hide\n",
    "example_sample_mrna_edges = sample_mrna_edges(intron_locations, int(proportion_mrna_edge * training_instance_target))\n",
    "example_sample_mrna_edges.head()"
   ]
  },
  {
   "cell_type": "code",
   "execution_count": 87,
   "metadata": {},
   "outputs": [],
   "source": [
    "#| export\n",
    "def sample_sequences_idx(\n",
    "        n: int, \n",
    "        intron_locations: pd.DataFrame,\n",
    "        mrna_locations: pd.DataFrame,\n",
    "        intron_prop: float, intron_edge_prop: float, \n",
    "        mrna_prop: float, mrna_edge_prop: float,\n",
    "        random_state: int = 42,\n",
    "        length: int = 64) -> pd.DataFrame:\n",
    "    \"Build training dataset from intron locations.\"\n",
    "    intron_sample = sample_introns(\n",
    "        intron_locations, int(n * intron_prop), \n",
    "        random_state=random_state, length=length)\n",
    "    intron_edge_sample = sample_intron_edges(\n",
    "        intron_locations, int(n * intron_edge_prop), \n",
    "        random_state=random_state, length=length)\n",
    "    mrna_sample = sample_mrna(mrna_locations, int(n * mrna_prop), \n",
    "        random_state=random_state, length=length)\n",
    "    mrna_edge_sample = sample_mrna_edges(intron_locations, int(n * mrna_edge_prop),\n",
    "        random_state=random_state, length=length)\n",
    "    sample = pd.concat([\n",
    "        intron_sample,\n",
    "        intron_edge_sample,\n",
    "        mrna_sample,\n",
    "        mrna_edge_sample\n",
    "    ], axis=0, ignore_index=True)\n",
    "    return sample"
   ]
  },
  {
   "cell_type": "code",
   "execution_count": 88,
   "metadata": {},
   "outputs": [
    {
     "data": {
      "text/plain": [
       "type\n",
       "intron         125\n",
       "intron-edge    125\n",
       "mrna-edge      125\n",
       "mrna           114\n",
       "mrna-small      11\n",
       "Name: count, dtype: int64"
      ]
     },
     "execution_count": 88,
     "metadata": {},
     "output_type": "execute_result"
    }
   ],
   "source": [
    "#| hide\n",
    "example_sample_sequence_idx = sample_sequences_idx(\n",
    "    500,\n",
    "    intron_locations,\n",
    "    mrna_locations,\n",
    "    intron_prop=proportion_intron,\n",
    "    intron_edge_prop=proportion_intron_edge,\n",
    "    mrna_prop=proportion_mrna,\n",
    "    mrna_edge_prop=proportion_mrna_edge,\n",
    "    random_state=random_state,\n",
    ")\n",
    "example_sample_sequence_idx['type'].value_counts()"
   ]
  },
  {
   "cell_type": "code",
   "execution_count": 89,
   "metadata": {},
   "outputs": [
    {
     "data": {
      "text/html": [
       "<div>\n",
       "<style scoped>\n",
       "    .dataframe tbody tr th:only-of-type {\n",
       "        vertical-align: middle;\n",
       "    }\n",
       "\n",
       "    .dataframe tbody tr th {\n",
       "        vertical-align: top;\n",
       "    }\n",
       "\n",
       "    .dataframe thead th {\n",
       "        text-align: right;\n",
       "    }\n",
       "</style>\n",
       "<table border=\"1\" class=\"dataframe\">\n",
       "  <thead>\n",
       "    <tr style=\"text-align: right;\">\n",
       "      <th></th>\n",
       "      <th>chromosome</th>\n",
       "      <th>geneid</th>\n",
       "      <th>transcriptid</th>\n",
       "      <th>start</th>\n",
       "      <th>end</th>\n",
       "      <th>type</th>\n",
       "    </tr>\n",
       "  </thead>\n",
       "  <tbody>\n",
       "    <tr>\n",
       "      <th>0</th>\n",
       "      <td>NC_000001.11</td>\n",
       "      <td>GeneID:83872</td>\n",
       "      <td>XM_011510038.4</td>\n",
       "      <td>402874</td>\n",
       "      <td>402938</td>\n",
       "      <td>intron</td>\n",
       "    </tr>\n",
       "    <tr>\n",
       "      <th>1</th>\n",
       "      <td>NC_000001.11</td>\n",
       "      <td>GeneID:84288</td>\n",
       "      <td>NM_001143943.1</td>\n",
       "      <td>7411</td>\n",
       "      <td>7475</td>\n",
       "      <td>intron</td>\n",
       "    </tr>\n",
       "    <tr>\n",
       "      <th>2</th>\n",
       "      <td>NC_000001.11</td>\n",
       "      <td>GeneID:64754</td>\n",
       "      <td>XM_047428021.1</td>\n",
       "      <td>52326</td>\n",
       "      <td>52390</td>\n",
       "      <td>intron</td>\n",
       "    </tr>\n",
       "    <tr>\n",
       "      <th>3</th>\n",
       "      <td>NC_000001.11</td>\n",
       "      <td>GeneID:149483</td>\n",
       "      <td>XM_011540820.2</td>\n",
       "      <td>1312</td>\n",
       "      <td>1376</td>\n",
       "      <td>intron</td>\n",
       "    </tr>\n",
       "    <tr>\n",
       "      <th>4</th>\n",
       "      <td>NC_000001.11</td>\n",
       "      <td>GeneID:57540</td>\n",
       "      <td>XM_011541832.2</td>\n",
       "      <td>40411</td>\n",
       "      <td>40475</td>\n",
       "      <td>intron</td>\n",
       "    </tr>\n",
       "  </tbody>\n",
       "</table>\n",
       "</div>"
      ],
      "text/plain": [
       "     chromosome         geneid    transcriptid   start     end    type\n",
       "0  NC_000001.11   GeneID:83872  XM_011510038.4  402874  402938  intron\n",
       "1  NC_000001.11   GeneID:84288  NM_001143943.1    7411    7475  intron\n",
       "2  NC_000001.11   GeneID:64754  XM_047428021.1   52326   52390  intron\n",
       "3  NC_000001.11  GeneID:149483  XM_011540820.2    1312    1376  intron\n",
       "4  NC_000001.11   GeneID:57540  XM_011541832.2   40411   40475  intron"
      ]
     },
     "execution_count": 89,
     "metadata": {},
     "output_type": "execute_result"
    }
   ],
   "source": [
    "#| hide\n",
    "example_sample_sequence_idx.head()"
   ]
  },
  {
   "cell_type": "markdown",
   "metadata": {},
   "source": [
    "## Getting sequences from sample indices"
   ]
  },
  {
   "cell_type": "code",
   "execution_count": 90,
   "metadata": {},
   "outputs": [],
   "source": [
    "#| export\n",
    "def get_training_sequences_with_idx(\n",
    "        gene: list[str], mrna: list[str],\n",
    "        start: int, end: int,\n",
    "        ) -> tuple[str, str]:\n",
    "    \"\"\n",
    "    return \",\".join(gene[start: end]), \",\".join(mrna[start: end])"
   ]
  },
  {
   "cell_type": "code",
   "execution_count": 91,
   "metadata": {},
   "outputs": [
    {
     "data": {
      "text/plain": [
       "chromosome        NC_000001.11\n",
       "geneid            GeneID:83872\n",
       "transcriptid    XM_011510038.4\n",
       "start                   402874\n",
       "end                     402938\n",
       "type                    intron\n",
       "Name: 0, dtype: object"
      ]
     },
     "execution_count": 91,
     "metadata": {},
     "output_type": "execute_result"
    }
   ],
   "source": [
    "#| hide\n",
    "example_idx_row = example_sample_sequence_idx.iloc[0, :]\n",
    "example_idx_row"
   ]
  },
  {
   "cell_type": "code",
   "execution_count": 92,
   "metadata": {},
   "outputs": [],
   "source": [
    "#| export\n",
    "def tokenize_gene(gene: str) -> list[str]:\n",
    "    return list(gene)\n",
    "\n",
    "\n",
    "def tokenize_mrna(mrna: str) -> list[str]:\n",
    "    return mrna.split(',')"
   ]
  },
  {
   "cell_type": "code",
   "execution_count": 93,
   "metadata": {},
   "outputs": [
    {
     "data": {
      "text/plain": [
       "456559"
      ]
     },
     "execution_count": 93,
     "metadata": {},
     "output_type": "execute_result"
    }
   ],
   "source": [
    "#| hide\n",
    "len(tokenize_gene(get_genes(latest_assembly_path, \n",
    "        columns=['sequence'],\n",
    "        chromosome=example_idx_row.chromosome, \n",
    "        gene_ids=[example_idx_row.geneid]).sequence.iloc[0]))"
   ]
  },
  {
   "cell_type": "code",
   "execution_count": 94,
   "metadata": {},
   "outputs": [
    {
     "data": {
      "text/plain": [
       "456559"
      ]
     },
     "execution_count": 94,
     "metadata": {},
     "output_type": "execute_result"
    }
   ],
   "source": [
    "#| hide\n",
    "len(tokenize_mrna(get_mrna(\n",
    "        latest_assembly_path,\n",
    "        columns=['sequence'],\n",
    "        chromosome=example_idx_row.chromosome,\n",
    "        gene_ids=[example_idx_row.geneid], \n",
    "        transcript_ids=[example_idx_row.transcriptid]).sequence.iloc[0]))"
   ]
  },
  {
   "cell_type": "code",
   "execution_count": 95,
   "metadata": {},
   "outputs": [
    {
     "data": {
      "text/plain": [
       "(127, 575)"
      ]
     },
     "execution_count": 95,
     "metadata": {},
     "output_type": "execute_result"
    }
   ],
   "source": [
    "#| hide\n",
    "example_training_sequence_gene, example_training_sequence_mrna = get_training_sequences_with_idx(\n",
    "    tokenize_gene(\n",
    "        get_genes(\n",
    "            latest_assembly_path, \n",
    "            columns=['sequence'],\n",
    "            chromosome=example_idx_row.chromosome, \n",
    "            gene_ids=[example_idx_row.geneid]).sequence.iloc[0]),\n",
    "    tokenize_mrna(\n",
    "        get_mrna(\n",
    "            latest_assembly_path,\n",
    "            columns=['sequence'],\n",
    "            chromosome=example_idx_row.chromosome,\n",
    "            gene_ids=[example_idx_row.geneid], \n",
    "            transcript_ids=[example_idx_row.transcriptid]).sequence.iloc[0]),\n",
    "    example_idx_row.start, example_idx_row.end,\n",
    ")\n",
    "len(example_training_sequence_gene), len(example_training_sequence_mrna)"
   ]
  },
  {
   "cell_type": "code",
   "execution_count": 96,
   "metadata": {},
   "outputs": [
    {
     "data": {
      "text/plain": [
       "(64, 64)"
      ]
     },
     "execution_count": 96,
     "metadata": {},
     "output_type": "execute_result"
    }
   ],
   "source": [
    "#| hide\n",
    "len(example_training_sequence_gene.split(',')), len(example_training_sequence_mrna.split(\",\"))"
   ]
  },
  {
   "cell_type": "code",
   "execution_count": 97,
   "metadata": {},
   "outputs": [
    {
     "data": {
      "text/plain": [
       "(str, str)"
      ]
     },
     "execution_count": 97,
     "metadata": {},
     "output_type": "execute_result"
    }
   ],
   "source": [
    "#| hide\n",
    "type(example_training_sequence_gene), type(example_training_sequence_mrna)"
   ]
  },
  {
   "cell_type": "code",
   "execution_count": 98,
   "metadata": {},
   "outputs": [
    {
     "data": {
      "text/html": [
       "<div>\n",
       "<style scoped>\n",
       "    .dataframe tbody tr th:only-of-type {\n",
       "        vertical-align: middle;\n",
       "    }\n",
       "\n",
       "    .dataframe tbody tr th {\n",
       "        vertical-align: top;\n",
       "    }\n",
       "\n",
       "    .dataframe thead th {\n",
       "        text-align: right;\n",
       "    }\n",
       "</style>\n",
       "<table border=\"1\" class=\"dataframe\">\n",
       "  <thead>\n",
       "    <tr style=\"text-align: right;\">\n",
       "      <th></th>\n",
       "      <th>chromosome</th>\n",
       "      <th>geneid</th>\n",
       "      <th>transcriptid</th>\n",
       "      <th>start</th>\n",
       "      <th>end</th>\n",
       "      <th>type</th>\n",
       "    </tr>\n",
       "  </thead>\n",
       "  <tbody>\n",
       "    <tr>\n",
       "      <th>0</th>\n",
       "      <td>NC_000001.11</td>\n",
       "      <td>GeneID:83872</td>\n",
       "      <td>XM_011510038.4</td>\n",
       "      <td>402874</td>\n",
       "      <td>402938</td>\n",
       "      <td>intron</td>\n",
       "    </tr>\n",
       "    <tr>\n",
       "      <th>1</th>\n",
       "      <td>NC_000001.11</td>\n",
       "      <td>GeneID:84288</td>\n",
       "      <td>NM_001143943.1</td>\n",
       "      <td>7411</td>\n",
       "      <td>7475</td>\n",
       "      <td>intron</td>\n",
       "    </tr>\n",
       "    <tr>\n",
       "      <th>2</th>\n",
       "      <td>NC_000001.11</td>\n",
       "      <td>GeneID:64754</td>\n",
       "      <td>XM_047428021.1</td>\n",
       "      <td>52326</td>\n",
       "      <td>52390</td>\n",
       "      <td>intron</td>\n",
       "    </tr>\n",
       "    <tr>\n",
       "      <th>3</th>\n",
       "      <td>NC_000001.11</td>\n",
       "      <td>GeneID:149483</td>\n",
       "      <td>XM_011540820.2</td>\n",
       "      <td>1312</td>\n",
       "      <td>1376</td>\n",
       "      <td>intron</td>\n",
       "    </tr>\n",
       "    <tr>\n",
       "      <th>4</th>\n",
       "      <td>NC_000001.11</td>\n",
       "      <td>GeneID:57540</td>\n",
       "      <td>XM_011541832.2</td>\n",
       "      <td>40411</td>\n",
       "      <td>40475</td>\n",
       "      <td>intron</td>\n",
       "    </tr>\n",
       "  </tbody>\n",
       "</table>\n",
       "</div>"
      ],
      "text/plain": [
       "     chromosome         geneid    transcriptid   start     end    type\n",
       "0  NC_000001.11   GeneID:83872  XM_011510038.4  402874  402938  intron\n",
       "1  NC_000001.11   GeneID:84288  NM_001143943.1    7411    7475  intron\n",
       "2  NC_000001.11   GeneID:64754  XM_047428021.1   52326   52390  intron\n",
       "3  NC_000001.11  GeneID:149483  XM_011540820.2    1312    1376  intron\n",
       "4  NC_000001.11   GeneID:57540  XM_011541832.2   40411   40475  intron"
      ]
     },
     "execution_count": 98,
     "metadata": {},
     "output_type": "execute_result"
    }
   ],
   "source": [
    "#| hide\n",
    "example_sample_sequence_idx.head()"
   ]
  },
  {
   "cell_type": "code",
   "execution_count": 99,
   "metadata": {},
   "outputs": [
    {
     "data": {
      "text/plain": [
       "(500, 6)"
      ]
     },
     "execution_count": 99,
     "metadata": {},
     "output_type": "execute_result"
    }
   ],
   "source": [
    "#| hide\n",
    "example_sample_sequence_idx.shape"
   ]
  },
  {
   "cell_type": "code",
   "execution_count": 100,
   "metadata": {},
   "outputs": [],
   "source": [
    "#| export\n",
    "def get_gene_transcript_samples(\n",
    "    chromosome: str,\n",
    "    geneid: str,\n",
    "    transcript_id: str,\n",
    "    sample_idx: list[list[int, int]],\n",
    "    assembly_path: Path,\n",
    "    sep: str = \",\",\n",
    "    gene_connection: sqlite3.Connection | None = None,\n",
    "    mrna_connection: sqlite3.Connection | None = None) -> list[tuple[int, str, str]]:\n",
    "    gene_str_list = tokenize_gene(\n",
    "        get_genes(\n",
    "            assembly_path, chromosome=chromosome, \n",
    "            gene_ids=[geneid],\n",
    "            con=gene_connection\n",
    "        ).sequence.iloc[0])\n",
    "    mrna_str_list = tokenize_mrna(\n",
    "        get_mrna(\n",
    "            assembly_path, chromosome=chromosome, \n",
    "            gene_ids=[geneid], transcript_ids=[transcript_id],\n",
    "            con=mrna_connection).sequence.iloc[0])\n",
    "    samples = []\n",
    "    for start, end in sample_idx:\n",
    "        samples.append(\n",
    "            (\n",
    "                sep.join(gene_str_list[start: end]),\n",
    "                sep.join(mrna_str_list[start: end])\n",
    "            )\n",
    "        )\n",
    "    return samples"
   ]
  },
  {
   "cell_type": "code",
   "execution_count": 101,
   "metadata": {},
   "outputs": [
    {
     "data": {
      "text/plain": [
       "chromosome    geneid         transcriptid  \n",
       "NC_000001.11  GeneID:6262    XM_047427337.1    3\n",
       "              GeneID:200159  XM_011544129.4    3\n",
       "              GeneID:149483  XM_011540820.2    3\n",
       "              GeneID:64175   XM_047427621.1    3\n",
       "              GeneID:81627   NM_001202423.2    5\n",
       "Name: type, dtype: int64"
      ]
     },
     "execution_count": 101,
     "metadata": {},
     "output_type": "execute_result"
    }
   ],
   "source": [
    "#| hide\n",
    "example_sample_sequence_idx.groupby([\"chromosome\", \"geneid\", \"transcriptid\"]).type.count().sort_values().tail()"
   ]
  },
  {
   "cell_type": "code",
   "execution_count": 102,
   "metadata": {},
   "outputs": [
    {
     "data": {
      "text/plain": [
       "[[11302, 11366], [9446, 9510], [11059, 11123], [439, 503], [39373, 39437]]"
      ]
     },
     "execution_count": 102,
     "metadata": {},
     "output_type": "execute_result"
    }
   ],
   "source": [
    "#| hide\n",
    "example_idx_chromosome = \"NC_000001.11\"\n",
    "example_idx_geneid = \"GeneID:81627\"\n",
    "example_idx_transcriptid = \"NM_001202423.2\"\n",
    "\n",
    "example_idx_df = example_sample_sequence_idx[\n",
    "    (example_sample_sequence_idx.chromosome == example_idx_chromosome) &\n",
    "    (example_sample_sequence_idx.geneid == example_idx_geneid) &\n",
    "    (example_sample_sequence_idx.transcriptid == example_idx_transcriptid)]# [['start', 'end']].values.tolist()\n",
    "example_idx_idx = example_idx_df[['start', 'end']].values.tolist()\n",
    "example_types = example_idx_df['type'].tolist()\n",
    "example_idx_idx"
   ]
  },
  {
   "cell_type": "code",
   "execution_count": 103,
   "metadata": {},
   "outputs": [
    {
     "data": {
      "text/plain": [
       "[('C,A,A,G,C,T,G,G,T,T,G,T,T,T,A,G,T,A,T,G,G,C,C,T,C,C,A,T,T,A,A,A,A,A,T,T,A,A,G,T,T,A,T,A,T,A,A,A,C,C,T,A,A,A,A,A,T,G,A,A,T,G,A,G',\n",
       "  '<intron>,<intron>,<intron>,<intron>,<intron>,<intron>,<intron>,<intron>,<intron>,<intron>,<intron>,<intron>,<intron>,<intron>,<intron>,<intron>,<intron>,<intron>,<intron>,<intron>,<intron>,<intron>,<intron>,<intron>,<intron>,<intron>,<intron>,<intron>,<intron>,<intron>,<intron>,<intron>,<intron>,<intron>,<intron>,<intron>,<intron>,<intron>,<intron>,<intron>,<intron>,<intron>,<intron>,<intron>,<intron>,<intron>,<intron>,<intron>,<intron>,<intron>,<intron>,<intron>,<intron>,<intron>,<intron>,<intron>,<intron>,<intron>,<intron>,<intron>,<intron>,<intron>,<intron>,<intron>'),\n",
       " ('T,G,G,A,G,C,A,C,T,T,C,A,G,C,A,T,A,T,A,C,A,A,G,T,A,A,G,A,A,A,T,G,A,T,C,G,A,A,T,C,T,A,A,G,G,T,A,T,A,A,G,A,A,A,A,A,T,G,C,A,T,T,A,G',\n",
       "  '<intron>,<intron>,<intron>,<intron>,<intron>,<intron>,<intron>,<intron>,<intron>,<intron>,<intron>,<intron>,<intron>,<intron>,<intron>,<intron>,<intron>,<intron>,<intron>,<intron>,<intron>,<intron>,<intron>,<intron>,<intron>,<intron>,<intron>,<intron>,<intron>,<intron>,<intron>,<intron>,<intron>,<intron>,<intron>,<intron>,<intron>,<intron>,<intron>,<intron>,<intron>,<intron>,<intron>,<intron>,<intron>,<intron>,<intron>,<intron>,<intron>,<intron>,<intron>,<intron>,<intron>,<intron>,<intron>,<intron>,<intron>,<intron>,<intron>,<intron>,<intron>,<intron>,<intron>,<intron>'),\n",
       " ('A,G,G,A,A,C,C,T,T,G,G,G,T,A,A,T,G,T,G,C,T,T,C,A,C,T,A,T,T,T,T,C,T,A,T,T,T,G,C,T,G,T,A,A,G,G,G,T,C,C,A,A,G,T,A,A,A,A,A,G,G,A,G,G',\n",
       "  '<intron>,<intron>,<intron>,<intron>,<intron>,<intron>,<intron>,<intron>,<intron>,<intron>,<intron>,<intron>,<intron>,<intron>,<intron>,<intron>,<intron>,<intron>,<intron>,<intron>,<intron>,<intron>,<intron>,<intron>,<intron>,<intron>,<intron>,<intron>,<intron>,<intron>,<intron>,<intron>,<intron>,<intron>,<intron>,<intron>,<intron>,<intron>,<intron>,<intron>,<intron>,<intron>,<intron>,<intron>,<intron>,<intron>,<intron>,<intron>,<intron>,<intron>,<intron>,<intron>,<intron>,<intron>,<intron>,<intron>,<intron>,<intron>,<intron>,<intron>,<intron>,<intron>,<intron>,<intron>'),\n",
       " ('A,G,A,C,T,G,C,G,C,A,G,T,G,T,A,T,C,C,T,G,G,G,T,G,C,T,G,T,A,G,T,C,T,T,T,G,T,T,C,G,G,T,T,T,G,G,T,G,G,T,T,G,G,C,C,G,G,T,G,G,G,C,C,G',\n",
       "  'A,G,A,C,U,G,C,G,C,A,G,U,G,U,A,U,C,C,U,G,G,G,U,G,C,U,G,U,A,G,U,C,U,U,U,G,U,U,C,G,G,U,U,U,G,G,U,G,G,U,U,G,G,C,C,G,G,U,G,G,G,C,C,G'),\n",
       " ('A,A,A,T,G,T,T,T,A,T,C,A,T,G,T,T,G,T,A,A,A,G,T,A,G,C,A,T,C,A,G,T,T,G,T,A,T,C,C,T,T,T,C,A,T,T,A,A,A,A,C,T,T,G,A,T,A,A,A,C,A,A,A,A',\n",
       "  'A,A,A,U,G,U,U,U,A,U,C,A,U,G,U,U,G,U,A,A,A,G,U,A,G,C,A,U,C,A,G,U,U,G,U,A,U,C,C,U,U,U,C,A,U,U,A,A,A,A,C,U,U,G,A,U,A,A,A,C,A,A,A,A')]"
      ]
     },
     "execution_count": 103,
     "metadata": {},
     "output_type": "execute_result"
    }
   ],
   "source": [
    "#| hide\n",
    "example_idx_sequences = get_gene_transcript_samples(\n",
    "    example_idx_chromosome,\n",
    "    example_idx_geneid,\n",
    "    example_idx_transcriptid,\n",
    "    example_idx_idx,\n",
    "    latest_assembly_path\n",
    ")\n",
    "example_idx_sequences"
   ]
  },
  {
   "cell_type": "code",
   "execution_count": 104,
   "metadata": {},
   "outputs": [
    {
     "data": {
      "text/html": [
       "<div>\n",
       "<style scoped>\n",
       "    .dataframe tbody tr th:only-of-type {\n",
       "        vertical-align: middle;\n",
       "    }\n",
       "\n",
       "    .dataframe tbody tr th {\n",
       "        vertical-align: top;\n",
       "    }\n",
       "\n",
       "    .dataframe thead th {\n",
       "        text-align: right;\n",
       "    }\n",
       "</style>\n",
       "<table border=\"1\" class=\"dataframe\">\n",
       "  <thead>\n",
       "    <tr style=\"text-align: right;\">\n",
       "      <th></th>\n",
       "      <th>input</th>\n",
       "      <th>target</th>\n",
       "    </tr>\n",
       "  </thead>\n",
       "  <tbody>\n",
       "    <tr>\n",
       "      <th>0</th>\n",
       "      <td>C,A,A,G,C,T,G,G,T,T,G,T,T,T,A,G,T,A,T,G,G,C,C,...</td>\n",
       "      <td>&lt;intron&gt;,&lt;intron&gt;,&lt;intron&gt;,&lt;intron&gt;,&lt;intron&gt;,&lt;...</td>\n",
       "    </tr>\n",
       "    <tr>\n",
       "      <th>1</th>\n",
       "      <td>T,G,G,A,G,C,A,C,T,T,C,A,G,C,A,T,A,T,A,C,A,A,G,...</td>\n",
       "      <td>&lt;intron&gt;,&lt;intron&gt;,&lt;intron&gt;,&lt;intron&gt;,&lt;intron&gt;,&lt;...</td>\n",
       "    </tr>\n",
       "    <tr>\n",
       "      <th>2</th>\n",
       "      <td>A,G,G,A,A,C,C,T,T,G,G,G,T,A,A,T,G,T,G,C,T,T,C,...</td>\n",
       "      <td>&lt;intron&gt;,&lt;intron&gt;,&lt;intron&gt;,&lt;intron&gt;,&lt;intron&gt;,&lt;...</td>\n",
       "    </tr>\n",
       "    <tr>\n",
       "      <th>3</th>\n",
       "      <td>A,G,A,C,T,G,C,G,C,A,G,T,G,T,A,T,C,C,T,G,G,G,T,...</td>\n",
       "      <td>A,G,A,C,U,G,C,G,C,A,G,U,G,U,A,U,C,C,U,G,G,G,U,...</td>\n",
       "    </tr>\n",
       "    <tr>\n",
       "      <th>4</th>\n",
       "      <td>A,A,A,T,G,T,T,T,A,T,C,A,T,G,T,T,G,T,A,A,A,G,T,...</td>\n",
       "      <td>A,A,A,U,G,U,U,U,A,U,C,A,U,G,U,U,G,U,A,A,A,G,U,...</td>\n",
       "    </tr>\n",
       "  </tbody>\n",
       "</table>\n",
       "</div>"
      ],
      "text/plain": [
       "                                               input   \n",
       "0  C,A,A,G,C,T,G,G,T,T,G,T,T,T,A,G,T,A,T,G,G,C,C,...  \\\n",
       "1  T,G,G,A,G,C,A,C,T,T,C,A,G,C,A,T,A,T,A,C,A,A,G,...   \n",
       "2  A,G,G,A,A,C,C,T,T,G,G,G,T,A,A,T,G,T,G,C,T,T,C,...   \n",
       "3  A,G,A,C,T,G,C,G,C,A,G,T,G,T,A,T,C,C,T,G,G,G,T,...   \n",
       "4  A,A,A,T,G,T,T,T,A,T,C,A,T,G,T,T,G,T,A,A,A,G,T,...   \n",
       "\n",
       "                                              target  \n",
       "0  <intron>,<intron>,<intron>,<intron>,<intron>,<...  \n",
       "1  <intron>,<intron>,<intron>,<intron>,<intron>,<...  \n",
       "2  <intron>,<intron>,<intron>,<intron>,<intron>,<...  \n",
       "3  A,G,A,C,U,G,C,G,C,A,G,U,G,U,A,U,C,C,U,G,G,G,U,...  \n",
       "4  A,A,A,U,G,U,U,U,A,U,C,A,U,G,U,U,G,U,A,A,A,G,U,...  "
      ]
     },
     "execution_count": 104,
     "metadata": {},
     "output_type": "execute_result"
    }
   ],
   "source": [
    "#| hide\n",
    "example_idx_sequences_frame = pd.DataFrame(example_idx_sequences, columns=['input', 'target'])\n",
    "example_idx_sequences_frame.head()"
   ]
  },
  {
   "cell_type": "code",
   "execution_count": 105,
   "metadata": {},
   "outputs": [
    {
     "data": {
      "text/plain": [
       "(input\n",
       " 64    5\n",
       " Name: count, dtype: int64,\n",
       " target\n",
       " 64    5\n",
       " Name: count, dtype: int64)"
      ]
     },
     "execution_count": 105,
     "metadata": {},
     "output_type": "execute_result"
    }
   ],
   "source": [
    "#| hide\n",
    "example_idx_sequences_frame.input.str.split(\",\").apply(len).value_counts(),\\\n",
    "example_idx_sequences_frame.target.str.split(\",\").apply(len).value_counts()"
   ]
  },
  {
   "cell_type": "code",
   "execution_count": 106,
   "metadata": {},
   "outputs": [],
   "source": [
    "#| export\n",
    "def get_gene_transcript_samples_wrapper(args) -> pd.DataFrame:\n",
    "    chromosome = args.get(\"chromosome\")\n",
    "    gene_id = args.get('geneid')\n",
    "    transcript_id = args.get(\"transcriptid\")\n",
    "    sample_idx = args.get(\"index\")\n",
    "    index_types = args.get(\"types\")\n",
    "    assembly_path = args.get(\"assembly_path\")\n",
    "    sequences_list = get_gene_transcript_samples(\n",
    "        chromosome,\n",
    "        gene_id,\n",
    "        transcript_id,\n",
    "        sample_idx,\n",
    "        assembly_path\n",
    "    )\n",
    "    sequences_frame = pd.DataFrame(\n",
    "        sequences_list, columns=['input', 'target'])\n",
    "    sequences_frame.loc[:, 'chromosome'] = chromosome\n",
    "    sequences_frame.loc[:, 'geneid'] = gene_id\n",
    "    sequences_frame.loc[:, 'transcriptid'] = transcript_id\n",
    "    sequences_frame.loc[:, 'type'] = index_types\n",
    "    idx_df = pd.DataFrame(sample_idx, columns=['start', 'end'])\n",
    "    sequences_frame = pd.concat([sequences_frame, idx_df], axis=1)\n",
    "    return sequences_frame"
   ]
  },
  {
   "cell_type": "code",
   "execution_count": 107,
   "metadata": {},
   "outputs": [
    {
     "data": {
      "text/html": [
       "<div>\n",
       "<style scoped>\n",
       "    .dataframe tbody tr th:only-of-type {\n",
       "        vertical-align: middle;\n",
       "    }\n",
       "\n",
       "    .dataframe tbody tr th {\n",
       "        vertical-align: top;\n",
       "    }\n",
       "\n",
       "    .dataframe thead th {\n",
       "        text-align: right;\n",
       "    }\n",
       "</style>\n",
       "<table border=\"1\" class=\"dataframe\">\n",
       "  <thead>\n",
       "    <tr style=\"text-align: right;\">\n",
       "      <th></th>\n",
       "      <th>input</th>\n",
       "      <th>target</th>\n",
       "      <th>chromosome</th>\n",
       "      <th>geneid</th>\n",
       "      <th>transcriptid</th>\n",
       "      <th>type</th>\n",
       "      <th>start</th>\n",
       "      <th>end</th>\n",
       "    </tr>\n",
       "  </thead>\n",
       "  <tbody>\n",
       "    <tr>\n",
       "      <th>0</th>\n",
       "      <td>C,A,A,G,C,T,G,G,T,T,G,T,T,T,A,G,T,A,T,G,G,C,C,...</td>\n",
       "      <td>&lt;intron&gt;,&lt;intron&gt;,&lt;intron&gt;,&lt;intron&gt;,&lt;intron&gt;,&lt;...</td>\n",
       "      <td>NC_000001.11</td>\n",
       "      <td>GeneID:81627</td>\n",
       "      <td>NM_001202423.2</td>\n",
       "      <td>intron</td>\n",
       "      <td>11302</td>\n",
       "      <td>11366</td>\n",
       "    </tr>\n",
       "    <tr>\n",
       "      <th>1</th>\n",
       "      <td>T,G,G,A,G,C,A,C,T,T,C,A,G,C,A,T,A,T,A,C,A,A,G,...</td>\n",
       "      <td>&lt;intron&gt;,&lt;intron&gt;,&lt;intron&gt;,&lt;intron&gt;,&lt;intron&gt;,&lt;...</td>\n",
       "      <td>NC_000001.11</td>\n",
       "      <td>GeneID:81627</td>\n",
       "      <td>NM_001202423.2</td>\n",
       "      <td>intron-edge</td>\n",
       "      <td>9446</td>\n",
       "      <td>9510</td>\n",
       "    </tr>\n",
       "    <tr>\n",
       "      <th>2</th>\n",
       "      <td>A,G,G,A,A,C,C,T,T,G,G,G,T,A,A,T,G,T,G,C,T,T,C,...</td>\n",
       "      <td>&lt;intron&gt;,&lt;intron&gt;,&lt;intron&gt;,&lt;intron&gt;,&lt;intron&gt;,&lt;...</td>\n",
       "      <td>NC_000001.11</td>\n",
       "      <td>GeneID:81627</td>\n",
       "      <td>NM_001202423.2</td>\n",
       "      <td>intron-edge</td>\n",
       "      <td>11059</td>\n",
       "      <td>11123</td>\n",
       "    </tr>\n",
       "    <tr>\n",
       "      <th>3</th>\n",
       "      <td>A,G,A,C,T,G,C,G,C,A,G,T,G,T,A,T,C,C,T,G,G,G,T,...</td>\n",
       "      <td>A,G,A,C,U,G,C,G,C,A,G,U,G,U,A,U,C,C,U,G,G,G,U,...</td>\n",
       "      <td>NC_000001.11</td>\n",
       "      <td>GeneID:81627</td>\n",
       "      <td>NM_001202423.2</td>\n",
       "      <td>mrna-edge</td>\n",
       "      <td>439</td>\n",
       "      <td>503</td>\n",
       "    </tr>\n",
       "    <tr>\n",
       "      <th>4</th>\n",
       "      <td>A,A,A,T,G,T,T,T,A,T,C,A,T,G,T,T,G,T,A,A,A,G,T,...</td>\n",
       "      <td>A,A,A,U,G,U,U,U,A,U,C,A,U,G,U,U,G,U,A,A,A,G,U,...</td>\n",
       "      <td>NC_000001.11</td>\n",
       "      <td>GeneID:81627</td>\n",
       "      <td>NM_001202423.2</td>\n",
       "      <td>mrna-edge</td>\n",
       "      <td>39373</td>\n",
       "      <td>39437</td>\n",
       "    </tr>\n",
       "  </tbody>\n",
       "</table>\n",
       "</div>"
      ],
      "text/plain": [
       "                                               input   \n",
       "0  C,A,A,G,C,T,G,G,T,T,G,T,T,T,A,G,T,A,T,G,G,C,C,...  \\\n",
       "1  T,G,G,A,G,C,A,C,T,T,C,A,G,C,A,T,A,T,A,C,A,A,G,...   \n",
       "2  A,G,G,A,A,C,C,T,T,G,G,G,T,A,A,T,G,T,G,C,T,T,C,...   \n",
       "3  A,G,A,C,T,G,C,G,C,A,G,T,G,T,A,T,C,C,T,G,G,G,T,...   \n",
       "4  A,A,A,T,G,T,T,T,A,T,C,A,T,G,T,T,G,T,A,A,A,G,T,...   \n",
       "\n",
       "                                              target    chromosome   \n",
       "0  <intron>,<intron>,<intron>,<intron>,<intron>,<...  NC_000001.11  \\\n",
       "1  <intron>,<intron>,<intron>,<intron>,<intron>,<...  NC_000001.11   \n",
       "2  <intron>,<intron>,<intron>,<intron>,<intron>,<...  NC_000001.11   \n",
       "3  A,G,A,C,U,G,C,G,C,A,G,U,G,U,A,U,C,C,U,G,G,G,U,...  NC_000001.11   \n",
       "4  A,A,A,U,G,U,U,U,A,U,C,A,U,G,U,U,G,U,A,A,A,G,U,...  NC_000001.11   \n",
       "\n",
       "         geneid    transcriptid         type  start    end  \n",
       "0  GeneID:81627  NM_001202423.2       intron  11302  11366  \n",
       "1  GeneID:81627  NM_001202423.2  intron-edge   9446   9510  \n",
       "2  GeneID:81627  NM_001202423.2  intron-edge  11059  11123  \n",
       "3  GeneID:81627  NM_001202423.2    mrna-edge    439    503  \n",
       "4  GeneID:81627  NM_001202423.2    mrna-edge  39373  39437  "
      ]
     },
     "execution_count": 107,
     "metadata": {},
     "output_type": "execute_result"
    }
   ],
   "source": [
    "#| hide\n",
    "get_gene_transcript_samples_wrapper(\n",
    "    {\n",
    "        \"chromosome\": example_idx_chromosome,\n",
    "        \"geneid\": example_idx_geneid,\n",
    "        \"transcriptid\": example_idx_transcriptid,\n",
    "        \"index\": example_idx_idx,\n",
    "        \"types\": example_types,\n",
    "        \"assembly_path\": latest_assembly_path,\n",
    "    }\n",
    ")"
   ]
  },
  {
   "cell_type": "code",
   "execution_count": 108,
   "metadata": {},
   "outputs": [
    {
     "data": {
      "text/html": [
       "<div>\n",
       "<style scoped>\n",
       "    .dataframe tbody tr th:only-of-type {\n",
       "        vertical-align: middle;\n",
       "    }\n",
       "\n",
       "    .dataframe tbody tr th {\n",
       "        vertical-align: top;\n",
       "    }\n",
       "\n",
       "    .dataframe thead th {\n",
       "        text-align: right;\n",
       "    }\n",
       "</style>\n",
       "<table border=\"1\" class=\"dataframe\">\n",
       "  <thead>\n",
       "    <tr style=\"text-align: right;\">\n",
       "      <th></th>\n",
       "      <th>chromosome</th>\n",
       "      <th>geneid</th>\n",
       "      <th>transcriptid</th>\n",
       "      <th>start</th>\n",
       "      <th>end</th>\n",
       "      <th>type</th>\n",
       "      <th>idx</th>\n",
       "    </tr>\n",
       "  </thead>\n",
       "  <tbody>\n",
       "    <tr>\n",
       "      <th>0</th>\n",
       "      <td>NC_000001.11</td>\n",
       "      <td>GeneID:83872</td>\n",
       "      <td>XM_011510038.4</td>\n",
       "      <td>402874</td>\n",
       "      <td>402938</td>\n",
       "      <td>intron</td>\n",
       "      <td>(402874, 402938)</td>\n",
       "    </tr>\n",
       "    <tr>\n",
       "      <th>1</th>\n",
       "      <td>NC_000001.11</td>\n",
       "      <td>GeneID:84288</td>\n",
       "      <td>NM_001143943.1</td>\n",
       "      <td>7411</td>\n",
       "      <td>7475</td>\n",
       "      <td>intron</td>\n",
       "      <td>(7411, 7475)</td>\n",
       "    </tr>\n",
       "    <tr>\n",
       "      <th>2</th>\n",
       "      <td>NC_000001.11</td>\n",
       "      <td>GeneID:64754</td>\n",
       "      <td>XM_047428021.1</td>\n",
       "      <td>52326</td>\n",
       "      <td>52390</td>\n",
       "      <td>intron</td>\n",
       "      <td>(52326, 52390)</td>\n",
       "    </tr>\n",
       "    <tr>\n",
       "      <th>3</th>\n",
       "      <td>NC_000001.11</td>\n",
       "      <td>GeneID:149483</td>\n",
       "      <td>XM_011540820.2</td>\n",
       "      <td>1312</td>\n",
       "      <td>1376</td>\n",
       "      <td>intron</td>\n",
       "      <td>(1312, 1376)</td>\n",
       "    </tr>\n",
       "    <tr>\n",
       "      <th>4</th>\n",
       "      <td>NC_000001.11</td>\n",
       "      <td>GeneID:57540</td>\n",
       "      <td>XM_011541832.2</td>\n",
       "      <td>40411</td>\n",
       "      <td>40475</td>\n",
       "      <td>intron</td>\n",
       "      <td>(40411, 40475)</td>\n",
       "    </tr>\n",
       "  </tbody>\n",
       "</table>\n",
       "</div>"
      ],
      "text/plain": [
       "     chromosome         geneid    transcriptid   start     end    type   \n",
       "0  NC_000001.11   GeneID:83872  XM_011510038.4  402874  402938  intron  \\\n",
       "1  NC_000001.11   GeneID:84288  NM_001143943.1    7411    7475  intron   \n",
       "2  NC_000001.11   GeneID:64754  XM_047428021.1   52326   52390  intron   \n",
       "3  NC_000001.11  GeneID:149483  XM_011540820.2    1312    1376  intron   \n",
       "4  NC_000001.11   GeneID:57540  XM_011541832.2   40411   40475  intron   \n",
       "\n",
       "                idx  \n",
       "0  (402874, 402938)  \n",
       "1      (7411, 7475)  \n",
       "2    (52326, 52390)  \n",
       "3      (1312, 1376)  \n",
       "4    (40411, 40475)  "
      ]
     },
     "execution_count": 108,
     "metadata": {},
     "output_type": "execute_result"
    }
   ],
   "source": [
    "#| hide\n",
    "example_sample_sequence_idx.loc[:, \"idx\"] = pd.Series(zip(example_sample_sequence_idx.start, example_sample_sequence_idx.end))\n",
    "example_sample_sequence_idx.head()"
   ]
  },
  {
   "cell_type": "code",
   "execution_count": 109,
   "metadata": {},
   "outputs": [
    {
     "data": {
      "text/html": [
       "<div>\n",
       "<style scoped>\n",
       "    .dataframe tbody tr th:only-of-type {\n",
       "        vertical-align: middle;\n",
       "    }\n",
       "\n",
       "    .dataframe tbody tr th {\n",
       "        vertical-align: top;\n",
       "    }\n",
       "\n",
       "    .dataframe thead th {\n",
       "        text-align: right;\n",
       "    }\n",
       "</style>\n",
       "<table border=\"1\" class=\"dataframe\">\n",
       "  <thead>\n",
       "    <tr style=\"text-align: right;\">\n",
       "      <th></th>\n",
       "      <th></th>\n",
       "      <th></th>\n",
       "      <th>idx</th>\n",
       "      <th>type</th>\n",
       "      <th>samples</th>\n",
       "    </tr>\n",
       "    <tr>\n",
       "      <th>chromosome</th>\n",
       "      <th>geneid</th>\n",
       "      <th>transcriptid</th>\n",
       "      <th></th>\n",
       "      <th></th>\n",
       "      <th></th>\n",
       "    </tr>\n",
       "  </thead>\n",
       "  <tbody>\n",
       "    <tr>\n",
       "      <th rowspan=\"5\" valign=\"top\">NC_000001.11</th>\n",
       "      <th>GeneID:81627</th>\n",
       "      <th>NM_001202423.2</th>\n",
       "      <td>[(11302, 11366), (9446, 9510), (11059, 11123),...</td>\n",
       "      <td>[intron, intron-edge, intron-edge, mrna-edge, ...</td>\n",
       "      <td>5</td>\n",
       "    </tr>\n",
       "    <tr>\n",
       "      <th>GeneID:54823</th>\n",
       "      <th>NM_017673.7</th>\n",
       "      <td>[(119990, 120054), (119363, 119427), (133368, ...</td>\n",
       "      <td>[intron, intron-edge, intron-edge]</td>\n",
       "      <td>3</td>\n",
       "    </tr>\n",
       "    <tr>\n",
       "      <th>GeneID:64754</th>\n",
       "      <th>XM_047428021.1</th>\n",
       "      <td>[(52326, 52390), (0, 64), (0, 64)]</td>\n",
       "      <td>[intron, intron-edge, intron-edge]</td>\n",
       "      <td>3</td>\n",
       "    </tr>\n",
       "    <tr>\n",
       "      <th>GeneID:22955</th>\n",
       "      <th>XM_047449565.1</th>\n",
       "      <td>[(170050, 170114), (167056, 167120), (171553, ...</td>\n",
       "      <td>[intron, intron-edge, intron-edge]</td>\n",
       "      <td>3</td>\n",
       "    </tr>\n",
       "    <tr>\n",
       "      <th>GeneID:57540</th>\n",
       "      <th>XM_011541832.2</th>\n",
       "      <td>[(40411, 40475), (40317, 40381), (40532, 40596)]</td>\n",
       "      <td>[intron, intron-edge, intron-edge]</td>\n",
       "      <td>3</td>\n",
       "    </tr>\n",
       "  </tbody>\n",
       "</table>\n",
       "</div>"
      ],
      "text/plain": [
       "                                                                                        idx   \n",
       "chromosome   geneid       transcriptid                                                        \n",
       "NC_000001.11 GeneID:81627 NM_001202423.2  [(11302, 11366), (9446, 9510), (11059, 11123),...  \\\n",
       "             GeneID:54823 NM_017673.7     [(119990, 120054), (119363, 119427), (133368, ...   \n",
       "             GeneID:64754 XM_047428021.1                 [(52326, 52390), (0, 64), (0, 64)]   \n",
       "             GeneID:22955 XM_047449565.1  [(170050, 170114), (167056, 167120), (171553, ...   \n",
       "             GeneID:57540 XM_011541832.2   [(40411, 40475), (40317, 40381), (40532, 40596)]   \n",
       "\n",
       "                                                                                       type   \n",
       "chromosome   geneid       transcriptid                                                        \n",
       "NC_000001.11 GeneID:81627 NM_001202423.2  [intron, intron-edge, intron-edge, mrna-edge, ...  \\\n",
       "             GeneID:54823 NM_017673.7                    [intron, intron-edge, intron-edge]   \n",
       "             GeneID:64754 XM_047428021.1                 [intron, intron-edge, intron-edge]   \n",
       "             GeneID:22955 XM_047449565.1                 [intron, intron-edge, intron-edge]   \n",
       "             GeneID:57540 XM_011541832.2                 [intron, intron-edge, intron-edge]   \n",
       "\n",
       "                                          samples  \n",
       "chromosome   geneid       transcriptid             \n",
       "NC_000001.11 GeneID:81627 NM_001202423.2        5  \n",
       "             GeneID:54823 NM_017673.7           3  \n",
       "             GeneID:64754 XM_047428021.1        3  \n",
       "             GeneID:22955 XM_047449565.1        3  \n",
       "             GeneID:57540 XM_011541832.2        3  "
      ]
     },
     "execution_count": 109,
     "metadata": {},
     "output_type": "execute_result"
    }
   ],
   "source": [
    "#| hide\n",
    "example_sample_idx_grouped = example_sample_sequence_idx.groupby([\"chromosome\", \"geneid\", \"transcriptid\"]).agg({\n",
    "    \"idx\": list,\n",
    "    \"type\": list\n",
    "})\n",
    "example_sample_idx_grouped.loc[:, 'samples'] = example_sample_idx_grouped.idx.apply(len)\n",
    "example_sample_idx_grouped.sort_values('samples', ascending=False, inplace=True)\n",
    "example_sample_idx_grouped.head()"
   ]
  },
  {
   "cell_type": "code",
   "execution_count": 52,
   "metadata": {},
   "outputs": [],
   "source": [
    "#| export\n",
    "def get_multiple_training_sequences_wrapper(args: dict):\n",
    "    \"Receive a chunk of training indices, batch process them and write to disc.\"\n",
    "    process_idx = next(iter(current_process()._identity), 0)\n",
    "    index = args.get(\"index\")\n",
    "    assembly_path = args.get(\"assembly_path\")\n",
    "    epoch = args.get(\"epoch\")\n",
    "    chunk_size = args.get(\"chunk_size\", 50)\n",
    "    batch_size = args.get(\"batch_size\", 10000)\n",
    "    save = args.get(\"save\", True)\n",
    "    # Make sqlite3 connections\n",
    "    genes_connection = sqlite3.connect(assembly_path / \"genes.db\")\n",
    "    mrna_connection = sqlite3.connect(assembly_path / \"mrna.db\")\n",
    "    write_path = assembly_path / \"training/transcription/sequences\" / f\"epoch-{epoch}\"\n",
    "    if not write_path.exists():\n",
    "        write_path.mkdir()\n",
    "    # Split up index to chunks\n",
    "    num_chunks = max(1, int(index.shape[0] / chunk_size))\n",
    "    index = np.array_split(index, num_chunks)\n",
    "    # Process chunks\n",
    "    batch = []\n",
    "    batch_row_counter = 0\n",
    "    batch_counter = 1\n",
    "    pbar = tqdm(\n",
    "        total=len(index), ncols=80, \n",
    "        desc=f\"Epoch-{epoch}\", \n",
    "        position=process_idx)\n",
    "    try:\n",
    "        for chunk in index:\n",
    "            # Get input, target sequences\n",
    "            sequences = chunk.apply(\n",
    "                lambda row: get_gene_transcript_samples(\n",
    "                    row.chromosome,\n",
    "                    row.geneid,\n",
    "                    row.transcriptid,\n",
    "                    row.idx,\n",
    "                    assembly_path\n",
    "                ), \n",
    "                axis=1)\n",
    "            # Put into dataframe\n",
    "            sequences = pd.concat(\n",
    "                sequences.apply(\n",
    "                    pd.DataFrame, columns=['input', 'target']\n",
    "                ).values.tolist(), \n",
    "                axis=0)\n",
    "            batch.append(sequences)\n",
    "            batch_row_counter += sequences.shape[0]\n",
    "            pbar.update(1)\n",
    "            if (batch_row_counter >= batch_size) and save:\n",
    "                # Write batch\n",
    "                batch = pd.concat(batch, axis=0, ignore_index=True)\n",
    "                batch_write_path = write_path / f\"batch-{batch_counter}.parquet\"\n",
    "                batch.to_parquet(batch_write_path, index=False)\n",
    "                batch = []\n",
    "                batch_row_counter = 0\n",
    "                batch_counter += 1\n",
    "        # Write final batch\n",
    "        if (len(batch) > 0) and save:\n",
    "            batch = pd.concat(batch, axis=0, ignore_index=True)\n",
    "            batch_write_path = write_path / f\"batch-{batch_counter}.parquet\"\n",
    "            batch.to_parquet(batch_write_path, index=False)\n",
    "    except Exception as e:\n",
    "        raise e\n",
    "    finally:\n",
    "        genes_connection.close()\n",
    "        mrna_connection.close()\n",
    "        pbar.close()"
   ]
  },
  {
   "cell_type": "code",
   "execution_count": 53,
   "metadata": {},
   "outputs": [
    {
     "data": {
      "text/html": [
       "<div>\n",
       "<style scoped>\n",
       "    .dataframe tbody tr th:only-of-type {\n",
       "        vertical-align: middle;\n",
       "    }\n",
       "\n",
       "    .dataframe tbody tr th {\n",
       "        vertical-align: top;\n",
       "    }\n",
       "\n",
       "    .dataframe thead th {\n",
       "        text-align: right;\n",
       "    }\n",
       "</style>\n",
       "<table border=\"1\" class=\"dataframe\">\n",
       "  <thead>\n",
       "    <tr style=\"text-align: right;\">\n",
       "      <th></th>\n",
       "      <th>chromosome</th>\n",
       "      <th>geneid</th>\n",
       "      <th>transcriptid</th>\n",
       "      <th>idx</th>\n",
       "      <th>type</th>\n",
       "      <th>samples</th>\n",
       "    </tr>\n",
       "  </thead>\n",
       "  <tbody>\n",
       "    <tr>\n",
       "      <th>0</th>\n",
       "      <td>NC_000001.11</td>\n",
       "      <td>GeneID:81627</td>\n",
       "      <td>NM_001202423.2</td>\n",
       "      <td>[(11302, 11366), (9446, 9510), (11059, 11123),...</td>\n",
       "      <td>[intron, intron-edge, intron-edge, mrna-edge, ...</td>\n",
       "      <td>5</td>\n",
       "    </tr>\n",
       "    <tr>\n",
       "      <th>1</th>\n",
       "      <td>NC_000001.11</td>\n",
       "      <td>GeneID:54823</td>\n",
       "      <td>NM_017673.7</td>\n",
       "      <td>[(119990, 120054), (119363, 119427), (133368, ...</td>\n",
       "      <td>[intron, intron-edge, intron-edge]</td>\n",
       "      <td>3</td>\n",
       "    </tr>\n",
       "    <tr>\n",
       "      <th>2</th>\n",
       "      <td>NC_000001.11</td>\n",
       "      <td>GeneID:64754</td>\n",
       "      <td>XM_047428021.1</td>\n",
       "      <td>[(52326, 52390), (0, 64), (0, 64)]</td>\n",
       "      <td>[intron, intron-edge, intron-edge]</td>\n",
       "      <td>3</td>\n",
       "    </tr>\n",
       "    <tr>\n",
       "      <th>3</th>\n",
       "      <td>NC_000001.11</td>\n",
       "      <td>GeneID:22955</td>\n",
       "      <td>XM_047449565.1</td>\n",
       "      <td>[(170050, 170114), (167056, 167120), (171553, ...</td>\n",
       "      <td>[intron, intron-edge, intron-edge]</td>\n",
       "      <td>3</td>\n",
       "    </tr>\n",
       "    <tr>\n",
       "      <th>4</th>\n",
       "      <td>NC_000001.11</td>\n",
       "      <td>GeneID:57540</td>\n",
       "      <td>XM_011541832.2</td>\n",
       "      <td>[(40411, 40475), (40317, 40381), (40532, 40596)]</td>\n",
       "      <td>[intron, intron-edge, intron-edge]</td>\n",
       "      <td>3</td>\n",
       "    </tr>\n",
       "  </tbody>\n",
       "</table>\n",
       "</div>"
      ],
      "text/plain": [
       "     chromosome        geneid    transcriptid   \n",
       "0  NC_000001.11  GeneID:81627  NM_001202423.2  \\\n",
       "1  NC_000001.11  GeneID:54823     NM_017673.7   \n",
       "2  NC_000001.11  GeneID:64754  XM_047428021.1   \n",
       "3  NC_000001.11  GeneID:22955  XM_047449565.1   \n",
       "4  NC_000001.11  GeneID:57540  XM_011541832.2   \n",
       "\n",
       "                                                 idx   \n",
       "0  [(11302, 11366), (9446, 9510), (11059, 11123),...  \\\n",
       "1  [(119990, 120054), (119363, 119427), (133368, ...   \n",
       "2                 [(52326, 52390), (0, 64), (0, 64)]   \n",
       "3  [(170050, 170114), (167056, 167120), (171553, ...   \n",
       "4   [(40411, 40475), (40317, 40381), (40532, 40596)]   \n",
       "\n",
       "                                                type  samples  \n",
       "0  [intron, intron-edge, intron-edge, mrna-edge, ...        5  \n",
       "1                 [intron, intron-edge, intron-edge]        3  \n",
       "2                 [intron, intron-edge, intron-edge]        3  \n",
       "3                 [intron, intron-edge, intron-edge]        3  \n",
       "4                 [intron, intron-edge, intron-edge]        3  "
      ]
     },
     "execution_count": 53,
     "metadata": {},
     "output_type": "execute_result"
    }
   ],
   "source": [
    "#| hide\n",
    "example_idx_grouped_batch = np.array_split(example_sample_idx_grouped, 2)[0].reset_index(drop=False)\n",
    "example_idx_grouped_batch.head()"
   ]
  },
  {
   "cell_type": "code",
   "execution_count": 54,
   "metadata": {},
   "outputs": [
    {
     "name": "stderr",
     "output_type": "stream",
     "text": [
      "Process-0-Generating:   0%|                               | 0/3 [00:00<?, ?it/s]"
     ]
    },
    {
     "name": "stderr",
     "output_type": "stream",
     "text": [
      "Process-0-Generating: 100%|███████████████████████| 3/3 [00:12<00:00,  4.08s/it]\n"
     ]
    }
   ],
   "source": [
    "#| hide\n",
    "example_batch_result = get_multiple_training_sequences_wrapper({\n",
    "    \"index\": example_idx_grouped_batch,\n",
    "    \"assembly_path\": latest_assembly_path,\n",
    "    \"epoch\": 0 + 1,\n",
    "    \"save\": False\n",
    "})"
   ]
  },
  {
   "cell_type": "code",
   "execution_count": 55,
   "metadata": {},
   "outputs": [],
   "source": [
    "#| export\n",
    "def create_genes_index(assembly_path):\n",
    "    con = sqlite3.connect(assembly_path / \"genes.db\")\n",
    "    con.execute(\"CREATE UNIQUE INDEX IF NOT EXISTS genes_index ON genes(chromosome, geneid);\")\n",
    "    con.close()\n",
    "\n",
    "\n",
    "def create_mrna_index(assembly_path):\n",
    "    con = sqlite3.connect(assembly_path / \"mrna.db\")\n",
    "    con.execute(\"CREATE UNIQUE INDEX IF NOT EXISTS mrna_index ON mrna(chromosome, geneid, transcriptid);\")\n",
    "    con.close()"
   ]
  },
  {
   "cell_type": "code",
   "execution_count": 56,
   "metadata": {},
   "outputs": [],
   "source": [
    "#| hide\n",
    "create_genes_index(latest_assembly_path)"
   ]
  },
  {
   "cell_type": "code",
   "execution_count": 57,
   "metadata": {},
   "outputs": [],
   "source": [
    "#| hide\n",
    "create_mrna_index(latest_assembly_path)"
   ]
  },
  {
   "cell_type": "code",
   "execution_count": 110,
   "metadata": {},
   "outputs": [],
   "source": [
    "#| hide\n",
    "import nbdev; nbdev.nbdev_export()"
   ]
  },
  {
   "cell_type": "code",
   "execution_count": null,
   "metadata": {},
   "outputs": [],
   "source": []
  }
 ],
 "metadata": {
  "kernelspec": {
   "display_name": "venv",
   "language": "python",
   "name": "python3"
  },
  "language_info": {
   "codemirror_mode": {
    "name": "ipython",
    "version": 3
   },
   "file_extension": ".py",
   "mimetype": "text/x-python",
   "name": "python",
   "nbconvert_exporter": "python",
   "pygments_lexer": "ipython3",
   "version": "3.10.6"
  },
  "orig_nbformat": 4
 },
 "nbformat": 4,
 "nbformat_minor": 2
}
