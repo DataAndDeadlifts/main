{
 "cells": [
  {
   "attachments": {},
   "cell_type": "markdown",
   "metadata": {},
   "source": [
    "# Making the Reference Genome more easily usable\n",
    "\n",
    "> Preparing genomic DNA for pre-training."
   ]
  },
  {
   "attachments": {},
   "cell_type": "markdown",
   "metadata": {},
   "source": [
    "## Notebook Goals\n",
    "\n",
    "Extract input and output sequences to train a transformer to transcribe DNA to mRNA."
   ]
  },
  {
   "attachments": {},
   "cell_type": "markdown",
   "metadata": {},
   "source": [
    "## Stuff I've learned\n",
    "\n",
    "1. Calling SeqFeature.extract is really expensive if the parent sequence is really long.\n",
    "2. Training on all the transcript mRNA is very expensive"
   ]
  },
  {
   "attachments": {},
   "cell_type": "markdown",
   "metadata": {},
   "source": [
    "### Plan\n",
    "\n",
    "1. For each chromosome file;\n",
    "    1. Extract all gene sequences to csv e.g. `assembly_path/genes/{chromosome}.csv`\n",
    "        1. Columns\n",
    "            1. geneid\n",
    "            2. Sequence\n",
    "            3. Positive strand 5' chromosome position\n",
    "            4. Negative strand 5' chromosome position\n",
    "    1. Get mRNA feature details\n",
    "        1. parent geneid\n",
    "        2. transcript_id\n",
    "        3. location parts\n",
    "    2. Identify mRNA to gene relationships, de-dupe, write e.g. `assembly_path/relationships/mrna_to_gene/{chromosome}.csv`\n",
    "2. For all mRNA to gene relationships\n",
    "    1. Normalize mRNA positions to written gene\n",
    "    2. Write normalized mRNA positions to disk"
   ]
  },
  {
   "attachments": {},
   "cell_type": "markdown",
   "metadata": {},
   "source": [
    "## 0. Setup"
   ]
  },
  {
   "cell_type": "code",
   "execution_count": 1,
   "metadata": {},
   "outputs": [],
   "source": [
    "#| default_exp data.transcription"
   ]
  },
  {
   "cell_type": "code",
   "execution_count": 2,
   "metadata": {},
   "outputs": [],
   "source": [
    "#| hide\n",
    "from nbdev.showdoc import *"
   ]
  },
  {
   "cell_type": "code",
   "execution_count": 3,
   "metadata": {},
   "outputs": [],
   "source": [
    "#| export\n",
    "import warnings\n",
    "warnings.simplefilter(\"ignore\")\n",
    "from pathlib import Path\n",
    "from Bio import SeqIO\n",
    "from Bio.SeqRecord import SeqRecord\n",
    "from Bio.SeqFeature import SeqFeature, SimpleLocation, Seq\n",
    "from tqdm.auto import tqdm\n",
    "import pandas as pd\n",
    "import typing\n",
    "from tqdm import tqdm\n",
    "from multiprocessing import current_process\n",
    "from copy import deepcopy\n",
    "\n",
    "tqdm.pandas()\n",
    "\n",
    "from llm_mito_scanner.data.download import load_config, \\\n",
    "    get_latest_assembly_path, get_genomic_genbank_path"
   ]
  },
  {
   "cell_type": "code",
   "execution_count": 4,
   "metadata": {},
   "outputs": [],
   "source": [
    "#| hide\n",
    "config = load_config()"
   ]
  },
  {
   "cell_type": "code",
   "execution_count": 5,
   "metadata": {},
   "outputs": [],
   "source": [
    "#| hide\n",
    "data_path = Path(config.get(\"data_path\"))\n",
    "data_raw_path = data_path / \"raw\"\n",
    "assemblies_path = data_raw_path / \"assemblies\"\n",
    "latest_assembly_path = get_latest_assembly_path(assemblies_path)\n",
    "genomic_genbank_path = get_genomic_genbank_path(latest_assembly_path)\n",
    "chromosomes_path = latest_assembly_path / \"chromosomes\"\n",
    "training_data_path = latest_assembly_path / \"training\"\n",
    "transcription_data_path = training_data_path / \"transcription\"\n",
    "if not transcription_data_path.exists():\n",
    "    transcription_data_path.mkdir(parents=True)"
   ]
  },
  {
   "cell_type": "code",
   "execution_count": 6,
   "metadata": {},
   "outputs": [
    {
     "data": {
      "text/plain": [
       "Path('/mnt/e/Data/llm-mito-scanner-data/data/raw/assemblies/GCF_000001405.40_GRCh38.p14/chromosomes/NC_000001.11.gb')"
      ]
     },
     "execution_count": 6,
     "metadata": {},
     "output_type": "execute_result"
    }
   ],
   "source": [
    "#| hide\n",
    "example_chromosome_path = next(chromosomes_path.glob(\"*.gb\"))\n",
    "example_chromosome_path"
   ]
  },
  {
   "cell_type": "code",
   "execution_count": 7,
   "metadata": {},
   "outputs": [
    {
     "data": {
      "text/plain": [
       "SeqRecord(seq=Seq('NNNNNNNNNNNNNNNNNNNNNNNNNNNNNNNNNNNNNNNNNNNNNNNNNNNNNN...NNN'), id='NC_000001.11', name='NC_000001', description='Homo sapiens chromosome 1, GRCh38.p14 Primary Assembly', dbxrefs=['BioProject:PRJNA168', 'Assembly:GCF_000001405.40'])"
      ]
     },
     "execution_count": 7,
     "metadata": {},
     "output_type": "execute_result"
    }
   ],
   "source": [
    "#| hide\n",
    "with example_chromosome_path.open(\"rt\") as f:\n",
    "    example_chromosome = next(SeqIO.parse(f, \"genbank\"), None)\n",
    "example_chromosome"
   ]
  },
  {
   "cell_type": "code",
   "execution_count": 8,
   "metadata": {},
   "outputs": [
    {
     "data": {
      "text/plain": [
       "51489"
      ]
     },
     "execution_count": 8,
     "metadata": {},
     "output_type": "execute_result"
    }
   ],
   "source": [
    "#| hide\n",
    "len(example_chromosome.features)"
   ]
  },
  {
   "cell_type": "code",
   "execution_count": 9,
   "metadata": {},
   "outputs": [],
   "source": [
    "#| export\n",
    "def filter_chromosome_features_by_type(\n",
    "        chromosome_record: SeqRecord, \n",
    "        feature_type: str,\n",
    "        ) -> list[tuple[int, SeqFeature]]:\n",
    "    return [(i, f) for i, f in enumerate(chromosome_record.features) if f.type == feature_type]"
   ]
  },
  {
   "cell_type": "code",
   "execution_count": 10,
   "metadata": {},
   "outputs": [],
   "source": [
    "#| export\n",
    "def get_feature_qualifiers(feature: SeqFeature) -> typing.Dict[str, typing.Any]:\n",
    "    return getattr(feature, \"qualifiers\", None)\n",
    "\n",
    "\n",
    "def get_feature_dbxrefs(feature: SeqFeature) -> str | None:\n",
    "    feature_qualifiers = get_feature_qualifiers(feature)\n",
    "    if feature_qualifiers is None:\n",
    "        return None\n",
    "    feature_dbxrefs = feature_qualifiers.get(\"db_xref\", None)\n",
    "    return feature_dbxrefs\n",
    "\n",
    "\n",
    "def get_feature_dbxref_xref(feature: SeqFeature, prefix: str) -> str | None:\n",
    "    feature_dbxrefs = get_feature_dbxrefs(feature)\n",
    "    if feature_dbxrefs is None:\n",
    "        return None\n",
    "    tag_db_xref = next(iter([x for x in feature_dbxrefs if x.startswith(prefix)]), None)\n",
    "    return tag_db_xref\n",
    "\n",
    "\n",
    "def get_feature_geneid(feature: SeqFeature) -> str | None:\n",
    "    return get_feature_dbxref_xref(feature, \"GeneID\")\n",
    "\n",
    "\n",
    "def get_feature_transcript_id(feature: SeqFeature) -> str | None:\n",
    "    return next(iter(get_feature_qualifiers(feature).get(\"transcript_id\", [])), None)"
   ]
  },
  {
   "attachments": {},
   "cell_type": "markdown",
   "metadata": {},
   "source": [
    "## 1. Process chromosome files"
   ]
  },
  {
   "attachments": {},
   "cell_type": "markdown",
   "metadata": {},
   "source": [
    "### 1.1 Extract all gene sequences to csv e.g. `assembly_path/genes/{chromosome}.csv`\n",
    "Columns\n",
    "1. geneid\n",
    "2. Sequence\n",
    "3. Positive strand 5' chromosome position\n",
    "4. Negative strand 5' chromosome position"
   ]
  },
  {
   "cell_type": "code",
   "execution_count": 11,
   "metadata": {},
   "outputs": [
    {
     "data": {
      "text/plain": [
       "5501"
      ]
     },
     "execution_count": 11,
     "metadata": {},
     "output_type": "execute_result"
    }
   ],
   "source": [
    "#| hide\n",
    "example_chromosome_genes = filter_chromosome_features_by_type(example_chromosome, \"gene\")\n",
    "len(example_chromosome_genes)"
   ]
  },
  {
   "cell_type": "code",
   "execution_count": 12,
   "metadata": {},
   "outputs": [],
   "source": [
    "#| hide\n",
    "example_chromosome_gene_positive = example_chromosome_genes[0][1]\n",
    "example_chromosome_gene_negative = example_chromosome_genes[1][1]"
   ]
  },
  {
   "cell_type": "code",
   "execution_count": 13,
   "metadata": {},
   "outputs": [
    {
     "data": {
      "text/plain": [
       "SimpleLocation(ExactPosition(11873), ExactPosition(14409), strand=1)"
      ]
     },
     "execution_count": 13,
     "metadata": {},
     "output_type": "execute_result"
    }
   ],
   "source": [
    "#| hide\n",
    "example_chromosome_gene_positive.location"
   ]
  },
  {
   "cell_type": "code",
   "execution_count": 14,
   "metadata": {},
   "outputs": [
    {
     "data": {
      "text/plain": [
       "11873"
      ]
     },
     "execution_count": 14,
     "metadata": {},
     "output_type": "execute_result"
    }
   ],
   "source": [
    "#| hide\n",
    "# Get pos and neg strand positions\n",
    "int(example_chromosome_gene_positive.location.start)"
   ]
  },
  {
   "cell_type": "code",
   "execution_count": 15,
   "metadata": {},
   "outputs": [
    {
     "data": {
      "text/plain": [
       "ExactPosition(29370)"
      ]
     },
     "execution_count": 15,
     "metadata": {},
     "output_type": "execute_result"
    }
   ],
   "source": [
    "#| hide\n",
    "example_chromosome_gene_negative.location.end"
   ]
  },
  {
   "cell_type": "code",
   "execution_count": 16,
   "metadata": {},
   "outputs": [
    {
     "data": {
      "text/plain": [
       "14361"
      ]
     },
     "execution_count": 16,
     "metadata": {},
     "output_type": "execute_result"
    }
   ],
   "source": [
    "#| hide\n",
    "int(example_chromosome_gene_negative.location.start)"
   ]
  },
  {
   "cell_type": "code",
   "execution_count": 17,
   "metadata": {},
   "outputs": [],
   "source": [
    "#| export\n",
    "def get_chromosome_gene_info(\n",
    "        chromosome_record: SeqRecord,\n",
    "        pbar_position: int = 0\n",
    "        ) -> pd.DataFrame:\n",
    "    chromosome_genes = [t[1] for t in filter_chromosome_features_by_type(chromosome_record, \"gene\")]\n",
    "    chromosome_gene_ids = list(map(get_feature_geneid, chromosome_genes))\n",
    "    chromosome_gene_sequences = list(map(\n",
    "        lambda seq_feature: str(seq_feature.extract(chromosome_record).seq),\n",
    "        tqdm(chromosome_genes, leave=False, ncols=80, position=pbar_position, desc=f\"Process-{pbar_position}\")\n",
    "    ))\n",
    "    pos_strand_positions = list(map(lambda f: f.location.start, chromosome_genes))\n",
    "    neg_strand_positions = list(map(lambda f: f.location.end, chromosome_genes))\n",
    "    gene_df = pd.DataFrame(\n",
    "        chromosome_gene_ids, columns=['geneid']\n",
    "    )\n",
    "    gene_df.loc[:, 'sequence'] = chromosome_gene_sequences\n",
    "    gene_df.loc[:, 'pos_strand_position'] = pos_strand_positions\n",
    "    gene_df.loc[:, 'neg_strand_position'] = neg_strand_positions\n",
    "    return gene_df\n",
    "    "
   ]
  },
  {
   "cell_type": "code",
   "execution_count": 18,
   "metadata": {},
   "outputs": [],
   "source": [
    "#| hide\n",
    "example_chromosome_gene_info_path = latest_assembly_path / \"genes\" / f\"{example_chromosome_path.stem}.csv\"\n",
    "if example_chromosome_gene_info_path.exists():\n",
    "    example_chromosome_gene_info = pd.read_csv(example_chromosome_gene_info_path)\n",
    "else:\n",
    "    example_chromosome_gene_info = get_chromosome_gene_info(example_chromosome)\n"
   ]
  },
  {
   "cell_type": "code",
   "execution_count": 19,
   "metadata": {},
   "outputs": [
    {
     "data": {
      "text/html": [
       "<div>\n",
       "<style scoped>\n",
       "    .dataframe tbody tr th:only-of-type {\n",
       "        vertical-align: middle;\n",
       "    }\n",
       "\n",
       "    .dataframe tbody tr th {\n",
       "        vertical-align: top;\n",
       "    }\n",
       "\n",
       "    .dataframe thead th {\n",
       "        text-align: right;\n",
       "    }\n",
       "</style>\n",
       "<table border=\"1\" class=\"dataframe\">\n",
       "  <thead>\n",
       "    <tr style=\"text-align: right;\">\n",
       "      <th></th>\n",
       "      <th>geneid</th>\n",
       "      <th>sequence</th>\n",
       "      <th>pos_strand_position</th>\n",
       "      <th>neg_strand_position</th>\n",
       "    </tr>\n",
       "  </thead>\n",
       "  <tbody>\n",
       "    <tr>\n",
       "      <th>0</th>\n",
       "      <td>GeneID:100287102</td>\n",
       "      <td>CTTGCCGTCAGCCTTTTCTTTGACCTCTTCTTTCTGTTCATGTGTA...</td>\n",
       "      <td>11873</td>\n",
       "      <td>14409</td>\n",
       "    </tr>\n",
       "    <tr>\n",
       "      <th>1</th>\n",
       "      <td>GeneID:653635</td>\n",
       "      <td>TCCGGCAGAGCGGAAGCGGCGGCGGGAGCTTCCGGGAGGGCGGCTC...</td>\n",
       "      <td>14361</td>\n",
       "      <td>29370</td>\n",
       "    </tr>\n",
       "    <tr>\n",
       "      <th>2</th>\n",
       "      <td>GeneID:102466751</td>\n",
       "      <td>TGTGGGAGAGGAACATGGGCTCAGGACAGCGGGTGTCAGCTTGCCT...</td>\n",
       "      <td>17368</td>\n",
       "      <td>17436</td>\n",
       "    </tr>\n",
       "    <tr>\n",
       "      <th>3</th>\n",
       "      <td>GeneID:107985730</td>\n",
       "      <td>TGCCCTCCAGCCCTACGCCTTGACCCGCTTTCCTGCGTCTCTCAGC...</td>\n",
       "      <td>29773</td>\n",
       "      <td>35418</td>\n",
       "    </tr>\n",
       "    <tr>\n",
       "      <th>4</th>\n",
       "      <td>GeneID:100302278</td>\n",
       "      <td>GGATGCCCAGCTAGTTTGAATTTTAGATAAACAACGAATAATTTCG...</td>\n",
       "      <td>30365</td>\n",
       "      <td>30503</td>\n",
       "    </tr>\n",
       "  </tbody>\n",
       "</table>\n",
       "</div>"
      ],
      "text/plain": [
       "             geneid                                           sequence   \n",
       "0  GeneID:100287102  CTTGCCGTCAGCCTTTTCTTTGACCTCTTCTTTCTGTTCATGTGTA...  \\\n",
       "1     GeneID:653635  TCCGGCAGAGCGGAAGCGGCGGCGGGAGCTTCCGGGAGGGCGGCTC...   \n",
       "2  GeneID:102466751  TGTGGGAGAGGAACATGGGCTCAGGACAGCGGGTGTCAGCTTGCCT...   \n",
       "3  GeneID:107985730  TGCCCTCCAGCCCTACGCCTTGACCCGCTTTCCTGCGTCTCTCAGC...   \n",
       "4  GeneID:100302278  GGATGCCCAGCTAGTTTGAATTTTAGATAAACAACGAATAATTTCG...   \n",
       "\n",
       "   pos_strand_position  neg_strand_position  \n",
       "0                11873                14409  \n",
       "1                14361                29370  \n",
       "2                17368                17436  \n",
       "3                29773                35418  \n",
       "4                30365                30503  "
      ]
     },
     "execution_count": 19,
     "metadata": {},
     "output_type": "execute_result"
    }
   ],
   "source": [
    "#| hide\n",
    "example_chromosome_gene_info.head()"
   ]
  },
  {
   "cell_type": "code",
   "execution_count": 20,
   "metadata": {},
   "outputs": [],
   "source": [
    "#| export\n",
    "def write_chromosome_gene_info(assembly_path: Path, chromosome_tag: str, frame: pd.DataFrame):\n",
    "    genes_path = assembly_path / \"genes\"\n",
    "    if not genes_path.exists():\n",
    "        genes_path.mkdir()\n",
    "    gene_info_path = genes_path / f\"{chromosome_tag}.csv\"\n",
    "    frame.to_csv(gene_info_path, index=False)"
   ]
  },
  {
   "cell_type": "code",
   "execution_count": 21,
   "metadata": {},
   "outputs": [],
   "source": [
    "#| hide\n",
    "if not example_chromosome_gene_info_path.exists():\n",
    "    write_chromosome_gene_info(latest_assembly_path, example_chromosome_path.stem, example_chromosome_gene_info)"
   ]
  },
  {
   "cell_type": "code",
   "execution_count": 22,
   "metadata": {},
   "outputs": [],
   "source": [
    "#| export\n",
    "def read_all_chromosome_gene_info(assembly_path: Path, limit: int = None) -> pd.DataFrame:\n",
    "    gene_info_files = list((assembly_path / \"genes\").glob(\"*.csv\"))\n",
    "    if limit is not None:\n",
    "        gene_info_files = gene_info_files[:limit]\n",
    "    return pd.concat([pd.read_csv(p) for p in gene_info_files], axis=0, ignore_index=True)"
   ]
  },
  {
   "cell_type": "code",
   "execution_count": 23,
   "metadata": {},
   "outputs": [
    {
     "data": {
      "text/html": [
       "<div>\n",
       "<style scoped>\n",
       "    .dataframe tbody tr th:only-of-type {\n",
       "        vertical-align: middle;\n",
       "    }\n",
       "\n",
       "    .dataframe tbody tr th {\n",
       "        vertical-align: top;\n",
       "    }\n",
       "\n",
       "    .dataframe thead th {\n",
       "        text-align: right;\n",
       "    }\n",
       "</style>\n",
       "<table border=\"1\" class=\"dataframe\">\n",
       "  <thead>\n",
       "    <tr style=\"text-align: right;\">\n",
       "      <th></th>\n",
       "      <th>geneid</th>\n",
       "      <th>sequence</th>\n",
       "      <th>pos_strand_position</th>\n",
       "      <th>neg_strand_position</th>\n",
       "    </tr>\n",
       "  </thead>\n",
       "  <tbody>\n",
       "    <tr>\n",
       "      <th>0</th>\n",
       "      <td>GeneID:100287102</td>\n",
       "      <td>CTTGCCGTCAGCCTTTTCTTTGACCTCTTCTTTCTGTTCATGTGTA...</td>\n",
       "      <td>11873</td>\n",
       "      <td>14409</td>\n",
       "    </tr>\n",
       "    <tr>\n",
       "      <th>1</th>\n",
       "      <td>GeneID:653635</td>\n",
       "      <td>TCCGGCAGAGCGGAAGCGGCGGCGGGAGCTTCCGGGAGGGCGGCTC...</td>\n",
       "      <td>14361</td>\n",
       "      <td>29370</td>\n",
       "    </tr>\n",
       "    <tr>\n",
       "      <th>2</th>\n",
       "      <td>GeneID:102466751</td>\n",
       "      <td>TGTGGGAGAGGAACATGGGCTCAGGACAGCGGGTGTCAGCTTGCCT...</td>\n",
       "      <td>17368</td>\n",
       "      <td>17436</td>\n",
       "    </tr>\n",
       "    <tr>\n",
       "      <th>3</th>\n",
       "      <td>GeneID:107985730</td>\n",
       "      <td>TGCCCTCCAGCCCTACGCCTTGACCCGCTTTCCTGCGTCTCTCAGC...</td>\n",
       "      <td>29773</td>\n",
       "      <td>35418</td>\n",
       "    </tr>\n",
       "    <tr>\n",
       "      <th>4</th>\n",
       "      <td>GeneID:100302278</td>\n",
       "      <td>GGATGCCCAGCTAGTTTGAATTTTAGATAAACAACGAATAATTTCG...</td>\n",
       "      <td>30365</td>\n",
       "      <td>30503</td>\n",
       "    </tr>\n",
       "  </tbody>\n",
       "</table>\n",
       "</div>"
      ],
      "text/plain": [
       "             geneid                                           sequence   \n",
       "0  GeneID:100287102  CTTGCCGTCAGCCTTTTCTTTGACCTCTTCTTTCTGTTCATGTGTA...  \\\n",
       "1     GeneID:653635  TCCGGCAGAGCGGAAGCGGCGGCGGGAGCTTCCGGGAGGGCGGCTC...   \n",
       "2  GeneID:102466751  TGTGGGAGAGGAACATGGGCTCAGGACAGCGGGTGTCAGCTTGCCT...   \n",
       "3  GeneID:107985730  TGCCCTCCAGCCCTACGCCTTGACCCGCTTTCCTGCGTCTCTCAGC...   \n",
       "4  GeneID:100302278  GGATGCCCAGCTAGTTTGAATTTTAGATAAACAACGAATAATTTCG...   \n",
       "\n",
       "   pos_strand_position  neg_strand_position  \n",
       "0                11873                14409  \n",
       "1                14361                29370  \n",
       "2                17368                17436  \n",
       "3                29773                35418  \n",
       "4                30365                30503  "
      ]
     },
     "execution_count": 23,
     "metadata": {},
     "output_type": "execute_result"
    }
   ],
   "source": [
    "#| hide\n",
    "example_chromosome_gene_info_frame = read_all_chromosome_gene_info(latest_assembly_path, 3)\n",
    "example_chromosome_gene_info_frame.head()"
   ]
  },
  {
   "attachments": {},
   "cell_type": "markdown",
   "metadata": {},
   "source": [
    "1. feature index\n",
    "2. transcript_id\n",
    "3. location parts"
   ]
  },
  {
   "attachments": {},
   "cell_type": "markdown",
   "metadata": {},
   "source": [
    "### 1.2 Identify mRNA parent gene relationships"
   ]
  },
  {
   "cell_type": "code",
   "execution_count": 24,
   "metadata": {},
   "outputs": [],
   "source": [
    "#| export\n",
    "def get_gene_and_mrna_relationships(\n",
    "        chromosome: SeqRecord,\n",
    "        ) -> pd.DataFrame:\n",
    "    \"\"\n",
    "    mrna_features = filter_chromosome_features_by_type(chromosome, \"mRNA\")\n",
    "    relationships = set()\n",
    "    for idx, mrna in mrna_features:\n",
    "        mrna_transcript_id = get_feature_transcript_id(mrna)\n",
    "        mrna_gene_id = get_feature_geneid(mrna)\n",
    "        if mrna_gene_id is not None and mrna_transcript_id is not None:\n",
    "            relationship_tuple = (mrna_gene_id, mrna_transcript_id, idx)\n",
    "            relationships.add(relationship_tuple)\n",
    "\n",
    "    chromosome_relationships_df = pd.DataFrame(\n",
    "        relationships, \n",
    "        columns=['geneid', 'transcript_id', 'transcript_feature_idx']\n",
    "    ).drop_duplicates(subset=[\"geneid\", \"transcript_id\"]).sort_values(\"transcript_feature_idx\", ascending=True)\n",
    "\n",
    "    gene_idx = pd.DataFrame(\n",
    "        [(idx, get_feature_geneid(f)) for idx, f in filter_chromosome_features_by_type(chromosome, \"gene\")],\n",
    "        columns=[\"gene_feature_idx\", \"geneid\"]\n",
    "    )\n",
    "\n",
    "    chromosome_relationships_df = chromosome_relationships_df.merge(\n",
    "        gene_idx, on=['geneid']\n",
    "    ).drop_duplicates(\n",
    "        subset=['geneid', 'transcript_id']\n",
    "        ).sort_values(\"gene_feature_idx\", ascending=True)\n",
    "    return chromosome_relationships_df"
   ]
  },
  {
   "cell_type": "code",
   "execution_count": 25,
   "metadata": {},
   "outputs": [],
   "source": [
    "#| hide\n",
    "example_chromosome_relationships = get_gene_and_mrna_relationships(\n",
    "    example_chromosome,\n",
    ")"
   ]
  },
  {
   "cell_type": "code",
   "execution_count": 26,
   "metadata": {},
   "outputs": [
    {
     "name": "stdout",
     "output_type": "stream",
     "text": [
      "12841\n"
     ]
    },
    {
     "data": {
      "text/html": [
       "<div>\n",
       "<style scoped>\n",
       "    .dataframe tbody tr th:only-of-type {\n",
       "        vertical-align: middle;\n",
       "    }\n",
       "\n",
       "    .dataframe tbody tr th {\n",
       "        vertical-align: top;\n",
       "    }\n",
       "\n",
       "    .dataframe thead th {\n",
       "        text-align: right;\n",
       "    }\n",
       "</style>\n",
       "<table border=\"1\" class=\"dataframe\">\n",
       "  <thead>\n",
       "    <tr style=\"text-align: right;\">\n",
       "      <th></th>\n",
       "      <th>geneid</th>\n",
       "      <th>transcript_id</th>\n",
       "      <th>transcript_feature_idx</th>\n",
       "      <th>gene_feature_idx</th>\n",
       "    </tr>\n",
       "  </thead>\n",
       "  <tbody>\n",
       "    <tr>\n",
       "      <th>0</th>\n",
       "      <td>GeneID:79501</td>\n",
       "      <td>NM_001005484.2</td>\n",
       "      <td>22</td>\n",
       "      <td>21</td>\n",
       "    </tr>\n",
       "    <tr>\n",
       "      <th>1</th>\n",
       "      <td>GeneID:112268260</td>\n",
       "      <td>XM_047436352.1</td>\n",
       "      <td>80</td>\n",
       "      <td>79</td>\n",
       "    </tr>\n",
       "    <tr>\n",
       "      <th>2</th>\n",
       "      <td>GeneID:729759</td>\n",
       "      <td>NM_001005221.2</td>\n",
       "      <td>85</td>\n",
       "      <td>84</td>\n",
       "    </tr>\n",
       "    <tr>\n",
       "      <th>3</th>\n",
       "      <td>GeneID:105378947</td>\n",
       "      <td>XM_011542538.1</td>\n",
       "      <td>96</td>\n",
       "      <td>95</td>\n",
       "    </tr>\n",
       "    <tr>\n",
       "      <th>4</th>\n",
       "      <td>GeneID:81399</td>\n",
       "      <td>XM_024449992.2</td>\n",
       "      <td>126</td>\n",
       "      <td>125</td>\n",
       "    </tr>\n",
       "  </tbody>\n",
       "</table>\n",
       "</div>"
      ],
      "text/plain": [
       "             geneid   transcript_id  transcript_feature_idx  gene_feature_idx\n",
       "0      GeneID:79501  NM_001005484.2                      22                21\n",
       "1  GeneID:112268260  XM_047436352.1                      80                79\n",
       "2     GeneID:729759  NM_001005221.2                      85                84\n",
       "3  GeneID:105378947  XM_011542538.1                      96                95\n",
       "4      GeneID:81399  XM_024449992.2                     126               125"
      ]
     },
     "execution_count": 26,
     "metadata": {},
     "output_type": "execute_result"
    }
   ],
   "source": [
    "#| hide\n",
    "print(example_chromosome_relationships.shape[0])\n",
    "example_chromosome_relationships.head()"
   ]
  },
  {
   "attachments": {},
   "cell_type": "markdown",
   "metadata": {},
   "source": [
    "### 1.3 Write relationships"
   ]
  },
  {
   "cell_type": "code",
   "execution_count": 27,
   "metadata": {},
   "outputs": [],
   "source": [
    "#| export\n",
    "def write_mrna_gene_relationships(relationships: pd.DataFrame, chromosome: str, assembly_path: Path):\n",
    "    relationship_path = assembly_path / \"relationships\"\n",
    "    mrna_to_gene_path = relationship_path / \"mrna_to_gene\"\n",
    "    if not mrna_to_gene_path.exists():\n",
    "        mrna_to_gene_path.mkdir(parents=True)\n",
    "    chromosome_relationship_path = mrna_to_gene_path / f\"{chromosome}.csv\"\n",
    "    relationships.to_csv(chromosome_relationship_path, index=False)"
   ]
  },
  {
   "cell_type": "code",
   "execution_count": 28,
   "metadata": {},
   "outputs": [],
   "source": [
    "#| hide\n",
    "example_chromosome_relationships_path = latest_assembly_path / \"relationships\"/ \"mrna_to_gene\" / f\"{example_chromosome_path.stem}.csv\"\n",
    "if not example_chromosome_relationships_path.exists():\n",
    "    write_mrna_gene_relationships(example_chromosome_relationships, example_chromosome_path.stem, latest_assembly_path)"
   ]
  },
  {
   "attachments": {},
   "cell_type": "markdown",
   "metadata": {},
   "source": [
    "## 2. Process mRNA to gene relationships\n",
    "\n",
    "For all mRNA to gene relationships\n",
    "1. Normalize mRNA positions to written gene\n",
    "2. Write normalized mRNA positions to disk"
   ]
  },
  {
   "cell_type": "code",
   "execution_count": 29,
   "metadata": {},
   "outputs": [],
   "source": [
    "#| hide\n",
    "example_chromosome_genes_path = latest_assembly_path / \"genes\" / f\"{example_chromosome_path.stem}.csv\"\n",
    "example_chromosome_genes = pd.read_csv(example_chromosome_genes_path)\n",
    "example_chromosome_mrna = filter_chromosome_features_by_type(example_chromosome, \"mRNA\")"
   ]
  },
  {
   "cell_type": "code",
   "execution_count": 30,
   "metadata": {},
   "outputs": [
    {
     "data": {
      "text/html": [
       "<div>\n",
       "<style scoped>\n",
       "    .dataframe tbody tr th:only-of-type {\n",
       "        vertical-align: middle;\n",
       "    }\n",
       "\n",
       "    .dataframe tbody tr th {\n",
       "        vertical-align: top;\n",
       "    }\n",
       "\n",
       "    .dataframe thead th {\n",
       "        text-align: right;\n",
       "    }\n",
       "</style>\n",
       "<table border=\"1\" class=\"dataframe\">\n",
       "  <thead>\n",
       "    <tr style=\"text-align: right;\">\n",
       "      <th></th>\n",
       "      <th>geneid</th>\n",
       "      <th>sequence</th>\n",
       "      <th>pos_strand_position</th>\n",
       "      <th>neg_strand_position</th>\n",
       "    </tr>\n",
       "  </thead>\n",
       "  <tbody>\n",
       "    <tr>\n",
       "      <th>0</th>\n",
       "      <td>GeneID:100287102</td>\n",
       "      <td>CTTGCCGTCAGCCTTTTCTTTGACCTCTTCTTTCTGTTCATGTGTA...</td>\n",
       "      <td>11873</td>\n",
       "      <td>14409</td>\n",
       "    </tr>\n",
       "    <tr>\n",
       "      <th>1</th>\n",
       "      <td>GeneID:653635</td>\n",
       "      <td>TCCGGCAGAGCGGAAGCGGCGGCGGGAGCTTCCGGGAGGGCGGCTC...</td>\n",
       "      <td>14361</td>\n",
       "      <td>29370</td>\n",
       "    </tr>\n",
       "    <tr>\n",
       "      <th>2</th>\n",
       "      <td>GeneID:102466751</td>\n",
       "      <td>TGTGGGAGAGGAACATGGGCTCAGGACAGCGGGTGTCAGCTTGCCT...</td>\n",
       "      <td>17368</td>\n",
       "      <td>17436</td>\n",
       "    </tr>\n",
       "    <tr>\n",
       "      <th>3</th>\n",
       "      <td>GeneID:107985730</td>\n",
       "      <td>TGCCCTCCAGCCCTACGCCTTGACCCGCTTTCCTGCGTCTCTCAGC...</td>\n",
       "      <td>29773</td>\n",
       "      <td>35418</td>\n",
       "    </tr>\n",
       "    <tr>\n",
       "      <th>4</th>\n",
       "      <td>GeneID:100302278</td>\n",
       "      <td>GGATGCCCAGCTAGTTTGAATTTTAGATAAACAACGAATAATTTCG...</td>\n",
       "      <td>30365</td>\n",
       "      <td>30503</td>\n",
       "    </tr>\n",
       "  </tbody>\n",
       "</table>\n",
       "</div>"
      ],
      "text/plain": [
       "             geneid                                           sequence   \n",
       "0  GeneID:100287102  CTTGCCGTCAGCCTTTTCTTTGACCTCTTCTTTCTGTTCATGTGTA...  \\\n",
       "1     GeneID:653635  TCCGGCAGAGCGGAAGCGGCGGCGGGAGCTTCCGGGAGGGCGGCTC...   \n",
       "2  GeneID:102466751  TGTGGGAGAGGAACATGGGCTCAGGACAGCGGGTGTCAGCTTGCCT...   \n",
       "3  GeneID:107985730  TGCCCTCCAGCCCTACGCCTTGACCCGCTTTCCTGCGTCTCTCAGC...   \n",
       "4  GeneID:100302278  GGATGCCCAGCTAGTTTGAATTTTAGATAAACAACGAATAATTTCG...   \n",
       "\n",
       "   pos_strand_position  neg_strand_position  \n",
       "0                11873                14409  \n",
       "1                14361                29370  \n",
       "2                17368                17436  \n",
       "3                29773                35418  \n",
       "4                30365                30503  "
      ]
     },
     "execution_count": 30,
     "metadata": {},
     "output_type": "execute_result"
    }
   ],
   "source": [
    "#| hide\n",
    "example_chromosome_genes.head()"
   ]
  },
  {
   "cell_type": "code",
   "execution_count": 31,
   "metadata": {},
   "outputs": [
    {
     "data": {
      "text/plain": [
       "[(34091,\n",
       "  SeqFeature(CompoundLocation([SimpleLocation(ExactPosition(155978066), ExactPosition(155978175), strand=-1), SimpleLocation(ExactPosition(155969155), ExactPosition(155969300), strand=-1), SimpleLocation(ExactPosition(155966819), ExactPosition(155966887), strand=-1), SimpleLocation(ExactPosition(155966415), ExactPosition(155966479), strand=-1), SimpleLocation(ExactPosition(155965630), ExactPosition(155965760), strand=-1), SimpleLocation(ExactPosition(155965302), ExactPosition(155965412), strand=-1), SimpleLocation(ExactPosition(155964987), ExactPosition(155965131), strand=-1), SimpleLocation(ExactPosition(155962932), ExactPosition(155963183), strand=-1), SimpleLocation(ExactPosition(155962592), ExactPosition(155962718), strand=-1), SimpleLocation(ExactPosition(155962104), ExactPosition(155962222), strand=-1), SimpleLocation(ExactPosition(155961660), ExactPosition(155961909), strand=-1), SimpleLocation(ExactPosition(155958319), ExactPosition(155958396), strand=-1), SimpleLocation(ExactPosition(155957712), ExactPosition(155957882), strand=-1), SimpleLocation(ExactPosition(155954901), ExactPosition(155954969), strand=-1), SimpleLocation(ExactPosition(155952627), ExactPosition(155952828), strand=-1), SimpleLocation(ExactPosition(155952115), ExactPosition(155952235), strand=-1), SimpleLocation(ExactPosition(155951918), ExactPosition(155951986), strand=-1), SimpleLocation(ExactPosition(155951740), ExactPosition(155951776), strand=-1), SimpleLocation(ExactPosition(155951482), ExactPosition(155951533), strand=-1), SimpleLocation(ExactPosition(155950828), ExactPosition(155951272), strand=-1), SimpleLocation(ExactPosition(155950268), ExactPosition(155950482), strand=-1), SimpleLocation(ExactPosition(155946853), ExactPosition(155948015), strand=-1)], 'join'), type='mRNA', location_operator='join', qualifiers=...)),\n",
       " (45710,\n",
       "  SeqFeature(CompoundLocation([SimpleLocation(ExactPosition(216939581), ExactPosition(216939673), strand=-1), SimpleLocation(ExactPosition(216936661), ExactPosition(216936699), strand=-1), SimpleLocation(ExactPosition(216865060), ExactPosition(216865178), strand=-1), SimpleLocation(ExactPosition(216677075), ExactPosition(216677491), strand=-1), SimpleLocation(ExactPosition(216650972), ExactPosition(216651089), strand=-1), SimpleLocation(ExactPosition(216567987), ExactPosition(216568098), strand=-1), SimpleLocation(ExactPosition(216564218), ExactPosition(216564380), strand=-1), SimpleLocation(ExactPosition(216519151), ExactPosition(216519421), strand=-1), SimpleLocation(ExactPosition(216503245), ExactPosition(216507183), strand=-1)], 'join'), type='mRNA', location_operator='join', qualifiers=...)),\n",
       " (33361,\n",
       "  SeqFeature(CompoundLocation([SimpleLocation(ExactPosition(155063739), ExactPosition(155063936), strand=1), SimpleLocation(ExactPosition(155066729), ExactPosition(155067016), strand=1), SimpleLocation(ExactPosition(155067371), ExactPosition(155067440), strand=1), SimpleLocation(ExactPosition(155068998), ExactPosition(155069553), strand=1)], 'join'), type='mRNA', location_operator='join', qualifiers=...)),\n",
       " (35261,\n",
       "  SeqFeature(CompoundLocation([SimpleLocation(ExactPosition(158353893), ExactPosition(158354046), strand=1), SimpleLocation(ExactPosition(158354376), ExactPosition(158354673), strand=1), SimpleLocation(ExactPosition(158355299), ExactPosition(158355569), strand=1), SimpleLocation(ExactPosition(158355826), ExactPosition(158356105), strand=1), SimpleLocation(ExactPosition(158356497), ExactPosition(158356591), strand=1), SimpleLocation(ExactPosition(158356763), ExactPosition(158357553), strand=1)], 'join'), type='mRNA', location_operator='join', qualifiers=...)),\n",
       " (34737,\n",
       "  SeqFeature(CompoundLocation([SimpleLocation(ExactPosition(156728933), ExactPosition(156729562), strand=1), SimpleLocation(ExactPosition(156731990), ExactPosition(156732115), strand=1), SimpleLocation(ExactPosition(156732280), ExactPosition(156732473), strand=1), SimpleLocation(ExactPosition(156732984), ExactPosition(156733047), strand=1), SimpleLocation(ExactPosition(156733376), ExactPosition(156733520), strand=1), SimpleLocation(ExactPosition(156734008), ExactPosition(156734493), strand=1), SimpleLocation(ExactPosition(156735724), ExactPosition(156735909), strand=1), SimpleLocation(ExactPosition(156736631), ExactPosition(156736960), strand=1)], 'join'), type='mRNA', location_operator='join', qualifiers=...))]"
      ]
     },
     "execution_count": 31,
     "metadata": {},
     "output_type": "execute_result"
    }
   ],
   "source": [
    "#| hide\n",
    "example_chromosome_mrna_sample = pd.Series(example_chromosome_mrna).sample(10, random_state=42).values.tolist()\n",
    "example_chromosome_mrna_sample[:5]"
   ]
  },
  {
   "cell_type": "code",
   "execution_count": 32,
   "metadata": {},
   "outputs": [],
   "source": [
    "#| hide\n",
    "example_chromosome_mrna_sample_transcriptids = list(map(\n",
    "    lambda m: get_feature_transcript_id(\n",
    "        m[1]\n",
    "    ),\n",
    "    example_chromosome_mrna_sample\n",
    "))"
   ]
  },
  {
   "cell_type": "code",
   "execution_count": 33,
   "metadata": {},
   "outputs": [],
   "source": [
    "#| export\n",
    "def get_mrna_gene_id(mrna_tup: tuple[int, SeqFeature], relationships: pd.DataFrame):\n",
    "    idx, mrna = mrna_tup\n",
    "    mrna_transcript_id = get_feature_transcript_id(mrna)\n",
    "    mrna_gene_id = relationships[relationships.transcript_id == mrna_transcript_id]\n",
    "    if mrna_gene_id.shape[0] == 0:\n",
    "        return None\n",
    "    return mrna_gene_id.iloc[0, :].geneid"
   ]
  },
  {
   "cell_type": "code",
   "execution_count": 34,
   "metadata": {},
   "outputs": [],
   "source": [
    "#| hide\n",
    "example_chromosome_mrna_sample_geneids = list(map(\n",
    "    lambda m: get_mrna_gene_id(\n",
    "        m, example_chromosome_relationships\n",
    "    ), \n",
    "    example_chromosome_mrna_sample\n",
    "))"
   ]
  },
  {
   "cell_type": "code",
   "execution_count": 35,
   "metadata": {},
   "outputs": [],
   "source": [
    "#| export\n",
    "def get_gene_seq_record(gene_id: str, genes: pd.DataFrame) -> tuple[tuple[int, int], SeqRecord]:\n",
    "    \"\"\n",
    "    gene_id_row = genes[genes.geneid == gene_id]\n",
    "    if gene_id_row.shape[0] == 0:\n",
    "        return None\n",
    "    gene_id_row = gene_id_row.iloc[0, :]\n",
    "    gene_id_seqrecord = SeqRecord(Seq(gene_id_row.sequence))\n",
    "    return gene_id_row.pos_strand_position, gene_id_row.neg_strand_position, gene_id_seqrecord"
   ]
  },
  {
   "cell_type": "code",
   "execution_count": 36,
   "metadata": {},
   "outputs": [],
   "source": [
    "#| hide\n",
    "example_chromosome_mrna_sample_gene_records = list(map(\n",
    "    lambda gene_id: get_gene_seq_record(gene_id, example_chromosome_genes),\n",
    "    example_chromosome_mrna_sample_geneids\n",
    "))"
   ]
  },
  {
   "cell_type": "code",
   "execution_count": 37,
   "metadata": {},
   "outputs": [
    {
     "data": {
      "text/plain": [
       "(155946853,\n",
       " 155979617,\n",
       " SeqRecord(seq=Seq('AGAATCAGGCAGGACCCTGCTAACCGAAGGCTCTGTCCCAGGCCTCTCTGTGCT...CCA'), id='<unknown id>', name='<unknown name>', description='<unknown description>', dbxrefs=[]))"
      ]
     },
     "execution_count": 37,
     "metadata": {},
     "output_type": "execute_result"
    }
   ],
   "source": [
    "#| hide\n",
    "example_chromosome_mrna_sample_gene_records[0]"
   ]
  },
  {
   "cell_type": "code",
   "execution_count": 38,
   "metadata": {},
   "outputs": [
    {
     "name": "stdout",
     "output_type": "stream",
     "text": [
      "(34091, SeqFeature(CompoundLocation([SimpleLocation(ExactPosition(155978066), ExactPosition(155978175), strand=-1), SimpleLocation(ExactPosition(155969155), ExactPosition(155969300), strand=-1), SimpleLocation(ExactPosition(155966819), ExactPosition(155966887), strand=-1), SimpleLocation(ExactPosition(155966415), ExactPosition(155966479), strand=-1), SimpleLocation(ExactPosition(155965630), ExactPosition(155965760), strand=-1), SimpleLocation(ExactPosition(155965302), ExactPosition(155965412), strand=-1), SimpleLocation(ExactPosition(155964987), ExactPosition(155965131), strand=-1), SimpleLocation(ExactPosition(155962932), ExactPosition(155963183), strand=-1), SimpleLocation(ExactPosition(155962592), ExactPosition(155962718), strand=-1), SimpleLocation(ExactPosition(155962104), ExactPosition(155962222), strand=-1), SimpleLocation(ExactPosition(155961660), ExactPosition(155961909), strand=-1), SimpleLocation(ExactPosition(155958319), ExactPosition(155958396), strand=-1), SimpleLocation(ExactPosition(155957712), ExactPosition(155957882), strand=-1), SimpleLocation(ExactPosition(155954901), ExactPosition(155954969), strand=-1), SimpleLocation(ExactPosition(155952627), ExactPosition(155952828), strand=-1), SimpleLocation(ExactPosition(155952115), ExactPosition(155952235), strand=-1), SimpleLocation(ExactPosition(155951918), ExactPosition(155951986), strand=-1), SimpleLocation(ExactPosition(155951740), ExactPosition(155951776), strand=-1), SimpleLocation(ExactPosition(155951482), ExactPosition(155951533), strand=-1), SimpleLocation(ExactPosition(155950828), ExactPosition(155951272), strand=-1), SimpleLocation(ExactPosition(155950268), ExactPosition(155950482), strand=-1), SimpleLocation(ExactPosition(155946853), ExactPosition(155948015), strand=-1)], 'join'), type='mRNA', location_operator='join', qualifiers=...))\n"
     ]
    }
   ],
   "source": [
    "#| hide\n",
    "example_mrna = example_chromosome_mrna_sample[0]\n",
    "print(example_mrna)"
   ]
  },
  {
   "cell_type": "code",
   "execution_count": 39,
   "metadata": {},
   "outputs": [
    {
     "name": "stdout",
     "output_type": "stream",
     "text": [
      "(155946853, 155979617, SeqRecord(seq=Seq('AGAATCAGGCAGGACCCTGCTAACCGAAGGCTCTGTCCCAGGCCTCTCTGTGCT...CCA'), id='<unknown id>', name='<unknown name>', description='<unknown description>', dbxrefs=[]))\n"
     ]
    }
   ],
   "source": [
    "#| hide\n",
    "example_gene_record = example_chromosome_mrna_sample_gene_records[0]\n",
    "print(example_gene_record)"
   ]
  },
  {
   "cell_type": "code",
   "execution_count": 40,
   "metadata": {},
   "outputs": [
    {
     "data": {
      "text/plain": [
       "(True, True)"
      ]
     },
     "execution_count": 40,
     "metadata": {},
     "output_type": "execute_result"
    }
   ],
   "source": [
    "#| hide\n",
    "# Validate gene\n",
    "example_gene_start_seq = \"AGAATCAGGCAGGACCCTGCTAACCGAAGGCTCTGTCCCAGGCCTCTCTGTGCTTCTGGTTTCTCCAGAG\"\n",
    "example_gene_end_seq = \"TCGAAGAATTTTCTTCTTGCCAATTTTGTTGTTTAAAAAAAAAATTCAGGGAAAATTAAAAACCTGGAACTCCA\"\n",
    "example_gene_record[-1].seq.startswith(example_gene_start_seq), example_gene_record[-1].seq.endswith(example_gene_end_seq)"
   ]
  },
  {
   "cell_type": "code",
   "execution_count": 41,
   "metadata": {},
   "outputs": [],
   "source": [
    "#| export\n",
    "def normalize_mrna_positions(\n",
    "        mrna_tup: tuple[int, SeqFeature], \n",
    "        gene_record_tup: tuple[tuple[int, int], SeqRecord],\n",
    "        debug: bool = False\n",
    "        ) -> list[tuple[int, int]]:\n",
    "    idx, mrna = mrna_tup\n",
    "    pos_strand_position, neg_strand_position, gene_record = gene_record_tup\n",
    "    is_neg_strand = mrna.location.parts[0].strand == -1\n",
    "    if not is_neg_strand:\n",
    "        norm_positions = [p - pos_strand_position for p in mrna.location.parts]\n",
    "    else:\n",
    "        norm_positions = [p - neg_strand_position for p in mrna.location.parts]\n",
    "        inverted_positions = []\n",
    "        for p in norm_positions:\n",
    "            inverted_p = SimpleLocation(abs(p.end),abs(p.start), strand=1)\n",
    "            inverted_positions.append(inverted_p)\n",
    "        norm_positions = inverted_positions\n",
    "    norm_position_ints = [(int(p.start), int(p.end)) for p in norm_positions]\n",
    "    return norm_position_ints"
   ]
  },
  {
   "cell_type": "code",
   "execution_count": 42,
   "metadata": {},
   "outputs": [
    {
     "data": {
      "text/plain": [
       "[(1442, 1551), (10317, 10462), (12730, 12798)]"
      ]
     },
     "execution_count": 42,
     "metadata": {},
     "output_type": "execute_result"
    }
   ],
   "source": [
    "#| hide\n",
    "example_mrna_norm_positions = normalize_mrna_positions(example_mrna, example_gene_record, debug=True)\n",
    "example_mrna_norm_positions[:3]"
   ]
  },
  {
   "cell_type": "code",
   "execution_count": 43,
   "metadata": {},
   "outputs": [],
   "source": [
    "#| export\n",
    "def get_mrna_bookends(\n",
    "        mrna_tup: tuple[int, SeqFeature], \n",
    "        gene_record_tup: tuple[tuple[int, int], SeqRecord]) -> tuple[int, int]:\n",
    "    norm_mrna_positions = normalize_mrna_positions(mrna_tup, gene_record_tup)\n",
    "    start = norm_mrna_positions[0][0]\n",
    "    end = norm_mrna_positions[-1][-1]\n",
    "    return start, end"
   ]
  },
  {
   "cell_type": "code",
   "execution_count": 44,
   "metadata": {},
   "outputs": [
    {
     "data": {
      "text/plain": [
       "(1442, 32764)"
      ]
     },
     "execution_count": 44,
     "metadata": {},
     "output_type": "execute_result"
    }
   ],
   "source": [
    "#| hide\n",
    "example_mrna_bookends = get_mrna_bookends(example_mrna, example_gene_record)\n",
    "example_mrna_bookends"
   ]
  },
  {
   "cell_type": "code",
   "execution_count": 45,
   "metadata": {},
   "outputs": [],
   "source": [
    "#| hide\n",
    "example_chromosome_mrna_sample_bookends = list(map(\n",
    "    lambda tup: get_mrna_bookends(*tup),\n",
    "    zip(example_chromosome_mrna_sample, example_chromosome_mrna_sample_gene_records)\n",
    "))"
   ]
  },
  {
   "cell_type": "code",
   "execution_count": 46,
   "metadata": {},
   "outputs": [
    {
     "data": {
      "text/plain": [
       "[(1442, 32764), (198029, 634457)]"
      ]
     },
     "execution_count": 46,
     "metadata": {},
     "output_type": "execute_result"
    }
   ],
   "source": [
    "#| hide\n",
    "example_chromosome_mrna_sample_bookends[:2]"
   ]
  },
  {
   "cell_type": "code",
   "execution_count": 47,
   "metadata": {},
   "outputs": [],
   "source": [
    "#| export\n",
    "def extract_sequence_with_positions(positions: list[tuple[int, int]], sequence: str):\n",
    "    sequence_extracted_list = []\n",
    "    for start, end in positions:\n",
    "        position_sequence = sequence[start: end]\n",
    "        sequence_extracted_list.append(position_sequence)\n",
    "    return \"\".join(sequence_extracted_list)"
   ]
  },
  {
   "cell_type": "code",
   "execution_count": 48,
   "metadata": {},
   "outputs": [],
   "source": [
    "#| hide\n",
    "example_mrna_norm_seq = extract_sequence_with_positions(example_mrna_norm_positions, str(example_gene_record[-1].seq))"
   ]
  },
  {
   "cell_type": "code",
   "execution_count": 49,
   "metadata": {},
   "outputs": [
    {
     "data": {
      "text/plain": [
       "4125"
      ]
     },
     "execution_count": 49,
     "metadata": {},
     "output_type": "execute_result"
    }
   ],
   "source": [
    "#| hide\n",
    "len(example_mrna_norm_seq)"
   ]
  },
  {
   "cell_type": "code",
   "execution_count": 50,
   "metadata": {},
   "outputs": [],
   "source": [
    "#| hide\n",
    "mrna_start_seq = \"AGACGCGACGGTGCTGGGATCCCGGGAGGGAGCGGAGCGGACCTGGGCTTGGTCGCCTCCAAGCCGGCGG\"\n",
    "mrna_end_seq = \"TTTCTTCTTGCCAATTTTGTTGTTTAAAAAAAAAATTCAGGGAAAATTAAAAACCTGGAACTCCA\""
   ]
  },
  {
   "cell_type": "code",
   "execution_count": 51,
   "metadata": {},
   "outputs": [],
   "source": [
    "#| hide\n",
    "mrna_sequence_source = example_mrna[1].extract(example_chromosome)"
   ]
  },
  {
   "cell_type": "code",
   "execution_count": 52,
   "metadata": {},
   "outputs": [
    {
     "data": {
      "text/plain": [
       "[SimpleLocation(ExactPosition(155978066), ExactPosition(155978175), strand=-1),\n",
       " SimpleLocation(ExactPosition(155969155), ExactPosition(155969300), strand=-1),\n",
       " SimpleLocation(ExactPosition(155966819), ExactPosition(155966887), strand=-1)]"
      ]
     },
     "execution_count": 52,
     "metadata": {},
     "output_type": "execute_result"
    }
   ],
   "source": [
    "#| hide\n",
    "example_mrna[1].location.parts[:3]"
   ]
  },
  {
   "cell_type": "code",
   "execution_count": 53,
   "metadata": {},
   "outputs": [
    {
     "data": {
      "text/plain": [
       "True"
      ]
     },
     "execution_count": 53,
     "metadata": {},
     "output_type": "execute_result"
    }
   ],
   "source": [
    "#| hide\n",
    "mrna_sequence_source.seq == example_mrna_norm_seq"
   ]
  },
  {
   "cell_type": "code",
   "execution_count": 54,
   "metadata": {},
   "outputs": [],
   "source": [
    "#| hide\n",
    "mrna_sequence_source.seq.startswith(mrna_start_seq), example_mrna_norm_seq.startswith(mrna_start_seq)\n",
    "if not example_mrna_norm_seq.startswith(mrna_start_seq):\n",
    "    print(\"Normalized mRNA sequence start doesn't match\")\n",
    "    print(example_mrna_norm_seq[:len(mrna_start_seq)])"
   ]
  },
  {
   "cell_type": "code",
   "execution_count": 55,
   "metadata": {},
   "outputs": [],
   "source": [
    "#| hide\n",
    "mrna_end_seq = \"TTTCTTCTTGCCAATTTTGTTGTTTAAAAAAAAAATTCAGGGAAAATTAAAAACCTGGAACTCCA\"\n",
    "mrna_sequence_source.seq.endswith(mrna_end_seq), example_mrna_norm_seq.endswith(mrna_end_seq)\n",
    "if not example_mrna_norm_seq.endswith(mrna_end_seq):\n",
    "    print(\"Normalized mRNA sequence end doesn't match\")\n",
    "    print(example_mrna_norm_seq[-len(mrna_end_seq):])"
   ]
  },
  {
   "cell_type": "code",
   "execution_count": 56,
   "metadata": {},
   "outputs": [],
   "source": [
    "#| export\n",
    "def get_mrna_intron_positions(\n",
    "        mrna_tup: tuple[int, SeqFeature],\n",
    "        gene_record_tup: tuple[tuple[int, int], SeqRecord],\n",
    ") -> list[tuple[int, int]]:\n",
    "    \"Get intron positions to replace in the input sequence.\"\n",
    "    mrna_norm_positions = normalize_mrna_positions(mrna_tup, gene_record_tup)\n",
    "    # Get the starting gene location of the mrna\n",
    "    mrna_start, mrna_end = get_mrna_bookends(mrna_tup, gene_record_tup)\n",
    "    # Get the first end of the spliced transcript\n",
    "    prev_end = None\n",
    "    intron_positions = []\n",
    "    for pos_start, pos_end in mrna_norm_positions:\n",
    "        if prev_end is None:\n",
    "            prev_end = pos_end\n",
    "            continue\n",
    "        intron = [prev_end, pos_start]\n",
    "        intron_positions.append(intron)\n",
    "        prev_end = int(pos_end)\n",
    "    intron_positions = [(p[0] - mrna_start, p[1] - mrna_start) for p in intron_positions]\n",
    "    return intron_positions"
   ]
  },
  {
   "cell_type": "code",
   "execution_count": 57,
   "metadata": {},
   "outputs": [
    {
     "data": {
      "text/plain": [
       "([(109, 8875), (9020, 11288), (11356, 11696), (11760, 12415), (12545, 12763)],\n",
       " (27907, 30160))"
      ]
     },
     "execution_count": 57,
     "metadata": {},
     "output_type": "execute_result"
    }
   ],
   "source": [
    "#| hide\n",
    "example_mrna_intron_positions = get_mrna_intron_positions(example_mrna, example_gene_record)\n",
    "example_mrna_intron_positions[:5], example_mrna_intron_positions[-1]"
   ]
  },
  {
   "cell_type": "code",
   "execution_count": 58,
   "metadata": {},
   "outputs": [],
   "source": [
    "#| hide\n",
    "example_intron_positions = list(\n",
    "    map(\n",
    "        lambda tup: get_mrna_intron_positions(tup[0], tup[1]),\n",
    "        zip(example_chromosome_mrna_sample, example_chromosome_mrna_sample_gene_records)))"
   ]
  },
  {
   "cell_type": "code",
   "execution_count": 59,
   "metadata": {},
   "outputs": [
    {
     "data": {
      "text/plain": [
       "(155946853,\n",
       " 155979617,\n",
       " SeqRecord(seq=Seq('AGAATCAGGCAGGACCCTGCTAACCGAAGGCTCTGTCCCAGGCCTCTCTGTGCT...CCA'), id='<unknown id>', name='<unknown name>', description='<unknown description>', dbxrefs=[]))"
      ]
     },
     "execution_count": 59,
     "metadata": {},
     "output_type": "execute_result"
    }
   ],
   "source": [
    "#| hide\n",
    "example_chromosome_mrna_sample_gene_records[0]"
   ]
  },
  {
   "cell_type": "code",
   "execution_count": 60,
   "metadata": {},
   "outputs": [],
   "source": [
    "#| hide\n",
    "training_data_path = transcription_data_path / \"introns\""
   ]
  },
  {
   "cell_type": "code",
   "execution_count": 61,
   "metadata": {},
   "outputs": [],
   "source": [
    "#| export\n",
    "def make_intron_position_dataframe(\n",
    "        gene_ids: list[str], \n",
    "        transcript_ids: list[str], \n",
    "        mrna_bookends: list[tuple[int, int]],\n",
    "        intron_positions: list[tuple[int, int]]):\n",
    "    frame = pd.DataFrame(\n",
    "        gene_ids,\n",
    "        columns=['geneid']\n",
    "    )\n",
    "    frame.loc[:, 'transcriptid'] = transcript_ids\n",
    "    frame.loc[:, 'intron_position'] = intron_positions\n",
    "    frame.loc[:, 'bookends'] = mrna_bookends\n",
    "    frame = frame.explode('intron_position').reset_index(drop=True)\n",
    "    frame.dropna(subset=['intron_position'], inplace=True)\n",
    "    if frame.shape[0] > 0:\n",
    "        frame.loc[:, 'intron_start'] = frame.intron_position.str[0]\n",
    "        frame.loc[:, 'intron_end'] = frame.intron_position.str[1]\n",
    "        frame.drop('intron_position', axis=1, inplace=True)\n",
    "        frame.loc[:, 'mrna_start'] = frame.bookends.str[0]\n",
    "        frame.loc[:, 'mrna_end'] = frame.bookends.str[1]\n",
    "        frame.drop('bookends', axis=1, inplace=True)\n",
    "    else:\n",
    "        frame = None\n",
    "    return frame"
   ]
  },
  {
   "cell_type": "code",
   "execution_count": 62,
   "metadata": {},
   "outputs": [
    {
     "data": {
      "text/html": [
       "<div>\n",
       "<style scoped>\n",
       "    .dataframe tbody tr th:only-of-type {\n",
       "        vertical-align: middle;\n",
       "    }\n",
       "\n",
       "    .dataframe tbody tr th {\n",
       "        vertical-align: top;\n",
       "    }\n",
       "\n",
       "    .dataframe thead th {\n",
       "        text-align: right;\n",
       "    }\n",
       "</style>\n",
       "<table border=\"1\" class=\"dataframe\">\n",
       "  <thead>\n",
       "    <tr style=\"text-align: right;\">\n",
       "      <th></th>\n",
       "      <th>geneid</th>\n",
       "      <th>transcriptid</th>\n",
       "      <th>intron_start</th>\n",
       "      <th>intron_end</th>\n",
       "      <th>mrna_start</th>\n",
       "      <th>mrna_end</th>\n",
       "    </tr>\n",
       "  </thead>\n",
       "  <tbody>\n",
       "    <tr>\n",
       "      <th>0</th>\n",
       "      <td>GeneID:9181</td>\n",
       "      <td>NM_001350111.2</td>\n",
       "      <td>109</td>\n",
       "      <td>8875</td>\n",
       "      <td>1442</td>\n",
       "      <td>32764</td>\n",
       "    </tr>\n",
       "    <tr>\n",
       "      <th>1</th>\n",
       "      <td>GeneID:9181</td>\n",
       "      <td>NM_001350111.2</td>\n",
       "      <td>9020</td>\n",
       "      <td>11288</td>\n",
       "      <td>1442</td>\n",
       "      <td>32764</td>\n",
       "    </tr>\n",
       "    <tr>\n",
       "      <th>2</th>\n",
       "      <td>GeneID:9181</td>\n",
       "      <td>NM_001350111.2</td>\n",
       "      <td>11356</td>\n",
       "      <td>11696</td>\n",
       "      <td>1442</td>\n",
       "      <td>32764</td>\n",
       "    </tr>\n",
       "    <tr>\n",
       "      <th>3</th>\n",
       "      <td>GeneID:9181</td>\n",
       "      <td>NM_001350111.2</td>\n",
       "      <td>11760</td>\n",
       "      <td>12415</td>\n",
       "      <td>1442</td>\n",
       "      <td>32764</td>\n",
       "    </tr>\n",
       "    <tr>\n",
       "      <th>4</th>\n",
       "      <td>GeneID:9181</td>\n",
       "      <td>NM_001350111.2</td>\n",
       "      <td>12545</td>\n",
       "      <td>12763</td>\n",
       "      <td>1442</td>\n",
       "      <td>32764</td>\n",
       "    </tr>\n",
       "  </tbody>\n",
       "</table>\n",
       "</div>"
      ],
      "text/plain": [
       "        geneid    transcriptid  intron_start  intron_end  mrna_start  mrna_end\n",
       "0  GeneID:9181  NM_001350111.2           109        8875        1442     32764\n",
       "1  GeneID:9181  NM_001350111.2          9020       11288        1442     32764\n",
       "2  GeneID:9181  NM_001350111.2         11356       11696        1442     32764\n",
       "3  GeneID:9181  NM_001350111.2         11760       12415        1442     32764\n",
       "4  GeneID:9181  NM_001350111.2         12545       12763        1442     32764"
      ]
     },
     "execution_count": 62,
     "metadata": {},
     "output_type": "execute_result"
    }
   ],
   "source": [
    "#| hide\n",
    "example_intron_info_df = make_intron_position_dataframe(\n",
    "    example_chromosome_mrna_sample_geneids,\n",
    "    example_chromosome_mrna_sample_transcriptids,\n",
    "    example_chromosome_mrna_sample_bookends,\n",
    "    example_intron_positions\n",
    ")\n",
    "example_intron_info_df.head()"
   ]
  },
  {
   "cell_type": "code",
   "execution_count": 63,
   "metadata": {},
   "outputs": [
    {
     "data": {
      "text/plain": [
       "(117, 6)"
      ]
     },
     "execution_count": 63,
     "metadata": {},
     "output_type": "execute_result"
    }
   ],
   "source": [
    "#| hide\n",
    "example_intron_info_df.shape"
   ]
  },
  {
   "cell_type": "code",
   "execution_count": 64,
   "metadata": {},
   "outputs": [
    {
     "data": {
      "text/plain": [
       "10"
      ]
     },
     "execution_count": 64,
     "metadata": {},
     "output_type": "execute_result"
    }
   ],
   "source": [
    "#| hide\n",
    "example_intron_info_df[['geneid', 'transcriptid']].drop_duplicates().shape[0]"
   ]
  },
  {
   "cell_type": "code",
   "execution_count": 65,
   "metadata": {},
   "outputs": [],
   "source": [
    "#| hide\n",
    "import nbdev; nbdev.nbdev_export()"
   ]
  },
  {
   "cell_type": "code",
   "execution_count": null,
   "metadata": {},
   "outputs": [],
   "source": []
  }
 ],
 "metadata": {
  "kernelspec": {
   "display_name": "python3",
   "language": "python",
   "name": "python3"
  },
  "language_info": {
   "codemirror_mode": {
    "name": "ipython",
    "version": 3
   },
   "file_extension": ".py",
   "mimetype": "text/x-python",
   "name": "python",
   "nbconvert_exporter": "python",
   "pygments_lexer": "ipython3",
   "version": "3.10.6"
  }
 },
 "nbformat": 4,
 "nbformat_minor": 4
}
