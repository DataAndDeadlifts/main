{
 "cells": [
  {
   "attachments": {},
   "cell_type": "markdown",
   "metadata": {},
   "source": [
    "# llm-mito-scanner\n",
    "\n",
    "> Training transformers to translate DNA to RNA to Protein.\n",
    "> Then using those transformers to identify likely mitochondria related sequences."
   ]
  },
  {
   "attachments": {},
   "cell_type": "markdown",
   "metadata": {},
   "source": [
    "## Install"
   ]
  },
  {
   "attachments": {},
   "cell_type": "markdown",
   "metadata": {},
   "source": [
    "```sh\n",
    "pip install llm_mito_scanner\n",
    "```"
   ]
  },
  {
   "attachments": {},
   "cell_type": "markdown",
   "metadata": {},
   "source": [
    "## Experimentation Plan"
   ]
  },
  {
   "attachments": {},
   "cell_type": "markdown",
   "metadata": {},
   "source": [
    "### 1. Get Data"
   ]
  },
  {
   "attachments": {},
   "cell_type": "markdown",
   "metadata": {},
   "source": [
    "Download data for reference GRCh38 from ncbi;\n",
    "\n",
    "1. ~~Reference Genome Sequence (fasta)~~\n",
    "2. ~~RefSeq Reference Genome Annotation (gff3)~~\n",
    "3. ~~RefSeq Transcripts (fasta)~~\n",
    "4. ~~RefSeq Proteins (fasta)~~\n",
    "\n",
    "All tasks done in `nbs/00 data.ipynb`"
   ]
  },
  {
   "attachments": {},
   "cell_type": "markdown",
   "metadata": {},
   "source": [
    "### 2. Prepare Training Data for Transcription"
   ]
  },
  {
   "attachments": {},
   "cell_type": "markdown",
   "metadata": {},
   "source": [
    "1. ~~Extract all DNA Gene sequences~~\n",
    "    1. ~~Tokens are nucleotides~~\n",
    "2. ~~Extract all transcript sequences~~\n",
    "    1. ~~Tokens are transcribed nucleotides~~\n",
    "3. Extract all protein sequences\n",
    "    1. Tokens are translated nucleotides\n",
    "        1. Ex: Reading frame for Methionine should read M[1], M[2], M[3]\n",
    "4. ~~Build vocabulary for tokenization~~\n",
    "5. ~~Build train, test index~~\n",
    "6. ~~Define models~~\n",
    "\n",
    "TODO:\n",
    "- Revise extraction code to persist mRNA transcripts and their input sequences, with Tokens.\n",
    "- Revise Dataset class, DataLoader to handle parquet files as input."
   ]
  },
  {
   "attachments": {},
   "cell_type": "markdown",
   "metadata": {},
   "source": [
    "### 3. Train a transformer to transcribe DNA to mRNA"
   ]
  },
  {
   "attachments": {},
   "cell_type": "markdown",
   "metadata": {},
   "source": [
    "1. Train\n",
    "2. Evaluate test set\n",
    "    1. CrossEntropyLoss\n",
    "3. Evaluate eval set\n",
    "    1. CrossEntropyLoss"
   ]
  },
  {
   "attachments": {},
   "cell_type": "markdown",
   "metadata": {},
   "source": [
    "### 4. Prepare data for translation"
   ]
  },
  {
   "attachments": {},
   "cell_type": "markdown",
   "metadata": {},
   "source": [
    "1. Map input genes to translated protein sequences\n",
    "2. Build train, test, eval index"
   ]
  },
  {
   "attachments": {},
   "cell_type": "markdown",
   "metadata": {},
   "source": [
    "### 5. Train a transformer to translate mRNA to protein"
   ]
  },
  {
   "attachments": {},
   "cell_type": "markdown",
   "metadata": {},
   "source": [
    "1. Train\n",
    "2. Evaluate test set\n",
    "    1. CrossEntropyLoss\n",
    "3. Evaluate eval set\n",
    "    1. CrossEntropyLoss"
   ]
  },
  {
   "attachments": {},
   "cell_type": "markdown",
   "metadata": {},
   "source": [
    "### 6. Prepare summary reports"
   ]
  },
  {
   "attachments": {},
   "cell_type": "markdown",
   "metadata": {},
   "source": [
    "1. Aims\n",
    "2. Implementation\n",
    "3. Model details\n",
    "4. Translation task description\n",
    "5. Pre-training results\n",
    "6. Translation evaluataion"
   ]
  },
  {
   "cell_type": "code",
   "execution_count": 2,
   "metadata": {},
   "outputs": [
    {
     "ename": "IndentationError",
     "evalue": "expected an indented block after function definition on line 18 (<unknown>, line 19)",
     "output_type": "error",
     "traceback": [
      "Traceback \u001b[0;36m(most recent call last)\u001b[0m:\n",
      "\u001b[0m  File \u001b[1;32m~/projects/llm-mito-scanner/venv/lib/python3.10/site-packages/IPython/core/interactiveshell.py:3508\u001b[0m in \u001b[1;35mrun_code\u001b[0m\n    exec(code_obj, self.user_global_ns, self.user_ns)\u001b[0m\n",
      "\u001b[0m  Cell \u001b[1;32mIn[2], line 2\u001b[0m\n    import nbdev; nbdev.nbdev_export()\u001b[0m\n",
      "\u001b[0m  File \u001b[1;32m~/projects/llm-mito-scanner/venv/lib/python3.10/site-packages/fastcore/script.py:110\u001b[0m in \u001b[1;35m_f\u001b[0m\n    if not mod: return func(*args, **kwargs)\u001b[0m\n",
      "\u001b[0m  File \u001b[1;32m~/projects/llm-mito-scanner/venv/lib/python3.10/site-packages/nbdev/doclinks.py:140\u001b[0m in \u001b[1;35mnbdev_export\u001b[0m\n    _build_modidx()\u001b[0m\n",
      "\u001b[0m  File \u001b[1;32m~/projects/llm-mito-scanner/venv/lib/python3.10/site-packages/nbdev/doclinks.py:102\u001b[0m in \u001b[1;35m_build_modidx\u001b[0m\n    res['syms'].update(_get_modidx((dest.parent/file).resolve(), code_root, nbs_path=nbs_path))\u001b[0m\n",
      "\u001b[0m  File \u001b[1;32m~/projects/llm-mito-scanner/venv/lib/python3.10/site-packages/nbdev/doclinks.py:79\u001b[0m in \u001b[1;35m_get_modidx\u001b[0m\n    for tree in ast.parse(cell.code).body:\u001b[0m\n",
      "\u001b[0;36m  File \u001b[0;32m/usr/lib/python3.10/ast.py:50\u001b[0;36m in \u001b[0;35mparse\u001b[0;36m\n\u001b[0;31m    return compile(source, filename, mode, flags,\u001b[0;36m\n",
      "\u001b[0;36m  File \u001b[0;32m<unknown>:19\u001b[0;36m\u001b[0m\n\u001b[0;31m    \u001b[0m\n\u001b[0m    ^\u001b[0m\n\u001b[0;31mIndentationError\u001b[0m\u001b[0;31m:\u001b[0m expected an indented block after function definition on line 18\n"
     ]
    }
   ],
   "source": [
    "#| hide\n",
    "import nbdev; nbdev.nbdev_export()"
   ]
  },
  {
   "cell_type": "code",
   "execution_count": null,
   "metadata": {},
   "outputs": [],
   "source": []
  }
 ],
 "metadata": {
  "kernelspec": {
   "display_name": "python3",
   "language": "python",
   "name": "python3"
  },
  "language_info": {
   "codemirror_mode": {
    "name": "ipython",
    "version": 3
   },
   "file_extension": ".py",
   "mimetype": "text/x-python",
   "name": "python",
   "nbconvert_exporter": "python",
   "pygments_lexer": "ipython3",
   "version": "3.10.6"
  }
 },
 "nbformat": 4,
 "nbformat_minor": 4
}
