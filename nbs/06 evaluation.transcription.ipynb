{
 "cells": [
  {
   "cell_type": "code",
   "execution_count": 1,
   "metadata": {},
   "outputs": [],
   "source": [
    "#| default_exp evaluation.transcription"
   ]
  },
  {
   "cell_type": "code",
   "execution_count": 2,
   "metadata": {},
   "outputs": [],
   "source": [
    "#| hide\n",
    "from nbdev.showdoc import *"
   ]
  },
  {
   "cell_type": "code",
   "execution_count": 3,
   "metadata": {},
   "outputs": [],
   "source": [
    "#| export\n",
    "from pathlib import Path\n",
    "from sklearn.model_selection import train_test_split\n",
    "import numpy as np\n",
    "import pandas as pd\n",
    "from matplotlib import pyplot as plt\n",
    "import seaborn\n",
    "import torch\n",
    "from torchtext.vocab import Vocab\n",
    "from tqdm import tqdm\n",
    "import math\n",
    "\n",
    "from llm_mito_scanner.data.download import load_config, get_latest_assembly_path\n",
    "from llm_mito_scanner.training.transcription.generation import get_genes, get_mrna\n",
    "from llm_mito_scanner.training.transcription.train import translate, Seq2SeqTransformer,\\\n",
    "    get_vocab, get_text_transform, set_vocab_idx"
   ]
  },
  {
   "cell_type": "code",
   "execution_count": 4,
   "metadata": {},
   "outputs": [],
   "source": [
    "#| hide\n",
    "config = load_config()"
   ]
  },
  {
   "cell_type": "code",
   "execution_count": 5,
   "metadata": {},
   "outputs": [],
   "source": [
    "#| hide\n",
    "data_path = Path(config.get(\"data_path\"))\n",
    "data_raw_path = data_path / \"raw\"\n",
    "assemblies_path = data_raw_path / \"assemblies\"\n",
    "latest_assembly_path = get_latest_assembly_path(assemblies_path)\n",
    "chromosomes_path = latest_assembly_path / \"chromosomes\"\n",
    "training_data_path = latest_assembly_path / \"training\"\n",
    "transcription_data_path = training_data_path / \"transcription\"\n",
    "sequences_data_path = transcription_data_path / \"sequences\"\n",
    "\n",
    "random_state = 42\n",
    "epochs = 10"
   ]
  },
  {
   "cell_type": "code",
   "execution_count": 6,
   "metadata": {},
   "outputs": [
    {
     "data": {
      "text/html": [
       "<div>\n",
       "<style scoped>\n",
       "    .dataframe tbody tr th:only-of-type {\n",
       "        vertical-align: middle;\n",
       "    }\n",
       "\n",
       "    .dataframe tbody tr th {\n",
       "        vertical-align: top;\n",
       "    }\n",
       "\n",
       "    .dataframe thead th {\n",
       "        text-align: right;\n",
       "    }\n",
       "</style>\n",
       "<table border=\"1\" class=\"dataframe\">\n",
       "  <thead>\n",
       "    <tr style=\"text-align: right;\">\n",
       "      <th></th>\n",
       "      <th>chromosome</th>\n",
       "      <th>geneid</th>\n",
       "      <th>transcriptid</th>\n",
       "      <th>start</th>\n",
       "      <th>end</th>\n",
       "      <th>type</th>\n",
       "      <th>epoch</th>\n",
       "    </tr>\n",
       "  </thead>\n",
       "  <tbody>\n",
       "    <tr>\n",
       "      <th>0</th>\n",
       "      <td>NC_000019.10</td>\n",
       "      <td>GeneID:946</td>\n",
       "      <td>XM_011527538.4</td>\n",
       "      <td>57</td>\n",
       "      <td>121</td>\n",
       "      <td>intron-small</td>\n",
       "      <td>0.0</td>\n",
       "    </tr>\n",
       "    <tr>\n",
       "      <th>1</th>\n",
       "      <td>NC_000006.12</td>\n",
       "      <td>GeneID:124901227</td>\n",
       "      <td>XM_047419609.1</td>\n",
       "      <td>0</td>\n",
       "      <td>64</td>\n",
       "      <td>intron-small</td>\n",
       "      <td>0.0</td>\n",
       "    </tr>\n",
       "    <tr>\n",
       "      <th>2</th>\n",
       "      <td>NC_000015.10</td>\n",
       "      <td>GeneID:124903566</td>\n",
       "      <td>XM_047433427.1</td>\n",
       "      <td>7772</td>\n",
       "      <td>7836</td>\n",
       "      <td>intron-small</td>\n",
       "      <td>0.0</td>\n",
       "    </tr>\n",
       "    <tr>\n",
       "      <th>3</th>\n",
       "      <td>NC_000002.12</td>\n",
       "      <td>GeneID:375318</td>\n",
       "      <td>NM_198998.3</td>\n",
       "      <td>139</td>\n",
       "      <td>203</td>\n",
       "      <td>intron-small</td>\n",
       "      <td>0.0</td>\n",
       "    </tr>\n",
       "    <tr>\n",
       "      <th>4</th>\n",
       "      <td>NC_000006.12</td>\n",
       "      <td>GeneID:55173</td>\n",
       "      <td>XM_017010996.2</td>\n",
       "      <td>3550</td>\n",
       "      <td>3614</td>\n",
       "      <td>intron-small</td>\n",
       "      <td>0.0</td>\n",
       "    </tr>\n",
       "  </tbody>\n",
       "</table>\n",
       "</div>"
      ],
      "text/plain": [
       "     chromosome            geneid    transcriptid  start   end          type   \n",
       "0  NC_000019.10        GeneID:946  XM_011527538.4     57   121  intron-small  \\\n",
       "1  NC_000006.12  GeneID:124901227  XM_047419609.1      0    64  intron-small   \n",
       "2  NC_000015.10  GeneID:124903566  XM_047433427.1   7772  7836  intron-small   \n",
       "3  NC_000002.12     GeneID:375318     NM_198998.3    139   203  intron-small   \n",
       "4  NC_000006.12      GeneID:55173  XM_017010996.2   3550  3614  intron-small   \n",
       "\n",
       "   epoch  \n",
       "0    0.0  \n",
       "1    0.0  \n",
       "2    0.0  \n",
       "3    0.0  \n",
       "4    0.0  "
      ]
     },
     "execution_count": 6,
     "metadata": {},
     "output_type": "execute_result"
    }
   ],
   "source": [
    "#| hide\n",
    "training_index = pd.read_csv(transcription_data_path / \"training_sequence_idx.csv\")\n",
    "batch_idx = []\n",
    "for i, f in enumerate(np.array_split(training_index, epochs)):\n",
    "    training_index.loc[f.index.values.tolist(), 'epoch'] = int(i)\n",
    "training_index.head()"
   ]
  },
  {
   "cell_type": "code",
   "execution_count": 7,
   "metadata": {},
   "outputs": [
    {
     "data": {
      "text/html": [
       "<div>\n",
       "<style scoped>\n",
       "    .dataframe tbody tr th:only-of-type {\n",
       "        vertical-align: middle;\n",
       "    }\n",
       "\n",
       "    .dataframe tbody tr th {\n",
       "        vertical-align: top;\n",
       "    }\n",
       "\n",
       "    .dataframe thead th {\n",
       "        text-align: right;\n",
       "    }\n",
       "</style>\n",
       "<table border=\"1\" class=\"dataframe\">\n",
       "  <thead>\n",
       "    <tr style=\"text-align: right;\">\n",
       "      <th></th>\n",
       "      <th>chromosome</th>\n",
       "      <th>geneid</th>\n",
       "      <th>transcriptid</th>\n",
       "      <th>start</th>\n",
       "      <th>end</th>\n",
       "      <th>type</th>\n",
       "      <th>epoch</th>\n",
       "    </tr>\n",
       "  </thead>\n",
       "  <tbody>\n",
       "    <tr>\n",
       "      <th>0</th>\n",
       "      <td>NC_000019.10</td>\n",
       "      <td>GeneID:946</td>\n",
       "      <td>XM_011527538.4</td>\n",
       "      <td>57</td>\n",
       "      <td>121</td>\n",
       "      <td>intron-small</td>\n",
       "      <td>0.0</td>\n",
       "    </tr>\n",
       "    <tr>\n",
       "      <th>1</th>\n",
       "      <td>NC_000006.12</td>\n",
       "      <td>GeneID:124901227</td>\n",
       "      <td>XM_047419609.1</td>\n",
       "      <td>0</td>\n",
       "      <td>64</td>\n",
       "      <td>intron-small</td>\n",
       "      <td>0.0</td>\n",
       "    </tr>\n",
       "    <tr>\n",
       "      <th>2</th>\n",
       "      <td>NC_000015.10</td>\n",
       "      <td>GeneID:124903566</td>\n",
       "      <td>XM_047433427.1</td>\n",
       "      <td>7772</td>\n",
       "      <td>7836</td>\n",
       "      <td>intron-small</td>\n",
       "      <td>0.0</td>\n",
       "    </tr>\n",
       "    <tr>\n",
       "      <th>3</th>\n",
       "      <td>NC_000002.12</td>\n",
       "      <td>GeneID:375318</td>\n",
       "      <td>NM_198998.3</td>\n",
       "      <td>139</td>\n",
       "      <td>203</td>\n",
       "      <td>intron-small</td>\n",
       "      <td>0.0</td>\n",
       "    </tr>\n",
       "    <tr>\n",
       "      <th>4</th>\n",
       "      <td>NC_000006.12</td>\n",
       "      <td>GeneID:55173</td>\n",
       "      <td>XM_017010996.2</td>\n",
       "      <td>3550</td>\n",
       "      <td>3614</td>\n",
       "      <td>intron-small</td>\n",
       "      <td>0.0</td>\n",
       "    </tr>\n",
       "  </tbody>\n",
       "</table>\n",
       "</div>"
      ],
      "text/plain": [
       "     chromosome            geneid    transcriptid  start   end          type   \n",
       "0  NC_000019.10        GeneID:946  XM_011527538.4     57   121  intron-small  \\\n",
       "1  NC_000006.12  GeneID:124901227  XM_047419609.1      0    64  intron-small   \n",
       "2  NC_000015.10  GeneID:124903566  XM_047433427.1   7772  7836  intron-small   \n",
       "3  NC_000002.12     GeneID:375318     NM_198998.3    139   203  intron-small   \n",
       "4  NC_000006.12      GeneID:55173  XM_017010996.2   3550  3614  intron-small   \n",
       "\n",
       "   epoch  \n",
       "0    0.0  \n",
       "1    0.0  \n",
       "2    0.0  \n",
       "3    0.0  \n",
       "4    0.0  "
      ]
     },
     "execution_count": 7,
     "metadata": {},
     "output_type": "execute_result"
    }
   ],
   "source": [
    "#| hide\n",
    "if isinstance(training_index, pd.DataFrame):\n",
    "    training_index = [training_index[training_index.epoch == e] for e in training_index.epoch.unique()]\n",
    "training_index[0].head()"
   ]
  },
  {
   "cell_type": "code",
   "execution_count": 8,
   "metadata": {},
   "outputs": [
    {
     "data": {
      "text/plain": [
       "102"
      ]
     },
     "execution_count": 8,
     "metadata": {},
     "output_type": "execute_result"
    }
   ],
   "source": [
    "#| hide\n",
    "training_data_batches = list(sequences_data_path.glob(\"epoch-*/batch-*\"))\n",
    "len(training_data_batches)"
   ]
  },
  {
   "cell_type": "code",
   "execution_count": 9,
   "metadata": {},
   "outputs": [
    {
     "data": {
      "text/plain": [
       "1000000"
      ]
     },
     "execution_count": 9,
     "metadata": {},
     "output_type": "execute_result"
    }
   ],
   "source": [
    "#| hide\n",
    "training_instance_num = 0\n",
    "for b in training_data_batches:\n",
    "    training_instance_num += pd.read_parquet(b).shape[0]\n",
    "training_instance_num"
   ]
  },
  {
   "cell_type": "code",
   "execution_count": 10,
   "metadata": {},
   "outputs": [],
   "source": [
    "#| hide\n",
    "train_test_indices = [train_test_split(f, random_state=42) for f in training_index]"
   ]
  },
  {
   "cell_type": "code",
   "execution_count": 11,
   "metadata": {},
   "outputs": [
    {
     "data": {
      "text/html": [
       "<div>\n",
       "<style scoped>\n",
       "    .dataframe tbody tr th:only-of-type {\n",
       "        vertical-align: middle;\n",
       "    }\n",
       "\n",
       "    .dataframe tbody tr th {\n",
       "        vertical-align: top;\n",
       "    }\n",
       "\n",
       "    .dataframe thead th {\n",
       "        text-align: right;\n",
       "    }\n",
       "</style>\n",
       "<table border=\"1\" class=\"dataframe\">\n",
       "  <thead>\n",
       "    <tr style=\"text-align: right;\">\n",
       "      <th></th>\n",
       "      <th>chromosome</th>\n",
       "      <th>geneid</th>\n",
       "      <th>transcriptid</th>\n",
       "      <th>start</th>\n",
       "      <th>end</th>\n",
       "      <th>type</th>\n",
       "      <th>epoch</th>\n",
       "      <th>mode</th>\n",
       "    </tr>\n",
       "  </thead>\n",
       "  <tbody>\n",
       "    <tr>\n",
       "      <th>0</th>\n",
       "      <td>NC_000014.9</td>\n",
       "      <td>GeneID:29091</td>\n",
       "      <td>NM_001394410.1</td>\n",
       "      <td>216557</td>\n",
       "      <td>216621</td>\n",
       "      <td>intron</td>\n",
       "      <td>0.0</td>\n",
       "      <td>train</td>\n",
       "    </tr>\n",
       "    <tr>\n",
       "      <th>1</th>\n",
       "      <td>NC_000012.12</td>\n",
       "      <td>GeneID:54477</td>\n",
       "      <td>NM_001385955.1</td>\n",
       "      <td>101679</td>\n",
       "      <td>101743</td>\n",
       "      <td>intron</td>\n",
       "      <td>0.0</td>\n",
       "      <td>train</td>\n",
       "    </tr>\n",
       "    <tr>\n",
       "      <th>2</th>\n",
       "      <td>NC_000001.11</td>\n",
       "      <td>GeneID:51127</td>\n",
       "      <td>XM_017001419.2</td>\n",
       "      <td>7504</td>\n",
       "      <td>7568</td>\n",
       "      <td>intron</td>\n",
       "      <td>0.0</td>\n",
       "      <td>train</td>\n",
       "    </tr>\n",
       "    <tr>\n",
       "      <th>3</th>\n",
       "      <td>NC_000001.11</td>\n",
       "      <td>GeneID:9877</td>\n",
       "      <td>NM_001376366.1</td>\n",
       "      <td>34413</td>\n",
       "      <td>34477</td>\n",
       "      <td>intron</td>\n",
       "      <td>0.0</td>\n",
       "      <td>train</td>\n",
       "    </tr>\n",
       "    <tr>\n",
       "      <th>4</th>\n",
       "      <td>NC_000017.11</td>\n",
       "      <td>GeneID:5636</td>\n",
       "      <td>NM_001243940.1</td>\n",
       "      <td>49878</td>\n",
       "      <td>49942</td>\n",
       "      <td>intron</td>\n",
       "      <td>0.0</td>\n",
       "      <td>train</td>\n",
       "    </tr>\n",
       "  </tbody>\n",
       "</table>\n",
       "</div>"
      ],
      "text/plain": [
       "     chromosome        geneid    transcriptid   start     end    type  epoch   \n",
       "0   NC_000014.9  GeneID:29091  NM_001394410.1  216557  216621  intron    0.0  \\\n",
       "1  NC_000012.12  GeneID:54477  NM_001385955.1  101679  101743  intron    0.0   \n",
       "2  NC_000001.11  GeneID:51127  XM_017001419.2    7504    7568  intron    0.0   \n",
       "3  NC_000001.11   GeneID:9877  NM_001376366.1   34413   34477  intron    0.0   \n",
       "4  NC_000017.11   GeneID:5636  NM_001243940.1   49878   49942  intron    0.0   \n",
       "\n",
       "    mode  \n",
       "0  train  \n",
       "1  train  \n",
       "2  train  \n",
       "3  train  \n",
       "4  train  "
      ]
     },
     "execution_count": 11,
     "metadata": {},
     "output_type": "execute_result"
    }
   ],
   "source": [
    "#| hide\n",
    "frames = []\n",
    "for f_train, f_test in train_test_indices:\n",
    "    f_train.loc[:, 'mode'] = 'train'\n",
    "    f_test.loc[:, 'mode'] = 'test'\n",
    "    frames.append(f_train)\n",
    "    frames.append(f_test)\n",
    "training_index_labeled = pd.concat(frames, axis=0, ignore_index=True)\n",
    "training_index_labeled.head()"
   ]
  },
  {
   "cell_type": "code",
   "execution_count": 12,
   "metadata": {},
   "outputs": [],
   "source": [
    "#| export\n",
    "def get_latest_checkpoint(checkpoint_path: Path) -> dict:\n",
    "    checkpoints = pd.DataFrame(list(checkpoint_path.glob(\"epoch-*-model.pt\")), columns=['path'])\n",
    "    checkpoints.loc[:, 'checkpoint'] = checkpoints.path.apply(lambda p: p.stem.split(\"-\")[1]).astype(int)\n",
    "    checkpoints.sort_values(\"checkpoint\", inplace=True, ascending=True)\n",
    "    latest_checkpoint_path = checkpoints.iloc[-1, 0]\n",
    "    checkpoint = torch.load(latest_checkpoint_path)\n",
    "    return checkpoint\n",
    "\n",
    "\n",
    "def get_latest_model(\n",
    "        vocab: Vocab, \n",
    "        state_dict: dict,\n",
    "        encoder_layers: int = 1, \n",
    "        decoder_layers: int = 1,\n",
    "        embedding_size: int = 32,\n",
    "        nheads: int = 4,\n",
    "        feed_forward_dim: int = 32,\n",
    "        device: str = torch.device('cuda' if torch.cuda.is_available() else 'cpu')) -> Seq2SeqTransformer:\n",
    "    SRC_VOCAB_SIZE = TGT_VOCAB_SIZE = len(vocab)\n",
    "    # Define model\n",
    "    model = Seq2SeqTransformer(\n",
    "        encoder_layers, decoder_layers, embedding_size,\n",
    "        nheads, SRC_VOCAB_SIZE, TGT_VOCAB_SIZE, feed_forward_dim)\n",
    "    model.load_state_dict(state_dict)\n",
    "    model.to(device)\n",
    "    return model"
   ]
  },
  {
   "cell_type": "code",
   "execution_count": 13,
   "metadata": {},
   "outputs": [
    {
     "data": {
      "text/plain": [
       "13"
      ]
     },
     "execution_count": 13,
     "metadata": {},
     "output_type": "execute_result"
    }
   ],
   "source": [
    "#| hide\n",
    "vocab = get_vocab(transcription_data_path)\n",
    "len(vocab)"
   ]
  },
  {
   "cell_type": "code",
   "execution_count": 14,
   "metadata": {},
   "outputs": [],
   "source": [
    "#| hide\n",
    "# Set properties of vocab\n",
    "get_text_transform(vocab)\n",
    "set_vocab_idx(vocab)"
   ]
  },
  {
   "cell_type": "code",
   "execution_count": 15,
   "metadata": {},
   "outputs": [
    {
     "data": {
      "text/plain": [
       "['transformer.encoder.layers.0.self_attn.in_proj_weight',\n",
       " 'transformer.encoder.layers.0.self_attn.in_proj_bias',\n",
       " 'transformer.encoder.layers.0.self_attn.out_proj.weight',\n",
       " 'transformer.encoder.layers.0.self_attn.out_proj.bias',\n",
       " 'transformer.encoder.layers.0.linear1.weight',\n",
       " 'transformer.encoder.layers.0.linear1.bias',\n",
       " 'transformer.encoder.layers.0.linear2.weight',\n",
       " 'transformer.encoder.layers.0.linear2.bias',\n",
       " 'transformer.encoder.layers.0.norm1.weight',\n",
       " 'transformer.encoder.layers.0.norm1.bias',\n",
       " 'transformer.encoder.layers.0.norm2.weight',\n",
       " 'transformer.encoder.layers.0.norm2.bias',\n",
       " 'transformer.encoder.norm.weight',\n",
       " 'transformer.encoder.norm.bias',\n",
       " 'transformer.decoder.layers.0.self_attn.in_proj_weight',\n",
       " 'transformer.decoder.layers.0.self_attn.in_proj_bias',\n",
       " 'transformer.decoder.layers.0.self_attn.out_proj.weight',\n",
       " 'transformer.decoder.layers.0.self_attn.out_proj.bias',\n",
       " 'transformer.decoder.layers.0.multihead_attn.in_proj_weight',\n",
       " 'transformer.decoder.layers.0.multihead_attn.in_proj_bias',\n",
       " 'transformer.decoder.layers.0.multihead_attn.out_proj.weight',\n",
       " 'transformer.decoder.layers.0.multihead_attn.out_proj.bias',\n",
       " 'transformer.decoder.layers.0.linear1.weight',\n",
       " 'transformer.decoder.layers.0.linear1.bias',\n",
       " 'transformer.decoder.layers.0.linear2.weight',\n",
       " 'transformer.decoder.layers.0.linear2.bias',\n",
       " 'transformer.decoder.layers.0.norm1.weight',\n",
       " 'transformer.decoder.layers.0.norm1.bias',\n",
       " 'transformer.decoder.layers.0.norm2.weight',\n",
       " 'transformer.decoder.layers.0.norm2.bias',\n",
       " 'transformer.decoder.layers.0.norm3.weight',\n",
       " 'transformer.decoder.layers.0.norm3.bias',\n",
       " 'transformer.decoder.norm.weight',\n",
       " 'transformer.decoder.norm.bias',\n",
       " 'generator.weight',\n",
       " 'generator.bias',\n",
       " 'src_tok_emb.embedding.weight',\n",
       " 'tgt_tok_emb.embedding.weight',\n",
       " 'positional_encoding.pos_embedding']"
      ]
     },
     "execution_count": 15,
     "metadata": {},
     "output_type": "execute_result"
    }
   ],
   "source": [
    "#| hide\n",
    "latest_checkpoint = get_latest_checkpoint(transcription_data_path / \"checkpoints\")\n",
    "latest_model_state = latest_checkpoint.get(\"model_state_dict\")\n",
    "list(latest_model_state.keys())"
   ]
  },
  {
   "cell_type": "code",
   "execution_count": 16,
   "metadata": {},
   "outputs": [
    {
     "data": {
      "text/plain": [
       "llm_mito_scanner.training.transcription.train.Seq2SeqTransformer"
      ]
     },
     "execution_count": 16,
     "metadata": {},
     "output_type": "execute_result"
    }
   ],
   "source": [
    "#| hide\n",
    "model = get_latest_model(vocab, latest_model_state)\n",
    "type(model)"
   ]
  },
  {
   "cell_type": "code",
   "execution_count": 17,
   "metadata": {},
   "outputs": [
    {
     "data": {
      "text/plain": [
       "362847"
      ]
     },
     "execution_count": 17,
     "metadata": {},
     "output_type": "execute_result"
    }
   ],
   "source": [
    "#| hide\n",
    "example_geneid = \"GeneID:10000\"\n",
    "example_gene_sequence = get_genes(latest_assembly_path, gene_ids=[example_geneid], limit=1).iloc[0, :]\n",
    "example_gene_sequence_input = list(example_gene_sequence.sequence)\n",
    "len(example_gene_sequence_input)"
   ]
  },
  {
   "cell_type": "code",
   "execution_count": 18,
   "metadata": {},
   "outputs": [
    {
     "data": {
      "text/html": [
       "<div>\n",
       "<style scoped>\n",
       "    .dataframe tbody tr th:only-of-type {\n",
       "        vertical-align: middle;\n",
       "    }\n",
       "\n",
       "    .dataframe tbody tr th {\n",
       "        vertical-align: top;\n",
       "    }\n",
       "\n",
       "    .dataframe thead th {\n",
       "        text-align: right;\n",
       "    }\n",
       "</style>\n",
       "<table border=\"1\" class=\"dataframe\">\n",
       "  <thead>\n",
       "    <tr style=\"text-align: right;\">\n",
       "      <th></th>\n",
       "      <th>chromosome</th>\n",
       "      <th>geneid</th>\n",
       "      <th>transcriptid</th>\n",
       "      <th>sequence</th>\n",
       "      <th>start</th>\n",
       "      <th>end</th>\n",
       "    </tr>\n",
       "  </thead>\n",
       "  <tbody>\n",
       "    <tr>\n",
       "      <th>0</th>\n",
       "      <td>NC_000001.11</td>\n",
       "      <td>GeneID:10000</td>\n",
       "      <td>NM_001206729.2</td>\n",
       "      <td>&lt;null&gt;,&lt;null&gt;,&lt;null&gt;,&lt;null&gt;,&lt;null&gt;,&lt;null&gt;,&lt;nul...</td>\n",
       "      <td>7495</td>\n",
       "      <td>351356</td>\n",
       "    </tr>\n",
       "    <tr>\n",
       "      <th>1</th>\n",
       "      <td>NC_000001.11</td>\n",
       "      <td>GeneID:10000</td>\n",
       "      <td>NM_001370074.1</td>\n",
       "      <td>A,U,U,G,G,G,C,A,C,C,G,C,C,C,A,C,U,U,C,G,U,G,G,...</td>\n",
       "      <td>0</td>\n",
       "      <td>351356</td>\n",
       "    </tr>\n",
       "    <tr>\n",
       "      <th>2</th>\n",
       "      <td>NC_000001.11</td>\n",
       "      <td>GeneID:10000</td>\n",
       "      <td>NM_005465.7</td>\n",
       "      <td>&lt;null&gt;,&lt;null&gt;,&lt;null&gt;,&lt;null&gt;,&lt;null&gt;,&lt;null&gt;,&lt;nul...</td>\n",
       "      <td>836</td>\n",
       "      <td>351356</td>\n",
       "    </tr>\n",
       "    <tr>\n",
       "      <th>3</th>\n",
       "      <td>NC_000001.11</td>\n",
       "      <td>GeneID:10000</td>\n",
       "      <td>NM_181690.2</td>\n",
       "      <td>&lt;null&gt;,&lt;null&gt;,&lt;null&gt;,&lt;null&gt;,&lt;null&gt;,&lt;null&gt;,&lt;nul...</td>\n",
       "      <td>7797</td>\n",
       "      <td>362847</td>\n",
       "    </tr>\n",
       "    <tr>\n",
       "      <th>4</th>\n",
       "      <td>NC_000001.11</td>\n",
       "      <td>GeneID:10000</td>\n",
       "      <td>XM_011544014.3</td>\n",
       "      <td>&lt;null&gt;,&lt;null&gt;,&lt;null&gt;,&lt;null&gt;,&lt;null&gt;,&lt;null&gt;,&lt;nul...</td>\n",
       "      <td>284069</td>\n",
       "      <td>351356</td>\n",
       "    </tr>\n",
       "  </tbody>\n",
       "</table>\n",
       "</div>"
      ],
      "text/plain": [
       "     chromosome        geneid    transcriptid   \n",
       "0  NC_000001.11  GeneID:10000  NM_001206729.2  \\\n",
       "1  NC_000001.11  GeneID:10000  NM_001370074.1   \n",
       "2  NC_000001.11  GeneID:10000     NM_005465.7   \n",
       "3  NC_000001.11  GeneID:10000     NM_181690.2   \n",
       "4  NC_000001.11  GeneID:10000  XM_011544014.3   \n",
       "\n",
       "                                            sequence   start     end  \n",
       "0  <null>,<null>,<null>,<null>,<null>,<null>,<nul...    7495  351356  \n",
       "1  A,U,U,G,G,G,C,A,C,C,G,C,C,C,A,C,U,U,C,G,U,G,G,...       0  351356  \n",
       "2  <null>,<null>,<null>,<null>,<null>,<null>,<nul...     836  351356  \n",
       "3  <null>,<null>,<null>,<null>,<null>,<null>,<nul...    7797  362847  \n",
       "4  <null>,<null>,<null>,<null>,<null>,<null>,<nul...  284069  351356  "
      ]
     },
     "execution_count": 18,
     "metadata": {},
     "output_type": "execute_result"
    }
   ],
   "source": [
    "#| hide\n",
    "example_mrna_sequences = get_mrna(latest_assembly_path, chromosome=example_gene_sequence.chromosome, gene_ids=[example_geneid], limit=5)\n",
    "example_mrna_sequences"
   ]
  },
  {
   "cell_type": "code",
   "execution_count": 40,
   "metadata": {},
   "outputs": [],
   "source": [
    "#| export\n",
    "def transcribe(\n",
    "        gene: list[str], \n",
    "        model: Seq2SeqTransformer, \n",
    "        vocab: Vocab, \n",
    "        length: int = 64, \n",
    "        pbar_position: int = 0) -> str:\n",
    "    num_batches = max(1, (len(gene) // length) + 1)\n",
    "    transcribed_tokens = []\n",
    "    batch_pbar = tqdm(total=num_batches, \n",
    "        ncols=80, \n",
    "        leave=False, \n",
    "        miniters=5, \n",
    "        desc=\"Translating\", \n",
    "        position=pbar_position)\n",
    "    batch_range = range(0, num_batches)\n",
    "    gene_length = len(gene)\n",
    "    for i in batch_range:\n",
    "        start = i * length\n",
    "        end = min(start + length, gene_length)\n",
    "        gene_batch = gene[start: end]\n",
    "        transcribed_gene_batch = translate(model=model, vocab=vocab, src_sentence=gene_batch)\n",
    "        transcribed_gene_batch = transcribed_gene_batch.split(\",\")\n",
    "        transcribed_gene_batch = [s for s in transcribed_gene_batch if len(s) > 0]\n",
    "        transcribed_tokens.extend(transcribed_gene_batch)\n",
    "        batch_pbar.update(1)\n",
    "    batch_pbar.close()\n",
    "    return \",\".join(transcribed_tokens)"
   ]
  },
  {
   "cell_type": "code",
   "execution_count": 41,
   "metadata": {},
   "outputs": [
    {
     "data": {
      "text/plain": [
       "72"
      ]
     },
     "execution_count": 41,
     "metadata": {},
     "output_type": "execute_result"
    }
   ],
   "source": [
    "#| hide\n",
    "example_sequence = list(\"GACTTTTTTGTTGCAACCTCTTAGGTTAAAAGTTTCACTATCATTTGAAATTGGTCACAAGACTTTAGCCGA\")\n",
    "len(example_sequence)"
   ]
  },
  {
   "cell_type": "code",
   "execution_count": 42,
   "metadata": {},
   "outputs": [
    {
     "data": {
      "text/plain": [
       "1"
      ]
     },
     "execution_count": 42,
     "metadata": {},
     "output_type": "execute_result"
    }
   ],
   "source": [
    "#| hide\n",
    "len(example_sequence) // 64"
   ]
  },
  {
   "cell_type": "code",
   "execution_count": 43,
   "metadata": {},
   "outputs": [
    {
     "name": "stdout",
     "output_type": "stream",
     "text": [
      "72\n"
     ]
    },
    {
     "name": "stderr",
     "output_type": "stream",
     "text": [
      "                                                                                \r"
     ]
    },
    {
     "data": {
      "text/plain": [
       "(78, 72)"
      ]
     },
     "execution_count": 43,
     "metadata": {},
     "output_type": "execute_result"
    }
   ],
   "source": [
    "#| hide\n",
    "print(len(example_sequence))\n",
    "example_transcription = transcribe(\n",
    "    example_sequence,\n",
    "    model,\n",
    "    vocab\n",
    ")\n",
    "len(example_transcription.split(\",\")), len(example_sequence)"
   ]
  },
  {
   "cell_type": "code",
   "execution_count": 44,
   "metadata": {},
   "outputs": [
    {
     "data": {
      "text/plain": [
       "'G,A,C,U,U,U,U,U,U,G,U,U,G,C,A,A,C,C,U,C,U,U,A,G,G,U,U,A,A,A,A,G,U,U,U,C,A,C,U,A,U,C,A,U,U,U,G,A,A,A,U,U,G,G,U,C,A,C,A,A,G,A,C,U,U,U,A,G,C,C,G,A,A,G,G,U,U,U'"
      ]
     },
     "execution_count": 44,
     "metadata": {},
     "output_type": "execute_result"
    }
   ],
   "source": [
    "#| hide\n",
    "example_transcription"
   ]
  },
  {
   "cell_type": "code",
   "execution_count": 45,
   "metadata": {},
   "outputs": [],
   "source": [
    "#| export\n",
    "def update_pbar(result, pbar):\n",
    "    pbar.update(1)\n",
    "    return result"
   ]
  },
  {
   "cell_type": "code",
   "execution_count": 50,
   "metadata": {},
   "outputs": [
    {
     "name": "stderr",
     "output_type": "stream",
     "text": [
      "100%|█████████████████████████████████████████████| 5/5 [00:13<00:00,  2.65s/it]\n"
     ]
    }
   ],
   "source": [
    "#| hide\n",
    "pbar = tqdm(total=5, ncols=80, leave=True)\n",
    "sample_len = 64 * 20\n",
    "try:\n",
    "    predicted_transcriptions = example_mrna_sequences.apply(\n",
    "        lambda row: update_pbar(\n",
    "            transcribe(\n",
    "                gene = example_gene_sequence_input[row.start: row.start + sample_len],\n",
    "                model=model,\n",
    "                vocab=vocab,\n",
    "                pbar_position=1\n",
    "            ), pbar),\n",
    "            axis=1)\n",
    "    predicted_transcriptions.name = \"predicted\"\n",
    "except Exception as e:\n",
    "    raise e\n",
    "finally:\n",
    "    pbar.close()"
   ]
  },
  {
   "cell_type": "code",
   "execution_count": 51,
   "metadata": {},
   "outputs": [
    {
     "data": {
      "text/plain": [
       "'C,U,C,A,A,A,U,A,C,A,C,A,U,C,A,C,C,A,A,A,C,A,A,A,U,U,U,U,C,U,C,U,A,U,U,A,U,U,U,G,G,G,U,A,G,G,C,G,U,G,A,C,U,G,G,U,U,U,U,C,U,U,A,A,G,A,C,U,U,U,U,U,U,G,U,U,G,C,A,A,C,C,U,C,U,U,A,G,G,U,U,A,A,A,A,G,U,U,U,C,A,C,U,A,U,C,A,U,U,U,G,A,A,A,U,U,G,G,U,C,A,C,A,A,G,A,C,U,A,G,G,G,A,A,G,U,G,C,U,U,U,C,A,U,U,A,U,A,G,A,A,C,U,A,U,U,U,A,A,U,A,A,A,U,A,A,G,U,U,C,C,C,C,A,G,U,U,U,G,A,A,G,A,G,C,C,A,G,A,C,U,U,U,U,A,U,G,U,G,A,G,G,U,C,A,G,G,C,C,A,G,U,U,G,A,A,G,A,C,A,U,U,U,A,C,A,A,A,G,A,A,U,U,A,G,U,U,G,U,U,U,G,U,U,A,U,U,G,C,U,C,U,G,U,G,A,G,U,U,G,C,A,A,G,A,A,U,G,G,A,A,A,A,A,A,A,A,U,U,C,U,U,U,C,U,U,C,A,A,U,A,C,U,U,C,C,U,U,C,C,A,G,G,C,U,G,A,G,U,C,A,U,C,A,C,U,A,G,A,G,A,G,U,G,G,G,A,A,G,G,G,C,A,G,C,A,G,C,A,G,C,A,G,A,G,A,A,U,C,C,A,A,A,C,C,C,U,A,A,A,G,C,U,G,A,U,A,U,C,A,C,A,A,A,G,U,A,C,C,A,U,U,U,C,U,C,C,A,A,G,U,U,G,G,G,G,G,C,U,C,A,G,A,G,G,G,G,A,G,U,C,A,U,C,A,U,G,A,G,C,G,A,U,G,U,U,A,C,C,A,U,U,G,U,G,A,A,A,G,A,A,G,G,U,U,G,G,G,U,U,C,A,G,A,A,G,A,G,G,G,G,U,A,A,G,U,G,C,U,C,C,G,C,A,A,A,C,C,A,A,A,A,A,U,A,A,U,A,C,G,G,U,U,G,G,U,A,A,G,A,G,U,G,C,U,A,G,C,A,G,U,G,A,G,U,G,G,U,G,U,C,U,U,A,G,A,A,G,U,U,G,A,U,C,U,U,U,U,U,U,C,U,G,A,U,A,C,U,G,U,U,A,A,A,C,U,G,U,G,U,C,A,U,G,C,U,A,U,G,U,C,U,A,G,U,A,A,G,A,G,A,G,A,A,A,U,G,A,U,A,U,A,U,U,U,A,A,C,G,U,G,U,G,U,U,A,G,G,A,A,U,U,U,G,C,U,U,G,U,U,A,U,U,A,A,G,G,G,A,U,U,U,U,U,U,U,G,U,A,A,U,U,C,U,U,G,A,U,U,U,U,G,A,G,C,A,U,U,U,A,U,A,A,U,C,U,A,G,U,U,A,A,G,U,U,A,G,G,U,U,U,G,A,C,U,U,U,C,U,G,G,U,A,U,G,U,U,G,U,G,U,G,U,A,G,C,G,U,G,U,U,A,C,A,G,A,A,A,G,U,G,U,U,G,U,A,U,U,U,U,U,C,U,G,U,G,G,U,G,U,C,U,A,C,A,G,G,U,U,C,U,G,U,A,A,U,C,U,G,G,A,G,A,G,A,U,A,U,C,U,U,U,A,G,A,A,U,C,A,U,U,U,A,A,U,A,U,A,U,G,U,A,A,A,A,G,U,A,C,G,A,U,C,C,U,A,U,A,U,G,C,A,U,U,U,A,A,U,C,A,C,A,U,G,U,A,A,A,U,A,U,A,U,A,A,A,U,A,A,G,A,G,A,A,U,U,A,A,G,C,C,A,G,U,U,U,G,A,A,U,G,G,U,U,G,U,A,G,G,G,G,A,A,U,G,G,C,U,U,A,A,A,G,U,A,G,A,A,A,A,G,G,G,G,A,A,A,G,G,G,U,U,C,A,C,C,C,G,C,A,A,A,C,U,C,A,U,G,G,A,U,U,A,A,U,C,C,C,A,U,A,A,A,U,U,U,G,G,U,A,A,G,U,A,A,A,G,U,C,C,U,G,A,C,G,U,A,A,A,A,G,G,C,C,A,A,A,U,G,A,G,G,A,C,A,A,G,G,A,U,U,U,U,U,U,G,U,G,U,G,U,G,U,A,U,G,U,U,U,A,U,G,U,U,U,A,A,U,U,U,C,G,U,A,U,U,U,U,U,A,U,U,U,U,U,C,A,U,C,A,U,C,U,A,G,G,U,U,U,A,A,U,A,C,A,C,C,U,U,G,U,U,C,A,C,U,C,C,U,A,C,U,U,U,A,G,A,U,A,A,A,U,A,A,C,U,U,A,A,G,C,A,C,A,U,U,A,U,U,A,U,U,U,U,U,U,A,U,U,A,U,U,A,A,A,G,G,A,A,G,A,A,C,C,C,U,U,C,G,A,U,G,U,A,A,A,G,C,G,G,U,U,U,A,U,C,A,U,C,U,G,U,G,A,G,A,U,C,A,C,C,U,G,C,U,U,A,U,G,U,G,G,U,C,A,A,U,A,U,A,U,U,U,A,U,U,A,G,A,A,A,U,U,U,A,G,A,G,U,U,U,A,G,A,U,U,A,G,U,U,G,C,U,A,G,G,C,A,A,C,U,A,C,U,G,U,U,U,A,C,C,C,A,C,A,U,G,G,C,C,A,C,G,U,C,G,A,G,U,A,G,G,A,U,G,A,G,G,A,C,U,G,U,U,C,C,A,U,U,C,U,C,A,G,A,A,C,C,U,U,U,U,A,G,U,U,C,C,U,G,G,A,G,A,G,A'"
      ]
     },
     "execution_count": 51,
     "metadata": {},
     "output_type": "execute_result"
    }
   ],
   "source": [
    "#| hide\n",
    "predicted_transcriptions[0]"
   ]
  },
  {
   "cell_type": "code",
   "execution_count": 53,
   "metadata": {},
   "outputs": [
    {
     "data": {
      "text/html": [
       "<div>\n",
       "<style scoped>\n",
       "    .dataframe tbody tr th:only-of-type {\n",
       "        vertical-align: middle;\n",
       "    }\n",
       "\n",
       "    .dataframe tbody tr th {\n",
       "        vertical-align: top;\n",
       "    }\n",
       "\n",
       "    .dataframe thead th {\n",
       "        text-align: right;\n",
       "    }\n",
       "</style>\n",
       "<table border=\"1\" class=\"dataframe\">\n",
       "  <thead>\n",
       "    <tr style=\"text-align: right;\">\n",
       "      <th></th>\n",
       "      <th>chromosome</th>\n",
       "      <th>geneid</th>\n",
       "      <th>transcriptid</th>\n",
       "      <th>sequence</th>\n",
       "      <th>start</th>\n",
       "      <th>end</th>\n",
       "      <th>predicted</th>\n",
       "    </tr>\n",
       "  </thead>\n",
       "  <tbody>\n",
       "    <tr>\n",
       "      <th>0</th>\n",
       "      <td>NC_000001.11</td>\n",
       "      <td>GeneID:10000</td>\n",
       "      <td>NM_001206729.2</td>\n",
       "      <td>&lt;null&gt;,&lt;null&gt;,&lt;null&gt;,&lt;null&gt;,&lt;null&gt;,&lt;null&gt;,&lt;nul...</td>\n",
       "      <td>7495</td>\n",
       "      <td>351356</td>\n",
       "      <td>C,U,C,A,A,A,U,A,C,A,C,A,U,C,A,C,C,A,A,A,C,A,A,...</td>\n",
       "    </tr>\n",
       "    <tr>\n",
       "      <th>1</th>\n",
       "      <td>NC_000001.11</td>\n",
       "      <td>GeneID:10000</td>\n",
       "      <td>NM_001370074.1</td>\n",
       "      <td>A,U,U,G,G,G,C,A,C,C,G,C,C,C,A,C,U,U,C,G,U,G,G,...</td>\n",
       "      <td>0</td>\n",
       "      <td>351356</td>\n",
       "      <td>A,U,U,G,G,G,C,A,C,C,G,C,C,C,A,C,U,U,C,G,U,G,G,...</td>\n",
       "    </tr>\n",
       "    <tr>\n",
       "      <th>2</th>\n",
       "      <td>NC_000001.11</td>\n",
       "      <td>GeneID:10000</td>\n",
       "      <td>NM_005465.7</td>\n",
       "      <td>&lt;null&gt;,&lt;null&gt;,&lt;null&gt;,&lt;null&gt;,&lt;null&gt;,&lt;null&gt;,&lt;nul...</td>\n",
       "      <td>836</td>\n",
       "      <td>351356</td>\n",
       "      <td>G,C,A,G,C,C,C,U,U,C,G,C,U,U,G,C,C,C,U,C,C,C,G,...</td>\n",
       "    </tr>\n",
       "    <tr>\n",
       "      <th>3</th>\n",
       "      <td>NC_000001.11</td>\n",
       "      <td>GeneID:10000</td>\n",
       "      <td>NM_181690.2</td>\n",
       "      <td>&lt;null&gt;,&lt;null&gt;,&lt;null&gt;,&lt;null&gt;,&lt;null&gt;,&lt;null&gt;,&lt;nul...</td>\n",
       "      <td>7797</td>\n",
       "      <td>362847</td>\n",
       "      <td>G,C,U,G,A,G,U,C,A,U,C,A,C,U,A,G,A,G,A,G,U,G,G,...</td>\n",
       "    </tr>\n",
       "    <tr>\n",
       "      <th>4</th>\n",
       "      <td>NC_000001.11</td>\n",
       "      <td>GeneID:10000</td>\n",
       "      <td>XM_011544014.3</td>\n",
       "      <td>&lt;null&gt;,&lt;null&gt;,&lt;null&gt;,&lt;null&gt;,&lt;null&gt;,&lt;null&gt;,&lt;nul...</td>\n",
       "      <td>284069</td>\n",
       "      <td>351356</td>\n",
       "      <td>A,C,U,G,U,G,C,C,U,A,G,C,C,U,G,U,G,U,U,U,U,G,U,...</td>\n",
       "    </tr>\n",
       "  </tbody>\n",
       "</table>\n",
       "</div>"
      ],
      "text/plain": [
       "     chromosome        geneid    transcriptid   \n",
       "0  NC_000001.11  GeneID:10000  NM_001206729.2  \\\n",
       "1  NC_000001.11  GeneID:10000  NM_001370074.1   \n",
       "2  NC_000001.11  GeneID:10000     NM_005465.7   \n",
       "3  NC_000001.11  GeneID:10000     NM_181690.2   \n",
       "4  NC_000001.11  GeneID:10000  XM_011544014.3   \n",
       "\n",
       "                                            sequence   start     end   \n",
       "0  <null>,<null>,<null>,<null>,<null>,<null>,<nul...    7495  351356  \\\n",
       "1  A,U,U,G,G,G,C,A,C,C,G,C,C,C,A,C,U,U,C,G,U,G,G,...       0  351356   \n",
       "2  <null>,<null>,<null>,<null>,<null>,<null>,<nul...     836  351356   \n",
       "3  <null>,<null>,<null>,<null>,<null>,<null>,<nul...    7797  362847   \n",
       "4  <null>,<null>,<null>,<null>,<null>,<null>,<nul...  284069  351356   \n",
       "\n",
       "                                           predicted  \n",
       "0  C,U,C,A,A,A,U,A,C,A,C,A,U,C,A,C,C,A,A,A,C,A,A,...  \n",
       "1  A,U,U,G,G,G,C,A,C,C,G,C,C,C,A,C,U,U,C,G,U,G,G,...  \n",
       "2  G,C,A,G,C,C,C,U,U,C,G,C,U,U,G,C,C,C,U,C,C,C,G,...  \n",
       "3  G,C,U,G,A,G,U,C,A,U,C,A,C,U,A,G,A,G,A,G,U,G,G,...  \n",
       "4  A,C,U,G,U,G,C,C,U,A,G,C,C,U,G,U,G,U,U,U,U,G,U,...  "
      ]
     },
     "execution_count": 53,
     "metadata": {},
     "output_type": "execute_result"
    }
   ],
   "source": [
    "#| hide\n",
    "example_predictions = pd.concat(\n",
    "    [\n",
    "        example_mrna_sequences,\n",
    "        predicted_transcriptions\n",
    "    ], axis=1)\n",
    "example_predictions"
   ]
  },
  {
   "cell_type": "code",
   "execution_count": 58,
   "metadata": {},
   "outputs": [
    {
     "name": "stdout",
     "output_type": "stream",
     "text": [
      "0\n",
      "<null>,<null>,<null>,<null>,<null>,<null>,<null>,<null>,<null>,<null>,<null>,<null>,<null>,<null>,<null>,<null>,<null>,<null>,<null>,<null>,<null>,<null>,<null>,<null>,<null>,<null>,<null>,<null>,<null>,<null>,<null>,<null>,<null>,<null>,<null>,<null>,<null>,<null>,<null>,<null>,<null>,<null>,<null>,<null>,<null>,<null>,<null>,<null>,<null>,<null>,<null>,<null>,<null>,<null>,<null>,<null>,<null>,<null>,<null>,<null>,<null>,<null>,<null>,<null>,<null>,<null>,<null>,<null>,<null>,<null>,<null>,<null>,<null>,<null>,<null>,<null>,<null>,<null>,<null>,<null>,<null>,<null>,<null>,<null>,<null>,<null>,<null>,<null>,<null>,<null>,<null>,<null>,<null>,<null>,<null>,<null>,<null>,<null>,<null>,<null>,<null>,<null>,<null>,<null>,<null>,<null>,<null>,<null>,<null>,<null>,<null>,<null>,<null>,<null>,<null>,<null>,<null>,<null>,<null>,<null>,<null>,<null>,<null>,<null>,<null>,<null>,<null>,<null>,<null>,<null>,<null>,<null>,<null>,<null>,<null>,<null>,<null>,<null>,<null>,<null>,<null>,<null>,<null>,<null>,<null>,<null>,<null>,<null>,<null>,<null>,<null>,<null>,<null>,<null>,<null>,<null>,<null>,<null>,<null>,<null>,<null>,<null>,<null>,<null>,<null>,<null>,<null>,<null>,<null>,<null>,<null>,<null>,<null>,<null>,<null>,<null>,<null>,<null>,<null>,<null>,<null>,<null>,<null>\n",
      "C,U,C,A,A,A,U,A,C,A,C,A,U,C,A,C,C,A,A,A,C,A,A,A,U,U,U,U,C,U,C,U,A,U,U,A,U,U,U,G,G,G,U,A,G,G,C,G,U,G,A,C,U,G,G,U,U,U,U,C,U,U,A,A,G,A,C,U,U,U,U,U,U,G,U,U,G,C,A,A,C,C,U,C,U,U,A,G,G,U,U,A,A,A,A,G,U,U,U,C,A,C,U,A,U,C,A,U,U,U,G,A,A,A,U,U,G,G,U,C,A,C,A,A,G,A,C,U,A,G,G,G,A,A,G,U,G,C,U,U,U,C,A,U,U,A,U,A,G,A,A,C,U,A,U,U,U,A,A,U,A,A,A,U,A,A,G,U,U,C,C,C,C,A,G,U,U,U,G,A,A,G,A,G,C,C,A,G,A,C,U,U,U,U,A,U,G,U,G,A,G,G,U,C,A,G,G,C,C,A,G,U,U,G,A,A,G,A,C,A,U,U,U,A,C,A,A,A,G,A,A,U,U,A,G,U,U,G,U,U,U,G,U,U,A,U,U,G,C,U,C,U,G,U,G,A,G,U,U,G,C,A,A,G,A,A,U,G,G,A,A,A,A,A,A,A,A,U,U,C,U,U,U,C,U,U,C,A,A,U,A,C,U,U,C,C,U,U,C,C,A,G,G,C,U,G,A,G,U,C,A,U,C,A,C,U,A,G,A,G,A,G,U,G,G,G,A,A,G,G,G,C,A,G,C,A,G,C,A,G,C,A,G,A,G,A,A,U,C,C,A,A,A,C,C,C,U,A,A,A,G,C,U,G,A,U,A,U,C,A,C,A,A,A,G,U,A,C,C,A,U,U,U,C,U,C,C,A,A,G,U,U,G,G,G,G,G,C,U,C,A,G,A,G,G,G,G,A,G,U,C,A,U,C,A,U,G,A,G,C,G,A,U,G,U,U,A,C,C,A,U,U,G,U,G,A,A,A,G,A,A,G,G,U,U,G,G,G,U,U,C,A,G,A,A,G,A,G,G,G,G,U,A,A,G,U,G,C,U,C,C,G,C,A,A,A,C,C,A,A,A,A,A,U,A,A,U,A,C,G,G,U,U,G,G,U,A,A,G,A,G,U,G,C,U,A,G,C,A,G,U,G,A,G,U,G,G,U,G,U,C,U,U,A,G,A,A,G,U,U,G,A,U,C,U,U,U,U,U,U,C,U,G,A,U,A,C,U,G,U,U,A,A,A,C,U,G,U,G,U,C,A,U,G,C,U,A,U,G,U,C,U,A,G,U,A,A,G,A,G,A,G,A,A,A,U,G,A,U,A,U,A,U,U,U,A,A,C,G,U,G,U,G,U,U,A,G,G,A,A,U,U,U,G,C,U,U,G,U,U,A,U,U,A,A,G,G,G,A,U,U,U,U,U,U,U,G,U,A,A,\n",
      "\n",
      "1\n",
      "A,U,U,G,G,G,C,A,C,C,G,C,C,C,A,C,U,U,C,G,U,G,G,G,C,U,U,C,C,A,G,<intron>,<intron>,<intron>,<intron>,<intron>,<intron>,<intron>,<intron>,<intron>,<intron>,<intron>,<intron>,<intron>,<intron>,<intron>,<intron>,<intron>,<intron>,<intron>,<intron>,<intron>,<intron>,<intron>,<intron>,<intron>,<intron>,<intron>,<intron>,<intron>,<intron>,<intron>,<intron>,<intron>,<intron>,<intron>,<intron>,<intron>,<intron>,<intron>,<intron>,<intron>,<intron>,<intron>,<intron>,<intron>,<intron>,<intron>,<intron>,<intron>,<intron>,<intron>,<intron>,<intron>,<intron>,<intron>,<intron>,<intron>,<intron>,<intron>,<intron>,<intron>,<intron>,<intron>,<intron>,<intron>,<intron>,<intron>,<intron>,<intron>,<intron>,<intron>,<intron>,<intron>,<intron>,<intron>,<intron>,<intron>,<intron>,<intron>,<intron>,<intron>,<intron>,<intron>,<intron>,<intron>,<intron>,<intron>,<intron>,<intron>,<intron>,<intron>,<intron>,<intron>,<intron>,<intron>,<intron>,<intron>,<intron>,<intron>,<intron>,<intron>,<intron>,<intron>,<intron>,<intron>,<intron>,<intron>,<intron>,<intron>,<intron>,<intron>,<intron>,<intron>,<intron>,<intron>,<intron>,<intron>,<intron>,<intron>,<intron>,<intron>,<intron>,<intron>,<intron>,<intron>,<intron>,<intron>,<intron>,<intron>,<intron>,<intron>,<intron>,<intron>,<intron>,<intron>,<in\n",
      "A,U,U,G,G,G,C,A,C,C,G,C,C,C,A,C,U,U,C,G,U,G,G,G,C,U,U,C,C,A,G,G,U,G,C,G,A,G,C,C,C,U,C,G,C,G,C,C,G,G,G,C,C,C,A,U,C,U,C,C,C,C,A,A,G,G,G,G,C,C,G,C,G,G,C,G,G,A,C,U,G,G,A,G,G,A,G,A,C,G,C,C,C,G,G,G,G,C,C,U,G,G,C,G,G,C,G,C,G,C,G,C,G,U,C,C,G,C,G,G,C,C,A,G,G,G,C,G,G,G,U,G,G,G,C,G,G,A,U,G,C,G,C,C,G,A,G,G,A,A,G,C,G,G,C,U,G,G,G,C,G,A,G,G,A,G,C,C,U,C,C,G,C,U,C,C,C,G,G,G,C,C,U,C,G,G,G,U,G,C,C,C,G,C,C,A,A,G,G,G,C,C,A,C,G,C,G,G,G,C,G,A,G,G,G,G,G,A,A,A,C,C,C,A,G,A,A,C,U,U,C,C,C,G,C,C,C,G,G,G,A,G,C,G,A,C,U,G,C,C,C,C,C,G,C,U,C,C,C,G,G,C,U,C,U,G,G,C,U,G,G,C,U,A,G,G,G,G,G,A,U,G,U,U,C,U,C,G,C,G,A,G,A,G,G,A,G,A,G,G,G,G,G,C,G,C,G,G,G,G,C,A,C,C,G,C,U,G,G,U,U,U,G,G,G,G,G,C,G,C,G,G,G,G,A,A,G,C,C,U,G,A,G,G,A,C,G,A,G,G,G,C,C,G,G,G,C,A,G,G,G,A,G,G,G,G,A,G,C,A,G,A,G,G,C,G,G,C,G,G,G,C,A,G,G,G,C,C,G,G,G,G,A,C,G,C,G,G,G,G,A,A,G,C,C,G,C,U,C,C,C,G,C,C,A,G,U,C,G,C,C,G,A,G,A,G,C,C,A,G,C,C,C,C,U,G,A,C,G,U,C,A,G,G,A,G,U,U,U,U,C,C,U,C,A,A,A,G,U,C,A,A,C,A,A,C,A,A,G,C,C,C,C,G,C,G,G,C,G,A,C,G,G,C,G,A,G,A,A,C,C,G,A,U,C,G,G,C,G,G,C,G,G,C,C,C,C,G,A,G,C,G,G,G,A,G,G,A,A,G,G,A,G,G,G,G,G,C,G,G,G,G,A,G,G,C,G,G,C,G,G,G,G,G,G,U,C,C,C,C,U,C,A,G,C,G,A,G,G,C,G,C,A,G,C,C,C,G,G,G,A,G,G,A,G,G,C,C,G,C,A,G,A,A,C,C,C,C,U,C,C,C,C,G,C,G,C,C,G,G,G,C,G,C,G,C,C,C,C,G,G,G,G,C,C,C,A,G,A,G,C,C,G,C,C,G,C,C,C,C,G,C,C,G,G,C,G,U,G,A,\n",
      "\n",
      "2\n",
      "<null>,<null>,<null>,<null>,<null>,<null>,<null>,<null>,<null>,<null>,<null>,<null>,<null>,<null>,<null>,<null>,<null>,<null>,<null>,<null>,<null>,<null>,<null>,<null>,<null>,<null>,<null>,<null>,<null>,<null>,<null>,<null>,<null>,<null>,<null>,<null>,<null>,<null>,<null>,<null>,<null>,<null>,<null>,<null>,<null>,<null>,<null>,<null>,<null>,<null>,<null>,<null>,<null>,<null>,<null>,<null>,<null>,<null>,<null>,<null>,<null>,<null>,<null>,<null>,<null>,<null>,<null>,<null>,<null>,<null>,<null>,<null>,<null>,<null>,<null>,<null>,<null>,<null>,<null>,<null>,<null>,<null>,<null>,<null>,<null>,<null>,<null>,<null>,<null>,<null>,<null>,<null>,<null>,<null>,<null>,<null>,<null>,<null>,<null>,<null>,<null>,<null>,<null>,<null>,<null>,<null>,<null>,<null>,<null>,<null>,<null>,<null>,<null>,<null>,<null>,<null>,<null>,<null>,<null>,<null>,<null>,<null>,<null>,<null>,<null>,<null>,<null>,<null>,<null>,<null>,<null>,<null>,<null>,<null>,<null>,<null>,<null>,<null>,<null>,<null>,<null>,<null>,<null>,<null>,<null>,<null>,<null>,<null>,<null>,<null>,<null>,<null>,<null>,<null>,<null>,<null>,<null>,<null>,<null>,<null>,<null>,<null>,<null>,<null>,<null>,<null>,<null>,<null>,<null>,<null>,<null>,<null>,<null>,<null>,<null>,<null>,<null>,<null>,<null>,<null>,<null>,<null>,<null>\n",
      "G,C,A,G,C,C,C,U,U,C,G,C,U,U,G,C,C,C,U,C,C,C,G,C,C,G,G,C,C,G,C,A,C,C,G,G,G,C,U,C,C,A,G,G,A,G,G,C,C,A,G,A,G,G,C,U,C,U,G,U,G,G,G,G,U,G,G,G,G,G,G,A,G,G,A,C,A,G,G,A,G,G,G,G,A,G,G,A,G,G,A,G,G,G,A,G,G,G,G,G,G,A,C,C,C,C,C,G,A,G,U,C,G,C,C,C,C,C,U,C,U,C,C,U,C,C,C,C,C,C,G,C,C,C,C,C,C,C,C,C,G,G,C,U,C,C,A,U,C,C,U,C,C,G,C,C,G,C,C,G,C,C,C,G,A,G,C,A,G,C,U,G,C,G,G,G,G,C,C,G,C,C,A,C,C,G,C,C,G,C,C,G,C,C,G,C,C,G,U,U,G,C,A,G,G,U,A,A,C,A,G,C,C,A,C,C,G,C,C,C,C,C,A,A,C,U,C,U,A,G,C,C,C,C,C,U,C,C,C,C,G,C,C,U,G,G,C,C,U,C,C,A,C,U,C,C,C,U,C,C,G,G,G,C,C,C,C,G,G,G,C,C,C,C,G,G,U,C,C,G,C,C,C,U,C,C,C,U,G,C,C,U,C,C,C,U,C,A,G,G,C,G,G,G,G,G,A,U,G,G,C,G,G,C,G,G,G,G,U,G,G,G,G,U,G,A,G,G,C,G,G,G,G,G,C,U,U,C,U,G,G,G,U,U,G,U,C,A,C,C,G,C,G,C,C,G,G,G,G,G,C,G,U,G,G,G,C,G,G,G,G,G,C,U,G,G,G,U,C,A,C,C,G,G,A,G,G,C,U,U,C,G,G,G,U,G,U,G,G,G,U,G,U,G,G,A,G,G,C,C,G,G,G,G,G,A,U,G,C,C,C,A,G,C,G,C,G,G,U,U,G,A,C,A,C,C,G,A,C,A,C,C,C,C,C,C,G,C,U,U,U,C,C,G,G,G,G,A,A,A,G,C,U,G,G,G,G,G,G,C,G,G,C,G,G,U,G,C,G,C,A,G,C,G,G,G,C,C,G,G,G,G,G,A,G,G,G,G,U,G,U,U,C,C,C,G,G,C,C,U,A,G,C,G,G,U,A,C,C,G,U,C,U,G,U,G,U,C,U,G,G,G,C,U,G,C,C,C,C,G,G,C,C,C,G,G,C,G,C,C,U,G,C,U,G,U,C,U,G,C,G,C,A,A,C,U,C,U,C,G,C,U,C,C,U,U,C,C,C,C,U,C,G,C,C,C,C,U,C,C,C,C,G,C,C,C,G,G,G,C,C,G,C,G,C,G,G,C,G,U,G,G,G,G,A,G,G,G,G,G,C,G,C,C,C,G,C,C,U,G,G,A,C,C,G,G,G,G,G,C,\n",
      "\n",
      "3\n",
      "<null>,<null>,<null>,<null>,<null>,<null>,<null>,<null>,<null>,<null>,<null>,<null>,<null>,<null>,<null>,<null>,<null>,<null>,<null>,<null>,<null>,<null>,<null>,<null>,<null>,<null>,<null>,<null>,<null>,<null>,<null>,<null>,<null>,<null>,<null>,<null>,<null>,<null>,<null>,<null>,<null>,<null>,<null>,<null>,<null>,<null>,<null>,<null>,<null>,<null>,<null>,<null>,<null>,<null>,<null>,<null>,<null>,<null>,<null>,<null>,<null>,<null>,<null>,<null>,<null>,<null>,<null>,<null>,<null>,<null>,<null>,<null>,<null>,<null>,<null>,<null>,<null>,<null>,<null>,<null>,<null>,<null>,<null>,<null>,<null>,<null>,<null>,<null>,<null>,<null>,<null>,<null>,<null>,<null>,<null>,<null>,<null>,<null>,<null>,<null>,<null>,<null>,<null>,<null>,<null>,<null>,<null>,<null>,<null>,<null>,<null>,<null>,<null>,<null>,<null>,<null>,<null>,<null>,<null>,<null>,<null>,<null>,<null>,<null>,<null>,<null>,<null>,<null>,<null>,<null>,<null>,<null>,<null>,<null>,<null>,<null>,<null>,<null>,<null>,<null>,<null>,<null>,<null>,<null>,<null>,<null>,<null>,<null>,<null>,<null>,<null>,<null>,<null>,<null>,<null>,<null>,<null>,<null>,<null>,<null>,<null>,<null>,<null>,<null>,<null>,<null>,<null>,<null>,<null>,<null>,<null>,<null>,<null>,<null>,<null>,<null>,<null>,<null>,<null>,<null>,<null>,<null>,<null>\n",
      "G,C,U,G,A,G,U,C,A,U,C,A,C,U,A,G,A,G,A,G,U,G,G,G,A,A,G,G,G,C,A,G,C,A,G,C,A,G,C,A,G,A,G,A,A,U,C,C,A,A,A,C,C,C,U,A,A,A,G,C,U,G,A,U,A,U,C,A,C,A,A,A,G,U,A,C,C,A,U,U,U,C,U,C,C,A,A,G,U,U,G,G,G,G,G,C,U,C,A,G,A,G,G,G,G,A,G,U,C,A,U,C,A,U,G,A,G,C,G,A,U,G,U,U,A,C,C,A,U,U,G,U,G,A,A,A,G,A,A,G,G,U,U,G,G,G,U,U,C,A,G,A,A,G,A,G,G,G,G,U,A,A,G,U,G,C,U,C,C,G,C,A,A,A,C,C,A,A,A,A,A,U,A,A,U,A,C,G,G,U,U,G,G,U,A,A,G,A,G,U,G,C,U,A,G,C,A,G,U,G,A,G,U,G,G,U,G,U,C,U,U,A,G,A,A,G,U,U,G,A,U,C,U,U,U,U,U,U,C,U,G,A,U,A,C,U,G,U,U,A,A,A,C,U,G,U,G,U,C,A,U,G,C,U,A,U,G,U,C,U,A,G,U,A,A,G,A,G,A,G,A,A,A,U,G,A,U,A,U,A,U,U,U,A,A,C,G,U,G,U,G,U,U,A,G,G,A,A,U,U,U,G,C,U,U,G,U,U,A,U,U,A,A,G,G,G,A,U,U,U,U,U,U,U,G,U,A,A,U,U,C,U,U,G,A,U,U,U,U,G,A,G,C,A,U,U,U,A,U,A,A,U,C,U,A,G,U,U,A,A,G,U,U,A,G,G,U,U,U,G,A,C,U,U,U,C,U,G,G,U,A,U,G,U,U,G,U,G,U,G,U,A,G,C,G,U,G,U,U,A,C,A,G,A,A,A,G,U,G,U,U,G,U,A,U,U,U,U,U,C,U,G,U,G,G,U,G,U,C,U,A,C,A,G,G,U,U,C,U,G,U,A,A,U,C,U,G,G,A,G,A,G,A,U,A,U,C,U,U,U,A,G,A,A,U,C,A,U,U,U,A,A,U,A,U,A,U,G,U,A,A,A,A,G,U,A,C,G,A,U,C,C,U,A,U,A,U,G,C,A,U,U,U,A,A,U,C,A,C,A,U,G,U,A,A,A,U,A,U,A,U,A,A,A,U,A,A,G,A,G,A,A,U,U,A,A,G,C,C,A,G,U,U,U,G,A,A,U,G,G,U,U,G,U,A,G,G,G,G,A,A,U,G,G,C,U,U,A,A,A,G,U,A,G,A,A,A,A,G,G,G,G,A,A,A,G,G,G,U,U,C,A,C,C,C,G,C,A,A,A,C,U,C,A,U,G,G,A,U,U,A,A,U,C,C,C,A,U,A,A,A,U,U,U,G,G,U,A,A,G,\n",
      "\n",
      "4\n",
      "<null>,<null>,<null>,<null>,<null>,<null>,<null>,<null>,<null>,<null>,<null>,<null>,<null>,<null>,<null>,<null>,<null>,<null>,<null>,<null>,<null>,<null>,<null>,<null>,<null>,<null>,<null>,<null>,<null>,<null>,<null>,<null>,<null>,<null>,<null>,<null>,<null>,<null>,<null>,<null>,<null>,<null>,<null>,<null>,<null>,<null>,<null>,<null>,<null>,<null>,<null>,<null>,<null>,<null>,<null>,<null>,<null>,<null>,<null>,<null>,<null>,<null>,<null>,<null>,<null>,<null>,<null>,<null>,<null>,<null>,<null>,<null>,<null>,<null>,<null>,<null>,<null>,<null>,<null>,<null>,<null>,<null>,<null>,<null>,<null>,<null>,<null>,<null>,<null>,<null>,<null>,<null>,<null>,<null>,<null>,<null>,<null>,<null>,<null>,<null>,<null>,<null>,<null>,<null>,<null>,<null>,<null>,<null>,<null>,<null>,<null>,<null>,<null>,<null>,<null>,<null>,<null>,<null>,<null>,<null>,<null>,<null>,<null>,<null>,<null>,<null>,<null>,<null>,<null>,<null>,<null>,<null>,<null>,<null>,<null>,<null>,<null>,<null>,<null>,<null>,<null>,<null>,<null>,<null>,<null>,<null>,<null>,<null>,<null>,<null>,<null>,<null>,<null>,<null>,<null>,<null>,<null>,<null>,<null>,<null>,<null>,<null>,<null>,<null>,<null>,<null>,<null>,<null>,<null>,<null>,<null>,<null>,<null>,<null>,<null>,<null>,<null>,<null>,<null>,<null>,<null>,<null>,<null>\n",
      "A,C,U,G,U,G,C,C,U,A,G,C,C,U,G,U,G,U,U,U,U,G,U,U,A,C,U,U,A,A,A,A,U,A,A,A,U,U,A,U,U,G,C,A,U,A,U,U,G,A,A,A,A,G,U,A,U,U,U,U,U,A,A,U,G,C,A,G,U,C,A,U,U,G,A,G,C,C,A,A,C,A,G,A,A,A,U,G,U,U,U,U,A,U,G,G,G,G,U,U,C,C,A,C,U,C,U,U,G,A,A,C,U,U,U,G,U,U,C,U,U,U,U,C,U,U,U,A,A,A,A,U,A,C,A,G,U,G,U,U,U,U,U,U,A,G,A,A,G,A,G,C,C,C,A,C,A,U,C,A,U,G,A,C,A,A,U,U,U,A,C,A,A,A,U,A,A,G,C,C,A,U,U,A,A,A,C,U,C,U,U,C,A,U,G,U,U,U,U,A,A,G,A,A,A,A,G,A,U,G,A,G,U,U,C,A,U,U,U,A,U,U,C,A,A,U,U,C,U,U,A,U,G,G,U,A,U,G,U,U,A,A,G,U,U,U,G,C,A,U,U,U,A,G,C,A,U,C,U,C,A,U,U,U,C,U,C,A,A,A,A,C,U,G,U,C,A,C,A,U,U,G,G,A,U,U,G,U,U,A,C,U,G,U,U,A,U,U,U,A,C,U,U,U,U,G,U,U,U,U,A,U,A,G,A,U,G,A,A,A,U,U,G,A,A,G,C,A,C,G,U,A,G,A,A,A,U,U,A,A,U,A,A,U,A,U,G,C,C,C,A,A,G,G,U,C,A,C,A,C,A,G,U,G,A,A,U,A,A,G,G,G,A,U,A,A,A,G,C,U,C,A,A,A,U,U,U,U,A,A,U,A,U,G,A,A,C,C,C,U,C,U,G,A,C,U,U,G,A,A,C,C,C,A,U,A,G,U,C,U,U,A,U,C,C,A,U,U,U,U,G,C,U,C,U,C,U,A,C,U,G,C,C,U,C,C,C,A,G,G,C,A,G,U,A,U,G,C,U,A,C,C,A,G,U,C,C,C,C,A,U,G,G,C,C,A,U,G,A,C,C,C,U,U,A,C,C,C,C,A,U,C,U,C,U,C,U,C,A,G,U,C,A,U,C,C,C,U,U,A,G,G,C,U,U,A,U,C,U,U,A,U,U,U,C,U,U,A,C,U,A,U,A,U,C,A,U,U,G,U,A,A,U,U,U,U,U,U,U,A,A,A,A,G,C,U,A,A,U,U,U,A,U,A,A,A,A,C,A,A,G,U,A,G,G,G,U,A,A,C,C,A,G,C,U,G,U,C,U,U,G,G,U,U,U,G,C,C,C,A,G,G,A,C,U,G,C,C,C,A,G,U,U,G,U,A,G,C,A,C,U,A,C,A,C,G,U,C,C,U,G,C,A,U,U,C,U,U,U,G,\n",
      "\n"
     ]
    }
   ],
   "source": [
    "#| hide\n",
    "for i in range(example_predictions.shape[0]):\n",
    "    print(i)\n",
    "    print(example_predictions.iloc[i, :].sequence[:sample_len])\n",
    "    print(example_predictions.iloc[i, :].predicted[:sample_len])\n",
    "    print()"
   ]
  },
  {
   "cell_type": "markdown",
   "metadata": {},
   "source": [
    "# What did I learn?\n",
    "\n",
    "- Engineering text is difficult\n",
    "- There is a LOT of genomic data to utilize, engineer\n",
    "- Utilizing sqlite for this much text data is a good idea\n",
    "- Annotating mRNA from genomic DNA requires a lot of memory\n",
    "    - Some gene sequences are really large\n",
    "- Accurately transcribing genomic DNA requires good recognition of;\n",
    "    - Where introns start, end\n",
    "    - Where transcription starts, ends\n",
    "- My model does well;\n",
    "    - On sequences that are actually transcribed\n",
    "- My model needs to do better;\n",
    "    - Identifying intronic sequence start and end locations\n",
    "    - Identifying when mRNA transcription starts, ends"
   ]
  },
  {
   "cell_type": "code",
   "execution_count": 59,
   "metadata": {},
   "outputs": [],
   "source": [
    "#| hide\n",
    "import nbdev; nbdev.nbdev_export()"
   ]
  },
  {
   "cell_type": "code",
   "execution_count": null,
   "metadata": {},
   "outputs": [],
   "source": []
  }
 ],
 "metadata": {
  "kernelspec": {
   "display_name": "venv",
   "language": "python",
   "name": "python3"
  },
  "language_info": {
   "codemirror_mode": {
    "name": "ipython",
    "version": 3
   },
   "file_extension": ".py",
   "mimetype": "text/x-python",
   "name": "python",
   "nbconvert_exporter": "python",
   "pygments_lexer": "ipython3",
   "version": "3.10.6"
  },
  "orig_nbformat": 4
 },
 "nbformat": 4,
 "nbformat_minor": 2
}
