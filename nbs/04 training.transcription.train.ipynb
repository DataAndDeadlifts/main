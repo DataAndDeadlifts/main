{
 "cells": [
  {
   "cell_type": "code",
   "execution_count": 1,
   "metadata": {},
   "outputs": [],
   "source": [
    "#| default_exp training.transcription.train"
   ]
  },
  {
   "cell_type": "code",
   "execution_count": 33,
   "metadata": {},
   "outputs": [],
   "source": [
    "#| export\n",
    "from pathlib import Path\n",
    "from torch import Tensor\n",
    "import torch\n",
    "import torch.nn as nn\n",
    "from torch.nn import Transformer\n",
    "from torch.nn.utils.rnn import pad_sequence\n",
    "from torch.utils.data import DataLoader, Dataset\n",
    "from torchtext.vocab import vocab, Vocab\n",
    "from sklearn.model_selection import train_test_split\n",
    "import math\n",
    "from timeit import default_timer as timer\n",
    "from tqdm import tqdm\n",
    "import pandas as pd\n",
    "from collections import OrderedDict, Counter\n",
    "\n",
    "from llm_mito_scanner.data.download import load_config, \\\n",
    "    get_latest_assembly_path\n",
    "from llm_mito_scanner.training.transcription.generation import \\\n",
    "    BOS_TOK, EOS_TOK, UNK_TOK, PAD_TOK\n",
    "\n",
    "\n",
    "DEVICE = torch.device('cuda' if torch.cuda.is_available() else 'cpu')"
   ]
  },
  {
   "cell_type": "code",
   "execution_count": 2,
   "metadata": {},
   "outputs": [],
   "source": [
    "#| hide\n",
    "config = load_config()"
   ]
  },
  {
   "cell_type": "code",
   "execution_count": 3,
   "metadata": {},
   "outputs": [],
   "source": [
    "#| hide\n",
    "data_path = Path(config.get(\"data_path\"))\n",
    "data_raw_path = data_path / \"raw\"\n",
    "assemblies_path = data_raw_path / \"assemblies\"\n",
    "latest_assembly_path = get_latest_assembly_path(assemblies_path)\n",
    "chromosomes_path = latest_assembly_path / \"chromosomes\"\n",
    "training_data_path = latest_assembly_path / \"training\"\n",
    "transcription_data_path = training_data_path / \"transcription\"\n",
    "sequences_data_path = transcription_data_path / \"sequences\"\n",
    "\n",
    "random_state = 42"
   ]
  },
  {
   "cell_type": "code",
   "execution_count": 4,
   "metadata": {},
   "outputs": [
    {
     "data": {
      "text/html": [
       "<div>\n",
       "<style scoped>\n",
       "    .dataframe tbody tr th:only-of-type {\n",
       "        vertical-align: middle;\n",
       "    }\n",
       "\n",
       "    .dataframe tbody tr th {\n",
       "        vertical-align: top;\n",
       "    }\n",
       "\n",
       "    .dataframe thead th {\n",
       "        text-align: right;\n",
       "    }\n",
       "</style>\n",
       "<table border=\"1\" class=\"dataframe\">\n",
       "  <thead>\n",
       "    <tr style=\"text-align: right;\">\n",
       "      <th></th>\n",
       "      <th>chromosome</th>\n",
       "      <th>geneid</th>\n",
       "      <th>transcriptid</th>\n",
       "      <th>start</th>\n",
       "      <th>end</th>\n",
       "      <th>type</th>\n",
       "    </tr>\n",
       "  </thead>\n",
       "  <tbody>\n",
       "    <tr>\n",
       "      <th>0</th>\n",
       "      <td>NC_000019.10</td>\n",
       "      <td>GeneID:946</td>\n",
       "      <td>XM_011527538.4</td>\n",
       "      <td>57</td>\n",
       "      <td>121</td>\n",
       "      <td>intron-small</td>\n",
       "    </tr>\n",
       "    <tr>\n",
       "      <th>1</th>\n",
       "      <td>NC_000006.12</td>\n",
       "      <td>GeneID:124901227</td>\n",
       "      <td>XM_047419609.1</td>\n",
       "      <td>0</td>\n",
       "      <td>64</td>\n",
       "      <td>intron-small</td>\n",
       "    </tr>\n",
       "    <tr>\n",
       "      <th>2</th>\n",
       "      <td>NC_000002.12</td>\n",
       "      <td>GeneID:1768</td>\n",
       "      <td>XM_011532649.3</td>\n",
       "      <td>251297</td>\n",
       "      <td>251361</td>\n",
       "      <td>intron</td>\n",
       "    </tr>\n",
       "    <tr>\n",
       "      <th>3</th>\n",
       "      <td>NC_000010.11</td>\n",
       "      <td>GeneID:657</td>\n",
       "      <td>NM_001406576.1</td>\n",
       "      <td>86904</td>\n",
       "      <td>86968</td>\n",
       "      <td>intron</td>\n",
       "    </tr>\n",
       "    <tr>\n",
       "      <th>4</th>\n",
       "      <td>NC_000005.10</td>\n",
       "      <td>GeneID:3187</td>\n",
       "      <td>NM_001257293.2</td>\n",
       "      <td>2153</td>\n",
       "      <td>2217</td>\n",
       "      <td>intron</td>\n",
       "    </tr>\n",
       "  </tbody>\n",
       "</table>\n",
       "</div>"
      ],
      "text/plain": [
       "     chromosome            geneid    transcriptid   start     end   \n",
       "0  NC_000019.10        GeneID:946  XM_011527538.4      57     121  \\\n",
       "1  NC_000006.12  GeneID:124901227  XM_047419609.1       0      64   \n",
       "2  NC_000002.12       GeneID:1768  XM_011532649.3  251297  251361   \n",
       "3  NC_000010.11        GeneID:657  NM_001406576.1   86904   86968   \n",
       "4  NC_000005.10       GeneID:3187  NM_001257293.2    2153    2217   \n",
       "\n",
       "           type  \n",
       "0  intron-small  \n",
       "1  intron-small  \n",
       "2        intron  \n",
       "3        intron  \n",
       "4        intron  "
      ]
     },
     "execution_count": 4,
     "metadata": {},
     "output_type": "execute_result"
    }
   ],
   "source": [
    "#| hide\n",
    "training_index = pd.read_csv(transcription_data_path / \"training_sequence_idx.csv\", nrows=10)\n",
    "training_index.head()"
   ]
  },
  {
   "cell_type": "code",
   "execution_count": 5,
   "metadata": {},
   "outputs": [
    {
     "data": {
      "text/html": [
       "<div>\n",
       "<style scoped>\n",
       "    .dataframe tbody tr th:only-of-type {\n",
       "        vertical-align: middle;\n",
       "    }\n",
       "\n",
       "    .dataframe tbody tr th {\n",
       "        vertical-align: top;\n",
       "    }\n",
       "\n",
       "    .dataframe thead th {\n",
       "        text-align: right;\n",
       "    }\n",
       "</style>\n",
       "<table border=\"1\" class=\"dataframe\">\n",
       "  <thead>\n",
       "    <tr style=\"text-align: right;\">\n",
       "      <th></th>\n",
       "      <th>input</th>\n",
       "      <th>target</th>\n",
       "      <th>position</th>\n",
       "      <th>chromosome</th>\n",
       "      <th>type</th>\n",
       "    </tr>\n",
       "  </thead>\n",
       "  <tbody>\n",
       "    <tr>\n",
       "      <th>0</th>\n",
       "      <td>['G', 'C', 'T', 'A', 'C', 'C', 'G', 'C', 'T', ...</td>\n",
       "      <td>['G', 'C', 'U', 'A', 'C', 'C', 'G', 'C', 'U', ...</td>\n",
       "      <td>57</td>\n",
       "      <td>NC_000019.10</td>\n",
       "      <td>intron-small</td>\n",
       "    </tr>\n",
       "    <tr>\n",
       "      <th>1</th>\n",
       "      <td>['C', 'C', 'C', 'C', 'A', 'C', 'A', 'G', 'G', ...</td>\n",
       "      <td>['&lt;intron&gt;', '&lt;intron&gt;', '&lt;intron&gt;', '&lt;intron&gt;...</td>\n",
       "      <td>183</td>\n",
       "      <td>NC_000019.10</td>\n",
       "      <td>NaN</td>\n",
       "    </tr>\n",
       "    <tr>\n",
       "      <th>2</th>\n",
       "      <td>['T', 'T', 'T', 'G', 'A', 'G', 'A', 'T', 'G', ...</td>\n",
       "      <td>['&lt;intron&gt;', '&lt;intron&gt;', '&lt;intron&gt;', '&lt;intron&gt;...</td>\n",
       "      <td>39751</td>\n",
       "      <td>NC_000019.10</td>\n",
       "      <td>NaN</td>\n",
       "    </tr>\n",
       "    <tr>\n",
       "      <th>3</th>\n",
       "      <td>['A', 'T', 'G', 'T', 'C', 'T', 'G', 'G', 'A', ...</td>\n",
       "      <td>['&lt;null&gt;', '&lt;null&gt;', '&lt;null&gt;', '&lt;null&gt;', '&lt;nul...</td>\n",
       "      <td>1458</td>\n",
       "      <td>NC_000019.10</td>\n",
       "      <td>NaN</td>\n",
       "    </tr>\n",
       "    <tr>\n",
       "      <th>4</th>\n",
       "      <td>['T', 'T', 'A', 'A', 'G', 'C', 'A', 'G', 'C', ...</td>\n",
       "      <td>['&lt;intron&gt;', '&lt;intron&gt;', '&lt;intron&gt;', '&lt;intron&gt;...</td>\n",
       "      <td>20273</td>\n",
       "      <td>NC_000019.10</td>\n",
       "      <td>NaN</td>\n",
       "    </tr>\n",
       "  </tbody>\n",
       "</table>\n",
       "</div>"
      ],
      "text/plain": [
       "                                               input   \n",
       "0  ['G', 'C', 'T', 'A', 'C', 'C', 'G', 'C', 'T', ...  \\\n",
       "1  ['C', 'C', 'C', 'C', 'A', 'C', 'A', 'G', 'G', ...   \n",
       "2  ['T', 'T', 'T', 'G', 'A', 'G', 'A', 'T', 'G', ...   \n",
       "3  ['A', 'T', 'G', 'T', 'C', 'T', 'G', 'G', 'A', ...   \n",
       "4  ['T', 'T', 'A', 'A', 'G', 'C', 'A', 'G', 'C', ...   \n",
       "\n",
       "                                              target  position    chromosome   \n",
       "0  ['G', 'C', 'U', 'A', 'C', 'C', 'G', 'C', 'U', ...        57  NC_000019.10  \\\n",
       "1  ['<intron>', '<intron>', '<intron>', '<intron>...       183  NC_000019.10   \n",
       "2  ['<intron>', '<intron>', '<intron>', '<intron>...     39751  NC_000019.10   \n",
       "3  ['<null>', '<null>', '<null>', '<null>', '<nul...      1458  NC_000019.10   \n",
       "4  ['<intron>', '<intron>', '<intron>', '<intron>...     20273  NC_000019.10   \n",
       "\n",
       "           type  \n",
       "0  intron-small  \n",
       "1           NaN  \n",
       "2           NaN  \n",
       "3           NaN  \n",
       "4           NaN  "
      ]
     },
     "execution_count": 5,
     "metadata": {},
     "output_type": "execute_result"
    }
   ],
   "source": [
    "#| hide\n",
    "# Get vocab\n",
    "training_data = pd.read_csv(transcription_data_path / \"training_data.csv\", nrows=10)\n",
    "training_data.head()"
   ]
  },
  {
   "cell_type": "code",
   "execution_count": 67,
   "metadata": {},
   "outputs": [],
   "source": [
    "#| export\n",
    "def list_string_to_list(l: str, sep=\", \") -> list[str]:\n",
    "    return l.replace(\"'\", \"\").strip(\"][\").split(sep)"
   ]
  },
  {
   "cell_type": "code",
   "execution_count": 239,
   "metadata": {},
   "outputs": [],
   "source": [
    "#| export\n",
    "def get_vocab(transcription_data_path: Path, special_tokens: list[str] = [UNK_TOK, BOS_TOK, EOS_TOK, PAD_TOK]) -> Vocab:\n",
    "    vocab_path = transcription_data_path / \"vocab.pt\"\n",
    "    if vocab_path.exists():\n",
    "        token_vocab = torch.load(vocab_path)\n",
    "        return token_vocab\n",
    "    else:\n",
    "        training_data_path = transcription_data_path / \"training_data.csv\"\n",
    "        token_counter = Counter()\n",
    "        for col in ['input', 'target']:\n",
    "            sequences = pd.read_csv(training_data_path, usecols=[col])[col].apply(list_string_to_list).tolist()\n",
    "            sequence_counters = list(map(Counter, sequences))\n",
    "            token_counter = token_counter + sum(sequence_counters, Counter())\n",
    "        token_vocab = vocab(token_counter, specials=special_tokens)\n",
    "        token_vocab.set_default_index(token_vocab[UNK_TOK])\n",
    "        torch.save(token_vocab, vocab_path)\n",
    "        return token_vocab"
   ]
  },
  {
   "cell_type": "code",
   "execution_count": 240,
   "metadata": {},
   "outputs": [
    {
     "name": "stderr",
     "output_type": "stream",
     "text": [
      "                                                                                \r"
     ]
    }
   ],
   "source": [
    "#| hide\n",
    "training_vocab = get_vocab(transcription_data_path)"
   ]
  },
  {
   "cell_type": "code",
   "execution_count": 242,
   "metadata": {},
   "outputs": [
    {
     "data": {
      "text/plain": [
       "12"
      ]
     },
     "execution_count": 242,
     "metadata": {},
     "output_type": "execute_result"
    }
   ],
   "source": [
    "#| hide\n",
    "len(training_vocab)"
   ]
  },
  {
   "cell_type": "code",
   "execution_count": 243,
   "metadata": {},
   "outputs": [
    {
     "data": {
      "text/plain": [
       "10"
      ]
     },
     "execution_count": 243,
     "metadata": {},
     "output_type": "execute_result"
    }
   ],
   "source": [
    "#| hide\n",
    "training_vocab[\"<intron>\"]"
   ]
  },
  {
   "cell_type": "code",
   "execution_count": 136,
   "metadata": {},
   "outputs": [],
   "source": [
    "#| export\n",
    "UNK_IDX = None\n",
    "PAD_IDX = None\n",
    "BOS_IDX = None\n",
    "EOS_IDX = None\n",
    "\n",
    "def set_vocab_idx(vocab: Vocab):\n",
    "    global UNK_IDX, PAD_IDX, BOS_IDX, EOS_IDX\n",
    "    UNK_IDX = vocab[UNK_TOK]\n",
    "    PAD_IDX = vocab[PAD_TOK]\n",
    "    BOS_IDX = vocab[BOS_TOK]\n",
    "    EOS_IDX = vocab[EOS_TOK]"
   ]
  },
  {
   "cell_type": "code",
   "execution_count": 137,
   "metadata": {},
   "outputs": [
    {
     "data": {
      "text/plain": [
       "0"
      ]
     },
     "execution_count": 137,
     "metadata": {},
     "output_type": "execute_result"
    }
   ],
   "source": [
    "#| hide\n",
    "training_vocab[UNK_TOK]"
   ]
  },
  {
   "cell_type": "code",
   "execution_count": 138,
   "metadata": {},
   "outputs": [],
   "source": [
    "#| hide\n",
    "set_vocab_idx(training_vocab)"
   ]
  },
  {
   "cell_type": "code",
   "execution_count": 139,
   "metadata": {},
   "outputs": [],
   "source": [
    "#| export\n",
    "class TranscriptionDataset(Dataset):\n",
    "    def __init__(self, path: Path, train: bool, **train_test_split_kwargs) -> None:\n",
    "        self.path = path\n",
    "        self.train = train\n",
    "        data_train, data_test = train_test_split(pd.read_csv(path), **train_test_split_kwargs)\n",
    "        self.data = data_train if train else data_test\n",
    "    \n",
    "    def __len__(self) -> int:\n",
    "        return self.data.shape[0]\n",
    "\n",
    "    def __getitem__(self, idx) -> tuple[str, str, int]:\n",
    "        row = self.data.iloc[idx]\n",
    "        input_str = list_string_to_list(row.input)\n",
    "        target_str = list_string_to_list(row.target)\n",
    "        position = row.position\n",
    "        return input_str, target_str, position"
   ]
  },
  {
   "cell_type": "code",
   "execution_count": 140,
   "metadata": {},
   "outputs": [],
   "source": [
    "#| hide\n",
    "# Get train, test datasets\n",
    "transcription_dataset_train = TranscriptionDataset(transcription_data_path / \"training_data.csv\", True)\n",
    "transcription_dataset_test = TranscriptionDataset(transcription_data_path / \"training_data.csv\", False)"
   ]
  },
  {
   "cell_type": "code",
   "execution_count": 141,
   "metadata": {},
   "outputs": [
    {
     "data": {
      "text/plain": [
       "[64, 64, 213016]"
      ]
     },
     "execution_count": 141,
     "metadata": {},
     "output_type": "execute_result"
    }
   ],
   "source": [
    "#| hide\n",
    "example_input, example_target, example_position = transcription_dataset_train[0]\n",
    "[len(x) if type(x) == list else x for x in transcription_dataset_train[0]]"
   ]
  },
  {
   "cell_type": "code",
   "execution_count": 142,
   "metadata": {},
   "outputs": [],
   "source": [
    "#| export\n",
    "# helper Module that adds positional encoding to the token embedding to introduce a notion of word order.\n",
    "class PositionalEncoding(nn.Module):\n",
    "    def __init__(self,\n",
    "                 emb_size: int,\n",
    "                 dropout: float,\n",
    "                 maxlen: int = 5000):\n",
    "        super(PositionalEncoding, self).__init__()\n",
    "        den = torch.exp(- torch.arange(0, emb_size, 2)* math.log(10000) / emb_size)\n",
    "        pos = torch.arange(0, maxlen).reshape(maxlen, 1)\n",
    "        pos_embedding = torch.zeros((maxlen, emb_size))\n",
    "        pos_embedding[:, 0::2] = torch.sin(pos * den)\n",
    "        pos_embedding[:, 1::2] = torch.cos(pos * den)\n",
    "        pos_embedding = pos_embedding.unsqueeze(-2)\n",
    "\n",
    "        self.dropout = nn.Dropout(dropout)\n",
    "        self.register_buffer('pos_embedding', pos_embedding)\n",
    "\n",
    "    def forward(self, token_embedding: Tensor):\n",
    "        return self.dropout(token_embedding + self.pos_embedding[:token_embedding.size(0), :])\n",
    "\n",
    "# helper Module to convert tensor of input indices into corresponding tensor of token embeddings\n",
    "class TokenEmbedding(nn.Module):\n",
    "    def __init__(self, vocab_size: int, emb_size):\n",
    "        super(TokenEmbedding, self).__init__()\n",
    "        self.embedding = nn.Embedding(vocab_size, emb_size)\n",
    "        self.emb_size = emb_size\n",
    "\n",
    "    def forward(self, tokens: Tensor):\n",
    "        return self.embedding(tokens.long()) * math.sqrt(self.emb_size)\n",
    "\n",
    "# Seq2Seq Network\n",
    "class Seq2SeqTransformer(nn.Module):\n",
    "    def __init__(self,\n",
    "                 num_encoder_layers: int,\n",
    "                 num_decoder_layers: int,\n",
    "                 emb_size: int,\n",
    "                 nhead: int,\n",
    "                 src_vocab_size: int,\n",
    "                 tgt_vocab_size: int,\n",
    "                 dim_feedforward: int = 512,\n",
    "                 dropout: float = 0.1):\n",
    "        super(Seq2SeqTransformer, self).__init__()\n",
    "        self.transformer = Transformer(d_model=emb_size,\n",
    "                                       nhead=nhead,\n",
    "                                       num_encoder_layers=num_encoder_layers,\n",
    "                                       num_decoder_layers=num_decoder_layers,\n",
    "                                       dim_feedforward=dim_feedforward,\n",
    "                                       dropout=dropout)\n",
    "        self.generator = nn.Linear(emb_size, tgt_vocab_size)\n",
    "        self.src_tok_emb = TokenEmbedding(src_vocab_size, emb_size)\n",
    "        self.tgt_tok_emb = TokenEmbedding(tgt_vocab_size, emb_size)\n",
    "        self.positional_encoding = PositionalEncoding(\n",
    "            emb_size, dropout=dropout)\n",
    "\n",
    "    def forward(self,\n",
    "                src: Tensor,\n",
    "                trg: Tensor,\n",
    "                src_mask: Tensor,\n",
    "                tgt_mask: Tensor,\n",
    "                src_padding_mask: Tensor,\n",
    "                tgt_padding_mask: Tensor,\n",
    "                memory_key_padding_mask: Tensor):\n",
    "        src_emb = self.positional_encoding(self.src_tok_emb(src))\n",
    "        tgt_emb = self.positional_encoding(self.tgt_tok_emb(trg))\n",
    "        outs = self.transformer(src_emb, tgt_emb, src_mask, tgt_mask, None,\n",
    "                                src_padding_mask, tgt_padding_mask, memory_key_padding_mask)\n",
    "        return self.generator(outs)\n",
    "\n",
    "    def encode(self, src: Tensor, src_mask: Tensor):\n",
    "        return self.transformer.encoder(self.positional_encoding(\n",
    "                            self.src_tok_emb(src)), src_mask)\n",
    "\n",
    "    def decode(self, tgt: Tensor, memory: Tensor, tgt_mask: Tensor):\n",
    "        return self.transformer.decoder(self.positional_encoding(\n",
    "                          self.tgt_tok_emb(tgt)), memory,\n",
    "                          tgt_mask)"
   ]
  },
  {
   "cell_type": "code",
   "execution_count": 143,
   "metadata": {},
   "outputs": [],
   "source": [
    "#| hide\n",
    "torch.manual_seed(random_state)\n",
    "\n",
    "SRC_VOCAB_SIZE = TGT_VOCAB_SIZE = len(training_vocab)\n",
    "EMB_SIZE = 128\n",
    "NHEAD = 4\n",
    "FFN_HID_DIM = 128\n",
    "BATCH_SIZE = 64\n",
    "NUM_ENCODER_LAYERS = 3\n",
    "NUM_DECODER_LAYERS = 3\n",
    "\n",
    "transformer = Seq2SeqTransformer(NUM_ENCODER_LAYERS, NUM_DECODER_LAYERS, EMB_SIZE,\n",
    "                                 NHEAD, SRC_VOCAB_SIZE, TGT_VOCAB_SIZE, FFN_HID_DIM)\n",
    "\n",
    "for p in transformer.parameters():\n",
    "    if p.dim() > 1:\n",
    "        nn.init.xavier_uniform_(p)\n",
    "\n",
    "transformer = transformer.to(DEVICE)\n",
    "\n",
    "loss_fn = torch.nn.CrossEntropyLoss(ignore_index=PAD_IDX)\n",
    "\n",
    "optimizer = torch.optim.Adam(transformer.parameters(), lr=0.0001, betas=(0.9, 0.98), eps=1e-9)"
   ]
  },
  {
   "cell_type": "code",
   "execution_count": 144,
   "metadata": {},
   "outputs": [],
   "source": [
    "#| export\n",
    "# helper function to club together sequential operations\n",
    "def sequential_transforms(*transforms):\n",
    "    def func(txt_input):\n",
    "        for transform in transforms:\n",
    "            txt_input = transform(txt_input)\n",
    "        return txt_input\n",
    "    return func\n",
    "\n",
    "# function to add BOS/EOS and create tensor for input sequence indices\n",
    "def tensor_transform(token_ids: list[int]):\n",
    "    return torch.cat((torch.tensor([BOS_IDX]),\n",
    "                      torch.tensor(token_ids),\n",
    "                      torch.tensor([EOS_IDX])))"
   ]
  },
  {
   "cell_type": "code",
   "execution_count": 145,
   "metadata": {},
   "outputs": [],
   "source": [
    "#| export\n",
    "text_transform = None\n",
    "def set_text_transform(\n",
    "        text_vocab: Vocab\n",
    "):\n",
    "    global text_transform\n",
    "    text_transform = sequential_transforms(\n",
    "    text_vocab, # Numericalization\n",
    "    tensor_transform)"
   ]
  },
  {
   "cell_type": "code",
   "execution_count": 146,
   "metadata": {},
   "outputs": [],
   "source": [
    "#| hide\n",
    "set_text_transform(training_vocab)"
   ]
  },
  {
   "cell_type": "code",
   "execution_count": 147,
   "metadata": {},
   "outputs": [
    {
     "data": {
      "text/plain": [
       "'<intron>'"
      ]
     },
     "execution_count": 147,
     "metadata": {},
     "output_type": "execute_result"
    }
   ],
   "source": [
    "#| hide\n",
    "example_input_transformed = text_transform(example_input)\n",
    "example_target_transformed = text_transform(example_target)\n",
    "training_vocab.lookup_token(10)"
   ]
  },
  {
   "cell_type": "code",
   "execution_count": 250,
   "metadata": {},
   "outputs": [],
   "source": [
    "#| export\n",
    "# function to collate data samples into batch tensors\n",
    "def collate_fn(batch: list[tuple[str, str, int]]):\n",
    "    global PAD_IDX\n",
    "    src_batch, tgt_batch = [], []\n",
    "    for src_sample, tgt_sample, pos in batch:\n",
    "        src_batch.append(text_transform(src_sample))\n",
    "        tgt_batch.append(text_transform(tgt_sample))\n",
    "\n",
    "    src_batch = pad_sequence(src_batch, padding_value=PAD_IDX)\n",
    "    tgt_batch = pad_sequence(tgt_batch, padding_value=PAD_IDX)\n",
    "    return src_batch, tgt_batch"
   ]
  },
  {
   "cell_type": "code",
   "execution_count": 157,
   "metadata": {},
   "outputs": [],
   "source": [
    "#| hide\n",
    "example_loader = DataLoader(transcription_dataset_train, batch_size=32, collate_fn=collate_fn)\n",
    "example_batch = next(iter(example_loader))"
   ]
  },
  {
   "cell_type": "code",
   "execution_count": 158,
   "metadata": {},
   "outputs": [
    {
     "data": {
      "text/plain": [
       "2"
      ]
     },
     "execution_count": 158,
     "metadata": {},
     "output_type": "execute_result"
    }
   ],
   "source": [
    "#| hide\n",
    "len(example_batch)"
   ]
  },
  {
   "cell_type": "code",
   "execution_count": 159,
   "metadata": {},
   "outputs": [
    {
     "data": {
      "text/plain": [
       "torch.Size([66, 32])"
      ]
     },
     "execution_count": 159,
     "metadata": {},
     "output_type": "execute_result"
    }
   ],
   "source": [
    "#| hide\n",
    "example_batch[0].shape"
   ]
  },
  {
   "cell_type": "code",
   "execution_count": 160,
   "metadata": {},
   "outputs": [
    {
     "data": {
      "text/plain": [
       "'<unk>'"
      ]
     },
     "execution_count": 160,
     "metadata": {},
     "output_type": "execute_result"
    }
   ],
   "source": [
    "#| hide\n",
    "training_vocab.lookup_token(0)"
   ]
  },
  {
   "cell_type": "code",
   "execution_count": 166,
   "metadata": {},
   "outputs": [],
   "source": [
    "#| hide\n",
    "try:\n",
    "    del model\n",
    "except:\n",
    "    pass\n",
    "torch.cuda.empty_cache()\n",
    "model = transformer\n",
    "model.train()\n",
    "losses = 0"
   ]
  },
  {
   "cell_type": "code",
   "execution_count": 167,
   "metadata": {},
   "outputs": [],
   "source": [
    "#| hide\n",
    "batch_loss = None"
   ]
  },
  {
   "cell_type": "code",
   "execution_count": 168,
   "metadata": {},
   "outputs": [],
   "source": [
    "#| hide\n",
    "chunks_attached = False"
   ]
  },
  {
   "cell_type": "code",
   "execution_count": 169,
   "metadata": {},
   "outputs": [],
   "source": [
    "#| hide\n",
    "if not chunks_attached:\n",
    "    example_input = example_batch[0].to(DEVICE)\n",
    "    example_target = example_batch[1].to(DEVICE)\n",
    "    chunks_attached = True"
   ]
  },
  {
   "cell_type": "code",
   "execution_count": 178,
   "metadata": {},
   "outputs": [],
   "source": [
    "#| hide\n",
    "example_target_input = example_target[:-1, :]"
   ]
  },
  {
   "cell_type": "code",
   "execution_count": 190,
   "metadata": {},
   "outputs": [],
   "source": [
    "#| hide\n",
    "example_target_out = example_target[1:, :]"
   ]
  },
  {
   "cell_type": "code",
   "execution_count": 191,
   "metadata": {},
   "outputs": [
    {
     "data": {
      "text/plain": [
       "(torch.Size([66, 32]),\n",
       " torch.Size([66, 32]),\n",
       " torch.Size([65, 32]),\n",
       " torch.Size([65, 32]))"
      ]
     },
     "execution_count": 191,
     "metadata": {},
     "output_type": "execute_result"
    }
   ],
   "source": [
    "#| hide\n",
    "example_input.shape, example_target.shape, example_target_input.shape, example_target_out.shape"
   ]
  },
  {
   "cell_type": "code",
   "execution_count": 173,
   "metadata": {},
   "outputs": [],
   "source": [
    "#| export\n",
    "def generate_square_subsequent_mask(sz):\n",
    "    mask = (torch.triu(torch.ones((sz, sz), device=DEVICE)) == 1).transpose(0, 1)\n",
    "    mask = mask.float().masked_fill(mask == 0, float('-inf')).masked_fill(mask == 1, float(0.0))\n",
    "    return mask\n",
    "\n",
    "\n",
    "def create_mask(src, tgt):\n",
    "    src_seq_len = src.shape[0]\n",
    "    tgt_seq_len = tgt.shape[0]\n",
    "\n",
    "    tgt_mask = generate_square_subsequent_mask(tgt_seq_len)\n",
    "    src_mask = torch.zeros((src_seq_len, src_seq_len), device=DEVICE).type(torch.bool)\n",
    "\n",
    "    src_padding_mask = (src == PAD_IDX).transpose(0, 1)\n",
    "    tgt_padding_mask = (tgt == PAD_IDX).transpose(0, 1)\n",
    "    return src_mask, tgt_mask, src_padding_mask, tgt_padding_mask"
   ]
  },
  {
   "cell_type": "code",
   "execution_count": 195,
   "metadata": {},
   "outputs": [],
   "source": [
    "#| hide\n",
    "masks_made = False"
   ]
  },
  {
   "cell_type": "code",
   "execution_count": 196,
   "metadata": {},
   "outputs": [],
   "source": [
    "#| hide\n",
    "# del example_src_mask, example_tgt_mask, example_src_padding_mask, example_tgt_padding_mask"
   ]
  },
  {
   "cell_type": "code",
   "execution_count": 197,
   "metadata": {},
   "outputs": [
    {
     "name": "stdout",
     "output_type": "stream",
     "text": [
      "torch.Size([66, 66])\n",
      "torch.Size([65, 65])\n",
      "torch.Size([32, 66])\n",
      "torch.Size([32, 65])\n"
     ]
    }
   ],
   "source": [
    "#| hide\n",
    "if not masks_made:\n",
    "    example_src_mask, example_tgt_mask, example_src_padding_mask, example_tgt_padding_mask = create_mask(\n",
    "        example_input, \n",
    "        example_target_input\n",
    "        )\n",
    "    masks_made = True\n",
    "\n",
    "for t in [example_src_mask, example_tgt_mask, example_src_padding_mask, example_tgt_padding_mask]:\n",
    "    print(t.shape)"
   ]
  },
  {
   "cell_type": "code",
   "execution_count": 198,
   "metadata": {},
   "outputs": [],
   "source": [
    "#| hide\n",
    "logits = model(\n",
    "    example_input, \n",
    "    example_target_input, \n",
    "    example_src_mask, \n",
    "    example_tgt_mask,\n",
    "    example_src_padding_mask, \n",
    "    example_tgt_padding_mask, \n",
    "    example_src_padding_mask\n",
    "    )"
   ]
  },
  {
   "cell_type": "code",
   "execution_count": 199,
   "metadata": {},
   "outputs": [],
   "source": [
    "#| hide\n",
    "optimizer.zero_grad()\n",
    "\n",
    "loss = loss_fn(logits.reshape(-1, logits.shape[-1]), example_target_out.reshape(-1))\n",
    "# loss.backward()\n",
    "# optimizer.step()\n",
    "# losses += loss.item()"
   ]
  },
  {
   "cell_type": "code",
   "execution_count": 201,
   "metadata": {},
   "outputs": [
    {
     "data": {
      "text/plain": [
       "tensor(3.0219, device='cuda:0', grad_fn=<NllLossBackward0>)"
      ]
     },
     "execution_count": 201,
     "metadata": {},
     "output_type": "execute_result"
    }
   ],
   "source": [
    "#| hide\n",
    "loss"
   ]
  },
  {
   "cell_type": "code",
   "execution_count": 207,
   "metadata": {},
   "outputs": [],
   "source": [
    "#| hide\n",
    "torch.cuda.empty_cache()\n",
    "try:\n",
    "    for var in [\n",
    "        model,\n",
    "        optimizer,\n",
    "        loss,\n",
    "        batch_loss,\n",
    "        example_input,\n",
    "        example_target,\n",
    "        example_target_input,\n",
    "        example_target_out,\n",
    "        example_src_mask, \n",
    "        example_tgt_mask,\n",
    "        example_src_padding_mask, \n",
    "        example_tgt_padding_mask,\n",
    "        chunk_loss\n",
    "    ]:\n",
    "        try:\n",
    "            del var\n",
    "        except Exception:\n",
    "            pass\n",
    "except NameError as e:\n",
    "    raise e"
   ]
  },
  {
   "cell_type": "code",
   "execution_count": 211,
   "metadata": {},
   "outputs": [
    {
     "data": {
      "text/plain": [
       "(844, 843)"
      ]
     },
     "execution_count": 211,
     "metadata": {},
     "output_type": "execute_result"
    }
   ],
   "source": [
    "#| hide\n",
    "len(example_loader), len(transcription_dataset_train) // 32"
   ]
  },
  {
   "cell_type": "code",
   "execution_count": 245,
   "metadata": {},
   "outputs": [],
   "source": [
    "#| export\n",
    "def train_epoch(\n",
    "        model, optimizer, loss_fn, \n",
    "        dataset: TranscriptionDataset,\n",
    "        batch_size: int = 32,\n",
    "        pbar_position: int = 1,\n",
    "        limit: int = None):\n",
    "    global DEVICE\n",
    "    model.train()\n",
    "    losses = 0\n",
    "    train_dataloader = DataLoader(dataset, batch_size=batch_size, collate_fn=collate_fn)\n",
    "    batches = len(train_dataloader)\n",
    "    batch_pbar = tqdm(total=batches, position=pbar_position, leave=False, ncols=80, desc=\"Training\")\n",
    "    for i, (src, tgt) in enumerate(train_dataloader):\n",
    "        src = src.to(DEVICE)\n",
    "        tgt = tgt.to(DEVICE)\n",
    "\n",
    "        tgt_input = tgt[:-1, :]\n",
    "\n",
    "        src_mask, tgt_mask, src_padding_mask, tgt_padding_mask = create_mask(src, tgt_input)\n",
    "\n",
    "        logits = model(src, tgt_input, src_mask, tgt_mask, src_padding_mask, tgt_padding_mask, src_padding_mask)\n",
    "\n",
    "        optimizer.zero_grad()\n",
    "\n",
    "        tgt_out = tgt[1:, :]\n",
    "        loss = loss_fn(logits.reshape(-1, logits.shape[-1]), tgt_out.reshape(-1))\n",
    "        loss.backward()\n",
    "\n",
    "        optimizer.step()\n",
    "        losses += loss.item()\n",
    "        batch_pbar.update(1)\n",
    "        if isinstance(limit, int):\n",
    "            if i >= limit:\n",
    "                batches = limit\n",
    "                break\n",
    "\n",
    "    batch_pbar.close()\n",
    "\n",
    "    return losses / batches\n",
    "\n",
    "\n",
    "def evaluate(\n",
    "        model, loss_fn, \n",
    "        dataset: TranscriptionDataset,\n",
    "        batch_size: int = 32,\n",
    "        pbar_position: int = 1,\n",
    "        limit: int = None):\n",
    "    model.eval()\n",
    "    losses = 0\n",
    "\n",
    "    val_dataloader = DataLoader(dataset, batch_size=batch_size, collate_fn=collate_fn)\n",
    "    batches = len(val_dataloader)\n",
    "    eval_pbar = tqdm(total=batches, position=pbar_position, leave=False, ncols=80, desc=\"Evaluating\")\n",
    "    for i, (src, tgt) in enumerate(val_dataloader):\n",
    "        # Break these up into reasonable sizes for the GPU\n",
    "        src = src.to(DEVICE)\n",
    "        tgt = tgt.to(DEVICE)\n",
    "\n",
    "        tgt_input = tgt[:-1, :]\n",
    "\n",
    "        src_mask, tgt_mask, src_padding_mask, tgt_padding_mask = create_mask(src, tgt_input)\n",
    "\n",
    "        logits = model(src, tgt_input, src_mask, tgt_mask,src_padding_mask, tgt_padding_mask, src_padding_mask)\n",
    "\n",
    "        tgt_out = tgt[1:, :]\n",
    "        loss = loss_fn(logits.reshape(-1, logits.shape[-1]), tgt_out.reshape(-1))\n",
    "        losses += loss.item()\n",
    "        \n",
    "        eval_pbar.update(1)\n",
    "        if isinstance(limit, int):\n",
    "            if i >= limit:\n",
    "                batches = limit\n",
    "                break\n",
    "        \n",
    "    eval_pbar.close()\n",
    "    return losses / batches"
   ]
  },
  {
   "cell_type": "code",
   "execution_count": 246,
   "metadata": {},
   "outputs": [
    {
     "name": "stderr",
     "output_type": "stream",
     "text": [
      "                                                                                \r"
     ]
    },
    {
     "data": {
      "text/plain": [
       "(2.904506206512451, 2.2545067965984344)"
      ]
     },
     "execution_count": 246,
     "metadata": {},
     "output_type": "execute_result"
    }
   ],
   "source": [
    "#| hide\n",
    "transformer = Seq2SeqTransformer(NUM_ENCODER_LAYERS, NUM_DECODER_LAYERS, EMB_SIZE,\n",
    "                                 NHEAD, SRC_VOCAB_SIZE, TGT_VOCAB_SIZE, FFN_HID_DIM)\n",
    "\n",
    "for p in transformer.parameters():\n",
    "    if p.dim() > 1:\n",
    "        nn.init.xavier_uniform_(p)\n",
    "\n",
    "transformer = transformer.to(DEVICE)\n",
    "\n",
    "loss_fn = torch.nn.CrossEntropyLoss(ignore_index=PAD_IDX)\n",
    "\n",
    "optimizer = torch.optim.Adam(transformer.parameters(), lr=0.0001, betas=(0.9, 0.98), eps=1e-9)\n",
    "\n",
    "example_train_loss = train_epoch(\n",
    "    transformer, optimizer, loss_fn,\n",
    "    transcription_dataset_train,\n",
    "    batch_size = 32,\n",
    "    pbar_position = 0,\n",
    "    limit=4)\n",
    "\n",
    "example_eval_loss = evaluate(\n",
    "    transformer, loss_fn, \n",
    "    transcription_dataset_test,\n",
    "    batch_size = 32,\n",
    "    pbar_position = 0,\n",
    "    limit=4)\n",
    "\n",
    "example_train_loss, example_eval_loss"
   ]
  },
  {
   "cell_type": "code",
   "execution_count": 247,
   "metadata": {},
   "outputs": [],
   "source": [
    "#| export\n",
    "# function to generate output sequence using greedy algorithm\n",
    "def greedy_decode(model, src, src_mask, max_len, start_symbol):\n",
    "    src = src.to(DEVICE)\n",
    "    src_mask = src_mask.to(DEVICE)\n",
    "\n",
    "    memory = model.encode(src, src_mask)\n",
    "    ys = torch.ones(1, 1).fill_(start_symbol).type(torch.long).to(DEVICE)\n",
    "    for i in range(max_len-1):\n",
    "        memory = memory.to(DEVICE)\n",
    "        tgt_mask = (generate_square_subsequent_mask(ys.size(0))\n",
    "                    .type(torch.bool)).to(DEVICE)\n",
    "        out = model.decode(ys, memory, tgt_mask)\n",
    "        out = out.transpose(0, 1)\n",
    "        prob = model.generator(out[:, -1])\n",
    "        _, next_word = torch.max(prob, dim=1)\n",
    "        next_word = next_word.item()\n",
    "\n",
    "        ys = torch.cat([ys,\n",
    "                        torch.ones(1, 1).type_as(src.data).fill_(next_word)], dim=0)\n",
    "        if next_word == EOS_IDX:\n",
    "            break\n",
    "    return ys\n",
    "\n",
    "\n",
    "# actual function to translate input sentence into target language\n",
    "def translate(model: torch.nn.Module, vocab: Vocab, src_sentence: str):\n",
    "    model.eval()\n",
    "    src = text_transform(src_sentence).view(-1, 1)\n",
    "    num_tokens = src.shape[0]\n",
    "    src_mask = (torch.zeros(num_tokens, num_tokens)).type(torch.bool)\n",
    "    tgt_tokens = greedy_decode(\n",
    "        model,  src, src_mask, max_len=num_tokens + 5, start_symbol=BOS_IDX).flatten()\n",
    "    return \" \".join(vocab.lookup_tokens(list(tgt_tokens.cpu().numpy()))).replace(\"<bos>\", \"\").replace(\"<eos>\", \"\")"
   ]
  },
  {
   "cell_type": "code",
   "execution_count": 248,
   "metadata": {},
   "outputs": [
    {
     "data": {
      "text/plain": [
       "' <intron> <intron> <intron> <intron> <intron> <intron> <intron> <intron> <intron> <intron> <intron> <intron> <intron> <intron> <intron> <intron>'"
      ]
     },
     "execution_count": 248,
     "metadata": {},
     "output_type": "execute_result"
    }
   ],
   "source": [
    "#| hide\n",
    "example_sequence = list(\"AGTGCCGTAA\")\n",
    "example_translation = translate(transformer, training_vocab, example_sequence)\n",
    "example_translation"
   ]
  },
  {
   "cell_type": "code",
   "execution_count": 251,
   "metadata": {},
   "outputs": [],
   "source": [
    "#| hide\n",
    "import nbdev; nbdev.nbdev_export()"
   ]
  },
  {
   "cell_type": "code",
   "execution_count": null,
   "metadata": {},
   "outputs": [],
   "source": []
  }
 ],
 "metadata": {
  "kernelspec": {
   "display_name": "venv",
   "language": "python",
   "name": "python3"
  },
  "language_info": {
   "codemirror_mode": {
    "name": "ipython",
    "version": 3
   },
   "file_extension": ".py",
   "mimetype": "text/x-python",
   "name": "python",
   "nbconvert_exporter": "python",
   "pygments_lexer": "ipython3",
   "version": "3.10.6"
  },
  "orig_nbformat": 4
 },
 "nbformat": 4,
 "nbformat_minor": 2
}
